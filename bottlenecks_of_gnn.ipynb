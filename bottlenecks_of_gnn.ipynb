{
  "nbformat": 4,
  "nbformat_minor": 0,
  "metadata": {
    "colab": {
      "name": "bottlenecks-of-gnn.ipynb",
      "provenance": [],
      "collapsed_sections": [],
      "authorship_tag": "ABX9TyND3qJ7slzR7Ixr4z/KVLc8",
      "include_colab_link": true
    },
    "kernelspec": {
      "name": "python3",
      "display_name": "Python 3"
    },
    "language_info": {
      "name": "python"
    }
  },
  "cells": [
    {
      "cell_type": "markdown",
      "metadata": {
        "id": "view-in-github",
        "colab_type": "text"
      },
      "source": [
        "<a href=\"https://colab.research.google.com/github/AchrafAsh/gnn-linear-receptive-fields/blob/main/bottlenecks_of_gnn.ipynb\" target=\"_parent\"><img src=\"https://colab.research.google.com/assets/colab-badge.svg\" alt=\"Open In Colab\"/></a>"
      ]
    },
    {
      "cell_type": "code",
      "metadata": {
        "colab": {
          "base_uri": "https://localhost:8080/"
        },
        "id": "Eq0vXBOS1jAE",
        "outputId": "ef971133-412c-4a82-f8c0-12b1a8e34c53"
      },
      "source": [
        "import os, sys\n",
        "from google.colab import drive\n",
        "drive.mount('/content/mnt')\n",
        "nb_path = '/content/notebooks'\n",
        "os.symlink('/content/mnt/My Drive/Colab Notebooks', nb_path)\n",
        "sys.path.insert(0, nb_path)  # or append(nb_path)"
      ],
      "execution_count": 4,
      "outputs": [
        {
          "output_type": "stream",
          "text": [
            "Drive already mounted at /content/mnt; to attempt to forcibly remount, call drive.mount(\"/content/mnt\", force_remount=True).\n"
          ],
          "name": "stdout"
        }
      ]
    },
    {
      "cell_type": "code",
      "metadata": {
        "id": "5Wo6QKX42KJl"
      },
      "source": [
        "import torch\n",
        "import torch_geometric as tg\n",
        "import networkx"
      ],
      "execution_count": 6,
      "outputs": []
    },
    {
      "cell_type": "code",
      "metadata": {
        "id": "bOFC3O6Z2F7n"
      },
      "source": [
        "import os.path as osp\n",
        "from torch_geometric.datasets import Planetoid, TUDataset"
      ],
      "execution_count": 7,
      "outputs": []
    },
    {
      "cell_type": "code",
      "metadata": {
        "colab": {
          "base_uri": "https://localhost:8080/",
          "height": 35
        },
        "id": "8iO4-63g7TWe",
        "outputId": "17069b23-c902-403a-f48e-60cc2f003b43"
      },
      "source": [
        ""
      ],
      "execution_count": 33,
      "outputs": [
        {
          "output_type": "execute_result",
          "data": {
            "application/vnd.google.colaboratory.intrinsic+json": {
              "type": "string"
            },
            "text/plain": [
              "'/content'"
            ]
          },
          "metadata": {
            "tags": []
          },
          "execution_count": 33
        }
      ]
    },
    {
      "cell_type": "code",
      "metadata": {
        "colab": {
          "base_uri": "https://localhost:8080/"
        },
        "id": "0TggE7x-4mPz",
        "outputId": "c88c1d66-b6b2-40b6-f0f3-f4f0cde56c98"
      },
      "source": [
        "path = osp.join(os.getcwd(), 'data', 'Cora')\n",
        "dataset = Planetoid(path, 'Cora')\n",
        "# path = osp.join(os.getcwd(), 'data', 'ENZYMES')\n",
        "# dataset = TUDataset(path, name='ENZYMES')"
      ],
      "execution_count": 8,
      "outputs": [
        {
          "output_type": "stream",
          "text": [
            "Downloading https://github.com/kimiyoung/planetoid/raw/master/data/ind.cora.x\n",
            "Downloading https://github.com/kimiyoung/planetoid/raw/master/data/ind.cora.tx\n",
            "Downloading https://github.com/kimiyoung/planetoid/raw/master/data/ind.cora.allx\n",
            "Downloading https://github.com/kimiyoung/planetoid/raw/master/data/ind.cora.y\n",
            "Downloading https://github.com/kimiyoung/planetoid/raw/master/data/ind.cora.ty\n",
            "Downloading https://github.com/kimiyoung/planetoid/raw/master/data/ind.cora.ally\n",
            "Downloading https://github.com/kimiyoung/planetoid/raw/master/data/ind.cora.graph\n",
            "Downloading https://github.com/kimiyoung/planetoid/raw/master/data/ind.cora.test.index\n",
            "Processing...\n",
            "Done!\n"
          ],
          "name": "stdout"
        }
      ]
    },
    {
      "cell_type": "code",
      "metadata": {
        "colab": {
          "base_uri": "https://localhost:8080/"
        },
        "id": "awPHN-F34_nZ",
        "outputId": "af9bb9db-395d-4221-81ba-3080cc9d5ba4"
      },
      "source": [
        "G = dataset[0]\n",
        "print(G.x)\n",
        "print(G.edge_index)\n",
        "print(G.y)\n",
        "print(G['train_mask'])\n",
        "print(G)"
      ],
      "execution_count": 32,
      "outputs": [
        {
          "output_type": "stream",
          "text": [
            "tensor([[0., 0., 0.,  ..., 0., 0., 0.],\n",
            "        [0., 0., 0.,  ..., 0., 0., 0.],\n",
            "        [0., 0., 0.,  ..., 0., 0., 0.],\n",
            "        ...,\n",
            "        [0., 0., 0.,  ..., 0., 0., 0.],\n",
            "        [0., 0., 0.,  ..., 0., 0., 0.],\n",
            "        [0., 0., 0.,  ..., 0., 0., 0.]])\n",
            "tensor([[   0,    0,    0,  ..., 2707, 2707, 2707],\n",
            "        [ 633, 1862, 2582,  ...,  598, 1473, 2706]])\n",
            "tensor([3, 4, 4,  ..., 3, 3, 3])\n",
            "tensor([ True,  True,  True,  ..., False, False, False])\n"
          ],
          "name": "stdout"
        },
        {
          "output_type": "execute_result",
          "data": {
            "text/plain": [
              "Data(edge_index=[2, 10556], test_mask=[2708], train_mask=[2708], val_mask=[2708], x=[2708, 1433], y=[2708])"
            ]
          },
          "metadata": {
            "tags": []
          },
          "execution_count": 32
        }
      ]
    },
    {
      "cell_type": "code",
      "metadata": {
        "id": "nOacFJ9o70-I"
      },
      "source": [
        "# MAD - Mean Average Distance (global)\n",
        "def mean_average_distance(G):\n",
        "    '''\n",
        "    Computes cosine similarity between each pair of node representations\n",
        "    '''\n",
        "    A = torch_geometric.utils.to_dense_adj(G.edge_index)\n",
        "    # D = torch.zeros(G.num_nodes, G.num_nodes)\n",
        "\n",
        "    MAD_num = 0\n",
        "    MAD_den = 0\n",
        "\n",
        "    for i in range(G.num_nodes):\n",
        "        D_avg_num = 0\n",
        "        D_avg_den = 0\n",
        "        for j in range(i):\n",
        "            cos_sim = 0\n",
        "            if A[0, i, j]:\n",
        "                cos_sim = 1 - torch.dot(G.x[i,:], G.x[j,:]) / (torch.norm(G.x[i, :]) * torch.norm(G.x[j, :]) + 1e-16)\n",
        "            D_avg_num += cos_sim\n",
        "            D_avg_den += 1 if cos_sim > 0 else 0\n",
        "        \n",
        "        if D_avg_den:\n",
        "            D_avg = D_avg_num / D_avg_den\n",
        "            MAD_num += D_avg_num\n",
        "            MAD_den += 1 if D_avg > 0 else 0\n",
        "\n",
        "    MAD = MAD_num / MAD_den\n",
        "    return MAD"
      ],
      "execution_count": 92,
      "outputs": []
    },
    {
      "cell_type": "code",
      "metadata": {
        "colab": {
          "base_uri": "https://localhost:8080/"
        },
        "id": "GoHvLw8-87W2",
        "outputId": "679f0172-eac0-4d08-eabe-78e2270bb9d4"
      },
      "source": [
        "mean_average_distance(G)"
      ],
      "execution_count": 93,
      "outputs": [
        {
          "output_type": "execute_result",
          "data": {
            "text/plain": [
              "tensor(2.1652)"
            ]
          },
          "metadata": {
            "tags": []
          },
          "execution_count": 93
        }
      ]
    },
    {
      "cell_type": "code",
      "metadata": {
        "id": "Mkav9uGTPyzk"
      },
      "source": [
        "def mean_average_distance_gap(g):\n",
        "    '''\n",
        "    Computes MADGap: MAD_remote - MAD_neighbors\n",
        "    '''\n",
        "    "
      ],
      "execution_count": null,
      "outputs": []
    }
  ]
}