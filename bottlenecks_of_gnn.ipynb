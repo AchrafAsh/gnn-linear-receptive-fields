{
  "nbformat": 4,
  "nbformat_minor": 0,
  "metadata": {
    "colab": {
      "name": "bottlenecks-of-gnn.ipynb",
      "provenance": [],
      "collapsed_sections": [],
      "toc_visible": true,
      "authorship_tag": "ABX9TyN+a82mo0y8tN0ZrR4RY2eV",
      "include_colab_link": true
    },
    "kernelspec": {
      "name": "python3",
      "display_name": "Python 3"
    },
    "language_info": {
      "name": "python"
    }
  },
  "cells": [
    {
      "cell_type": "markdown",
      "metadata": {
        "id": "view-in-github",
        "colab_type": "text"
      },
      "source": [
        "<a href=\"https://colab.research.google.com/github/AchrafAsh/gnn-linear-receptive-fields/blob/main/bottlenecks_of_gnn.ipynb\" target=\"_parent\"><img src=\"https://colab.research.google.com/assets/colab-badge.svg\" alt=\"Open In Colab\"/></a>"
      ]
    },
    {
      "cell_type": "markdown",
      "metadata": {
        "id": "9GZWeMV9Gbp9"
      },
      "source": [
        "## TODO\n",
        "- [x] implement over-smoothing metrics (MAD, MADGap)\n",
        "- [x] load benchmark datasets (Cora, CiteSeer, QM9, Amazon, Reddit, PPI, ENZYMES, etc)\n",
        "- [x] implement benchmark model:\n",
        "    - [x] Vanilla GCN (built-in: GCNConv)\n",
        "    - [x] GAT (built-in: GATConv)\n",
        "    - [x] GIN (built-in: GINConv)\n",
        "- [ ] Implement the different approaches\n",
        "    - [x] JK-Net (built-in: JumpingKnowledge)\n",
        "    - [ ] AdaGCN (code not public yet, so might have to do it myself from [this](https://github.com/datake/AdaGCN))\n",
        "    - [ ] N-GCN [(official / tensorflow implementation)](https://github.com/samihaija/mixhop), [(weird implementation)](https://github.com/benedekrozemberczki/MixHop-and-N-GCN)\n",
        "    - [ ] AdaEdge: [algo implementation](https://github.com/zhao-tong/GAug/blob/21af8b6bd054a484f17b1c431cc70efdfdbcefcb/models/adaedge.py#L14)\n",
        "\n",
        "Observe the different insights:\n",
        "- [ ] Correlation between MADGap and Accuracy and decrease of MAD (and MADGap) passing through layers\n",
        "- [ ] Increase in accuracy by adding one Fully-Adjacent layer\n"
      ]
    },
    {
      "cell_type": "markdown",
      "metadata": {
        "id": "uTHzRBbyRYMN"
      },
      "source": [
        "# Initialization"
      ]
    },
    {
      "cell_type": "markdown",
      "metadata": {
        "id": "_cPW5IUJRZ1O"
      },
      "source": [
        "## Import\n",
        "Import needed libraries"
      ]
    },
    {
      "cell_type": "code",
      "metadata": {
        "colab": {
          "base_uri": "https://localhost:8080/"
        },
        "id": "Eq0vXBOS1jAE",
        "outputId": "6414a9d8-d9f1-4305-cbed-f94633d926d5"
      },
      "source": [
        "import os, sys\n",
        "import os.path as osp\n",
        "from google.colab import drive\n",
        "drive.mount('/content/mnt')\n",
        "nb_path = '/content/notebooks'\n",
        "os.symlink('/content/mnt/My Drive/Colab Notebooks', nb_path)\n",
        "sys.path.insert(0, nb_path)  # or append(nb_path)"
      ],
      "execution_count": 1,
      "outputs": [
        {
          "output_type": "stream",
          "text": [
            "Mounted at /content/mnt\n"
          ],
          "name": "stdout"
        }
      ]
    },
    {
      "cell_type": "code",
      "metadata": {
        "id": "5Wo6QKX42KJl"
      },
      "source": [
        "import networkx as nx\n",
        "import torch\n",
        "import torch_geometric as tg\n",
        "from torch_geometric.datasets import Planetoid, TUDataset"
      ],
      "execution_count": 2,
      "outputs": []
    },
    {
      "cell_type": "code",
      "metadata": {
        "id": "lsIUj0n22XXY",
        "outputId": "9f0dcc8f-0941-4f67-e033-abee4fa6114e",
        "colab": {
          "base_uri": "https://localhost:8080/"
        }
      },
      "source": [
        "!wget https://raw.githubusercontent.com/AchrafAsh/gnn-linear-receptive-fields/main/utils.py\n",
        "!wget https://raw.githubusercontent.com/AchrafAsh/gnn-linear-receptive-fields/main/data.py"
      ],
      "execution_count": 3,
      "outputs": [
        {
          "output_type": "stream",
          "text": [
            "Continuing in background, pid 294.\n",
            "Output will be written to ‘wget-log’.\n"
          ],
          "name": "stdout"
        }
      ]
    },
    {
      "cell_type": "code",
      "metadata": {
        "id": "Zjwpq9_X7sUc"
      },
      "source": [
        "from utils import mean_average_distance, mean_average_distance_gap\n",
        "from data import load_dataset"
      ],
      "execution_count": null,
      "outputs": []
    },
    {
      "cell_type": "markdown",
      "metadata": {
        "id": "572zb021RRS0"
      },
      "source": [
        "## Load Data\n",
        "- load different datasets to play with"
      ]
    },
    {
      "cell_type": "code",
      "metadata": {
        "id": "UPD2mTlXrqP6"
      },
      "source": [
        "G_karate = nx.karate_club_graph()"
      ],
      "execution_count": null,
      "outputs": []
    },
    {
      "cell_type": "code",
      "metadata": {
        "colab": {
          "base_uri": "https://localhost:8080/"
        },
        "id": "0TggE7x-4mPz",
        "outputId": "766e80b6-1295-497f-ca09-08c63f40b180"
      },
      "source": [
        "path = osp.join(os.getcwd(), 'data')\n",
        "cora_dataset = load_dataset(path, 'Cora')\n",
        "enzymes_dataset = load_dataset(path, 'ENZYMES')\n",
        "qm9_dataset = load_dataset(path, 'QM9')"
      ],
      "execution_count": null,
      "outputs": [
        {
          "output_type": "stream",
          "text": [
            "Downloading https://github.com/kimiyoung/planetoid/raw/master/data/ind.cora.x\n",
            "Downloading https://github.com/kimiyoung/planetoid/raw/master/data/ind.cora.tx\n",
            "Downloading https://github.com/kimiyoung/planetoid/raw/master/data/ind.cora.allx\n",
            "Downloading https://github.com/kimiyoung/planetoid/raw/master/data/ind.cora.y\n",
            "Downloading https://github.com/kimiyoung/planetoid/raw/master/data/ind.cora.ty\n",
            "Downloading https://github.com/kimiyoung/planetoid/raw/master/data/ind.cora.ally\n",
            "Downloading https://github.com/kimiyoung/planetoid/raw/master/data/ind.cora.graph\n",
            "Downloading https://github.com/kimiyoung/planetoid/raw/master/data/ind.cora.test.index\n",
            "Processing...\n",
            "Done!\n"
          ],
          "name": "stdout"
        }
      ]
    },
    {
      "cell_type": "code",
      "metadata": {
        "colab": {
          "base_uri": "https://localhost:8080/"
        },
        "id": "awPHN-F34_nZ",
        "outputId": "860a706b-306c-44f4-f2dc-11610994d10c"
      },
      "source": [
        "G = cora_dataset[0]\n",
        "print(G.x)\n",
        "print(G.edge_index)\n",
        "print(G.y)\n",
        "print(G['train_mask'])\n",
        "print(G)"
      ],
      "execution_count": null,
      "outputs": [
        {
          "output_type": "stream",
          "text": [
            "tensor([[0., 0., 0.,  ..., 0., 0., 0.],\n",
            "        [0., 0., 0.,  ..., 0., 0., 0.],\n",
            "        [0., 0., 0.,  ..., 0., 0., 0.],\n",
            "        ...,\n",
            "        [0., 0., 0.,  ..., 0., 0., 0.],\n",
            "        [0., 0., 0.,  ..., 0., 0., 0.],\n",
            "        [0., 0., 0.,  ..., 0., 0., 0.]])\n",
            "tensor([[   0,    0,    0,  ..., 2707, 2707, 2707],\n",
            "        [ 633, 1862, 2582,  ...,  598, 1473, 2706]])\n",
            "tensor([3, 4, 4,  ..., 3, 3, 3])\n",
            "tensor([ True,  True,  True,  ..., False, False, False])\n",
            "Data(edge_index=[2, 10556], test_mask=[2708], train_mask=[2708], val_mask=[2708], x=[2708, 1433], y=[2708])\n"
          ],
          "name": "stdout"
        }
      ]
    },
    {
      "cell_type": "markdown",
      "metadata": {
        "id": "jh_lf25TRnw6"
      },
      "source": [
        "# Observing Over-smoothing\n",
        "\n",
        "Metrics for over-smoothing:\n",
        "- Mean Average Distance\n",
        "- Mean Average Distance Gap\n",
        "\n",
        "## TODO: improve efficacy of these two functions as they take a lot of time to execute"
      ]
    },
    {
      "cell_type": "markdown",
      "metadata": {
        "id": "WvD3u-m8TBS4"
      },
      "source": [
        "## Initial MAD and MADGap"
      ]
    },
    {
      "cell_type": "code",
      "metadata": {
        "colab": {
          "base_uri": "https://localhost:8080/"
        },
        "id": "GoHvLw8-87W2",
        "outputId": "c2655097-ab71-44c8-a0ec-83bb9e9486d6"
      },
      "source": [
        "MAD_cora = mean_average_distance(x=G.x)\n",
        "MADGap_cora = mean_average_distance_gap(x=G.x, adj_matrix=tg.utils.to_dense_adj(G.edge_index)[0])\n",
        "\n",
        "print(f'Initial MAD for Cora: {MAD_cora}')\n",
        "print(f'Initial MADGap for Cora: {MADGap_cora}')"
      ],
      "execution_count": null,
      "outputs": [
        {
          "output_type": "execute_result",
          "data": {
            "text/plain": [
              "tensor(2.1652)"
            ]
          },
          "metadata": {
            "tags": []
          },
          "execution_count": 54
        }
      ]
    },
    {
      "cell_type": "code",
      "metadata": {
        "id": "d3pW4cQqo96L",
        "colab": {
          "base_uri": "https://localhost:8080/"
        },
        "outputId": "daf6dcbd-e413-4c4b-e713-590e75201620"
      },
      "source": [
        "MAD_karate = mean_average_distance(x=torch.tensor(nx.attr_matrix(G_karate)[0]))\n",
        "\n",
        "MADGap_cora = mean_average_distance_gap(x=torch.tensor(nx.attr_matrix(G_karate)[0]),\n",
        "                          adj_matrix=torch.tensor(nx.adjacency_matrix(G_karate).todense()))\n",
        "\n",
        "print(f'Initial MAD for the Karate Club Graph: {MAD_karate}')\n",
        "print(f'Initial MADGap for the Karate Club Graph: {MADGap_karate}')"
      ],
      "execution_count": null,
      "outputs": [
        {
          "output_type": "execute_result",
          "data": {
            "text/plain": [
              "tensor(2.3117, dtype=torch.float64)"
            ]
          },
          "metadata": {
            "tags": []
          },
          "execution_count": 55
        }
      ]
    },
    {
      "cell_type": "markdown",
      "metadata": {
        "id": "4w3N9LJITFBI"
      },
      "source": [
        "## Evolution of MAD and MADGap"
      ]
    },
    {
      "cell_type": "code",
      "metadata": {
        "id": "lyUsxZK825oR"
      },
      "source": [
        "from torch_geometric.nn import GCNConv, JumpingKnowledge"
      ],
      "execution_count": 5,
      "outputs": []
    },
    {
      "cell_type": "code",
      "metadata": {
        "id": "Ns0k4FmY4JzS",
        "outputId": "6a6228b0-d4ca-4f30-b7f1-9dae127f73ed",
        "colab": {
          "base_uri": "https://localhost:8080/"
        }
      },
      "source": [
        "print(JumpingKnowledge)"
      ],
      "execution_count": 8,
      "outputs": [
        {
          "output_type": "stream",
          "text": [
            "<class 'torch_geometric.nn.models.jumping_knowledge.JumpingKnowledge'>\n"
          ],
          "name": "stdout"
        }
      ]
    },
    {
      "cell_type": "markdown",
      "metadata": {
        "id": "zOJBUz304CI3"
      },
      "source": [
        "# Bottleneck of GNNs"
      ]
    }
  ]
}