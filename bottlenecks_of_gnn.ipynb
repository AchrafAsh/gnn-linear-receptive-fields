{
  "nbformat": 4,
  "nbformat_minor": 0,
  "metadata": {
    "colab": {
      "name": "bottlenecks-of-gnn.ipynb",
      "provenance": [],
      "collapsed_sections": [],
      "authorship_tag": "ABX9TyOJYqPfL105HlXp/1oREICe",
      "include_colab_link": true
    },
    "kernelspec": {
      "name": "python3",
      "display_name": "Python 3"
    },
    "language_info": {
      "name": "python"
    }
  },
  "cells": [
    {
      "cell_type": "markdown",
      "metadata": {
        "id": "view-in-github",
        "colab_type": "text"
      },
      "source": [
        "<a href=\"https://colab.research.google.com/github/AchrafAsh/gnn-linear-receptive-fields/blob/main/bottlenecks_of_gnn.ipynb\" target=\"_parent\"><img src=\"https://colab.research.google.com/assets/colab-badge.svg\" alt=\"Open In Colab\"/></a>"
      ]
    },
    {
      "cell_type": "code",
      "metadata": {
        "colab": {
          "base_uri": "https://localhost:8080/"
        },
        "id": "Eq0vXBOS1jAE",
        "outputId": "863dbe4e-9f79-4026-b1ca-e0bfadf2cd87"
      },
      "source": [
        "import os, sys\n",
        "import os.path as osp\n",
        "from google.colab import drive\n",
        "drive.mount('/content/mnt')\n",
        "nb_path = '/content/notebooks'\n",
        "os.symlink('/content/mnt/My Drive/Colab Notebooks', nb_path)\n",
        "sys.path.insert(0, nb_path)  # or append(nb_path)"
      ],
      "execution_count": 1,
      "outputs": [
        {
          "output_type": "stream",
          "text": [
            "Mounted at /content/mnt\n"
          ],
          "name": "stdout"
        }
      ]
    },
    {
      "cell_type": "code",
      "metadata": {
        "id": "5Wo6QKX42KJl"
      },
      "source": [
        "import networkx as nx\n",
        "import torch\n",
        "import torch_geometric as tg\n",
        "from torch_geometric.datasets import Planetoid, TUDataset"
      ],
      "execution_count": 3,
      "outputs": []
    },
    {
      "cell_type": "code",
      "metadata": {
        "id": "UPD2mTlXrqP6"
      },
      "source": [
        "G_karate = nx.karate_club_graph()"
      ],
      "execution_count": 48,
      "outputs": []
    },
    {
      "cell_type": "code",
      "metadata": {
        "colab": {
          "base_uri": "https://localhost:8080/"
        },
        "id": "0TggE7x-4mPz",
        "outputId": "766e80b6-1295-497f-ca09-08c63f40b180"
      },
      "source": [
        "path = osp.join(os.getcwd(), 'data', 'Cora')\n",
        "dataset = Planetoid(path, 'Cora')\n",
        "# path = osp.join(os.getcwd(), 'data', 'ENZYMES')\n",
        "# dataset = TUDataset(path, name='ENZYMES')"
      ],
      "execution_count": 4,
      "outputs": [
        {
          "output_type": "stream",
          "text": [
            "Downloading https://github.com/kimiyoung/planetoid/raw/master/data/ind.cora.x\n",
            "Downloading https://github.com/kimiyoung/planetoid/raw/master/data/ind.cora.tx\n",
            "Downloading https://github.com/kimiyoung/planetoid/raw/master/data/ind.cora.allx\n",
            "Downloading https://github.com/kimiyoung/planetoid/raw/master/data/ind.cora.y\n",
            "Downloading https://github.com/kimiyoung/planetoid/raw/master/data/ind.cora.ty\n",
            "Downloading https://github.com/kimiyoung/planetoid/raw/master/data/ind.cora.ally\n",
            "Downloading https://github.com/kimiyoung/planetoid/raw/master/data/ind.cora.graph\n",
            "Downloading https://github.com/kimiyoung/planetoid/raw/master/data/ind.cora.test.index\n",
            "Processing...\n",
            "Done!\n"
          ],
          "name": "stdout"
        }
      ]
    },
    {
      "cell_type": "code",
      "metadata": {
        "colab": {
          "base_uri": "https://localhost:8080/"
        },
        "id": "awPHN-F34_nZ",
        "outputId": "860a706b-306c-44f4-f2dc-11610994d10c"
      },
      "source": [
        "G = dataset[0]\n",
        "print(G.x)\n",
        "print(G.edge_index)\n",
        "print(G.y)\n",
        "print(G['train_mask'])\n",
        "print(G)"
      ],
      "execution_count": 5,
      "outputs": [
        {
          "output_type": "stream",
          "text": [
            "tensor([[0., 0., 0.,  ..., 0., 0., 0.],\n",
            "        [0., 0., 0.,  ..., 0., 0., 0.],\n",
            "        [0., 0., 0.,  ..., 0., 0., 0.],\n",
            "        ...,\n",
            "        [0., 0., 0.,  ..., 0., 0., 0.],\n",
            "        [0., 0., 0.,  ..., 0., 0., 0.],\n",
            "        [0., 0., 0.,  ..., 0., 0., 0.]])\n",
            "tensor([[   0,    0,    0,  ..., 2707, 2707, 2707],\n",
            "        [ 633, 1862, 2582,  ...,  598, 1473, 2706]])\n",
            "tensor([3, 4, 4,  ..., 3, 3, 3])\n",
            "tensor([ True,  True,  True,  ..., False, False, False])\n",
            "Data(edge_index=[2, 10556], test_mask=[2708], train_mask=[2708], val_mask=[2708], x=[2708, 1433], y=[2708])\n"
          ],
          "name": "stdout"
        }
      ]
    },
    {
      "cell_type": "code",
      "metadata": {
        "id": "nOacFJ9o70-I"
      },
      "source": [
        "# MAD - Mean Average Distance (global)\n",
        "def mean_average_distance(x, mask=None):\n",
        "    '''\n",
        "    Computes cosine similarity between each pair of node representations\n",
        "    Args:\n",
        "        x (torch.tensor): node features\n",
        "        mask (torch.tensor): mask matrix composed of 0 and 1 only if the node pair (i,j) is the target one.\n",
        "    '''\n",
        "\n",
        "    MAD_num = 0\n",
        "    MAD_den = 0\n",
        "\n",
        "    for i in range(x.size(0)):\n",
        "        D_avg_num = 0\n",
        "        D_avg_den = 0\n",
        "        for j in range(i):\n",
        "            cos_sim = 0\n",
        "            if mask == None or (mask != None and  mask[i, j]):\n",
        "                cos_sim = 1 - torch.dot(x[i,:], x[j,:]) / (torch.norm(x[i, :]) * torch.norm(x[j, :]) + 1e-16)\n",
        "            D_avg_num += cos_sim\n",
        "            D_avg_den += 1 if cos_sim > 0 else 0\n",
        "        \n",
        "        if D_avg_den:\n",
        "            D_avg = D_avg_num / D_avg_den\n",
        "            MAD_num += D_avg_num\n",
        "            MAD_den += 1 if D_avg > 0 else 0\n",
        "\n",
        "    MAD = MAD_num / MAD_den\n",
        "    return MAD"
      ],
      "execution_count": 53,
      "outputs": []
    },
    {
      "cell_type": "code",
      "metadata": {
        "colab": {
          "base_uri": "https://localhost:8080/"
        },
        "id": "GoHvLw8-87W2",
        "outputId": "c2655097-ab71-44c8-a0ec-83bb9e9486d6"
      },
      "source": [
        "mean_average_distance(x=G.x, mask=tg.utils.to_dense_adj(G.edge_index)[0])"
      ],
      "execution_count": 54,
      "outputs": [
        {
          "output_type": "execute_result",
          "data": {
            "text/plain": [
              "tensor(2.1652)"
            ]
          },
          "metadata": {
            "tags": []
          },
          "execution_count": 54
        }
      ]
    },
    {
      "cell_type": "code",
      "metadata": {
        "id": "d3pW4cQqo96L",
        "outputId": "daf6dcbd-e413-4c4b-e713-590e75201620",
        "colab": {
          "base_uri": "https://localhost:8080/"
        }
      },
      "source": [
        "mean_average_distance(x=torch.tensor(nx.attr_matrix(G_karate)[0]),\n",
        "                      mask=nx.adjacency_matrix(G_karate))"
      ],
      "execution_count": 55,
      "outputs": [
        {
          "output_type": "execute_result",
          "data": {
            "text/plain": [
              "tensor(2.3117, dtype=torch.float64)"
            ]
          },
          "metadata": {
            "tags": []
          },
          "execution_count": 55
        }
      ]
    },
    {
      "cell_type": "code",
      "metadata": {
        "id": "3OU0XNn22bPm",
        "outputId": "1325b1b0-110b-48d2-a043-afcbce8ba6c3",
        "colab": {
          "base_uri": "https://localhost:8080/"
        }
      },
      "source": [
        "1 - tg.utils.to_dense_adj(G.edge_index)[0]"
      ],
      "execution_count": 56,
      "outputs": [
        {
          "output_type": "execute_result",
          "data": {
            "text/plain": [
              "tensor([[1., 1., 1.,  ..., 1., 1., 1.],\n",
              "        [1., 1., 0.,  ..., 1., 1., 1.],\n",
              "        [1., 0., 1.,  ..., 1., 1., 1.],\n",
              "        ...,\n",
              "        [1., 1., 1.,  ..., 1., 1., 1.],\n",
              "        [1., 1., 1.,  ..., 1., 1., 0.],\n",
              "        [1., 1., 1.,  ..., 1., 0., 1.]])"
            ]
          },
          "metadata": {
            "tags": []
          },
          "execution_count": 56
        }
      ]
    },
    {
      "cell_type": "code",
      "metadata": {
        "id": "mG5kQJp04mUM",
        "outputId": "4f249ac3-8f94-4326-8993-a82890813236",
        "colab": {
          "base_uri": "https://localhost:8080/"
        }
      },
      "source": [
        "tg.utils.to_dense_adj(G.edge_index)[0]"
      ],
      "execution_count": 57,
      "outputs": [
        {
          "output_type": "execute_result",
          "data": {
            "text/plain": [
              "tensor([[0., 0., 0.,  ..., 0., 0., 0.],\n",
              "        [0., 0., 1.,  ..., 0., 0., 0.],\n",
              "        [0., 1., 0.,  ..., 0., 0., 0.],\n",
              "        ...,\n",
              "        [0., 0., 0.,  ..., 0., 0., 0.],\n",
              "        [0., 0., 0.,  ..., 0., 0., 1.],\n",
              "        [0., 0., 0.,  ..., 0., 1., 0.]])"
            ]
          },
          "metadata": {
            "tags": []
          },
          "execution_count": 57
        }
      ]
    },
    {
      "cell_type": "code",
      "metadata": {
        "id": "Mkav9uGTPyzk"
      },
      "source": [
        "def mean_average_distance_gap(x, adj_matrix):\n",
        "    '''\n",
        "    Computes MADGap: MAD_remote - MAD_neighbors\n",
        "    Args:\n",
        "        x (torch.tensor): input feature matrix\n",
        "        adj_matrix (torch.tensor): adjacency matrix\n",
        "    '''\n",
        "\n",
        "    # TODO: understand what it means to apply a mask in mean_average_distance\n",
        "    MAD_rem = mean_average_distance(x, mask=1-adj_matrix)\n",
        "    MAD_neb = mean_average_distance(x, mask=adj_matrix)\n",
        "\n",
        "    return MAD_rem - MAD_neb"
      ],
      "execution_count": 59,
      "outputs": []
    },
    {
      "cell_type": "code",
      "metadata": {
        "id": "wlWx9yeZ4u7q",
        "outputId": "cc388199-8705-4397-bcad-133d0382ef47",
        "colab": {
          "base_uri": "https://localhost:8080/"
        }
      },
      "source": [
        "mean_average_distance_gap(x=torch.tensor(nx.attr_matrix(G_karate)[0]),\n",
        "                          adj_matrix=torch.tensor(nx.adjacency_matrix(G_karate).todense()))"
      ],
      "execution_count": 67,
      "outputs": [
        {
          "output_type": "execute_result",
          "data": {
            "text/plain": [
              "tensor(9.9893, dtype=torch.float64)"
            ]
          },
          "metadata": {
            "tags": []
          },
          "execution_count": 67
        }
      ]
    },
    {
      "cell_type": "code",
      "metadata": {
        "id": "GvJBlQPUrsh4"
      },
      "source": [
        "def influence_distribution(x, h):\n",
        "    '''\n",
        "    Computes influence distribution\n",
        "    ...math: I_x(y) = e^T \\left[ \\frac{ \\partial h_x^{(k)} }{ \\partial h_y^{(0)} } \\right] e / \\left( \\sum_{z \\in V} e^T \\left[ \\frac{ \\partial h_x^{(k)} }{ \\partial h_z^{(0)} } \\right] e \\right)\n",
        "    \n",
        "    Args:\n",
        "        h (torch.tensor): hidden feature matrix\n",
        "        x (torch.tensor): input feature matrix\n",
        "    '''\n",
        "    e = torch.ones(x.size(1), 1)\n",
        "\n",
        "    jacob_xy = \n",
        "    I[x,y] = torch.dot( torch.dot(torch.transpose(e, 0, 1), jacob_xy), e )\n"
      ],
      "execution_count": null,
      "outputs": []
    },
    {
      "cell_type": "code",
      "metadata": {
        "id": "__ACNYGv_xfK",
        "outputId": "d64eb032-b5f5-40ed-a58b-53d45035ffac",
        "colab": {
          "base_uri": "https://localhost:8080/"
        }
      },
      "source": [
        "e = torch.ones((1, 5))\n",
        "\n",
        "e, torch.transpose(e, 0, 1)"
      ],
      "execution_count": 77,
      "outputs": [
        {
          "output_type": "execute_result",
          "data": {
            "text/plain": [
              "(tensor([[1., 1., 1., 1., 1.]]), tensor([[1.],\n",
              "         [1.],\n",
              "         [1.],\n",
              "         [1.],\n",
              "         [1.]]))"
            ]
          },
          "metadata": {
            "tags": []
          },
          "execution_count": 77
        }
      ]
    },
    {
      "cell_type": "code",
      "metadata": {
        "id": "lyUsxZK825oR"
      },
      "source": [
        "from torch_geometric.nn.models import JumpingKnowledge"
      ],
      "execution_count": null,
      "outputs": []
    },
    {
      "cell_type": "markdown",
      "metadata": {
        "id": "zOJBUz304CI3"
      },
      "source": [
        "# Bottleneck of GNNs\n",
        "\n",
        "- [ ] "
      ]
    }
  ]
}