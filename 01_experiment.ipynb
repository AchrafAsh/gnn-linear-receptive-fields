{
  "nbformat": 4,
  "nbformat_minor": 0,
  "metadata": {
    "accelerator": "GPU",
    "colab": {
      "name": "01_experiment.ipynb",
      "provenance": [],
      "collapsed_sections": [],
      "toc_visible": true,
      "authorship_tag": "ABX9TyNZPW0qoKVqQ3EyO6VilIrj"
    },
    "kernelspec": {
      "display_name": "Python 3",
      "name": "python3"
    },
    "language_info": {
      "name": "python"
    }
  },
  "cells": [
    {
      "cell_type": "markdown",
      "metadata": {
        "id": "3V9P0_2fLtub"
      },
      "source": [
        "## TODO:\n",
        "\n",
        "- [x] import CORA dataset\n",
        "- [ ] implement our approach: consider k-hop neighbors' input features and the current node's hidden state\n",
        "- [ ] experiment a first model with GCN as the message passing scheme (later we'll experiment with GAT and GraphSAGE)\n",
        "- [ ] track over-smoothing with **MAD** and **MADGap** over: \n",
        "    - [ ] K hops considered\n",
        "    - [ ] epochs\n",
        "\n",
        "#### Side notes\n",
        "\n",
        "- Try to inverse the k-hop neighbors (start from remote and move down)\n",
        "- Early stop for nodes that don't have k-hop neighbors (just pass the hidden state)"
      ]
    },
    {
      "cell_type": "code",
      "metadata": {
        "colab": {
          "base_uri": "https://localhost:8080/"
        },
        "id": "6sMxsXleMcJL",
        "outputId": "e1af7197-3615-4622-d6d0-e209de197fe9"
      },
      "source": [
        "# setup colab environment\n",
        "import os, sys\n",
        "import os.path as osp\n",
        "from google.colab import drive\n",
        "drive.mount('/content/mnt')\n",
        "nb_path = '/content/notebooks'\n",
        "os.symlink('/content/mnt/My Drive/Colab Notebooks', nb_path)\n",
        "sys.path.insert(0, nb_path)  # or append(nb_path)"
      ],
      "execution_count": null,
      "outputs": [
        {
          "output_type": "stream",
          "text": [
            "Mounted at /content/mnt\n"
          ],
          "name": "stdout"
        }
      ]
    },
    {
      "cell_type": "code",
      "metadata": {
        "id": "1pcegW2JMsvY"
      },
      "source": [
        "# import utility functions\n",
        "!wget https://raw.githubusercontent.com/AchrafAsh/gnn-linear-receptive-fields/main/utils.py\n",
        "!wget https://raw.githubusercontent.com/AchrafAsh/gnn-linear-receptive-fields/main/data.py"
      ],
      "execution_count": null,
      "outputs": []
    },
    {
      "cell_type": "code",
      "metadata": {
        "colab": {
          "base_uri": "https://localhost:8080/",
          "height": 238
        },
        "id": "44NtVpZJNfIB",
        "outputId": "07099b7c-d00d-48ff-eb5f-613ffce8613c"
      },
      "source": [
        "from utils import mean_average_distance, mean_average_distance_gap\n",
        "from data import load_dataset"
      ],
      "execution_count": null,
      "outputs": [
        {
          "output_type": "error",
          "ename": "OSError",
          "evalue": "ignored",
          "traceback": [
            "\u001b[0;31m---------------------------------------------------------------------------\u001b[0m",
            "\u001b[0;31mOSError\u001b[0m                                   Traceback (most recent call last)",
            "\u001b[0;32m<ipython-input-10-7bad4de7fa59>\u001b[0m in \u001b[0;36m<module>\u001b[0;34m()\u001b[0m\n\u001b[1;32m      1\u001b[0m \u001b[0;32mfrom\u001b[0m \u001b[0mutils\u001b[0m \u001b[0;32mimport\u001b[0m \u001b[0mmean_average_distance\u001b[0m\u001b[0;34m,\u001b[0m \u001b[0mmean_average_distance_gap\u001b[0m\u001b[0;34m\u001b[0m\u001b[0;34m\u001b[0m\u001b[0m\n\u001b[0;32m----> 2\u001b[0;31m \u001b[0;32mfrom\u001b[0m \u001b[0mdata\u001b[0m \u001b[0;32mimport\u001b[0m \u001b[0mload_dataset\u001b[0m\u001b[0;34m\u001b[0m\u001b[0;34m\u001b[0m\u001b[0m\n\u001b[0m",
            "\u001b[0;32m/usr/lib/python3.7/importlib/_bootstrap.py\u001b[0m in \u001b[0;36m_find_and_load\u001b[0;34m(name, import_)\u001b[0m\n",
            "\u001b[0;32m/usr/lib/python3.7/importlib/_bootstrap.py\u001b[0m in \u001b[0;36m_find_and_load_unlocked\u001b[0;34m(name, import_)\u001b[0m\n",
            "\u001b[0;32m/usr/lib/python3.7/importlib/_bootstrap.py\u001b[0m in \u001b[0;36m_find_spec\u001b[0;34m(name, path, target)\u001b[0m\n",
            "\u001b[0;32m/usr/lib/python3.7/importlib/_bootstrap_external.py\u001b[0m in \u001b[0;36mfind_spec\u001b[0;34m(cls, fullname, path, target)\u001b[0m\n",
            "\u001b[0;32m/usr/lib/python3.7/importlib/_bootstrap_external.py\u001b[0m in \u001b[0;36m_get_spec\u001b[0;34m(cls, fullname, path, target)\u001b[0m\n",
            "\u001b[0;32m/usr/lib/python3.7/importlib/_bootstrap_external.py\u001b[0m in \u001b[0;36mfind_spec\u001b[0;34m(self, fullname, target)\u001b[0m\n",
            "\u001b[0;32m/usr/lib/python3.7/importlib/_bootstrap_external.py\u001b[0m in \u001b[0;36m_fill_cache\u001b[0;34m(self)\u001b[0m\n",
            "\u001b[0;31mOSError\u001b[0m: [Errno 107] Transport endpoint is not connected: '/content/notebooks'"
          ]
        }
      ]
    },
    {
      "cell_type": "code",
      "metadata": {
        "id": "hpZJSdtcOcmD"
      },
      "source": [
        "# import libraries\n",
        "import torch\n",
        "import torch_geometric as tg"
      ],
      "execution_count": null,
      "outputs": []
    },
    {
      "cell_type": "code",
      "metadata": {
        "colab": {
          "base_uri": "https://localhost:8080/"
        },
        "id": "6jhFvZ8CW5Rg",
        "outputId": "1356a260-5192-4091-d970-b12e70626f94"
      },
      "source": [
        "with open('data.py', 'r') as f:\n",
        "    print(f.readline())"
      ],
      "execution_count": null,
      "outputs": [
        {
          "output_type": "stream",
          "text": [
            "from torch_geometric.datasets import Planetoid, TUDataset, PPI, QM9, Amazon, Reddit2\n",
            "\n"
          ],
          "name": "stdout"
        }
      ]
    },
    {
      "cell_type": "code",
      "metadata": {
        "colab": {
          "background_save": true
        },
        "id": "PcNfXM8aOs2s",
        "outputId": "2f2a03dd-1d09-41fd-882c-a490a9383693"
      },
      "source": [
        "path = osp.join(os.getcwd(), 'data')\n",
        "cora_dataset = load_dataset(path, 'Cora')\n",
        "G = cora_dataset[0] # only graph of the dataset\n",
        "\n",
        "MAD_cora = mean_average_distance(x=G.x)\n",
        "MADGap_cora = mean_average_distance_gap(x=G.x, adj_matrix=tg.utils.to_dense_adj(G.edge_index)[0])\n",
        "print(f'Initial MAD for Cora: {MAD_cora}')\n",
        "print(f'Initial MADGap for Cora: {MADGap_cora}')"
      ],
      "execution_count": null,
      "outputs": [
        {
          "output_type": "stream",
          "text": [
            "Downloading https://github.com/kimiyoung/planetoid/raw/master/data/ind.cora.x\n",
            "Downloading https://github.com/kimiyoung/planetoid/raw/master/data/ind.cora.tx\n",
            "Downloading https://github.com/kimiyoung/planetoid/raw/master/data/ind.cora.allx\n",
            "Downloading https://github.com/kimiyoung/planetoid/raw/master/data/ind.cora.y\n",
            "Downloading https://github.com/kimiyoung/planetoid/raw/master/data/ind.cora.ty\n",
            "Downloading https://github.com/kimiyoung/planetoid/raw/master/data/ind.cora.ally\n",
            "Downloading https://github.com/kimiyoung/planetoid/raw/master/data/ind.cora.graph\n",
            "Downloading https://github.com/kimiyoung/planetoid/raw/master/data/ind.cora.test.index\n",
            "Processing...\n",
            "Done!\n",
            "Initial MAD for Cora: 1278.501953125\n",
            "Initial MADGap for Cora: 1274.7158203125\n"
          ],
          "name": "stdout"
        }
      ]
    },
    {
      "cell_type": "markdown",
      "metadata": {
        "id": "Bp2rl87UaOqU"
      },
      "source": [
        "# Our Approach"
      ]
    },
    {
      "cell_type": "code",
      "metadata": {
        "id": "0TIrILSGaSmY"
      },
      "source": [
        "class KHopNet(torch.nn.Module):\n",
        "    def __init__(self, k):\n",
        "        self(KHopNet, self).__init__()\n",
        "    \n",
        "    def forward(self, x):\n",
        "        pass\n",
        "    \n",
        "    def fit(self, dataset, epochs, lr):\n",
        "        optimizer = torch.optim.SGD(self.parameters(), lr=lr)\n",
        "        criterion = torch.nn.CrossEntropy()\n",
        "        \n",
        "        for epoch in range(epochs):\n",
        "            total_loss = 0\n",
        "            # TODO: feed forward, backpropagate\n",
        "            \n",
        "            # forward\n",
        "            # output = self(data)\n",
        "            loss = criterion(output, label)\n",
        "            \n",
        "            # backward\n",
        "            optimizer.zero_grad()\n",
        "            loss.backward()\n",
        "            optimizer.step()\n",
        "\n",
        "            total_loss += loss"
      ],
      "execution_count": null,
      "outputs": []
    }
  ]
}