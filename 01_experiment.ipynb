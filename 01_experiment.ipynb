{
  "nbformat": 4,
  "nbformat_minor": 0,
  "metadata": {
    "colab": {
      "name": "01_experiment.ipynb",
      "provenance": [],
      "collapsed_sections": [],
      "toc_visible": true,
      "authorship_tag": "ABX9TyMZcZZbB+vRXfi3izU8A+PY",
      "include_colab_link": true
    },
    "kernelspec": {
      "display_name": "Python 3",
      "name": "python3"
    },
    "language_info": {
      "name": "python"
    }
  },
  "cells": [
    {
      "cell_type": "markdown",
      "metadata": {
        "id": "view-in-github",
        "colab_type": "text"
      },
      "source": [
        "<a href=\"https://colab.research.google.com/github/AchrafAsh/gnn-receptive-fields/blob/main/01_experiment.ipynb\" target=\"_parent\"><img src=\"https://colab.research.google.com/assets/colab-badge.svg\" alt=\"Open In Colab\"/></a>"
      ]
    },
    {
      "cell_type": "markdown",
      "metadata": {
        "id": "--Tu1WzKU02J"
      },
      "source": [
        "# **Experimenting with our Approach**"
      ]
    },
    {
      "cell_type": "markdown",
      "metadata": {
        "id": "9HwdZNmrU5YL"
      },
      "source": [
        "## **Setting up the environment**\n",
        "\n",
        "- load packages from google drive (to install once)\n",
        "- configure working directory (to download datasets)\n",
        "\n"
      ]
    },
    {
      "cell_type": "code",
      "metadata": {
        "colab": {
          "base_uri": "https://localhost:8080/"
        },
        "id": "6sMxsXleMcJL",
        "outputId": "ab6ba8a2-2af9-420b-e39b-b604e1066348"
      },
      "source": [
        "import os, sys\n",
        "import os.path as osp\n",
        "from google.colab import drive\n",
        "drive.mount('/content/mnt')\n",
        "nb_path = '/content/notebooks'\n",
        "try:\n",
        "    os.symlink('/content/mnt/My Drive/Colab Notebooks', nb_path)\n",
        "except:\n",
        "    pass\n",
        "sys.path.insert(0, nb_path)  # or append(nb_path)"
      ],
      "execution_count": null,
      "outputs": [
        {
          "output_type": "stream",
          "text": [
            "Drive already mounted at /content/mnt; to attempt to forcibly remount, call drive.mount(\"/content/mnt\", force_remount=True).\n"
          ],
          "name": "stdout"
        }
      ]
    },
    {
      "cell_type": "code",
      "metadata": {
        "id": "2lAtppl0VNDF"
      },
      "source": [
        "%%capture\n",
        "!wget https://raw.githubusercontent.com/AchrafAsh/gnn-receptive-fields/main/data.py\n",
        "\n",
        "from data import load_dataset\n",
        "\n",
        "path = osp.join(os.getcwd(), 'data')\n",
        "cora_dataset = load_dataset(path, 'Cora')\n",
        "G = cora_dataset[0] # only graph of the dataset\n",
        "# G.edge_index.shape  # [2, 10556] → 10_556 edges"
      ],
      "execution_count": null,
      "outputs": []
    },
    {
      "cell_type": "code",
      "metadata": {
        "id": "FLJg5hOpdnhU"
      },
      "source": [
        "import copy\n",
        "import torch\n",
        "import time\n",
        "import seaborn as sns\n",
        "import matplotlib.pyplot as plt\n",
        "import pandas as pd\n",
        "import numpy as np\n",
        "\n",
        "%matplotlib inline\n",
        "sns.set_style('darkgrid')"
      ],
      "execution_count": null,
      "outputs": []
    },
    {
      "cell_type": "markdown",
      "metadata": {
        "id": "wYkeaQUqgn0M"
      },
      "source": [
        "## **The data: Cora**"
      ]
    },
    {
      "cell_type": "markdown",
      "metadata": {
        "id": "I-OaI9kup5O0"
      },
      "source": [
        "### **Exploring the dataset**"
      ]
    },
    {
      "cell_type": "code",
      "metadata": {
        "colab": {
          "base_uri": "https://localhost:8080/"
        },
        "id": "w3jbJ2EQTn7y",
        "outputId": "f49a37e9-0ecd-4e01-85f6-15d8641148cb"
      },
      "source": [
        "node_a, node_b = G.edge_index[:,0]\n",
        "node_i, node_j = node_a, node_b\n",
        "i = 0\n",
        "while node_i != node_b and node_j != node_a and i < G.edge_index.size(1):\n",
        "    node_i, node_j = G.edge_index[:, i]\n",
        "    i += 1\n",
        "if i != G.edge_index.size(1):\n",
        "    print(\"found it!\")"
      ],
      "execution_count": null,
      "outputs": [
        {
          "output_type": "stream",
          "text": [
            "found it!\n"
          ],
          "name": "stdout"
        }
      ]
    },
    {
      "cell_type": "markdown",
      "metadata": {
        "id": "hIWtZAjzZlHo"
      },
      "source": [
        "That means that `edge_index` has both `a → b` and `b → a` (this is important for later processing)"
      ]
    },
    {
      "cell_type": "code",
      "metadata": {
        "colab": {
          "base_uri": "https://localhost:8080/"
        },
        "id": "vwOC-fl2hGJD",
        "outputId": "9aeabe85-1d53-4f0c-a7f1-e3362f1a2a87"
      },
      "source": [
        "# edge_index is a sparse matrix of two rows, \n",
        "# each column is a pair of adjacent nodes \n",
        "# (not handy to find the neighbors of a given node)\n",
        "i = 0\n",
        "while i < 10:\n",
        "    node_i, node_j = G.edge_index[:, i]\n",
        "    if node_i != 0: break\n",
        "    print(f\"{node_i} → {node_j}\")\n",
        "    i += 1"
      ],
      "execution_count": null,
      "outputs": [
        {
          "output_type": "stream",
          "text": [
            "0 → 633\n",
            "0 → 1862\n",
            "0 → 2582\n"
          ],
          "name": "stdout"
        }
      ]
    },
    {
      "cell_type": "markdown",
      "metadata": {
        "id": "UA913O2Ae6_v"
      },
      "source": [
        "### **Find the k-hop neighbors of a node**"
      ]
    },
    {
      "cell_type": "code",
      "metadata": {
        "id": "7nFnLYMihGas"
      },
      "source": [
        "from torch_geometric.utils import to_dense_adj, dense_to_sparse, add_self_loops"
      ],
      "execution_count": null,
      "outputs": []
    },
    {
      "cell_type": "code",
      "metadata": {
        "id": "uO1kWw5cnG_L"
      },
      "source": [
        "def get_neighbors(edge_index: torch.tensor) -> Dict[int, List[int]]:\n",
        "    E = edge_index.size(1)\n",
        "    neighbors = {}\n",
        "    for i in range(E):\n",
        "        node_i, node_j = edge_index[:, i]\n",
        "        node_i, node_j = node_i.item(), node_j.item()\n",
        "        try:\n",
        "            neighbors[node_i] += [node_j]\n",
        "        except:\n",
        "            neighbors[node_i] = [node_j]\n",
        "    return neighbors"
      ],
      "execution_count": null,
      "outputs": []
    },
    {
      "cell_type": "code",
      "metadata": {
        "id": "Ar1zZ__uCHun"
      },
      "source": [
        "def get_next_hop_neighbors(edge_index, direct_neighbors, neighborhood):\n",
        "    \"\"\"Returns the next hop of neighbors\n",
        "\n",
        "    Args:\n",
        "        edge_index (tensor): sparse adjacency matrix composed of edge indices\n",
        "        direct_neighbors (dict): all the adjacent nodes\n",
        "        neighborhood (dict): all the nodes in the (k-1)-hop neighborhood\n",
        "    \n",
        "    Returns:\n",
        "        tensor: sparse matrix containing edge indices of the k-hop neighbors\n",
        "        dict: direct neighbors\n",
        "        dict: all the nodes in the k-hop neighborhood\n",
        "    \"\"\"\n",
        "    neighborhood = copy.deepcopy(neighborhood)\n",
        "    \n",
        "    E = edge_index.size(1)\n",
        "    new_edge_index = []\n",
        "    for i in range(E):\n",
        "        node_i, node_j = edge_index[:, i]\n",
        "        node_i, node_j = node_i.item(), node_j.item()\n",
        "        \n",
        "        for node_k in direct_neighbors[node_j]:\n",
        "            if node_k == node_i or node_k in neighborhood[node_i]: continue\n",
        "            new_edge_index.append([node_i, node_k])\n",
        "            neighborhood[node_i] += [node_k]\n",
        "    \n",
        "    if len(new_edge_index) > 0:\n",
        "        new_edge_index = torch.transpose(torch.tensor(new_edge_index, dtype=edge_index.dtype), 1, 0)\n",
        "    \n",
        "    return new_edge_index, neighborhood"
      ],
      "execution_count": null,
      "outputs": []
    },
    {
      "cell_type": "code",
      "metadata": {
        "id": "tc7PYgD_a2pr"
      },
      "source": [
        "def get_all_hops(edge_index, k=1):\n",
        "    \"\"\"Returns all the k-hop neighbors and neighborhoods (all steps)\n",
        "\n",
        "    Args:\n",
        "        edge_index (tensor): sparse adjacency matrix composed of edge indices\n",
        "        k (int): hop of neighbors to keep (e.g. k=1 is the regular adjacency matrix)\n",
        "    \n",
        "    Returns:\n",
        "        List[tensor]: list of k sparse matrices containing edge indices for each k-hop\n",
        "        List[dict]: list of k dictionaries (neighborhoods)\n",
        "    \"\"\"\n",
        "    direct_neighbors = get_neighbors(edge_index)\n",
        "    neighborhood = copy.deepcopy(direct_neighbors)\n",
        "    \n",
        "    all_edge_index, all_neighborhoods = [edge_index], [neighborhood]\n",
        "\n",
        "    for i in range(1, k):\n",
        "        next_edge_index, neighborhood = get_next_hop_neighbors(edge_index=all_edge_index[i-1], \n",
        "                                                               direct_neighbors=direct_neighbors,\n",
        "                                                               neighborhood=all_neighborhoods[i-1])\n",
        "        all_edge_index += [next_edge_index]\n",
        "        all_neighborhoods += [neighborhood]\n",
        "\n",
        "    return all_edge_index, all_neighborhoods"
      ],
      "execution_count": null,
      "outputs": []
    },
    {
      "cell_type": "code",
      "metadata": {
        "id": "oJg_Ij56eGSG"
      },
      "source": [
        "def get_k_neighbors(adj: torch.tensor, k: int):\n",
        "    \"\"\"Returns the l-hop neighbors for l between 1 (the adjacency matrix) and k (given depth)\n",
        "\n",
        "    Args:\n",
        "        - adj [num_nodes, num_nodes]: dense adjacency matrix\n",
        "        - k (int): size of the maximum neighborhood\n",
        "    \"\"\"\n",
        "\n",
        "    k_hop_neb = [adj.clone()]\n",
        "    pow_A = adj.clone()\n",
        "\n",
        "    for l in range(1, k):\n",
        "        pow_A = torch.mm(adj, pow_A)\n",
        "        k_neb = torch.where(\n",
        "            torch.where(pow_A > 0, 1, 0) - sum(k_hop_neb) > 0,\n",
        "            1,\n",
        "            0\n",
        "        )\n",
        "        k_hop_neb.append(k_neb)\n",
        "    \n",
        "    return k_hop_neb"
      ],
      "execution_count": null,
      "outputs": []
    },
    {
      "cell_type": "markdown",
      "metadata": {
        "id": "gCGVu9WGHAu2"
      },
      "source": [
        "### **Visualize neighborhood expansion**\n",
        "\n",
        "The diameter of the Cora dataset is 20, so in theory, the maximum number of neighbors should decrease all the way down to zero for `k=20`.\n",
        "Let's check:"
      ]
    },
    {
      "cell_type": "code",
      "metadata": {
        "id": "zuMNsUo_rPau"
      },
      "source": [
        "nb_k_hop_neighbors = []\n",
        "size_k_hop_neighborhood = []\n",
        "k_grid = range(1, 20)\n",
        "\n",
        "edge_index = G.edge_index\n",
        "direct_neighbors = get_neighbors(G.edge_index)\n",
        "neighborhood = copy.deepcopy(direct_neighbors)\n",
        "\n",
        "# count neighbors\n",
        "max_neighbors = len(max(direct_neighbors.values(), key=len))\n",
        "min_neighbors = len(min(direct_neighbors.values(), key=len))\n",
        "nb_k_hop_neighbors.append([min_neighbors, max_neighbors])\n",
        "\n",
        "# count neighborhood\n",
        "max_neighborhood = len(max(neighborhood.values(), key=len))\n",
        "min_neighborhood = len(min(neighborhood.values(), key=len))\n",
        "size_k_hop_neighborhood.append([min_neighborhood, max_neighborhood])\n",
        "\n",
        "for k in k_grid:\n",
        "    edge_index, neighborhood = get_next_hop_neighbors(edge_index=edge_index,\n",
        "                                                      neighbors=direct_neighbors,\n",
        "                                                      neighborhood=neighborhood)\n",
        "    k_hop_neighbors = get_neighbors(edge_index)\n",
        "    \n",
        "    # count neighbors\n",
        "    max_neighbors = len(max(k_hop_neighbors.values(), key=len))\n",
        "    min_neighbors = len(min(k_hop_neighbors.values(), key=len))\n",
        "    nb_k_hop_neighbors.append([min_neighbors, max_neighbors])\n",
        "\n",
        "    # count neighborhood\n",
        "    max_neighborhood = len(max(neighborhood.values(), key=len))\n",
        "    min_neighborhood = len(min(neighborhood.values(), key=len))\n",
        "    size_k_hop_neighborhood.append([min_neighborhood, max_neighborhood])"
      ],
      "execution_count": null,
      "outputs": []
    },
    {
      "cell_type": "code",
      "metadata": {
        "colab": {
          "base_uri": "https://localhost:8080/",
          "height": 723
        },
        "id": "osiHgcT-tebD",
        "outputId": "c4f279f6-c8f6-4c61-baf3-84fd0d19f4a6"
      },
      "source": [
        "plt.rcParams['figure.figsize'] = [12, 8]\n",
        "plt.rcParams['figure.dpi'] = 100\n",
        "\n",
        "# credit to: https://stackoverflow.com/a/55579762/11805354\n",
        "data = pd.DataFrame({\n",
        "    'k': range(1, 20),\n",
        "    'min_neighbors': torch.tensor(nb_k_hop_neighbors)[:, 0],\n",
        "    'max_neighbors': torch.tensor(nb_k_hop_neighbors)[:, 1],\n",
        "    'min_neighborhood': torch.tensor(size_k_hop_neighborhood)[:, 0],\n",
        "    'max_neighborhood': torch.tensor(size_k_hop_neighborhood)[:, 1],\n",
        "})\n",
        "sn.lineplot(x='k', y='value', hue='variable', data=pd.melt(data, ['k'])).set(title=\"Neighborhood expansion on Cora\")"
      ],
      "execution_count": null,
      "outputs": [
        {
          "output_type": "execute_result",
          "data": {
            "text/plain": [
              "[Text(0.5, 1.0, 'Neighborhood expansion on Cora')]"
            ]
          },
          "metadata": {
            "tags": []
          },
          "execution_count": 211
        },
        {
          "output_type": "display_data",
          "data": {
            "image/png": "[encoded data removed]",
            "text/plain": [
              "<Figure size 1200x800 with 1 Axes>"
            ]
          },
          "metadata": {
            "tags": [],
            "needs_background": "light"
          }
        }
      ]
    },
    {
      "cell_type": "code",
      "metadata": {
        "colab": {
          "base_uri": "https://localhost:8080/",
          "height": 638
        },
        "id": "76YTz9aS7KZh",
        "outputId": "002e140d-2c45-4a96-a054-a02dfeab2714"
      },
      "source": [
        "data"
      ],
      "execution_count": null,
      "outputs": [
        {
          "output_type": "execute_result",
          "data": {
            "text/html": [
              "<div>\n",
              "<style scoped>\n",
              "    .dataframe tbody tr th:only-of-type {\n",
              "        vertical-align: middle;\n",
              "    }\n",
              "\n",
              "    .dataframe tbody tr th {\n",
              "        vertical-align: top;\n",
              "    }\n",
              "\n",
              "    .dataframe thead th {\n",
              "        text-align: right;\n",
              "    }\n",
              "</style>\n",
              "<table border=\"1\" class=\"dataframe\">\n",
              "  <thead>\n",
              "    <tr style=\"text-align: right;\">\n",
              "      <th></th>\n",
              "      <th>k</th>\n",
              "      <th>min_neighbors</th>\n",
              "      <th>max_neighbors</th>\n",
              "      <th>min_neighborhood</th>\n",
              "      <th>max_neighborhood</th>\n",
              "    </tr>\n",
              "  </thead>\n",
              "  <tbody>\n",
              "    <tr>\n",
              "      <th>0</th>\n",
              "      <td>1</td>\n",
              "      <td>1</td>\n",
              "      <td>168</td>\n",
              "      <td>1</td>\n",
              "      <td>168</td>\n",
              "    </tr>\n",
              "    <tr>\n",
              "      <th>1</th>\n",
              "      <td>2</td>\n",
              "      <td>1</td>\n",
              "      <td>318</td>\n",
              "      <td>1</td>\n",
              "      <td>425</td>\n",
              "    </tr>\n",
              "    <tr>\n",
              "      <th>2</th>\n",
              "      <td>3</td>\n",
              "      <td>1</td>\n",
              "      <td>630</td>\n",
              "      <td>1</td>\n",
              "      <td>898</td>\n",
              "    </tr>\n",
              "    <tr>\n",
              "      <th>3</th>\n",
              "      <td>4</td>\n",
              "      <td>1</td>\n",
              "      <td>800</td>\n",
              "      <td>1</td>\n",
              "      <td>1572</td>\n",
              "    </tr>\n",
              "    <tr>\n",
              "      <th>4</th>\n",
              "      <td>5</td>\n",
              "      <td>1</td>\n",
              "      <td>904</td>\n",
              "      <td>1</td>\n",
              "      <td>2136</td>\n",
              "    </tr>\n",
              "    <tr>\n",
              "      <th>5</th>\n",
              "      <td>6</td>\n",
              "      <td>2</td>\n",
              "      <td>915</td>\n",
              "      <td>1</td>\n",
              "      <td>2356</td>\n",
              "    </tr>\n",
              "    <tr>\n",
              "      <th>6</th>\n",
              "      <td>7</td>\n",
              "      <td>4</td>\n",
              "      <td>868</td>\n",
              "      <td>1</td>\n",
              "      <td>2449</td>\n",
              "    </tr>\n",
              "    <tr>\n",
              "      <th>7</th>\n",
              "      <td>8</td>\n",
              "      <td>10</td>\n",
              "      <td>868</td>\n",
              "      <td>1</td>\n",
              "      <td>2472</td>\n",
              "    </tr>\n",
              "    <tr>\n",
              "      <th>8</th>\n",
              "      <td>9</td>\n",
              "      <td>9</td>\n",
              "      <td>868</td>\n",
              "      <td>1</td>\n",
              "      <td>2481</td>\n",
              "    </tr>\n",
              "    <tr>\n",
              "      <th>9</th>\n",
              "      <td>10</td>\n",
              "      <td>2</td>\n",
              "      <td>835</td>\n",
              "      <td>1</td>\n",
              "      <td>2484</td>\n",
              "    </tr>\n",
              "    <tr>\n",
              "      <th>10</th>\n",
              "      <td>11</td>\n",
              "      <td>1</td>\n",
              "      <td>819</td>\n",
              "      <td>1</td>\n",
              "      <td>2484</td>\n",
              "    </tr>\n",
              "    <tr>\n",
              "      <th>11</th>\n",
              "      <td>12</td>\n",
              "      <td>1</td>\n",
              "      <td>712</td>\n",
              "      <td>1</td>\n",
              "      <td>2484</td>\n",
              "    </tr>\n",
              "    <tr>\n",
              "      <th>12</th>\n",
              "      <td>13</td>\n",
              "      <td>1</td>\n",
              "      <td>712</td>\n",
              "      <td>1</td>\n",
              "      <td>2484</td>\n",
              "    </tr>\n",
              "    <tr>\n",
              "      <th>13</th>\n",
              "      <td>14</td>\n",
              "      <td>1</td>\n",
              "      <td>608</td>\n",
              "      <td>1</td>\n",
              "      <td>2484</td>\n",
              "    </tr>\n",
              "    <tr>\n",
              "      <th>14</th>\n",
              "      <td>15</td>\n",
              "      <td>1</td>\n",
              "      <td>291</td>\n",
              "      <td>1</td>\n",
              "      <td>2484</td>\n",
              "    </tr>\n",
              "    <tr>\n",
              "      <th>15</th>\n",
              "      <td>16</td>\n",
              "      <td>1</td>\n",
              "      <td>88</td>\n",
              "      <td>1</td>\n",
              "      <td>2484</td>\n",
              "    </tr>\n",
              "    <tr>\n",
              "      <th>16</th>\n",
              "      <td>17</td>\n",
              "      <td>1</td>\n",
              "      <td>25</td>\n",
              "      <td>1</td>\n",
              "      <td>2484</td>\n",
              "    </tr>\n",
              "    <tr>\n",
              "      <th>17</th>\n",
              "      <td>18</td>\n",
              "      <td>1</td>\n",
              "      <td>12</td>\n",
              "      <td>1</td>\n",
              "      <td>2484</td>\n",
              "    </tr>\n",
              "    <tr>\n",
              "      <th>18</th>\n",
              "      <td>19</td>\n",
              "      <td>1</td>\n",
              "      <td>1</td>\n",
              "      <td>1</td>\n",
              "      <td>2484</td>\n",
              "    </tr>\n",
              "  </tbody>\n",
              "</table>\n",
              "</div>"
            ],
            "text/plain": [
              "     k  min_neighbors  max_neighbors  min_neighborhood  max_neighborhood\n",
              "0    1              1            168                 1               168\n",
              "1    2              1            318                 1               425\n",
              "2    3              1            630                 1               898\n",
              "3    4              1            800                 1              1572\n",
              "4    5              1            904                 1              2136\n",
              "5    6              2            915                 1              2356\n",
              "6    7              4            868                 1              2449\n",
              "7    8             10            868                 1              2472\n",
              "8    9              9            868                 1              2481\n",
              "9   10              2            835                 1              2484\n",
              "10  11              1            819                 1              2484\n",
              "11  12              1            712                 1              2484\n",
              "12  13              1            712                 1              2484\n",
              "13  14              1            608                 1              2484\n",
              "14  15              1            291                 1              2484\n",
              "15  16              1             88                 1              2484\n",
              "16  17              1             25                 1              2484\n",
              "17  18              1             12                 1              2484\n",
              "18  19              1              1                 1              2484"
            ]
          },
          "metadata": {
            "tags": []
          },
          "execution_count": 212
        }
      ]
    },
    {
      "cell_type": "markdown",
      "metadata": {
        "id": "gS20xTjwH9lR"
      },
      "source": [
        "Explanation:\n",
        "- the min_neighbors can be bigger than min_neighborhood if two adjacent nodes are isolated, they will then be disregarded for the next hops, and thus not be considered for the min_neighborhood 💡"
      ]
    },
    {
      "cell_type": "markdown",
      "metadata": {
        "id": "qGHenT8uKbgD"
      },
      "source": [
        "Result: the max_neighbors reach zero for the 20th hop which is what we expected ✅"
      ]
    },
    {
      "cell_type": "markdown",
      "metadata": {
        "id": "Bp2rl87UaOqU"
      },
      "source": [
        "## **Our model**"
      ]
    },
    {
      "cell_type": "code",
      "metadata": {
        "id": "uvOMwHM-lu3K"
      },
      "source": [
        "import math\n",
        "import random\n",
        "\n",
        "import torch\n",
        "import torch_geometric\n",
        "import torch.nn.functional as F\n",
        "\n",
        "from torch_geometric.nn import GCNConv, MessagePassing, Sequential\n",
        "from torch_geometric.utils import degree, to_dense_adj\n",
        "\n",
        "device = torch.device('cuda' if torch.cuda.is_available() else 'cpu')"
      ],
      "execution_count": null,
      "outputs": []
    },
    {
      "cell_type": "code",
      "metadata": {
        "id": "xK_J2lR7WzpT"
      },
      "source": [
        "# Parameter initialization\n",
        "def xavier(tensor):\n",
        "    \"\"\"Initialize weight matrix with Xavier distribution\n",
        "\n",
        "    Args:\n",
        "        tensor (tensor): weigh matrix\n",
        "    Return:\n",
        "        tensor - weight matrix initialized\n",
        "    \"\"\"\n",
        "    if tensor is not None:\n",
        "        stdv = math.sqrt(6.0 / (tensor.size(-2) + tensor.size(-2)))\n",
        "        tensor.data.uniform_(-stdv, stdv)\n",
        "\n",
        "def zeros(tensor):\n",
        "    \"\"\"Initialize bias vector with all zeros\n",
        "\n",
        "    Args:\n",
        "        tensor (tensor): bias vector\n",
        "    \n",
        "    Return\n",
        "        tensor - bias vector initialized with zeros\n",
        "    \"\"\"\n",
        "    if tensor is not None:\n",
        "        tensor.data.fill_(0)"
      ],
      "execution_count": null,
      "outputs": []
    },
    {
      "cell_type": "markdown",
      "metadata": {
        "id": "kRCFqtPTeDoz"
      },
      "source": [
        "### **HopGCNConv: modified GCNConv layer**\n",
        "\n",
        "The only difference is that the Message passing takes:\n",
        "- the input features for neighbors\n",
        "- the hidden state of the target node"
      ]
    },
    {
      "cell_type": "code",
      "metadata": {
        "id": "V62Xsa0OOhs5"
      },
      "source": [
        "class HopGCNConv(MessagePassing):\n",
        "    def __init__(self, num_features:int, in_channels:int, out_channels:int, k:int):\n",
        "        super(HopGCNConv, self).__init__(aggr='add')  # \"Add\" aggregation\n",
        "        self.k = k\n",
        "        self.lin_input = torch.nn.Linear(num_features, out_channels)\n",
        "        self.lin_hidden = torch.nn.Linear(in_channels, out_channels)\n",
        "        \n",
        "        self.reset_parameters()\n",
        "        \n",
        "    def reset_parameters(self):\n",
        "        xavier(self.lin_input.weight)\n",
        "        zeros(self.lin_input.bias)\n",
        "        \n",
        "        xavier(self.lin_hidden.weight)\n",
        "        zeros(self.lin_hidden.bias)\n",
        "\n",
        "    def forward(self, x, h, edge_index):\n",
        "        # x is the input features and has shape [N, num_features]\n",
        "        # h is the hidden state and has shape [N, in_channels]\n",
        "        # edge_index has shape [2, E] , E being the number of edges\n",
        "\n",
        "        # step 1: linearly transform node feature matrices\n",
        "        x = self.lin_input(x)\n",
        "        h = self.lin_hidden(h)\n",
        "\n",
        "        # step 3-5: start propagating messages\n",
        "        return self.propagate(edge_index[self.k], x=x, h=h)\n",
        "\n",
        "    def message(self, x_j, h_i, edge_index, size):\n",
        "        # x_j is the input features of the neighbors and has shape [E, out_channels] (has already been multiplied by the weight matrix)\n",
        "\n",
        "        # step 3: normalize node features\n",
        "        row, col = edge_index\n",
        "        deg = degree(row, size[0], dtype=x_j.dtype)\n",
        "        deg_inv_sqrt = deg.pow(-0.5)\n",
        "        deg_inv_sqrt[deg_inv_sqrt == float('inf')] = 0\n",
        "        norm = deg_inv_sqrt[row] * deg_inv_sqrt[col]\n",
        "\n",
        "        out = norm.view(-1, 1) * x_j\n",
        "\n",
        "        # add the hidden state of the target node\n",
        "        norm = deg_inv_sqrt[row] * deg_inv_sqrt[row]\n",
        "        \n",
        "        return out + norm.view(-1, 1) * h_i\n",
        "\n",
        "    def update(self, aggr_out):\n",
        "        # aggr_out has shape [N, out_channels]\n",
        "\n",
        "        # step 5: return new node embeddings\n",
        "        return aggr_out"
      ],
      "execution_count": null,
      "outputs": []
    },
    {
      "cell_type": "code",
      "metadata": {
        "id": "e6n606kUc-Pz"
      },
      "source": [
        "class KHopNet(torch.nn.Module):\n",
        "    def __init__(self, num_layers:int, hidden_dim:int, num_features:int, num_classes:int, dropout:float=0.5, invert:bool=False):\n",
        "        super().__init__()\n",
        "        self.conv_layers = self.create_layers(num_layers=num_layers, \n",
        "                                              num_features=num_features,\n",
        "                                              num_classes=num_classes,\n",
        "                                              hidden_dim=hidden_dim,\n",
        "                                              dropout=dropout,\n",
        "                                              invert=invert)\n",
        "        \n",
        "        self.log_softmax = torch.nn.LogSoftmax(dim=1)\n",
        "\n",
        "\n",
        "    def create_layers(self, num_layers:int, num_features:int, num_classes:int, \n",
        "                      hidden_dim:int, dropout:float, invert:bool):\n",
        "        layers = []\n",
        "        if invert:\n",
        "            k_grid = range(num_layers-1, -1, -1)\n",
        "        else:\n",
        "            k_grid = range(0, num_layers)\n",
        "\n",
        "        # first layer\n",
        "        layers += [\n",
        "                (HopGCNConv(num_features=num_features, in_channels=num_features, out_channels=hidden_dim, k=k_grid[0]), \"x, x, edge_index -> h\"),\n",
        "                (torch.nn.ReLU(), \"h -> h\"),\n",
        "                (torch.nn.Dropout(p=dropout), \"h -> h\")\n",
        "        ]\n",
        "\n",
        "        for k in range(1, num_layers-1):\n",
        "            layers += [\n",
        "                (HopGCNConv(num_features=num_features, in_channels=hidden_dim, out_channels=hidden_dim, k=k_grid[k]), \"x, h, edge_index -> h\"),\n",
        "                (torch.nn.ReLU(), \"h -> h\"),\n",
        "                (torch.nn.Dropout(p=dropout), \"h -> h\")\n",
        "            ]\n",
        "        \n",
        "        # last layer\n",
        "        layers += [\n",
        "            (HopGCNConv(num_features=num_features, in_channels=hidden_dim, out_channels=num_classes, k=k_grid[num_layers-1]), \"x, h, edge_index -> h\"),\n",
        "            # (torch.nn.ReLU(), \"h -> h\"),\n",
        "            # (torch.nn.Dropout(p=dropout), \"h -> h\") -> putting that prevent the model from learning\n",
        "        ]\n",
        "        return Sequential(\"x, edge_index\", layers)\n",
        "\n",
        "\n",
        "    def reset_parameters(self):\n",
        "        self.conv_layers.reset_parameters()\n",
        "\n",
        "\n",
        "    def forward(self, x, edge_index):\n",
        "        h = self.conv_layers(x, edge_index)\n",
        "        return h, self.log_softmax(h)"
      ],
      "execution_count": null,
      "outputs": []
    },
    {
      "cell_type": "markdown",
      "metadata": {
        "id": "SNfH_kkfrFrl"
      },
      "source": [
        "## **Training our model**"
      ]
    },
    {
      "cell_type": "markdown",
      "metadata": {
        "id": "DVYrQcAqrMnF"
      },
      "source": [
        "### **Monitoring metrics**\n",
        "\n",
        "We want to monitor over-smoothing during the training of our model. We can use different metrics (c.f. [03_smoothing_metrics.ipynb](https://github.com/AchrafAsh/gnn-receptive-fields/blob/main/03_smoothing_metrics.ipynb)):\n",
        "1. MAD (mean average distance)\n",
        "2. MADGap\n",
        "3. Total Variation or Dirichlet Energy (see Johannes thesis)"
      ]
    },
    {
      "cell_type": "markdown",
      "metadata": {
        "id": "kHfv8a6tkd4F"
      },
      "source": [
        "### **Utility functions: train, evaluate, run**"
      ]
    },
    {
      "cell_type": "code",
      "metadata": {
        "id": "iI-Na2HJpDC7"
      },
      "source": [
        "import time\n",
        "\n",
        "from typing import Tuple, Dict, List\n",
        "from tqdm import tqdm"
      ],
      "execution_count": null,
      "outputs": []
    },
    {
      "cell_type": "code",
      "metadata": {
        "id": "0WHZV-0NQzi_"
      },
      "source": [
        "# count model parameters\n",
        "def count_parameters(model: torch.nn.Module):\n",
        "    print(f\"The model has {sum(p.numel() for p in model.parameters() if p.requires_grad):,} parameters\")"
      ],
      "execution_count": null,
      "outputs": []
    },
    {
      "cell_type": "code",
      "metadata": {
        "id": "ikvqhksifcdh"
      },
      "source": [
        "def train(model: torch.nn.Module, optimizer: torch.optim.Optimizer,\n",
        "          data: type(G), all_edge_index: list) -> Tuple[torch.tensor, float]:\n",
        "    \"\"\"Performs one training step\n",
        "    \"\"\"\n",
        "    \n",
        "    model.train()\n",
        "    optimizer.zero_grad()\n",
        "\n",
        "    hidden_state, out = model(data.x, all_edge_index)\n",
        "    # out = model(data.x, all_edge_index)\n",
        "    \n",
        "    loss = F.nll_loss(out[data.train_mask], data.y[data.train_mask])\n",
        "    loss.backward()\n",
        "    optimizer.step()\n",
        "    return hidden_state, loss\n",
        "    # return loss"
      ],
      "execution_count": null,
      "outputs": []
    },
    {
      "cell_type": "code",
      "metadata": {
        "id": "8_Pj3KeCft8s"
      },
      "source": [
        "def evaluate(model: torch.nn.Module, data: type(G), all_edge_index: list) -> Dict[str, float]:\n",
        "    \"\"\"Evaluates the model\n",
        "    \"\"\"\n",
        "    \n",
        "    model.eval()\n",
        "\n",
        "    with torch.no_grad():\n",
        "        h, logits = model(data.x, all_edge_index)\n",
        "    \n",
        "    mad = mean_average_distance(x=h).item()\n",
        "    outs = {}\n",
        "    outs['mad'] = mad\n",
        "    \n",
        "    for key in ['train', 'val', 'test']:\n",
        "        mask = data[f'{key}_mask']\n",
        "        loss = F.nll_loss(logits[mask], data.y[mask]).item()\n",
        "        pred = logits[mask].max(1)[1]\n",
        "        acc = pred.eq(data.y[mask]).sum().item() / mask.sum().item()\n",
        "\n",
        "        outs[f'{key}_loss'] = loss\n",
        "        outs[f'{key}_acc'] = acc\n",
        "    return outs"
      ],
      "execution_count": null,
      "outputs": []
    },
    {
      "cell_type": "code",
      "metadata": {
        "id": "pvjW89_Le0s8"
      },
      "source": [
        "def run(data: type(G), model: torch.nn.Module,\n",
        "        all_edge_index: List[torch.tensor],\n",
        "        runs: int, epochs: int, lr: float,\n",
        "        weight_decay: float,\n",
        "        early_stopping: int = 0,\n",
        "        verbose=True,\n",
        "        initialize:bool=True) -> Tuple[List[float], List[float], List[float]]:\n",
        "    \"\"\"Wrapper function to run experiments\n",
        "\n",
        "    Args:\n",
        "        data (torch_geometric.data.data.Data): a graph\n",
        "        model (torch.nn.Module): the model to train and test\n",
        "        runs (int): number of experiments (training the model from scratch)\n",
        "        epochs (int): number of epochs to train the model\n",
        "        lr (float): learning rate\n",
        "        weight_decay (float): for optimizer\n",
        "        early_stopping (int):\n",
        "        initialize (bool): whether to reset the parameters of the model\n",
        "    \n",
        "    Returns:\n",
        "        list[float] - list of train loss\n",
        "        list[float] - list of test accuracy\n",
        "        list[float] - list of mean average distance\n",
        "    \"\"\"\n",
        "\n",
        "    val_losses, accs, durations = [], [], []\n",
        "    for _ in range(runs):\n",
        "        data = data.to(device)\n",
        "        model.to(device)\n",
        "        if initialize:\n",
        "            model.reset_parameters()\n",
        "        \n",
        "        optimizer = torch.optim.Adam(model.parameters(), lr=lr, \n",
        "                                     weight_decay=weight_decay)\n",
        "\n",
        "        if torch.cuda.is_available():\n",
        "            torch.cuda.synchronize()\n",
        "        \n",
        "        t_start = time.perf_counter()\n",
        "\n",
        "        best_val_loss = float('inf')\n",
        "        val_loss_history, train_losses, test_accs, mads = [], [], [], []\n",
        "\n",
        "        for epoch in range(1, epochs+1):\n",
        "            hidden_state, train_loss = train(model, optimizer, data, all_edge_index)\n",
        "            eval_info = evaluate(model, data, all_edge_index)\n",
        "            \n",
        "            val_loss_history += [eval_info['val_loss']]\n",
        "            train_losses += [train_loss.item()]\n",
        "            test_acc = eval_info['test_acc']\n",
        "            test_accs += [test_acc]\n",
        "            mads += [eval_info['mad']]\n",
        "        \n",
        "            # I don't understand what this is for...\n",
        "            if eval_info['val_loss'] < best_val_loss:\n",
        "                best_val_loss = eval_info['val_loss']\n",
        "            \n",
        "            if early_stopping > 0 and epoch > epochs // 2:\n",
        "                tmp = torch.tensor(val_loss_history[-(early_stopping + 1):-1])\n",
        "                if eval_info['val_loss'] > tmp.mean().item():\n",
        "                    break\n",
        "            \n",
        "            if epoch % 10 == 0 and verbose:\n",
        "                print(f\"Epoch: [{epoch} / {epochs}] | Loss: {train_loss} | Test accuracy: {test_acc} | MAD: {MAD}\")\n",
        "\n",
        "        if torch.cuda.is_available():\n",
        "            torch.cuda.synchronize()\n",
        "\n",
        "        t_end = time.perf_counter()\n",
        "\n",
        "        val_losses.append(best_val_loss)\n",
        "        accs.append(test_acc)\n",
        "        durations.append(t_end - t_start)\n",
        "\n",
        "    loss, acc, duration = torch.tensor(val_losses), torch.tensor(accs), torch.tensor(durations)\n",
        "\n",
        "    if verbose: print(f\"Val Loss: {loss.mean().item():.4f}, Test Accuracy: {acc.mean().item():.3f} ± {acc.std().item():.3f}, Duration: {duration.mean().item():.3f}\")\n",
        "    return train_losses, test_accs, mads"
      ],
      "execution_count": null,
      "outputs": []
    },
    {
      "cell_type": "code",
      "metadata": {
        "id": "L1L3u_fKlD5c"
      },
      "source": [
        "def plot_results(train_losses: List[float], test_accs: List[float], mads: List[float], main_title:str=None):\n",
        "    # credits to: https://stackoverflow.com/a/43131357/11805354\n",
        "    n = len(train_losses)\n",
        "\n",
        "    data = pd.DataFrame({\n",
        "        'epoch': range(1, n+1),\n",
        "        'train_loss': train_losses,\n",
        "        'test_acc': test_accs,\n",
        "        'MAD': mads\n",
        "    })\n",
        "\n",
        "    plt.rcParams['figure.figsize'] = [18, 5]\n",
        "    plt.rcParams['figure.dpi'] = 100\n",
        "\n",
        "    fig, ax =plt.subplots(1,4)\n",
        "\n",
        "    if main_title != None:\n",
        "        fig.suptitle(main_title, fontsize=20)\n",
        "\n",
        "    sn.lineplot(x=range(1, n+1), y=train_losses, ax=ax[0]).set(xlabel=\"epochs\", ylabel=\"loss\", title=\"Train Loss\")\n",
        "    sn.lineplot(x=range(1, n+1), y=test_accs, ax=ax[1]).set(xlabel=\"epochs\", ylabel=\"accuracy\", title=\"Test Accuracy\")\n",
        "    sn.lineplot(x=range(1, n+1), y=mads, ax=ax[2]).set(xlabel=\"epochs\", ylabel=\"MAD\", title=\"Test MAD\")\n",
        "    \n",
        "    sn.lineplot(x='epoch', y='value', hue='variable', data=pd.melt(data, ['epoch']), ax=ax[3]).set(title=\"Experiment results\")\n",
        "\n",
        "    fig.show()"
      ],
      "execution_count": null,
      "outputs": []
    },
    {
      "cell_type": "code",
      "metadata": {
        "id": "jlkyc7id-uVh"
      },
      "source": [
        "all_edge_index, _ = get_all_hops(G.edge_index, k=8)"
      ],
      "execution_count": null,
      "outputs": []
    },
    {
      "cell_type": "markdown",
      "metadata": {
        "id": "mMHxvmDG0BUL"
      },
      "source": [
        "## **Training a standard KHopNet**"
      ]
    },
    {
      "cell_type": "code",
      "metadata": {
        "id": "kYNirzG38tOd"
      },
      "source": [
        "NUM_LAYERS=6\n",
        "HIDDEN_DIM=64\n",
        "NUM_FEATURES=cora_dataset.num_features\n",
        "NUM_CLASSES=cora_dataset.num_classes\n",
        "EPOCHS=200\n",
        "LR=0.01\n",
        "WEIGHT_DECAY=5e-4\n",
        "EARLY_STOPPING=0\n",
        "RUNS=1"
      ],
      "execution_count": null,
      "outputs": []
    },
    {
      "cell_type": "code",
      "metadata": {
        "id": "tS81kaAd8vFl",
        "colab": {
          "base_uri": "https://localhost:8080/"
        },
        "outputId": "19de4158-d3c9-4bbd-d3dd-962030bcf33c"
      },
      "source": [
        "model = KHopNet(num_layers=NUM_LAYERS, hidden_dim=HIDDEN_DIM, \n",
        "                num_features=NUM_FEATURES,\n",
        "                num_classes=NUM_CLASSES,\n",
        "                invert=True)\n",
        "\n",
        "count_parameters(model)"
      ],
      "execution_count": null,
      "outputs": [
        {
          "output_type": "stream",
          "text": [
            "The model has 577,789 parameters\n"
          ],
          "name": "stdout"
        }
      ]
    },
    {
      "cell_type": "code",
      "metadata": {
        "id": "cBFKXKxH8wtM",
        "colab": {
          "base_uri": "https://localhost:8080/"
        },
        "outputId": "c6a31069-9170-4eff-e351-29cc99e52de5"
      },
      "source": [
        "train_loss, test_acc, mads = run(G, model, \n",
        "                                 all_edge_index=all_edge_index,\n",
        "                                 runs=RUNS, \n",
        "                                 epochs=EPOCHS, lr=LR,\n",
        "                                 weight_decay=WEIGHT_DECAY,\n",
        "                                 early_stopping=EARLY_STOPPING,\n",
        "                                 initialize=False)"
      ],
      "execution_count": null,
      "outputs": [
        {
          "output_type": "stream",
          "text": [
            "Epoch: [10 / 200] | Loss: 21.361886978149414 | Test accuracy: 0.338 | MAD: 0.9999998211860657\n",
            "Epoch: [20 / 200] | Loss: 43.03731155395508 | Test accuracy: 0.519 | MAD: 0.9999996423721313\n",
            "Epoch: [30 / 200] | Loss: 6.599836826324463 | Test accuracy: 0.591 | MAD: 0.9999996423721313\n",
            "Epoch: [40 / 200] | Loss: 8.279692649841309 | Test accuracy: 0.639 | MAD: 0.9999998211860657\n",
            "Epoch: [50 / 200] | Loss: 0.6602229475975037 | Test accuracy: 0.642 | MAD: 0.9999998807907104\n",
            "Epoch: [60 / 200] | Loss: 4.130027770996094 | Test accuracy: 0.633 | MAD: 0.9999996423721313\n",
            "Epoch: [70 / 200] | Loss: 8.31960678100586 | Test accuracy: 0.637 | MAD: 0.9999995231628418\n",
            "Epoch: [80 / 200] | Loss: 0.9223966598510742 | Test accuracy: 0.66 | MAD: 0.9999995231628418\n",
            "Epoch: [90 / 200] | Loss: 0.4245145916938782 | Test accuracy: 0.664 | MAD: 0.9999997019767761\n",
            "Epoch: [100 / 200] | Loss: 0.10039259493350983 | Test accuracy: 0.653 | MAD: 0.9999998211860657\n",
            "Epoch: [110 / 200] | Loss: 0.09520626813173294 | Test accuracy: 0.675 | MAD: 0.9999997019767761\n",
            "Epoch: [120 / 200] | Loss: 0.09098049253225327 | Test accuracy: 0.671 | MAD: 0.9999998211860657\n",
            "Epoch: [130 / 200] | Loss: 0.09078183025121689 | Test accuracy: 0.668 | MAD: 0.9999998211860657\n",
            "Epoch: [140 / 200] | Loss: 0.08478222042322159 | Test accuracy: 0.671 | MAD: 0.9999998211860657\n",
            "Epoch: [150 / 200] | Loss: 0.08110453188419342 | Test accuracy: 0.679 | MAD: 0.9999998211860657\n",
            "Epoch: [160 / 200] | Loss: 0.7354680299758911 | Test accuracy: 0.688 | MAD: 0.9999998211860657\n",
            "Epoch: [170 / 200] | Loss: 0.10735467821359634 | Test accuracy: 0.686 | MAD: 0.9999998211860657\n",
            "Epoch: [180 / 200] | Loss: 0.0735146626830101 | Test accuracy: 0.681 | MAD: 0.9999998211860657\n",
            "Epoch: [190 / 200] | Loss: 0.07195675373077393 | Test accuracy: 0.687 | MAD: 0.9999998211860657\n",
            "Epoch: [200 / 200] | Loss: 0.0730748251080513 | Test accuracy: 0.688 | MAD: 0.999999463558197\n",
            "Val Loss: 1.0469, Test Accuracy: 0.688 ± nan, Duration: 3403.912\n"
          ],
          "name": "stdout"
        }
      ]
    },
    {
      "cell_type": "code",
      "metadata": {
        "id": "GgFuWSyhGI19",
        "colab": {
          "base_uri": "https://localhost:8080/"
        },
        "outputId": "69dbc6c0-6b84-413f-ae11-c8a7fc430c81"
      },
      "source": [
        "evaluate(model, G, all_edge_index)"
      ],
      "execution_count": null,
      "outputs": [
        {
          "output_type": "execute_result",
          "data": {
            "text/plain": [
              "{'test_acc': 0.688,\n",
              " 'test_loss': 2.1800098419189453,\n",
              " 'train_acc': 1.0,\n",
              " 'train_loss': 0.06655801832675934,\n",
              " 'val_acc': 0.692,\n",
              " 'val_loss': 1.1512253284454346}"
            ]
          },
          "metadata": {
            "tags": []
          },
          "execution_count": 200
        }
      ]
    },
    {
      "cell_type": "code",
      "metadata": {
        "id": "iIXWvaY4E_j3",
        "colab": {
          "base_uri": "https://localhost:8080/",
          "height": 480
        },
        "outputId": "cb88db25-56e4-4064-c1e1-2f8bc4d20af4"
      },
      "source": [
        "plot_results(train_loss, test_acc, mads)"
      ],
      "execution_count": null,
      "outputs": [
        {
          "output_type": "display_data",
          "data": {
            "image/png": "[encoded data removed]",
            "text/plain": [
              "<Figure size 1800x500 with 4 Axes>"
            ]
          },
          "metadata": {
            "tags": [],
            "needs_background": "light"
          }
        }
      ]
    },
    {
      "cell_type": "markdown",
      "metadata": {
        "id": "0ULYldVWz5Qj"
      },
      "source": [
        "## **Passing hidden states in our approach**\n",
        "\n",
        "Let's see if passing hidden states - with our architecture - can yield better results."
      ]
    },
    {
      "cell_type": "code",
      "metadata": {
        "id": "ZvYVB2vKxrFP"
      },
      "source": [
        "class HiddenHopGCNConv(MessagePassing):\n",
        "    def __init__(self, in_channels:int, out_channels:int, k:int):\n",
        "        super().__init__(aggr='add')  # \"Add\" aggregation\n",
        "        self.k = k\n",
        "        self.lin = torch.nn.Linear(in_channels, out_channels)\n",
        "        self.reset_parameters()\n",
        "        \n",
        "    def reset_parameters(self):\n",
        "        xavier(self.lin.weight)\n",
        "        zeros(self.lin.bias)\n",
        "\n",
        "    def forward(self, x, edge_index):\n",
        "        # x is the hidden features and has shape [N, hidden_dim]\n",
        "        # edge_index has shape [2, E] , E being the number of edges\n",
        "\n",
        "        # step 1: linearly transform node feature matrix\n",
        "        x = self.lin(x)\n",
        "\n",
        "        # step 2: add self loops\n",
        "        edge_index[self.k], _ = add_self_loops(edge_index[self.k], num_nodes=x.size(0))\n",
        "\n",
        "        # step 3-5: start propagating messages\n",
        "        return self.propagate(edge_index[self.k], x=x)\n",
        "\n",
        "    def message(self, x_j, x_i, edge_index, size):\n",
        "        # x_j is the input features of the neighbors and has shape [E, out_channels] (has already been multiplied by the weight matrix)\n",
        "\n",
        "        # step 3: normalize node features\n",
        "        row, col = edge_index\n",
        "        deg = degree(row, size[0], dtype=x_j.dtype)\n",
        "        deg_inv_sqrt = deg.pow(-0.5)\n",
        "        deg_inv_sqrt[deg_inv_sqrt == float('inf')] = 0\n",
        "        norm = deg_inv_sqrt[row] * deg_inv_sqrt[col]\n",
        "\n",
        "        return norm.view(-1, 1) * x_j\n",
        "\n",
        "    def update(self, aggr_out):\n",
        "        # aggr_out has shape [N, out_channels]\n",
        "        # step 5: return new node embeddings\n",
        "        return aggr_out"
      ],
      "execution_count": null,
      "outputs": []
    },
    {
      "cell_type": "code",
      "metadata": {
        "id": "XLbhoHKMzHNL"
      },
      "source": [
        "class HiddenKHopNet(torch.nn.Module):\n",
        "    def __init__(self, num_layers:int, hidden_dim:int, num_features:int, num_classes:int, dropout:float=0.5, invert:bool=False):\n",
        "        super().__init__()\n",
        "        self.conv_layers = self.create_layers(num_layers=num_layers, \n",
        "                                              num_features=num_features,\n",
        "                                              num_classes=num_classes,\n",
        "                                              hidden_dim=hidden_dim,\n",
        "                                              dropout=dropout,\n",
        "                                              invert=invert)\n",
        "        \n",
        "        self.log_softmax = torch.nn.LogSoftmax(dim=1)\n",
        "\n",
        "\n",
        "    def create_layers(self, num_layers:int, num_features:int, num_classes:int, \n",
        "                      hidden_dim:int, dropout:float, invert:bool):\n",
        "        layers = []\n",
        "        if invert:\n",
        "            k_grid = range(num_layers-1, -1, -1)\n",
        "        else:\n",
        "            k_grid = range(0, num_layers)\n",
        "\n",
        "        # first layer\n",
        "        layers += [\n",
        "                (HiddenHopGCNConv(in_channels=num_features, out_channels=hidden_dim, k=k_grid[0]), \"x, edge_index -> h\"),\n",
        "                (torch.nn.ReLU(), \"h -> h\"),\n",
        "                (torch.nn.Dropout(p=dropout), \"h -> h\")\n",
        "        ]\n",
        "\n",
        "        for k in range(1, num_layers-1):\n",
        "            layers += [\n",
        "                (HiddenHopGCNConv(in_channels=hidden_dim, out_channels=hidden_dim, k=k_grid[k]), \"h, edge_index -> h\"),\n",
        "                (torch.nn.ReLU(), \"h -> h\"),\n",
        "                (torch.nn.Dropout(p=dropout), \"h -> h\")\n",
        "            ]\n",
        "        \n",
        "        # last layer\n",
        "        layers += [\n",
        "            (HiddenHopGCNConv(in_channels=hidden_dim, out_channels=num_classes, k=k_grid[num_layers-1]), \"h, edge_index -> h\"),\n",
        "            # (torch.nn.ReLU(), \"h -> h\"),\n",
        "            # (torch.nn.Dropout(p=dropout), \"h -> h\") -> putting that prevent the model from learning\n",
        "        ]\n",
        "        return Sequential(\"x, edge_index\", layers)\n",
        "\n",
        "\n",
        "    def reset_parameters(self):\n",
        "        self.conv_layers.reset_parameters()\n",
        "\n",
        "\n",
        "    def forward(self, x, edge_index):\n",
        "        h = self.conv_layers(x, edge_index)\n",
        "        return h, self.log_softmax(h)"
      ],
      "execution_count": null,
      "outputs": []
    },
    {
      "cell_type": "code",
      "metadata": {
        "id": "AKXyGj7T0AJN"
      },
      "source": [
        "NUM_LAYERS=3\n",
        "HIDDEN_DIM=24\n",
        "NUM_FEATURES=cora_dataset.num_features\n",
        "NUM_CLASSES=cora_dataset.num_classes\n",
        "EPOCHS=200\n",
        "LR=0.01\n",
        "WEIGHT_DECAY=5e-4\n",
        "EARLY_STOPPING=0\n",
        "RUNS=1"
      ],
      "execution_count": null,
      "outputs": []
    },
    {
      "cell_type": "code",
      "metadata": {
        "id": "imLjx6aEz2Rv",
        "colab": {
          "base_uri": "https://localhost:8080/"
        },
        "outputId": "8cd5a397-21cf-4adf-97ea-47bb0e71cc5c"
      },
      "source": [
        "model = HiddenKHopNet(num_layers=NUM_LAYERS, hidden_dim=HIDDEN_DIM, \n",
        "                num_features=NUM_FEATURES,\n",
        "                num_classes=NUM_CLASSES,\n",
        "                invert=True)\n",
        "\n",
        "count_parameters(model)"
      ],
      "execution_count": null,
      "outputs": [
        {
          "output_type": "stream",
          "text": [
            "The model has 35,191 parameters\n"
          ],
          "name": "stdout"
        }
      ]
    },
    {
      "cell_type": "code",
      "metadata": {
        "id": "-9h0VUuHz-Xd",
        "colab": {
          "base_uri": "https://localhost:8080/"
        },
        "outputId": "43aa5a52-e6fd-4b6b-ac52-495facec0361"
      },
      "source": [
        "train_loss, test_acc, mads = run(G, model, \n",
        "                                 all_edge_index=all_edge_index,\n",
        "                                 runs=RUNS,\n",
        "                                 epochs=EPOCHS, lr=LR,\n",
        "                                 weight_decay=WEIGHT_DECAY,\n",
        "                                 early_stopping=EARLY_STOPPING,\n",
        "                                 initialize=False)"
      ],
      "execution_count": null,
      "outputs": [
        {
          "output_type": "stream",
          "text": [
            "Epoch: [10 / 200] | Loss: 1.7624307870864868 | Test accuracy: 0.413 | MAD: 0.9999786615371704\n",
            "Epoch: [20 / 200] | Loss: 1.5028295516967773 | Test accuracy: 0.589 | MAD: 0.9999703168869019\n",
            "Epoch: [30 / 200] | Loss: 1.130763053894043 | Test accuracy: 0.634 | MAD: 0.9999850392341614\n",
            "Epoch: [40 / 200] | Loss: 0.6814451813697815 | Test accuracy: 0.689 | MAD: 0.9999873638153076\n",
            "Epoch: [50 / 200] | Loss: 0.7636083960533142 | Test accuracy: 0.675 | MAD: 0.9999875426292419\n",
            "Epoch: [60 / 200] | Loss: 0.5341317653656006 | Test accuracy: 0.681 | MAD: 0.9999896287918091\n",
            "Epoch: [70 / 200] | Loss: 0.517525315284729 | Test accuracy: 0.679 | MAD: 0.9999880194664001\n",
            "Epoch: [80 / 200] | Loss: 0.4416130781173706 | Test accuracy: 0.697 | MAD: 0.9999869465827942\n",
            "Epoch: [90 / 200] | Loss: 0.3621811270713806 | Test accuracy: 0.677 | MAD: 0.9999856948852539\n",
            "Epoch: [100 / 200] | Loss: 0.4279627501964569 | Test accuracy: 0.703 | MAD: 0.9999828934669495\n",
            "Epoch: [110 / 200] | Loss: 0.3902786672115326 | Test accuracy: 0.681 | MAD: 0.9999834299087524\n",
            "Epoch: [120 / 200] | Loss: 0.3652173578739166 | Test accuracy: 0.673 | MAD: 0.9999845027923584\n",
            "Epoch: [130 / 200] | Loss: 0.314960777759552 | Test accuracy: 0.673 | MAD: 0.9999815821647644\n",
            "Epoch: [140 / 200] | Loss: 0.2082396298646927 | Test accuracy: 0.671 | MAD: 0.999975323677063\n",
            "Epoch: [150 / 200] | Loss: 0.1903737187385559 | Test accuracy: 0.677 | MAD: 0.9999760389328003\n",
            "Epoch: [160 / 200] | Loss: 0.24828605353832245 | Test accuracy: 0.677 | MAD: 0.9999772906303406\n",
            "Epoch: [170 / 200] | Loss: 0.17767104506492615 | Test accuracy: 0.678 | MAD: 0.9999695420265198\n",
            "Epoch: [180 / 200] | Loss: 0.2706868350505829 | Test accuracy: 0.679 | MAD: 0.9999647736549377\n",
            "Epoch: [190 / 200] | Loss: 0.19935354590415955 | Test accuracy: 0.681 | MAD: 0.9999660849571228\n",
            "Epoch: [200 / 200] | Loss: 0.2491735965013504 | Test accuracy: 0.674 | MAD: 0.9999607801437378\n",
            "Val Loss: 1.0228, Test Accuracy: 0.674 ± nan, Duration: 747.244\n"
          ],
          "name": "stdout"
        }
      ]
    },
    {
      "cell_type": "code",
      "metadata": {
        "id": "TFVvAEgl0EYQ",
        "colab": {
          "base_uri": "https://localhost:8080/",
          "height": 480
        },
        "outputId": "7f6bc7a1-24a9-47df-d3e3-a4fb835cfbb3"
      },
      "source": [
        "plot_results(train_loss, test_acc, mads)"
      ],
      "execution_count": null,
      "outputs": [
        {
          "output_type": "display_data",
          "data": {
            "image/png": "[encoded data removed]",
            "text/plain": [
              "<Figure size 1800x500 with 4 Axes>"
            ]
          },
          "metadata": {
            "tags": [],
            "needs_background": "light"
          }
        }
      ]
    },
    {
      "cell_type": "markdown",
      "metadata": {
        "id": "NalbltUF-r_r"
      },
      "source": [
        "It looks great, we managed to get the same accuracy with 2 and 3 layers.\n",
        "Let's verify these results one a wider range of layers"
      ]
    },
    {
      "cell_type": "code",
      "metadata": {
        "id": "1jJpAGjjhHr1"
      },
      "source": [
        "metrics = pd.DataFrame(columns=['test_acc', 'mad', 'layers'])"
      ],
      "execution_count": null,
      "outputs": []
    },
    {
      "cell_type": "code",
      "metadata": {
        "id": "Ll_8lvnP-9Kc"
      },
      "source": [
        "idx = 0\n",
        "\n",
        "for K in range(2, 9, 2):\n",
        "    model = HiddenKHopNet(num_layers=K, hidden_dim=16, \n",
        "                          num_features=NUM_FEATURES,\n",
        "                          num_classes=NUM_CLASSES, invert=False)\n",
        "\n",
        "    for _ in range(3):\n",
        "        _, _, _ = run(G, model, all_edge_index=all_edge_index,\n",
        "                    runs=RUNS, epochs=200, lr=LR, \n",
        "                    weight_decay=WEIGHT_DECAY, \n",
        "                    early_stopping=EARLY_STOPPING,\n",
        "                    verbose=False)\n",
        "        \n",
        "        eval_info = evaluate(model, G, all_edge_index)\n",
        "\n",
        "        metrics.loc[idx] = {'test_acc': eval_info['test_acc'],\n",
        "                            'mad': eval_info['mad'],\n",
        "                            'layers': K}\n",
        "        idx += 1"
      ],
      "execution_count": null,
      "outputs": []
    },
    {
      "cell_type": "code",
      "metadata": {
        "id": "KDywfL2J-9BY"
      },
      "source": [
        "fig, ax = plt.subplots(1, 2, figsize=(24, 6))\n",
        "\n",
        "sns.lineplot(data=metrics, x='layers', y='test_acc', ax=ax[0]).set(title=\"Test Accuracy\")\n",
        "sns.lineplot(data=metrics, x='layers', y='mad', ax=ax[1]).set(title=\"MAD\")\n",
        "\n",
        "fig.show()"
      ],
      "execution_count": null,
      "outputs": []
    }
  ]
}