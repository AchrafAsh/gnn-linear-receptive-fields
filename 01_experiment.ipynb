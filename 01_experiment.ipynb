{
  "nbformat": 4,
  "nbformat_minor": 0,
  "metadata": {
    "colab": {
      "name": "01_experiment.ipynb",
      "provenance": [],
      "collapsed_sections": [],
      "toc_visible": true,
      "authorship_tag": "ABX9TyMQg+YyIYio7Ar78Brmz+Ua",
      "include_colab_link": true
    },
    "kernelspec": {
      "display_name": "Python 3",
      "name": "python3"
    },
    "language_info": {
      "name": "python"
    }
  },
  "cells": [
    {
      "cell_type": "markdown",
      "metadata": {
        "id": "view-in-github",
        "colab_type": "text"
      },
      "source": [
        "<a href=\"https://colab.research.google.com/github/AchrafAsh/gnn-receptive-fields/blob/main/01_experiment.ipynb\" target=\"_parent\"><img src=\"https://colab.research.google.com/assets/colab-badge.svg\" alt=\"Open In Colab\"/></a>"
      ]
    },
    {
      "cell_type": "markdown",
      "metadata": {
        "id": "3V9P0_2fLtub"
      },
      "source": [
        "## TODO\n",
        "\n",
        "- fix MAD values\n"
      ]
    },
    {
      "cell_type": "markdown",
      "metadata": {
        "id": "--Tu1WzKU02J"
      },
      "source": [
        "# Experimenting with our own Approach"
      ]
    },
    {
      "cell_type": "markdown",
      "metadata": {
        "id": "9HwdZNmrU5YL"
      },
      "source": [
        "## Setup environment\n",
        "\n",
        "- load packages from google drive (to install once)\n",
        "- configure working directory (to download datasets)\n",
        "\n"
      ]
    },
    {
      "cell_type": "code",
      "metadata": {
        "colab": {
          "base_uri": "https://localhost:8080/",
          "height": 0
        },
        "id": "6sMxsXleMcJL",
        "outputId": "1071a5e1-721e-4165-a26d-b8f4c94673cb"
      },
      "source": [
        "# setup colab environment\n",
        "import os, sys\n",
        "import os.path as osp\n",
        "from google.colab import drive\n",
        "drive.mount('/content/mnt')\n",
        "nb_path = '/content/notebooks'\n",
        "os.symlink('/content/mnt/My Drive/Colab Notebooks', nb_path)\n",
        "sys.path.insert(0, nb_path)  # or append(nb_path)"
      ],
      "execution_count": 1,
      "outputs": [
        {
          "output_type": "stream",
          "text": [
            "Mounted at /content/mnt\n"
          ],
          "name": "stdout"
        }
      ]
    },
    {
      "cell_type": "code",
      "metadata": {
        "id": "2lAtppl0VNDF"
      },
      "source": [
        "%%capture\n",
        "!wget https://raw.githubusercontent.com/AchrafAsh/gnn-receptive-fields/main/data.py\n",
        "# !wget https://raw.githubusercontent.com/AchrafAsh/gnn-receptive-fields/main/utils.py"
      ],
      "execution_count": 2,
      "outputs": []
    },
    {
      "cell_type": "code",
      "metadata": {
        "id": "hpZJSdtcOcmD"
      },
      "source": [
        "# import utility functions\n",
        "from data import load_dataset\n",
        "# from utils import mean_average_distance, mean_average_distance_gap"
      ],
      "execution_count": 3,
      "outputs": []
    },
    {
      "cell_type": "code",
      "metadata": {
        "id": "PcNfXM8aOs2s",
        "colab": {
          "base_uri": "https://localhost:8080/",
          "height": 0
        },
        "outputId": "a910ca3f-193c-4fbc-9dd7-249170cd7cf6"
      },
      "source": [
        "path = osp.join(os.getcwd(), 'data')\n",
        "cora_dataset = load_dataset(path, 'Cora')\n",
        "G = cora_dataset[0] # only graph of the dataset"
      ],
      "execution_count": 5,
      "outputs": [
        {
          "output_type": "stream",
          "text": [
            "Downloading https://github.com/kimiyoung/planetoid/raw/master/data/ind.cora.x\n",
            "Downloading https://github.com/kimiyoung/planetoid/raw/master/data/ind.cora.tx\n",
            "Downloading https://github.com/kimiyoung/planetoid/raw/master/data/ind.cora.allx\n",
            "Downloading https://github.com/kimiyoung/planetoid/raw/master/data/ind.cora.y\n",
            "Downloading https://github.com/kimiyoung/planetoid/raw/master/data/ind.cora.ty\n",
            "Downloading https://github.com/kimiyoung/planetoid/raw/master/data/ind.cora.ally\n",
            "Downloading https://github.com/kimiyoung/planetoid/raw/master/data/ind.cora.graph\n",
            "Downloading https://github.com/kimiyoung/planetoid/raw/master/data/ind.cora.test.index\n",
            "Processing...\n",
            "Done!\n"
          ],
          "name": "stdout"
        }
      ]
    },
    {
      "cell_type": "markdown",
      "metadata": {
        "id": "wYkeaQUqgn0M"
      },
      "source": [
        "## The data (Cora): structure, processing\n",
        "\n",
        "\n",
        "🎯 Filter edge_index to keep only the k-hop neighbors"
      ]
    },
    {
      "cell_type": "code",
      "metadata": {
        "id": "w1QJAGApg3kZ",
        "colab": {
          "base_uri": "https://localhost:8080/",
          "height": 0
        },
        "outputId": "7a92e75a-1818-40c6-b989-d798ef63b0e7"
      },
      "source": [
        "G = cora_dataset[0] # Cora has only one graph\n",
        "G.edge_index.shape  # [2, 10556] → 10_556 edges"
      ],
      "execution_count": 6,
      "outputs": [
        {
          "output_type": "execute_result",
          "data": {
            "text/plain": [
              "torch.Size([2, 10556])"
            ]
          },
          "metadata": {
            "tags": []
          },
          "execution_count": 6
        }
      ]
    },
    {
      "cell_type": "code",
      "metadata": {
        "colab": {
          "base_uri": "https://localhost:8080/"
        },
        "id": "w3jbJ2EQTn7y",
        "outputId": "f49a37e9-0ecd-4e01-85f6-15d8641148cb"
      },
      "source": [
        "node_a, node_b = G.edge_index[:,0]\n",
        "node_i, node_j = node_a, node_b\n",
        "i = 0\n",
        "while node_i != node_b and node_j != node_a and i < G.edge_index.size(1):\n",
        "    node_i, node_j = G.edge_index[:, i]\n",
        "    i += 1\n",
        "if i != G.edge_index.size(1):\n",
        "    print(\"found it!\")"
      ],
      "execution_count": null,
      "outputs": [
        {
          "output_type": "stream",
          "text": [
            "found it!\n"
          ],
          "name": "stdout"
        }
      ]
    },
    {
      "cell_type": "markdown",
      "metadata": {
        "id": "hIWtZAjzZlHo"
      },
      "source": [
        "That means that `edge_index` has both `a → b` and `b → a` (this is important for later processing)"
      ]
    },
    {
      "cell_type": "code",
      "metadata": {
        "colab": {
          "base_uri": "https://localhost:8080/"
        },
        "id": "vwOC-fl2hGJD",
        "outputId": "9aeabe85-1d53-4f0c-a7f1-e3362f1a2a87"
      },
      "source": [
        "# edge_index is a sparse matrix of two rows, \n",
        "# each column is a pair of adjacent nodes \n",
        "# (not handy to find the neighbors of a given node)\n",
        "i = 0\n",
        "while i < 10:\n",
        "    node_i, node_j = G.edge_index[:, i]\n",
        "    if node_i != 0: break\n",
        "    print(f\"{node_i} → {node_j}\")\n",
        "    i += 1"
      ],
      "execution_count": null,
      "outputs": [
        {
          "output_type": "stream",
          "text": [
            "0 → 633\n",
            "0 → 1862\n",
            "0 → 2582\n"
          ],
          "name": "stdout"
        }
      ]
    },
    {
      "cell_type": "markdown",
      "metadata": {
        "id": "UA913O2Ae6_v"
      },
      "source": [
        "### Compute k-hop neighborhoods"
      ]
    },
    {
      "cell_type": "code",
      "metadata": {
        "id": "7nFnLYMihGas"
      },
      "source": [
        "import copy\n",
        "import torch\n",
        "import time\n",
        "import matplotlib.pyplot as plt\n",
        "import pandas as pd\n",
        "import seaborn as sn\n",
        "\n",
        "from torch_geometric.utils import to_dense_adj, dense_to_sparse"
      ],
      "execution_count": 37,
      "outputs": []
    },
    {
      "cell_type": "code",
      "metadata": {
        "id": "uO1kWw5cnG_L"
      },
      "source": [
        "def get_neighbors(edge_index: torch.tensor) -> Dict[int, List[int]]:\n",
        "    E = edge_index.size(1)\n",
        "    neighbors = {}\n",
        "    for i in range(E):\n",
        "        node_i, node_j = edge_index[:, i]\n",
        "        node_i, node_j = node_i.item(), node_j.item()\n",
        "        try:\n",
        "            neighbors[node_i] += [node_j]\n",
        "        except:\n",
        "            neighbors[node_i] = [node_j]\n",
        "    return neighbors"
      ],
      "execution_count": 40,
      "outputs": []
    },
    {
      "cell_type": "code",
      "metadata": {
        "id": "Ar1zZ__uCHun"
      },
      "source": [
        "def get_next_hop_neighbors(edge_index, direct_neighbors, neighborhood):\n",
        "    \"\"\"Returns the next hop of neighbors\n",
        "\n",
        "    Args:\n",
        "        edge_index (tensor): sparse adjacency matrix composed of edge indices\n",
        "        direct_neighbors (dict): all the adjacent nodes\n",
        "        neighborhood (dict): all the nodes in the (k-1)-hop neighborhood\n",
        "    \n",
        "    Returns:\n",
        "        tensor: sparse matrix containing edge indices of the k-hop neighbors\n",
        "        dict: direct neighbors\n",
        "        dict: all the nodes in the k-hop neighborhood\n",
        "    \"\"\"\n",
        "    neighborhood = copy.deepcopy(neighborhood)\n",
        "    \n",
        "    E = edge_index.size(1)\n",
        "    new_edge_index = []\n",
        "    for i in range(E):\n",
        "        node_i, node_j = edge_index[:, i]\n",
        "        node_i, node_j = node_i.item(), node_j.item()\n",
        "        \n",
        "        for node_k in direct_neighbors[node_j]:\n",
        "            if node_k == node_i or node_k in neighborhood[node_i]: continue\n",
        "            new_edge_index.append([node_i, node_k])\n",
        "            neighborhood[node_i] += [node_k]\n",
        "    \n",
        "    if len(new_edge_index) > 0:\n",
        "        new_edge_index = torch.transpose(torch.tensor(new_edge_index, dtype=edge_index.dtype), 1, 0)\n",
        "    \n",
        "    return new_edge_index, neighborhood"
      ],
      "execution_count": 41,
      "outputs": []
    },
    {
      "cell_type": "code",
      "metadata": {
        "id": "tc7PYgD_a2pr"
      },
      "source": [
        "def get_all_hops(edge_index, k=1):\n",
        "    \"\"\"Returns all the k-hop neighbors and neighborhoods (all steps)\n",
        "\n",
        "    Args:\n",
        "        edge_index (tensor): sparse adjacency matrix composed of edge indices\n",
        "        k (int): hop of neighbors to keep (e.g. k=1 is the regular adjacency matrix)\n",
        "    \n",
        "    Returns:\n",
        "        List[tensor]: list of k sparse matrices containing edge indices for each k-hop\n",
        "        List[dict]: list of k dictionaries (neighborhoods)\n",
        "    \"\"\"\n",
        "    direct_neighbors = get_neighbors(edge_index)\n",
        "    neighborhood = copy.deepcopy(direct_neighbors)\n",
        "    \n",
        "    all_edge_index, all_neighborhoods = [edge_index], [neighborhood]\n",
        "\n",
        "    for i in range(1, k):\n",
        "        next_edge_index, neighborhood = get_next_hop_neighbors(edge_index=all_edge_index[i-1], \n",
        "                                                               direct_neighbors=direct_neighbors,\n",
        "                                                               neighborhood=all_neighborhoods[i-1])\n",
        "        all_edge_index += [next_edge_index]\n",
        "        all_neighborhoods += [neighborhood]\n",
        "\n",
        "    return all_edge_index, all_neighborhoods"
      ],
      "execution_count": 95,
      "outputs": []
    },
    {
      "cell_type": "markdown",
      "metadata": {
        "id": "gCGVu9WGHAu2"
      },
      "source": [
        "### Visualize neighborhood expansion\n",
        "\n",
        "The diameter of the Cora dataset is 20, so in theory, the maximum number of neighbors should decrease all the way down to zero for `k=20`.\n",
        "Let's check:"
      ]
    },
    {
      "cell_type": "code",
      "metadata": {
        "colab": {
          "base_uri": "https://localhost:8080/",
          "height": 656
        },
        "id": "zuMNsUo_rPau",
        "outputId": "1c910b26-a065-40d8-a474-809097044be0"
      },
      "source": [
        "nb_k_hop_neighbors = []\n",
        "size_k_hop_neighborhood = []\n",
        "k_grid = range(1, 20)\n",
        "\n",
        "edge_index = G.edge_index\n",
        "direct_neighbors = get_neighbors(G.edge_index)\n",
        "neighborhood = copy.deepcopy(direct_neighbors)\n",
        "\n",
        "# count neighbors\n",
        "max_neighbors = len(max(direct_neighbors.values(), key=len))\n",
        "min_neighbors = len(min(direct_neighbors.values(), key=len))\n",
        "nb_k_hop_neighbors.append([min_neighbors, max_neighbors])\n",
        "\n",
        "# count neighborhood\n",
        "max_neighborhood = len(max(neighborhood.values(), key=len))\n",
        "min_neighborhood = len(min(neighborhood.values(), key=len))\n",
        "size_k_hop_neighborhood.append([min_neighborhood, max_neighborhood])\n",
        "\n",
        "for k in k_grid:\n",
        "    edge_index, neighborhood = get_next_hop_neighbors(edge_index=edge_index,\n",
        "                                                      neighbors=direct_neighbors,\n",
        "                                                      neighborhood=neighborhood)\n",
        "    k_hop_neighbors = get_neighbors(edge_index)\n",
        "    \n",
        "    # count neighbors\n",
        "    max_neighbors = len(max(k_hop_neighbors.values(), key=len))\n",
        "    min_neighbors = len(min(k_hop_neighbors.values(), key=len))\n",
        "    nb_k_hop_neighbors.append([min_neighbors, max_neighbors])\n",
        "\n",
        "    # count neighborhood\n",
        "    max_neighborhood = len(max(neighborhood.values(), key=len))\n",
        "    min_neighborhood = len(min(neighborhood.values(), key=len))\n",
        "    size_k_hop_neighborhood.append([min_neighborhood, max_neighborhood])"
      ],
      "execution_count": null,
      "outputs": [
        {
          "output_type": "stream",
          "text": [
            "100%|██████████| 10556/10556 [00:00<00:00, 46609.02it/s]\n",
            "100%|██████████| 86332/86332 [00:02<00:00, 37543.60it/s]\n",
            "100%|██████████| 247250/247250 [00:10<00:00, 23428.47it/s]\n",
            "100%|██████████| 663302/663302 [00:39<00:00, 16629.27it/s]\n",
            "100%|██████████| 1187132/1187132 [01:31<00:00, 13029.02it/s]\n",
            "100%|██████████| 1389500/1389500 [02:01<00:00, 11410.84it/s]\n",
            "100%|██████████| 1118348/1118348 [01:48<00:00, 10314.25it/s]\n",
            "100%|██████████| 693030/693030 [01:11<00:00, 9723.77it/s] \n",
            "100%|██████████| 378066/378066 [00:40<00:00, 9302.98it/s] \n",
            "100%|██████████| 204848/204848 [00:21<00:00, 9369.37it/s] \n",
            "100%|██████████| 109002/109002 [00:11<00:00, 9279.37it/s]\n",
            "100%|██████████| 53372/53372 [00:05<00:00, 9486.58it/s]\n",
            "100%|██████████| 22528/22528 [00:02<00:00, 9990.51it/s] \n",
            "100%|██████████| 7614/7614 [00:00<00:00, 10766.67it/s]\n",
            "100%|██████████| 2202/2202 [00:00<00:00, 11708.11it/s]\n",
            "100%|██████████| 592/592 [00:00<00:00, 12793.64it/s]\n",
            "100%|██████████| 130/130 [00:00<00:00, 11516.00it/s]\n",
            "100%|██████████| 30/30 [00:00<00:00, 7688.45it/s]\n",
            "100%|██████████| 2/2 [00:00<00:00, 2181.13it/s]\n"
          ],
          "name": "stderr"
        },
        {
          "output_type": "error",
          "ename": "IndexError",
          "evalue": "ignored",
          "traceback": [
            "\u001b[0;31m---------------------------------------------------------------------------\u001b[0m",
            "\u001b[0;31mIndexError\u001b[0m                                Traceback (most recent call last)",
            "\u001b[0;32m<ipython-input-209-18857871cac5>\u001b[0m in \u001b[0;36m<module>\u001b[0;34m()\u001b[0m\n\u001b[1;32m     20\u001b[0m     edge_index, neighborhood = get_next_hop_neighbors(edge_index=edge_index,\n\u001b[1;32m     21\u001b[0m                                                       \u001b[0mneighbors\u001b[0m\u001b[0;34m=\u001b[0m\u001b[0mdirect_neighbors\u001b[0m\u001b[0;34m,\u001b[0m\u001b[0;34m\u001b[0m\u001b[0;34m\u001b[0m\u001b[0m\n\u001b[0;32m---> 22\u001b[0;31m                                                       neighborhood=neighborhood)\n\u001b[0m\u001b[1;32m     23\u001b[0m     \u001b[0mk_hop_neighbors\u001b[0m \u001b[0;34m=\u001b[0m \u001b[0mget_neighbors\u001b[0m\u001b[0;34m(\u001b[0m\u001b[0medge_index\u001b[0m\u001b[0;34m)\u001b[0m\u001b[0;34m\u001b[0m\u001b[0;34m\u001b[0m\u001b[0m\n\u001b[1;32m     24\u001b[0m \u001b[0;34m\u001b[0m\u001b[0m\n",
            "\u001b[0;32m<ipython-input-202-cb06098f362b>\u001b[0m in \u001b[0;36mget_next_hop_neighbors\u001b[0;34m(edge_index, neighbors, neighborhood)\u001b[0m\n\u001b[1;32m     24\u001b[0m             \u001b[0mneighborhood\u001b[0m\u001b[0;34m[\u001b[0m\u001b[0mnode_i\u001b[0m\u001b[0;34m]\u001b[0m \u001b[0;34m+=\u001b[0m \u001b[0;34m[\u001b[0m\u001b[0mnode_k\u001b[0m\u001b[0;34m]\u001b[0m\u001b[0;34m\u001b[0m\u001b[0;34m\u001b[0m\u001b[0m\n\u001b[1;32m     25\u001b[0m \u001b[0;34m\u001b[0m\u001b[0m\n\u001b[0;32m---> 26\u001b[0;31m     \u001b[0mnew_edge_index\u001b[0m \u001b[0;34m=\u001b[0m \u001b[0mtorch\u001b[0m\u001b[0;34m.\u001b[0m\u001b[0mtranspose\u001b[0m\u001b[0;34m(\u001b[0m\u001b[0mtorch\u001b[0m\u001b[0;34m.\u001b[0m\u001b[0mtensor\u001b[0m\u001b[0;34m(\u001b[0m\u001b[0mnew_edge_index\u001b[0m\u001b[0;34m,\u001b[0m \u001b[0mdtype\u001b[0m\u001b[0;34m=\u001b[0m\u001b[0medge_index\u001b[0m\u001b[0;34m.\u001b[0m\u001b[0mdtype\u001b[0m\u001b[0;34m)\u001b[0m\u001b[0;34m,\u001b[0m \u001b[0;36m1\u001b[0m\u001b[0;34m,\u001b[0m \u001b[0;36m0\u001b[0m\u001b[0;34m)\u001b[0m\u001b[0;34m\u001b[0m\u001b[0;34m\u001b[0m\u001b[0m\n\u001b[0m\u001b[1;32m     27\u001b[0m     \u001b[0;32mreturn\u001b[0m \u001b[0mnew_edge_index\u001b[0m\u001b[0;34m,\u001b[0m \u001b[0mneighborhood\u001b[0m\u001b[0;34m\u001b[0m\u001b[0;34m\u001b[0m\u001b[0m\n",
            "\u001b[0;31mIndexError\u001b[0m: Dimension out of range (expected to be in range of [-1, 0], but got 1)"
          ]
        }
      ]
    },
    {
      "cell_type": "code",
      "metadata": {
        "colab": {
          "base_uri": "https://localhost:8080/",
          "height": 723
        },
        "id": "osiHgcT-tebD",
        "outputId": "c4f279f6-c8f6-4c61-baf3-84fd0d19f4a6"
      },
      "source": [
        "plt.rcParams['figure.figsize'] = [12, 8]\n",
        "plt.rcParams['figure.dpi'] = 100\n",
        "\n",
        "# credit to: https://stackoverflow.com/a/55579762/11805354\n",
        "data = pd.DataFrame({\n",
        "    'k': range(1, 20),\n",
        "    'min_neighbors': torch.tensor(nb_k_hop_neighbors)[:, 0],\n",
        "    'max_neighbors': torch.tensor(nb_k_hop_neighbors)[:, 1],\n",
        "    'min_neighborhood': torch.tensor(size_k_hop_neighborhood)[:, 0],\n",
        "    'max_neighborhood': torch.tensor(size_k_hop_neighborhood)[:, 1],\n",
        "})\n",
        "sn.lineplot(x='k', y='value', hue='variable', data=pd.melt(data, ['k'])).set(title=\"Neighborhood expansion on Cora\")"
      ],
      "execution_count": null,
      "outputs": [
        {
          "output_type": "execute_result",
          "data": {
            "text/plain": [
              "[Text(0.5, 1.0, 'Neighborhood expansion on Cora')]"
            ]
          },
          "metadata": {
            "tags": []
          },
          "execution_count": 211
        },
        {
          "output_type": "display_data",
          "data": {
            "image/png": "[encoded data removed]",
            "text/plain": [
              "<Figure size 1200x800 with 1 Axes>"
            ]
          },
          "metadata": {
            "tags": [],
            "needs_background": "light"
          }
        }
      ]
    },
    {
      "cell_type": "code",
      "metadata": {
        "colab": {
          "base_uri": "https://localhost:8080/",
          "height": 638
        },
        "id": "76YTz9aS7KZh",
        "outputId": "002e140d-2c45-4a96-a054-a02dfeab2714"
      },
      "source": [
        "data"
      ],
      "execution_count": null,
      "outputs": [
        {
          "output_type": "execute_result",
          "data": {
            "text/html": [
              "<div>\n",
              "<style scoped>\n",
              "    .dataframe tbody tr th:only-of-type {\n",
              "        vertical-align: middle;\n",
              "    }\n",
              "\n",
              "    .dataframe tbody tr th {\n",
              "        vertical-align: top;\n",
              "    }\n",
              "\n",
              "    .dataframe thead th {\n",
              "        text-align: right;\n",
              "    }\n",
              "</style>\n",
              "<table border=\"1\" class=\"dataframe\">\n",
              "  <thead>\n",
              "    <tr style=\"text-align: right;\">\n",
              "      <th></th>\n",
              "      <th>k</th>\n",
              "      <th>min_neighbors</th>\n",
              "      <th>max_neighbors</th>\n",
              "      <th>min_neighborhood</th>\n",
              "      <th>max_neighborhood</th>\n",
              "    </tr>\n",
              "  </thead>\n",
              "  <tbody>\n",
              "    <tr>\n",
              "      <th>0</th>\n",
              "      <td>1</td>\n",
              "      <td>1</td>\n",
              "      <td>168</td>\n",
              "      <td>1</td>\n",
              "      <td>168</td>\n",
              "    </tr>\n",
              "    <tr>\n",
              "      <th>1</th>\n",
              "      <td>2</td>\n",
              "      <td>1</td>\n",
              "      <td>318</td>\n",
              "      <td>1</td>\n",
              "      <td>425</td>\n",
              "    </tr>\n",
              "    <tr>\n",
              "      <th>2</th>\n",
              "      <td>3</td>\n",
              "      <td>1</td>\n",
              "      <td>630</td>\n",
              "      <td>1</td>\n",
              "      <td>898</td>\n",
              "    </tr>\n",
              "    <tr>\n",
              "      <th>3</th>\n",
              "      <td>4</td>\n",
              "      <td>1</td>\n",
              "      <td>800</td>\n",
              "      <td>1</td>\n",
              "      <td>1572</td>\n",
              "    </tr>\n",
              "    <tr>\n",
              "      <th>4</th>\n",
              "      <td>5</td>\n",
              "      <td>1</td>\n",
              "      <td>904</td>\n",
              "      <td>1</td>\n",
              "      <td>2136</td>\n",
              "    </tr>\n",
              "    <tr>\n",
              "      <th>5</th>\n",
              "      <td>6</td>\n",
              "      <td>2</td>\n",
              "      <td>915</td>\n",
              "      <td>1</td>\n",
              "      <td>2356</td>\n",
              "    </tr>\n",
              "    <tr>\n",
              "      <th>6</th>\n",
              "      <td>7</td>\n",
              "      <td>4</td>\n",
              "      <td>868</td>\n",
              "      <td>1</td>\n",
              "      <td>2449</td>\n",
              "    </tr>\n",
              "    <tr>\n",
              "      <th>7</th>\n",
              "      <td>8</td>\n",
              "      <td>10</td>\n",
              "      <td>868</td>\n",
              "      <td>1</td>\n",
              "      <td>2472</td>\n",
              "    </tr>\n",
              "    <tr>\n",
              "      <th>8</th>\n",
              "      <td>9</td>\n",
              "      <td>9</td>\n",
              "      <td>868</td>\n",
              "      <td>1</td>\n",
              "      <td>2481</td>\n",
              "    </tr>\n",
              "    <tr>\n",
              "      <th>9</th>\n",
              "      <td>10</td>\n",
              "      <td>2</td>\n",
              "      <td>835</td>\n",
              "      <td>1</td>\n",
              "      <td>2484</td>\n",
              "    </tr>\n",
              "    <tr>\n",
              "      <th>10</th>\n",
              "      <td>11</td>\n",
              "      <td>1</td>\n",
              "      <td>819</td>\n",
              "      <td>1</td>\n",
              "      <td>2484</td>\n",
              "    </tr>\n",
              "    <tr>\n",
              "      <th>11</th>\n",
              "      <td>12</td>\n",
              "      <td>1</td>\n",
              "      <td>712</td>\n",
              "      <td>1</td>\n",
              "      <td>2484</td>\n",
              "    </tr>\n",
              "    <tr>\n",
              "      <th>12</th>\n",
              "      <td>13</td>\n",
              "      <td>1</td>\n",
              "      <td>712</td>\n",
              "      <td>1</td>\n",
              "      <td>2484</td>\n",
              "    </tr>\n",
              "    <tr>\n",
              "      <th>13</th>\n",
              "      <td>14</td>\n",
              "      <td>1</td>\n",
              "      <td>608</td>\n",
              "      <td>1</td>\n",
              "      <td>2484</td>\n",
              "    </tr>\n",
              "    <tr>\n",
              "      <th>14</th>\n",
              "      <td>15</td>\n",
              "      <td>1</td>\n",
              "      <td>291</td>\n",
              "      <td>1</td>\n",
              "      <td>2484</td>\n",
              "    </tr>\n",
              "    <tr>\n",
              "      <th>15</th>\n",
              "      <td>16</td>\n",
              "      <td>1</td>\n",
              "      <td>88</td>\n",
              "      <td>1</td>\n",
              "      <td>2484</td>\n",
              "    </tr>\n",
              "    <tr>\n",
              "      <th>16</th>\n",
              "      <td>17</td>\n",
              "      <td>1</td>\n",
              "      <td>25</td>\n",
              "      <td>1</td>\n",
              "      <td>2484</td>\n",
              "    </tr>\n",
              "    <tr>\n",
              "      <th>17</th>\n",
              "      <td>18</td>\n",
              "      <td>1</td>\n",
              "      <td>12</td>\n",
              "      <td>1</td>\n",
              "      <td>2484</td>\n",
              "    </tr>\n",
              "    <tr>\n",
              "      <th>18</th>\n",
              "      <td>19</td>\n",
              "      <td>1</td>\n",
              "      <td>1</td>\n",
              "      <td>1</td>\n",
              "      <td>2484</td>\n",
              "    </tr>\n",
              "  </tbody>\n",
              "</table>\n",
              "</div>"
            ],
            "text/plain": [
              "     k  min_neighbors  max_neighbors  min_neighborhood  max_neighborhood\n",
              "0    1              1            168                 1               168\n",
              "1    2              1            318                 1               425\n",
              "2    3              1            630                 1               898\n",
              "3    4              1            800                 1              1572\n",
              "4    5              1            904                 1              2136\n",
              "5    6              2            915                 1              2356\n",
              "6    7              4            868                 1              2449\n",
              "7    8             10            868                 1              2472\n",
              "8    9              9            868                 1              2481\n",
              "9   10              2            835                 1              2484\n",
              "10  11              1            819                 1              2484\n",
              "11  12              1            712                 1              2484\n",
              "12  13              1            712                 1              2484\n",
              "13  14              1            608                 1              2484\n",
              "14  15              1            291                 1              2484\n",
              "15  16              1             88                 1              2484\n",
              "16  17              1             25                 1              2484\n",
              "17  18              1             12                 1              2484\n",
              "18  19              1              1                 1              2484"
            ]
          },
          "metadata": {
            "tags": []
          },
          "execution_count": 212
        }
      ]
    },
    {
      "cell_type": "markdown",
      "metadata": {
        "id": "gS20xTjwH9lR"
      },
      "source": [
        "Explanation:\n",
        "- the min_neighbors can be bigger than min_neighborhood if two adjacent nodes are isolated, they will then be disregarded for the next hops, and thus not be considered for the min_neighborhood 💡"
      ]
    },
    {
      "cell_type": "markdown",
      "metadata": {
        "id": "qGHenT8uKbgD"
      },
      "source": [
        "Result: the max_neighbors reach zero for the 20th hop which is what we expected ✅"
      ]
    },
    {
      "cell_type": "markdown",
      "metadata": {
        "id": "KD4pHVmynPqd"
      },
      "source": [
        "## Measuring over-smoothing"
      ]
    },
    {
      "cell_type": "code",
      "metadata": {
        "id": "k47OXVhXvpya"
      },
      "source": [
        "def mean_average_distance(x, mask=None) -> float:\n",
        "    \"\"\"\n",
        "    Computes cosine similarity between each pair of node representations\n",
        "\n",
        "    Args:\n",
        "        x (torch.tensor): node features [N, num_features]\n",
        "        mask (torch.tensor): mask matrix composed of 0 and 1 only if the node pair (i,j) is the target one.\n",
        "    \n",
        "    :rtype: float\n",
        "    \"\"\"\n",
        "    h = x.clone()\n",
        "\n",
        "    D = 1 - torch.div(torch.matmul(h, torch.transpose(h, 0, 1)),\n",
        "                      torch.matmul(torch.transpose(torch.norm(h, dim=1, keepdim=True), 0, 1), torch.norm(h, dim=1, keepdim=True)))\n",
        "    if mask is not None:\n",
        "        D = D * mask\n",
        "    D_hat = torch.div( torch.sum(D, dim=1), torch.sum(D > 0, dim=1) )\n",
        "    return torch.sum(D_hat) / torch.sum(D_hat > 0)"
      ],
      "execution_count": 147,
      "outputs": []
    },
    {
      "cell_type": "code",
      "metadata": {
        "id": "2aU_wAkOoj1j"
      },
      "source": [
        "def mean_average_distance_gap(x, adj_matrix):\n",
        "    '''\n",
        "    Computes MADGap: MAD_remote - MAD_neighbors\n",
        "    Args:\n",
        "        x (torch.tensor): input feature matrix\n",
        "        adj_matrix (torch.tensor): dense adjacency matrix\n",
        "    '''\n",
        "    # TODO: try to use the sparse adjacency matrix (like they did in MessagePassing)\n",
        "    MAD_rem = mean_average_distance(x, mask=1-adj_matrix)\n",
        "    MAD_neb = mean_average_distance(x, mask=adj_matrix)\n",
        "\n",
        "    return MAD_rem - MAD_neb"
      ],
      "execution_count": 8,
      "outputs": []
    },
    {
      "cell_type": "markdown",
      "metadata": {
        "id": "Bp2rl87UaOqU"
      },
      "source": [
        "## The model: our approach"
      ]
    },
    {
      "cell_type": "code",
      "metadata": {
        "id": "uvOMwHM-lu3K"
      },
      "source": [
        "import math\n",
        "import random\n",
        "\n",
        "import torch\n",
        "import torch_geometric\n",
        "import torch.nn.functional as F\n",
        "\n",
        "from torch_geometric.nn import GCNConv, MessagePassing, Sequential\n",
        "from torch_geometric.utils import degree, to_dense_adj\n",
        "\n",
        "device = torch.device('cuda' if torch.cuda.is_available() else 'cpu')"
      ],
      "execution_count": 34,
      "outputs": []
    },
    {
      "cell_type": "code",
      "metadata": {
        "id": "xK_J2lR7WzpT"
      },
      "source": [
        "def xavier(tensor):\n",
        "    \"\"\"Initialize weight matrix with Xavier distribution\n",
        "\n",
        "    Args:\n",
        "        tensor (tensor): weigh matrix\n",
        "    Return:\n",
        "        tensor - weight matrix initialized\n",
        "    \"\"\"\n",
        "    if tensor is not None:\n",
        "        stdv = math.sqrt(6.0 / (tensor.size(-2) + tensor.size(-2)))\n",
        "        tensor.data.uniform_(-stdv, stdv)\n",
        "\n",
        "def zeros(tensor):\n",
        "    \"\"\"Initialize bias vector with all zeros\n",
        "\n",
        "    Args:\n",
        "        tensor (tensor): bias vector\n",
        "    \n",
        "    Return\n",
        "        tensor - bias vector initialized with zeros\n",
        "    \"\"\"\n",
        "    if tensor is not None:\n",
        "        tensor.data.fill_(0)"
      ],
      "execution_count": 13,
      "outputs": []
    },
    {
      "cell_type": "markdown",
      "metadata": {
        "id": "kRCFqtPTeDoz"
      },
      "source": [
        "### The HopGCNConv: our modified GCNConv layer\n",
        "\n",
        "The only difference is that the Message part takes:\n",
        "- the input features for neighbors\n",
        "- the hidden state of the target node"
      ]
    },
    {
      "cell_type": "code",
      "metadata": {
        "id": "V62Xsa0OOhs5"
      },
      "source": [
        "class HopGCNConv(MessagePassing):\n",
        "    def __init__(self, num_features:int, in_channels:int, out_channels:int, k:int):\n",
        "        super(HopGCNConv, self).__init__(aggr='add')  # \"Add\" aggregation\n",
        "        self.k = k\n",
        "        self.lin_input = torch.nn.Linear(num_features, out_channels)\n",
        "        self.lin_hidden = torch.nn.Linear(in_channels, out_channels)\n",
        "        \n",
        "        self.reset_parameters()\n",
        "        \n",
        "    def reset_parameters(self):\n",
        "        xavier(self.lin_input.weight)\n",
        "        zeros(self.lin_input.bias)\n",
        "        \n",
        "        xavier(self.lin_hidden.weight)\n",
        "        zeros(self.lin_hidden.bias)\n",
        "\n",
        "    def forward(self, x, h, edge_index):\n",
        "        # x is the input features and has shape [N, num_features]\n",
        "        # h is the hidden state and has shape [N, in_channels]\n",
        "        # edge_index has shape [2, E] , E being the number of edges\n",
        "\n",
        "        # step 1: linearly transform node feature matrices\n",
        "        x = self.lin_input(x)\n",
        "        h = self.lin_hidden(h)\n",
        "\n",
        "        # step 3-5: start propagating messages\n",
        "        return self.propagate(edge_index[self.k], x=x, h=h)\n",
        "\n",
        "    def message(self, x_j, h_i, edge_index, size):\n",
        "        # x_j is the input features of the neighbors and has shape [E, out_channels] (has already been multiplied by the weight matrix)\n",
        "\n",
        "        # step 3: normalize node features\n",
        "        row, col = edge_index\n",
        "        deg = degree(row, size[0], dtype=x_j.dtype)\n",
        "        deg_inv_sqrt = deg.pow(-0.5)\n",
        "        deg_inv_sqrt[deg_inv_sqrt == float('inf')] = 0\n",
        "        norm = deg_inv_sqrt[row] * deg_inv_sqrt[col]\n",
        "\n",
        "        out = norm.view(-1, 1) * x_j\n",
        "\n",
        "        # add the hidden state of the target node\n",
        "        norm = deg_inv_sqrt[row] * deg_inv_sqrt[row]\n",
        "        \n",
        "        return out + norm.view(-1, 1) * h_i\n",
        "\n",
        "    def update(self, aggr_out):\n",
        "        # aggr_out has shape [N, out_channels]\n",
        "\n",
        "        # step 5: return new node embeddings\n",
        "        return aggr_out"
      ],
      "execution_count": 28,
      "outputs": []
    },
    {
      "cell_type": "code",
      "metadata": {
        "colab": {
          "base_uri": "https://localhost:8080/",
          "height": 0
        },
        "id": "Top-jwFkdW2i",
        "outputId": "ee65af81-76ba-48f1-911b-c9dd22304750"
      },
      "source": [
        "# model should be as follows:\n",
        "dropout=0.5\n",
        "model = Sequential(\"x, edge_index\",[\n",
        "    (HopGCNConv(num_features=cora_dataset.num_features, in_channels=cora_dataset.num_features, out_channels=16, k=0), \"x, x, edge_index -> h\"),\n",
        "    (torch.nn.ReLU(), \"h -> h\"),\n",
        "    (torch.nn.Dropout(p=dropout), \"h -> h\"),\n",
        "\n",
        "    (HopGCNConv(num_features=cora_dataset.num_features, in_channels=16, out_channels=16, k=1), \"x, h, edge_index -> h\"),\n",
        "    (torch.nn.ReLU(), \"h -> h\"),\n",
        "    (torch.nn.Dropout(p=dropout), \"h -> h\"),\n",
        "\n",
        "    (HopGCNConv(num_features=cora_dataset.num_features, in_channels=16, out_channels=16, k=2), \"x, h, edge_index -> h\"),\n",
        "    (torch.nn.ReLU(), \"h -> h\"),\n",
        "    (torch.nn.Dropout(p=dropout), \"h -> h\"),\n",
        "    \n",
        "    (HopGCNConv(num_features=cora_dataset.num_features, in_channels=16, out_channels=16, k=3), \"x, h, edge_index -> h\"),\n",
        "    (torch.nn.ReLU(), \"h -> h\"),\n",
        "    (torch.nn.Dropout(p=dropout), \"h -> h\"),\n",
        "\n",
        "    (HopGCNConv(num_features=cora_dataset.num_features, in_channels=16, out_channels=16, k=4), \"x, h, edge_index -> h\"),\n",
        "    (torch.nn.ReLU(), \"h -> h\"),\n",
        "    (torch.nn.Dropout(p=dropout), \"h -> h\"),\n",
        "    \n",
        "    (HopGCNConv(num_features=cora_dataset.num_features, in_channels=16, out_channels=16, k=5), \"x, h, edge_index -> h\"),\n",
        "    (torch.nn.ReLU(), \"h -> h\"),\n",
        "    (torch.nn.Dropout(p=dropout), \"h -> h\"),\n",
        "\n",
        "    (HopGCNConv(num_features=cora_dataset.num_features, in_channels=16, out_channels=cora_dataset.num_classes, k=6), \"x, h, edge_index -> h\"),\n",
        "    # (torch.nn.ReLU(), \"h -> h\"),\n",
        "    # (torch.nn.Dropout(p=dropout), \"h -> h\"),\n",
        "\n",
        "    (torch.nn.LogSoftmax(dim=1), \"h -> h\")\n",
        "])\n",
        "\n",
        "model.reset_parameters()\n",
        "count_parameters(model)"
      ],
      "execution_count": 113,
      "outputs": [
        {
          "output_type": "stream",
          "text": [
            "The model has 172,125 parameters\n"
          ],
          "name": "stdout"
        }
      ]
    },
    {
      "cell_type": "markdown",
      "metadata": {
        "id": "dx4c4JSrc4Nj"
      },
      "source": [
        "### Build the model with nn.Module for more flexibility"
      ]
    },
    {
      "cell_type": "code",
      "metadata": {
        "id": "2Bw9sC4DBLXc",
        "outputId": "474a7236-2d28-44e0-c5fa-3d1486c6d213",
        "colab": {
          "base_uri": "https://localhost:8080/",
          "height": 0
        }
      },
      "source": [
        "for i in range(5, -1, -1): print(i)"
      ],
      "execution_count": 154,
      "outputs": [
        {
          "output_type": "stream",
          "text": [
            "5\n",
            "4\n",
            "3\n",
            "2\n",
            "1\n",
            "0\n"
          ],
          "name": "stdout"
        }
      ]
    },
    {
      "cell_type": "code",
      "metadata": {
        "id": "e6n606kUc-Pz"
      },
      "source": [
        "class KHopNet(torch.nn.Module):\n",
        "    def __init__(self, num_layers:int, hidden_dim:int, num_features:int, num_classes:int, dropout:float=0.5, invert:bool=False):\n",
        "        super().__init__()\n",
        "        self.conv_layers = self.create_layers(num_layers=num_layers, \n",
        "                                              num_features=num_features,\n",
        "                                              num_classes=num_classes,\n",
        "                                              hidden_dim=hidden_dim,\n",
        "                                              dropout=dropout,\n",
        "                                              invert=invert)\n",
        "        \n",
        "        self.log_softmax = torch.nn.LogSoftmax(dim=1)\n",
        "\n",
        "\n",
        "    def create_layers(self, num_layers:int, num_features:int, num_classes:int, \n",
        "                      hidden_dim:int, dropout:float, invert:bool):\n",
        "        layers = []\n",
        "        if invert:\n",
        "            k_grid = range(num_layers-1, -1, -1)\n",
        "        else:\n",
        "            k_grid = range(0, num_layers)\n",
        "\n",
        "        # first layer\n",
        "        layers += [\n",
        "                (HopGCNConv(num_features=num_features, in_channels=num_features, out_channels=hidden_dim, k=k_grid[0]), \"x, x, edge_index -> h\"),\n",
        "                (torch.nn.ReLU(), \"h -> h\"),\n",
        "                (torch.nn.Dropout(p=dropout), \"h -> h\")\n",
        "        ]\n",
        "\n",
        "        for k in range(1, num_layers-1):\n",
        "            layers += [\n",
        "                (HopGCNConv(num_features=num_features, in_channels=hidden_dim, out_channels=hidden_dim, k=k_grid[k]), \"x, h, edge_index -> h\"),\n",
        "                (torch.nn.ReLU(), \"h -> h\"),\n",
        "                (torch.nn.Dropout(p=dropout), \"h -> h\")\n",
        "            ]\n",
        "        \n",
        "        # last layer\n",
        "        layers += [\n",
        "            (HopGCNConv(num_features=num_features, in_channels=hidden_dim, out_channels=num_classes, k=k_grid[num_layers-1]), \"x, h, edge_index -> h\"),\n",
        "            # (torch.nn.ReLU(), \"h -> h\"),\n",
        "            # (torch.nn.Dropout(p=dropout), \"h -> h\") -> putting that prevent the model from learning\n",
        "        ]\n",
        "        return Sequential(\"x, edge_index\", layers)\n",
        "\n",
        "\n",
        "    def reset_parameters(self):\n",
        "        self.conv_layers.reset_parameters()\n",
        "\n",
        "\n",
        "    def forward(self, x, edge_index):\n",
        "        h = self.conv_layers(x, edge_index)\n",
        "        return h, self.log_softmax(h)"
      ],
      "execution_count": 155,
      "outputs": []
    },
    {
      "cell_type": "markdown",
      "metadata": {
        "id": "pPZSFobwdg8M"
      },
      "source": [
        "## Running Experiments"
      ]
    },
    {
      "cell_type": "markdown",
      "metadata": {
        "id": "kHfv8a6tkd4F"
      },
      "source": [
        "### Utility functions"
      ]
    },
    {
      "cell_type": "code",
      "metadata": {
        "id": "iI-Na2HJpDC7"
      },
      "source": [
        "from typing import Tuple, Dict, List\n",
        "from tqdm import tqdm"
      ],
      "execution_count": 44,
      "outputs": []
    },
    {
      "cell_type": "code",
      "metadata": {
        "id": "0WHZV-0NQzi_"
      },
      "source": [
        "# count model parameters\n",
        "def count_parameters(model: torch.nn.Module):\n",
        "    print(f\"The model has {sum(p.numel() for p in model.parameters() if p.requires_grad):,} parameters\")"
      ],
      "execution_count": 17,
      "outputs": []
    },
    {
      "cell_type": "code",
      "metadata": {
        "id": "ikvqhksifcdh"
      },
      "source": [
        "def train(model: torch.nn.Module, optimizer: torch.optim.Optimizer,\n",
        "          data: type(G), all_edge_index: list) -> Tuple[torch.tensor, float]:\n",
        "    \"\"\"Performs one training step\n",
        "    \"\"\"\n",
        "    \n",
        "    model.train()\n",
        "    optimizer.zero_grad()\n",
        "\n",
        "    hidden_state, out = model(data.x, all_edge_index)\n",
        "    # out = model(data.x, all_edge_index)\n",
        "    \n",
        "    loss = F.nll_loss(out[data.train_mask], data.y[data.train_mask])\n",
        "    loss.backward()\n",
        "    optimizer.step()\n",
        "    return hidden_state, loss\n",
        "    # return loss"
      ],
      "execution_count": 121,
      "outputs": []
    },
    {
      "cell_type": "code",
      "metadata": {
        "id": "8_Pj3KeCft8s"
      },
      "source": [
        "def evaluate(model: torch.nn.Module, data: type(G), all_edge_index: list) -> Dict[str, float]:\n",
        "    \"\"\"Evaluates the model\n",
        "    \"\"\"\n",
        "    \n",
        "    model.eval()\n",
        "\n",
        "    with torch.no_grad():\n",
        "        _, logits = model(data.x, all_edge_index)\n",
        "        # logits = model(data.x, all_edge_index)\n",
        "    \n",
        "    outs = {}\n",
        "    for key in ['train', 'val', 'test']:\n",
        "        mask = data[f'{key}_mask']\n",
        "        loss = F.nll_loss(logits[mask], data.y[mask]).item()\n",
        "        pred = logits[mask].max(1)[1]\n",
        "        acc = pred.eq(data.y[mask]).sum().item() / mask.sum().item()\n",
        "\n",
        "        outs[f'{key}_loss'] = loss\n",
        "        outs[f'{key}_acc'] = acc\n",
        "    return outs"
      ],
      "execution_count": 116,
      "outputs": []
    },
    {
      "cell_type": "code",
      "metadata": {
        "id": "pvjW89_Le0s8"
      },
      "source": [
        "def run(data: type(G), model: torch.nn.Module,\n",
        "        all_edge_index: List[torch.tensor],\n",
        "        runs: int, epochs: int, lr: float,\n",
        "        weight_decay: float,\n",
        "        early_stopping: int = 0,\n",
        "        initialize:bool=True) -> Tuple[List[float], List[float], List[float]]:\n",
        "    \"\"\"Wrapper function to run experiments\n",
        "\n",
        "    Args:\n",
        "        data (torch_geometric.data.data.Data): a graph\n",
        "        model (torch.nn.Module): the model to train and test\n",
        "        runs (int): number of experiments (training the model from scratch)\n",
        "        epochs (int): number of epochs to train the model\n",
        "        lr (float): learning rate\n",
        "        weight_decay (float): for optimizer\n",
        "        early_stopping (int):\n",
        "        initialize (bool): whether to reset the parameters of the model\n",
        "    \n",
        "    Returns:\n",
        "        list[float] - list of train loss\n",
        "        list[float] - list of test accuracy\n",
        "        list[float] - list of mean average distance\n",
        "    \"\"\"\n",
        "\n",
        "    val_losses, accs, durations = [], [], []\n",
        "    for _ in range(runs):\n",
        "        data = data.to(device)\n",
        "        model.to(device)\n",
        "        if initialize:\n",
        "            model.reset_parameters()\n",
        "        \n",
        "        optimizer = torch.optim.Adam(model.parameters(), lr=lr, \n",
        "                                     weight_decay=weight_decay)\n",
        "\n",
        "        if torch.cuda.is_available():\n",
        "            torch.cuda.synchronize()\n",
        "        \n",
        "        t_start = time.perf_counter()\n",
        "\n",
        "        best_val_loss = float('inf')\n",
        "        val_loss_history, train_losses, test_accs, MADs = [], [], [], []\n",
        "\n",
        "        for epoch in range(1, epochs+1):\n",
        "            hidden_state, train_loss = train(model, optimizer, data, all_edge_index)\n",
        "            # train_loss = train(model, optimizer, data, all_edge_index)\n",
        "\n",
        "            MAD = mean_average_distance(x=hidden_state).item()\n",
        "            eval_info = evaluate(model, data, all_edge_index)\n",
        "            \n",
        "            test_acc = eval_info['test_acc']\n",
        "            val_loss_history.append(eval_info['val_loss'])\n",
        "            train_losses.append(train_loss.item())\n",
        "            test_accs.append(test_acc)\n",
        "            MADs.append(MAD)\n",
        "        \n",
        "            # I don't understand what this is for...\n",
        "            if eval_info['val_loss'] < best_val_loss:\n",
        "                best_val_loss = eval_info['val_loss']\n",
        "            \n",
        "            if early_stopping > 0 and epoch > epochs // 2:\n",
        "                tmp = torch.tensor(val_loss_history[-(early_stopping + 1):-1])\n",
        "                if eval_info['val_loss'] > tmp.mean().item():\n",
        "                    break\n",
        "            \n",
        "            if epoch % 10 == 0:\n",
        "                print(f\"Epoch: [{epoch} / {epochs}] | Loss: {train_loss} | Test accuracy: {test_acc} | MAD: {MAD}\")\n",
        "                # print(f\"Epoch: [{epoch} / {epochs}] | Loss: {train_loss} | Test accuracy: {test_acc}\")\n",
        "\n",
        "        if torch.cuda.is_available():\n",
        "            torch.cuda.synchronize()\n",
        "\n",
        "        t_end = time.perf_counter()\n",
        "\n",
        "        val_losses.append(best_val_loss)\n",
        "        accs.append(test_acc)\n",
        "        durations.append(t_end - t_start)\n",
        "\n",
        "    loss, acc, duration = torch.tensor(val_losses), torch.tensor(accs), torch.tensor(durations)\n",
        "\n",
        "    print(f\"Val Loss: {loss.mean().item():.4f}, Test Accuracy: {acc.mean().item():.3f} ± {acc.std().item():.3f}, Duration: {duration.mean().item():.3f}\")\n",
        "    return train_losses, test_accs, MADs"
      ],
      "execution_count": 144,
      "outputs": []
    },
    {
      "cell_type": "code",
      "metadata": {
        "id": "L1L3u_fKlD5c"
      },
      "source": [
        "def plot_results(train_losses: List[float], test_accs: List[float], mads: List[float]):\n",
        "    # credits to: https://stackoverflow.com/a/43131357/11805354\n",
        "    n = len(train_losses)\n",
        "\n",
        "    data = pd.DataFrame({\n",
        "        'epoch': range(1, n+1),\n",
        "        'train_loss': train_losses,\n",
        "        'test_acc': test_accs,\n",
        "        'MAD': mads\n",
        "    })\n",
        "\n",
        "    plt.rcParams['figure.figsize'] = [18, 5]\n",
        "    plt.rcParams['figure.dpi'] = 100\n",
        "\n",
        "    fig, ax =plt.subplots(1,4)\n",
        "\n",
        "    sn.lineplot(x=range(1, n+1), y=train_losses, ax=ax[0]).set(xlabel=\"epochs\", ylabel=\"loss\", title=\"Train Loss\")\n",
        "    sn.lineplot(x=range(1, n+1), y=test_accs, ax=ax[1]).set(xlabel=\"epochs\", ylabel=\"accuracy\", title=\"Test Accuracy\")\n",
        "    sn.lineplot(x=range(1, n+1), y=mads, ax=ax[2]).set(xlabel=\"epochs\", ylabel=\"MAD\", title=\"Test MAD\")\n",
        "    \n",
        "    sn.lineplot(x='epoch', y='value', hue='variable', data=pd.melt(data, ['epoch']), ax=ax[3]).set(title=\"Experiment results\")\n",
        "\n",
        "    fig.show()"
      ],
      "execution_count": 169,
      "outputs": []
    },
    {
      "cell_type": "code",
      "metadata": {
        "id": "VZ80Q6PKdjiK"
      },
      "source": [
        "class Experiment:\n",
        "    def __init__(self, layers:int, hidden_dim: int, epochs:int, lr:float, weight_decay:float, early_stopping: int):\n",
        "        self.layers = layers\n",
        "        self.hidden_dim = hidden_dim\n",
        "        self.epochs = epochs\n",
        "        self.lr = lr\n",
        "        self.weight_decay = weight_decay\n",
        "        self.early_stopping = early_stopping\n",
        "\n",
        "        self.model = self.build_model()\n",
        "\n",
        "    def build_model(self):\n",
        "        pass\n",
        "\n",
        "    def train(self):\n",
        "        pass\n",
        "\n",
        "    def evaluate():\n",
        "        pass"
      ],
      "execution_count": null,
      "outputs": []
    },
    {
      "cell_type": "markdown",
      "metadata": {
        "id": "FRAKMhS5khCw"
      },
      "source": [
        "### Experiments"
      ]
    },
    {
      "cell_type": "code",
      "metadata": {
        "id": "jlkyc7id-uVh"
      },
      "source": [
        "all_edge_index, _ = get_all_hops(G.edge_index, k=8)"
      ],
      "execution_count": 159,
      "outputs": []
    },
    {
      "cell_type": "code",
      "metadata": {
        "id": "kYNirzG38tOd"
      },
      "source": [
        "NUM_LAYERS=6\n",
        "HIDDEN_DIM=64\n",
        "NUM_FEATURES=cora_dataset.num_features\n",
        "NUM_CLASSES=cora_dataset.num_classes\n",
        "EPOCHS=200\n",
        "LR=0.01\n",
        "WEIGHT_DECAY=5e-4\n",
        "EARLY_STOPPING=0\n",
        "RUNS=1"
      ],
      "execution_count": 197,
      "outputs": []
    },
    {
      "cell_type": "code",
      "metadata": {
        "id": "tS81kaAd8vFl",
        "outputId": "19de4158-d3c9-4bbd-d3dd-962030bcf33c",
        "colab": {
          "base_uri": "https://localhost:8080/",
          "height": 0
        }
      },
      "source": [
        "model = KHopNet(num_layers=NUM_LAYERS, hidden_dim=HIDDEN_DIM, \n",
        "                num_features=NUM_FEATURES,\n",
        "                num_classes=NUM_CLASSES,\n",
        "                invert=True)\n",
        "\n",
        "count_parameters(model)"
      ],
      "execution_count": 198,
      "outputs": [
        {
          "output_type": "stream",
          "text": [
            "The model has 577,789 parameters\n"
          ],
          "name": "stdout"
        }
      ]
    },
    {
      "cell_type": "code",
      "metadata": {
        "id": "cBFKXKxH8wtM",
        "outputId": "c6a31069-9170-4eff-e351-29cc99e52de5",
        "colab": {
          "base_uri": "https://localhost:8080/",
          "height": 0
        }
      },
      "source": [
        "train_loss, test_acc, mads = run(G, model, \n",
        "                                 all_edge_index=all_edge_index,\n",
        "                                 runs=RUNS, \n",
        "                                 epochs=EPOCHS, lr=LR,\n",
        "                                 weight_decay=WEIGHT_DECAY,\n",
        "                                 early_stopping=EARLY_STOPPING,\n",
        "                                 initialize=False)"
      ],
      "execution_count": 199,
      "outputs": [
        {
          "output_type": "stream",
          "text": [
            "Epoch: [10 / 200] | Loss: 21.361886978149414 | Test accuracy: 0.338 | MAD: 0.9999998211860657\n",
            "Epoch: [20 / 200] | Loss: 43.03731155395508 | Test accuracy: 0.519 | MAD: 0.9999996423721313\n",
            "Epoch: [30 / 200] | Loss: 6.599836826324463 | Test accuracy: 0.591 | MAD: 0.9999996423721313\n",
            "Epoch: [40 / 200] | Loss: 8.279692649841309 | Test accuracy: 0.639 | MAD: 0.9999998211860657\n",
            "Epoch: [50 / 200] | Loss: 0.6602229475975037 | Test accuracy: 0.642 | MAD: 0.9999998807907104\n",
            "Epoch: [60 / 200] | Loss: 4.130027770996094 | Test accuracy: 0.633 | MAD: 0.9999996423721313\n",
            "Epoch: [70 / 200] | Loss: 8.31960678100586 | Test accuracy: 0.637 | MAD: 0.9999995231628418\n",
            "Epoch: [80 / 200] | Loss: 0.9223966598510742 | Test accuracy: 0.66 | MAD: 0.9999995231628418\n",
            "Epoch: [90 / 200] | Loss: 0.4245145916938782 | Test accuracy: 0.664 | MAD: 0.9999997019767761\n",
            "Epoch: [100 / 200] | Loss: 0.10039259493350983 | Test accuracy: 0.653 | MAD: 0.9999998211860657\n",
            "Epoch: [110 / 200] | Loss: 0.09520626813173294 | Test accuracy: 0.675 | MAD: 0.9999997019767761\n",
            "Epoch: [120 / 200] | Loss: 0.09098049253225327 | Test accuracy: 0.671 | MAD: 0.9999998211860657\n",
            "Epoch: [130 / 200] | Loss: 0.09078183025121689 | Test accuracy: 0.668 | MAD: 0.9999998211860657\n",
            "Epoch: [140 / 200] | Loss: 0.08478222042322159 | Test accuracy: 0.671 | MAD: 0.9999998211860657\n",
            "Epoch: [150 / 200] | Loss: 0.08110453188419342 | Test accuracy: 0.679 | MAD: 0.9999998211860657\n",
            "Epoch: [160 / 200] | Loss: 0.7354680299758911 | Test accuracy: 0.688 | MAD: 0.9999998211860657\n",
            "Epoch: [170 / 200] | Loss: 0.10735467821359634 | Test accuracy: 0.686 | MAD: 0.9999998211860657\n",
            "Epoch: [180 / 200] | Loss: 0.0735146626830101 | Test accuracy: 0.681 | MAD: 0.9999998211860657\n",
            "Epoch: [190 / 200] | Loss: 0.07195675373077393 | Test accuracy: 0.687 | MAD: 0.9999998211860657\n",
            "Epoch: [200 / 200] | Loss: 0.0730748251080513 | Test accuracy: 0.688 | MAD: 0.999999463558197\n",
            "Val Loss: 1.0469, Test Accuracy: 0.688 ± nan, Duration: 3403.912\n"
          ],
          "name": "stdout"
        }
      ]
    },
    {
      "cell_type": "code",
      "metadata": {
        "id": "GgFuWSyhGI19",
        "outputId": "69dbc6c0-6b84-413f-ae11-c8a7fc430c81",
        "colab": {
          "base_uri": "https://localhost:8080/",
          "height": 0
        }
      },
      "source": [
        "evaluate(model, G, all_edge_index)"
      ],
      "execution_count": 200,
      "outputs": [
        {
          "output_type": "execute_result",
          "data": {
            "text/plain": [
              "{'test_acc': 0.688,\n",
              " 'test_loss': 2.1800098419189453,\n",
              " 'train_acc': 1.0,\n",
              " 'train_loss': 0.06655801832675934,\n",
              " 'val_acc': 0.692,\n",
              " 'val_loss': 1.1512253284454346}"
            ]
          },
          "metadata": {
            "tags": []
          },
          "execution_count": 200
        }
      ]
    },
    {
      "cell_type": "code",
      "metadata": {
        "id": "iIXWvaY4E_j3",
        "outputId": "cb88db25-56e4-4064-c1e1-2f8bc4d20af4",
        "colab": {
          "base_uri": "https://localhost:8080/",
          "height": 480
        }
      },
      "source": [
        "plot_results(train_loss, test_acc, mads)"
      ],
      "execution_count": 201,
      "outputs": [
        {
          "output_type": "display_data",
          "data": {
            "image/png": "[encoded data removed]",
            "text/plain": [
              "<Figure size 1800x500 with 4 Axes>"
            ]
          },
          "metadata": {
            "tags": [],
            "needs_background": "light"
          }
        }
      ]
    }
  ]
}