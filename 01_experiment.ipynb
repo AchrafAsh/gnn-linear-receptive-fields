{
  "nbformat": 4,
  "nbformat_minor": 0,
  "metadata": {
    "colab": {
      "name": "01_experiment.ipynb",
      "provenance": [],
      "collapsed_sections": [],
      "authorship_tag": "ABX9TyN+sxKRANKPkw+SBjASedFl"
    },
    "kernelspec": {
      "display_name": "Python 3",
      "name": "python3"
    },
    "language_info": {
      "name": "python"
    }
  },
  "cells": [
    {
      "cell_type": "markdown",
      "metadata": {
        "id": "--Tu1WzKU02J"
      },
      "source": [
        "# Experimenting with our own Approach"
      ]
    },
    {
      "cell_type": "markdown",
      "metadata": {
        "id": "3V9P0_2fLtub"
      },
      "source": [
        "## TODO:\n",
        "\n",
        "- [x] import CORA dataset\n",
        "- [ ] implement our approach: consider k-hop neighbors' input features and the current node's hidden state\n",
        "- [ ] experiment a first model with GCN as the message passing scheme (later we'll experiment with GAT and GraphSAGE)\n",
        "- [ ] track over-smoothing with **MAD** and **MADGap** over: \n",
        "    - [ ] K hops considered\n",
        "    - [ ] epochs\n",
        "\n",
        "#### Side notes\n",
        "\n",
        "- Try to inverse the k-hop neighbors (start from remote and move down)\n",
        "- Early stop for nodes that don't have k-hop neighbors (just pass the hidden state)"
      ]
    },
    {
      "cell_type": "markdown",
      "metadata": {
        "id": "9HwdZNmrU5YL"
      },
      "source": [
        "## Setup environment\n",
        "\n",
        "- load packages from google drive (to install once)\n",
        "- configure working directory (to download datasets)"
      ]
    },
    {
      "cell_type": "code",
      "metadata": {
        "colab": {
          "base_uri": "https://localhost:8080/"
        },
        "id": "6sMxsXleMcJL",
        "outputId": "10ed6465-4901-40dc-f476-460f55fc0d45"
      },
      "source": [
        "# setup colab environment\n",
        "import os, sys\n",
        "import os.path as osp\n",
        "from google.colab import drive\n",
        "drive.mount('/content/mnt')\n",
        "nb_path = '/content/notebooks'\n",
        "os.symlink('/content/mnt/My Drive/Colab Notebooks', nb_path)\n",
        "sys.path.insert(0, nb_path)  # or append(nb_path)"
      ],
      "execution_count": 2,
      "outputs": [
        {
          "output_type": "stream",
          "text": [
            "Mounted at /content/mnt\n"
          ],
          "name": "stdout"
        }
      ]
    },
    {
      "cell_type": "code",
      "metadata": {
        "id": "2lAtppl0VNDF",
        "outputId": "501ba421-f312-442b-e804-c7db587953c5",
        "colab": {
          "base_uri": "https://localhost:8080/"
        }
      },
      "source": [
        "!wget https://raw.githubusercontent.com/AchrafAsh/gnn-receptive-fields/main/data.py\n",
        "!wget https://raw.githubusercontent.com/AchrafAsh/gnn-receptive-fields/main/utils.py"
      ],
      "execution_count": 3,
      "outputs": [
        {
          "output_type": "stream",
          "text": [
            "--2021-05-28 14:18:57--  https://raw.githubusercontent.com/AchrafAsh/gnn-receptive-fields/main/data.py\n",
            "Resolving raw.githubusercontent.com (raw.githubusercontent.com)... 185.199.111.133, 185.199.110.133, 185.199.109.133, ...\n",
            "Connecting to raw.githubusercontent.com (raw.githubusercontent.com)|185.199.111.133|:443... connected.\n",
            "HTTP request sent, awaiting response... 200 OK\n",
            "Length: 1072 (1.0K) [text/plain]\n",
            "Saving to: ‘data.py’\n",
            "\n",
            "\rdata.py               0%[                    ]       0  --.-KB/s               \rdata.py             100%[===================>]   1.05K  --.-KB/s    in 0s      \n",
            "\n",
            "2021-05-28 14:18:57 (72.8 MB/s) - ‘data.py’ saved [1072/1072]\n",
            "\n",
            "--2021-05-28 14:18:57--  https://raw.githubusercontent.com/AchrafAsh/gnn-receptive-fields/main/utils.py\n",
            "Resolving raw.githubusercontent.com (raw.githubusercontent.com)... 185.199.110.133, 185.199.108.133, 185.199.111.133, ...\n",
            "Connecting to raw.githubusercontent.com (raw.githubusercontent.com)|185.199.110.133|:443... connected.\n",
            "HTTP request sent, awaiting response... 200 OK\n",
            "Length: 2333 (2.3K) [text/plain]\n",
            "Saving to: ‘utils.py’\n",
            "\n",
            "utils.py            100%[===================>]   2.28K  --.-KB/s    in 0s      \n",
            "\n",
            "2021-05-28 14:18:58 (39.4 MB/s) - ‘utils.py’ saved [2333/2333]\n",
            "\n"
          ],
          "name": "stdout"
        }
      ]
    },
    {
      "cell_type": "code",
      "metadata": {
        "id": "hpZJSdtcOcmD"
      },
      "source": [
        "# import utility functions\n",
        "from data import load_dataset"
      ],
      "execution_count": 5,
      "outputs": []
    },
    {
      "cell_type": "code",
      "metadata": {
        "id": "PcNfXM8aOs2s"
      },
      "source": [
        "path = osp.join(os.getcwd(), 'data')\n",
        "cora_dataset = load_dataset(path, 'Cora')\n",
        "G = cora_dataset[0] # only graph of the dataset\n",
        "\n",
        "# MAD_cora = mean_average_distance(x=G.x)\n",
        "# MADGap_cora = mean_average_distance_gap(x=G.x, adj_matrix=tg.utils.to_dense_adj(G.edge_index)[0])\n",
        "# print(f'Initial MAD for Cora: {MAD_cora}')\n",
        "# print(f'Initial MADGap for Cora: {MADGap_cora}')"
      ],
      "execution_count": 7,
      "outputs": []
    },
    {
      "cell_type": "markdown",
      "metadata": {
        "id": "Bp2rl87UaOqU"
      },
      "source": [
        "\n",
        "# Our Approach"
      ]
    },
    {
      "cell_type": "code",
      "metadata": {
        "id": "xK_J2lR7WzpT"
      },
      "source": [
        "def xavier(tensor):\n",
        "    if tensor is not None:\n",
        "        stdv = math.sqrt(6.0 / (tensor.size(-2) + tensor.size(-2)))\n",
        "        tensor.data.uniform_(-stdv, stdv)\n",
        "\n",
        "def zeros(tensor):\n",
        "    if tensor is not None:\n",
        "        tensor.data.fill_(0)"
      ],
      "execution_count": 8,
      "outputs": []
    },
    {
      "cell_type": "code",
      "metadata": {
        "id": "jtfMGn0zYXct"
      },
      "source": [
        "def filter_neighbors(edge_index, num_nodes=None, k=1):\n",
        "    # TODO: keep only k-hop neighbors\n",
        "    return edge_index"
      ],
      "execution_count": 9,
      "outputs": []
    },
    {
      "cell_type": "code",
      "metadata": {
        "id": "0TIrILSGaSmY"
      },
      "source": [
        "from torch_geometric.nn import MessagePassing\n",
        "\n",
        "class KHopGCNConv(MessagePassing):\n",
        "    def __init__(self, in_channels, out_channels, K):\n",
        "        self(KHopNet, self).__init__(aggr='add')\n",
        "        self.lin = torch.nn.Linear(in_channels, out_channels)\n",
        "\n",
        "        self.reset_parameters()\n",
        "    \n",
        "    def reset_parameters(self):\n",
        "        xavier(self.lin.weight)\n",
        "        zeros(self.lin.bias)\n",
        "    \n",
        "    def forward(self, x, h, edge_index, k):\n",
        "        \"\"\"\n",
        "        Args:\n",
        "            x (tensor): node input features, with shape [N, in_channels]\n",
        "            h (tensor): node hidden states, with shape [N, in_channels]\n",
        "            edge_index (tensor): graph edges, with shape [2, E]\n",
        "            k (int): distance from the neighbors\n",
        "        \"\"\"\n",
        "        # Step 1: filter edges to keep only k-hop neighbors\n",
        "        edge_index = filter_neighbors(edge_index, num_nodes=x.size(0), k=k)\n",
        "\n",
        "        # Step 2: Linearly transform node feature matrix.\n",
        "        x = self.lin(x)\n",
        "        h = self.lin(h)\n",
        "\n",
        "        # Step 3: Compute normalization.\n",
        "        row, col = edge_index\n",
        "        deg = degree(col, x.size(0), dtype=x.dtype)\n",
        "        deg_inv_sqrt = deg.pow(-0.5)\n",
        "        norm = deg_inv_sqrt[row] * deg_inv_sqrt[col]\n",
        "\n",
        "        # Step 4-5: Start propagating messages.\n",
        "        return self.propagate(edge_index, x=x, h=h, norm=norm)\n",
        "    \n",
        "    def message(self, x_i, x_j):\n",
        "        # x_j are input features of the neighbors\n",
        "\n",
        "        # Step 4: Normalize node features.\n",
        "        return nrom.view(-1, 1) * x_j\n",
        "    \n",
        "    def update(self, aggr_out, norm, h):\n",
        "        # Step 5: add target node hidden state and return new node embeddings\n",
        "        aggr_out += norm.view(-1, 1) * h\n",
        "        return aggr_out"
      ],
      "execution_count": null,
      "outputs": []
    }
  ]
}