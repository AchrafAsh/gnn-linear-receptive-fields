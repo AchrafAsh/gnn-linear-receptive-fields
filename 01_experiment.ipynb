{
  "nbformat": 4,
  "nbformat_minor": 0,
  "metadata": {
    "colab": {
      "name": "01_experiment.ipynb",
      "provenance": [],
      "collapsed_sections": [],
      "authorship_tag": "ABX9TyMNj/8IrhGwgw2gqyeMVObR",
      "include_colab_link": true
    },
    "kernelspec": {
      "display_name": "Python 3",
      "name": "python3"
    },
    "language_info": {
      "name": "python"
    }
  },
  "cells": [
    {
      "cell_type": "markdown",
      "metadata": {
        "id": "view-in-github",
        "colab_type": "text"
      },
      "source": [
        "<a href=\"https://colab.research.google.com/github/AchrafAsh/gnn-receptive-fields/blob/main/01_experiment.ipynb\" target=\"_parent\"><img src=\"https://colab.research.google.com/assets/colab-badge.svg\" alt=\"Open In Colab\"/></a>"
      ]
    },
    {
      "cell_type": "markdown",
      "metadata": {
        "id": "3V9P0_2fLtub"
      },
      "source": [
        "## TODO\n",
        "\n",
        "- track over-smoothing with **MAD** and **MADGap** over\n",
        "- try to inverse the k-hop neighbors (start from remote and move down)"
      ]
    },
    {
      "cell_type": "markdown",
      "metadata": {
        "id": "KD4pHVmynPqd"
      },
      "source": [
        "# Measuring over-smoothing"
      ]
    },
    {
      "cell_type": "code",
      "metadata": {
        "id": "-pn-f86gnPO0"
      },
      "source": [
        "def mean_average_distance(x, mask=None) -> float:\n",
        "    '''\n",
        "    Computes cosine similarity between each pair of node representations\n",
        "    Args:\n",
        "        x (torch.tensor): node features\n",
        "        mask (torch.tensor): mask matrix composed of 0 and 1 only if the node pair (i,j) is the target one.\n",
        "    '''\n",
        "\n",
        "    MAD_num = 0\n",
        "    MAD_den = 0\n",
        "\n",
        "    for i in range(x.size(0)):\n",
        "        D_avg_num = 0\n",
        "        D_avg_den = 0\n",
        "        for j in range(i):\n",
        "            cos_sim = 0\n",
        "            if mask == None or (mask != None and mask[i, j]):\n",
        "                cos_sim = 1 - \\\n",
        "                    torch.dot(x[i, :], x[j, :]) / (torch.norm(x[i, :])\n",
        "                                                   * torch.norm(x[j, :]) + 1e-16)\n",
        "            D_avg_num += cos_sim\n",
        "            D_avg_den += 1 if cos_sim > 0 else 0\n",
        "\n",
        "        if D_avg_den:\n",
        "            D_avg = D_avg_num / D_avg_den\n",
        "            MAD_num += D_avg_num\n",
        "            MAD_den += 1 if D_avg > 0 else 0\n",
        "\n",
        "    MAD = MAD_num / MAD_den\n",
        "    return MAD"
      ],
      "execution_count": 391,
      "outputs": []
    },
    {
      "cell_type": "code",
      "metadata": {
        "id": "2aU_wAkOoj1j"
      },
      "source": [
        "def mean_average_distance_gap(x, adj_matrix):\n",
        "    '''\n",
        "    Computes MADGap: MAD_remote - MAD_neighbors\n",
        "    Args:\n",
        "        x (torch.tensor): input feature matrix\n",
        "        adj_matrix (torch.tensor): adjacency matrix\n",
        "    '''\n",
        "    MAD_rem = mean_average_distance(x, mask=1-adj_matrix)\n",
        "    MAD_neb = mean_average_distance(x, mask=adj_matrix)\n",
        "\n",
        "    return MAD_rem - MAD_neb"
      ],
      "execution_count": 392,
      "outputs": []
    },
    {
      "cell_type": "markdown",
      "metadata": {
        "id": "--Tu1WzKU02J"
      },
      "source": [
        "# Experimenting with our own Approach"
      ]
    },
    {
      "cell_type": "markdown",
      "metadata": {
        "id": "9HwdZNmrU5YL"
      },
      "source": [
        "## Setup environment\n",
        "\n",
        "- load packages from google drive (to install once)\n",
        "- configure working directory (to download datasets)\n",
        "\n"
      ]
    },
    {
      "cell_type": "code",
      "metadata": {
        "colab": {
          "base_uri": "https://localhost:8080/"
        },
        "id": "6sMxsXleMcJL",
        "outputId": "63ffe4c2-4025-41f5-9c68-9cf2d0061975"
      },
      "source": [
        "# setup colab environment\n",
        "import os, sys\n",
        "import os.path as osp\n",
        "from google.colab import drive\n",
        "drive.mount('/content/mnt')\n",
        "nb_path = '/content/notebooks'\n",
        "os.symlink('/content/mnt/My Drive/Colab Notebooks', nb_path)\n",
        "sys.path.insert(0, nb_path)  # or append(nb_path)"
      ],
      "execution_count": 1,
      "outputs": [
        {
          "output_type": "stream",
          "text": [
            "Mounted at /content/mnt\n"
          ],
          "name": "stdout"
        }
      ]
    },
    {
      "cell_type": "code",
      "metadata": {
        "id": "2lAtppl0VNDF"
      },
      "source": [
        "%%capture\n",
        "!wget https://raw.githubusercontent.com/AchrafAsh/gnn-receptive-fields/main/data.py\n",
        "!wget https://raw.githubusercontent.com/AchrafAsh/gnn-receptive-fields/main/utils.py"
      ],
      "execution_count": 2,
      "outputs": []
    },
    {
      "cell_type": "code",
      "metadata": {
        "id": "hpZJSdtcOcmD"
      },
      "source": [
        "# import utility functions\n",
        "from data import load_dataset\n",
        "# from utils import mean_average_distance, mean_average_distance_gap"
      ],
      "execution_count": null,
      "outputs": []
    },
    {
      "cell_type": "code",
      "metadata": {
        "id": "_2-IaaL2ObKh"
      },
      "source": [
        "from torch_geometric.datasets import Planetoid, TUDataset, PPI, QM9, Amazon, Reddit2\n",
        "\n",
        "\n",
        "def load_dataset(path, name, transform=None, params=None):\n",
        "    if name == 'Cora':\n",
        "        return Planetoid(path, 'Cora', transform=transform)\n",
        "    elif name == 'CiteSeer':\n",
        "        return Planetoid(path, 'CiteSeer', transform=transform)\n",
        "    elif name == 'PubMed':\n",
        "        return Planetoid(path, 'PubMed', transform=transform)\n",
        "    elif name == 'PPI':\n",
        "        return PPI(path, transform=transform)\n",
        "    elif name == 'ENZYMES':\n",
        "        return TUDataset(path, 'ENZYMES', transform=transform)\n",
        "    elif name == 'QM9':\n",
        "        return QM9(path, transform=transform)\n",
        "    elif name == 'Amazon':\n",
        "        if params['goods']:\n",
        "            goods = params['goods']\n",
        "        else:\n",
        "            goods = 'Computers'\n",
        "        return Amazon(path, name=goods, transform=transform)\n",
        "    elif name == 'Reddit':\n",
        "        return Reddit2(path, transform=transform)"
      ],
      "execution_count": 4,
      "outputs": []
    },
    {
      "cell_type": "code",
      "metadata": {
        "id": "PcNfXM8aOs2s",
        "colab": {
          "base_uri": "https://localhost:8080/"
        },
        "outputId": "2c3b9d3c-4821-4761-c27b-0ce42cb2f9a8"
      },
      "source": [
        "path = osp.join(os.getcwd(), 'data')\n",
        "cora_dataset = load_dataset(path, 'Cora')\n",
        "G = cora_dataset[0] # only graph of the dataset\n",
        "\n",
        "# MAD_cora = mean_average_distance(x=G.x)\n",
        "# MADGap_cora = mean_average_distance_gap(x=G.x, adj_matrix=tg.utils.to_dense_adj(G.edge_index)[0])\n",
        "# print(f'Initial MAD for Cora: {MAD_cora}')\n",
        "# print(f'Initial MADGap for Cora: {MADGap_cora}')"
      ],
      "execution_count": 5,
      "outputs": [
        {
          "output_type": "stream",
          "text": [
            "Downloading https://github.com/kimiyoung/planetoid/raw/master/data/ind.cora.x\n",
            "Downloading https://github.com/kimiyoung/planetoid/raw/master/data/ind.cora.tx\n",
            "Downloading https://github.com/kimiyoung/planetoid/raw/master/data/ind.cora.allx\n",
            "Downloading https://github.com/kimiyoung/planetoid/raw/master/data/ind.cora.y\n",
            "Downloading https://github.com/kimiyoung/planetoid/raw/master/data/ind.cora.ty\n",
            "Downloading https://github.com/kimiyoung/planetoid/raw/master/data/ind.cora.ally\n",
            "Downloading https://github.com/kimiyoung/planetoid/raw/master/data/ind.cora.graph\n",
            "Downloading https://github.com/kimiyoung/planetoid/raw/master/data/ind.cora.test.index\n",
            "Processing...\n",
            "Done!\n"
          ],
          "name": "stdout"
        }
      ]
    },
    {
      "cell_type": "markdown",
      "metadata": {
        "id": "wYkeaQUqgn0M"
      },
      "source": [
        "## The data (Cora): structure, processing\n",
        "\n",
        "\n",
        "🎯 Filter edge_index to keep only the k-hop neighbors"
      ]
    },
    {
      "cell_type": "code",
      "metadata": {
        "id": "w1QJAGApg3kZ",
        "colab": {
          "base_uri": "https://localhost:8080/"
        },
        "outputId": "142f5491-b941-4b1f-bd30-00bf8ddeae10"
      },
      "source": [
        "G = cora_dataset[0] # Cora has only one graph\n",
        "G.edge_index.shape  # [2, 10556] → 10_556 edges"
      ],
      "execution_count": 6,
      "outputs": [
        {
          "output_type": "execute_result",
          "data": {
            "text/plain": [
              "torch.Size([2, 10556])"
            ]
          },
          "metadata": {
            "tags": []
          },
          "execution_count": 6
        }
      ]
    },
    {
      "cell_type": "code",
      "metadata": {
        "colab": {
          "base_uri": "https://localhost:8080/"
        },
        "id": "w3jbJ2EQTn7y",
        "outputId": "f49a37e9-0ecd-4e01-85f6-15d8641148cb"
      },
      "source": [
        "node_a, node_b = G.edge_index[:,0]\n",
        "node_i, node_j = node_a, node_b\n",
        "i = 0\n",
        "while node_i != node_b and node_j != node_a and i < G.edge_index.size(1):\n",
        "    node_i, node_j = G.edge_index[:, i]\n",
        "    i += 1\n",
        "if i != G.edge_index.size(1):\n",
        "    print(\"found it!\")"
      ],
      "execution_count": 34,
      "outputs": [
        {
          "output_type": "stream",
          "text": [
            "found it!\n"
          ],
          "name": "stdout"
        }
      ]
    },
    {
      "cell_type": "markdown",
      "metadata": {
        "id": "hIWtZAjzZlHo"
      },
      "source": [
        "That means that `edge_index` has both `a → b` and `b → a` (this is important for later processing)"
      ]
    },
    {
      "cell_type": "code",
      "metadata": {
        "colab": {
          "base_uri": "https://localhost:8080/"
        },
        "id": "vwOC-fl2hGJD",
        "outputId": "9aeabe85-1d53-4f0c-a7f1-e3362f1a2a87"
      },
      "source": [
        "# edge_index is a sparse matrix of two rows, \n",
        "# each column is a pair of adjacent nodes \n",
        "# (not handy to find the neighbors of a given node)\n",
        "i = 0\n",
        "while i < 10:\n",
        "    node_i, node_j = G.edge_index[:, i]\n",
        "    if node_i != 0: break\n",
        "    print(f\"{node_i} → {node_j}\")\n",
        "    i += 1"
      ],
      "execution_count": 10,
      "outputs": [
        {
          "output_type": "stream",
          "text": [
            "0 → 633\n",
            "0 → 1862\n",
            "0 → 2582\n"
          ],
          "name": "stdout"
        }
      ]
    },
    {
      "cell_type": "markdown",
      "metadata": {
        "id": "UA913O2Ae6_v"
      },
      "source": [
        "### compute k-hop neighborhoods"
      ]
    },
    {
      "cell_type": "code",
      "metadata": {
        "id": "7nFnLYMihGas"
      },
      "source": [
        "import copy\n",
        "import torch\n",
        "import time\n",
        "import matplotlib.pyplot as plt\n",
        "import pandas as pd\n",
        "import seaborn as sn\n",
        "\n",
        "from torch_geometric.utils import to_dense_adj, dense_to_sparse"
      ],
      "execution_count": 322,
      "outputs": []
    },
    {
      "cell_type": "code",
      "metadata": {
        "id": "uO1kWw5cnG_L"
      },
      "source": [
        "def get_neighbors(edge_index: torch.tensor) -> dict:\n",
        "    E = edge_index.size(1)\n",
        "    neighbors = {}\n",
        "    for i in range(E):\n",
        "        node_i, node_j = edge_index[:, i]\n",
        "        node_i, node_j = node_i.item(), node_j.item()\n",
        "        try:\n",
        "            neighbors[node_i] += [node_j]\n",
        "        except:\n",
        "            neighbors[node_i] = [node_j]\n",
        "    return neighbors"
      ],
      "execution_count": 305,
      "outputs": []
    },
    {
      "cell_type": "code",
      "metadata": {
        "id": "Ar1zZ__uCHun"
      },
      "source": [
        "def get_next_hop_neighbors(edge_index, direct_neighbors, neighborhood):\n",
        "    \"\"\"Returns the next hop of neighbors\n",
        "\n",
        "    Args:\n",
        "        edge_index (tensor): sparse adjacency matrix composed of edge indices\n",
        "        direct_neighbors (dict): all the adjacent nodes\n",
        "        neighborhood (dict): all the nodes in the (k-1)-hop neighborhood\n",
        "    \n",
        "    Returns:\n",
        "        tensor: sparse matrix containing edge indices of the k-hop neighbors\n",
        "        dict: direct neighbors\n",
        "        dict: all the nodes in the k-hop neighborhood\n",
        "    \"\"\"\n",
        "    neighborhood = copy.deepcopy(neighborhood)\n",
        "    \n",
        "    E = edge_index.size(1)\n",
        "    new_edge_index = []\n",
        "    for i in range(E):\n",
        "        node_i, node_j = edge_index[:, i]\n",
        "        node_i, node_j = node_i.item(), node_j.item()\n",
        "        \n",
        "        for node_k in neighbors[node_j]:\n",
        "            if node_k == node_i or node_k in neighborhood[node_i]: continue\n",
        "            new_edge_index.append([node_i, node_k])\n",
        "            neighborhood[node_i] += [node_k]\n",
        "    \n",
        "    if len(new_edge_index) > 0:\n",
        "        new_edge_index = torch.transpose(torch.tensor(new_edge_index, dtype=edge_index.dtype), 1, 0)\n",
        "    \n",
        "    return new_edge_index, neighborhood"
      ],
      "execution_count": 306,
      "outputs": []
    },
    {
      "cell_type": "code",
      "metadata": {
        "id": "tc7PYgD_a2pr"
      },
      "source": [
        "def get_all_hops(edge_index, k=1):\n",
        "    \"\"\"Returns all the k-hop neighbors and neighborhoods (all steps)\n",
        "\n",
        "    Args:\n",
        "        edge_index (tensor): sparse adjacency matrix composed of edge indices\n",
        "        k (int): hop of neighbors to keep (e.g. k=1 is the regular adjacency matrix)\n",
        "    \n",
        "    Returns:\n",
        "        List[tensor]: list of k sparse matrices containing edge indices for each k-hop\n",
        "        List[dict]: list of k dictionaries (neighborhoods)\n",
        "    \"\"\"\n",
        "    direct_neighbors = get_neighbors(edge_index)\n",
        "    neighborhood = copy.deepcopy(direct_neighbors)\n",
        "    \n",
        "    if k == 1:\n",
        "        return [edge_index], [neighborhood]\n",
        "    \n",
        "    all_edge_index, all_neighborhoods = [edge_index], [neighborhood]\n",
        "\n",
        "    for i in range(1, k+1):\n",
        "        next_edge_index, neighborhood = get_next_hop_neighbors(edge_index=all_edge_index[i-1], \n",
        "                                                               direct_neighbors=direct_neighbors,\n",
        "                                                               neighborhood=all_neighborhoods[i-1])\n",
        "        all_edge_index += [next_edge_index]\n",
        "        all_neighborhoods += [neighborhood]\n",
        "\n",
        "    return all_edge_index, all_neighborhoods"
      ],
      "execution_count": 307,
      "outputs": []
    },
    {
      "cell_type": "markdown",
      "metadata": {
        "id": "gCGVu9WGHAu2"
      },
      "source": [
        "### visualize neighborhood expansion\n",
        "\n",
        "The diameter of the Cora dataset is 20, so in theory, the maximum number of neighbors should decrease all the way down to zero for `k=20`.\n",
        "Let's check:"
      ]
    },
    {
      "cell_type": "code",
      "metadata": {
        "colab": {
          "base_uri": "https://localhost:8080/",
          "height": 656
        },
        "id": "zuMNsUo_rPau",
        "outputId": "1c910b26-a065-40d8-a474-809097044be0"
      },
      "source": [
        "nb_k_hop_neighbors = []\n",
        "size_k_hop_neighborhood = []\n",
        "k_grid = range(1, 20)\n",
        "\n",
        "edge_index = G.edge_index\n",
        "direct_neighbors = get_neighbors(G.edge_index)\n",
        "neighborhood = copy.deepcopy(direct_neighbors)\n",
        "\n",
        "# count neighbors\n",
        "max_neighbors = len(max(direct_neighbors.values(), key=len))\n",
        "min_neighbors = len(min(direct_neighbors.values(), key=len))\n",
        "nb_k_hop_neighbors.append([min_neighbors, max_neighbors])\n",
        "\n",
        "# count neighborhood\n",
        "max_neighborhood = len(max(neighborhood.values(), key=len))\n",
        "min_neighborhood = len(min(neighborhood.values(), key=len))\n",
        "size_k_hop_neighborhood.append([min_neighborhood, max_neighborhood])\n",
        "\n",
        "for k in k_grid:\n",
        "    edge_index, neighborhood = get_next_hop_neighbors(edge_index=edge_index,\n",
        "                                                      neighbors=direct_neighbors,\n",
        "                                                      neighborhood=neighborhood)\n",
        "    k_hop_neighbors = get_neighbors(edge_index)\n",
        "    \n",
        "    # count neighbors\n",
        "    max_neighbors = len(max(k_hop_neighbors.values(), key=len))\n",
        "    min_neighbors = len(min(k_hop_neighbors.values(), key=len))\n",
        "    nb_k_hop_neighbors.append([min_neighbors, max_neighbors])\n",
        "\n",
        "    # count neighborhood\n",
        "    max_neighborhood = len(max(neighborhood.values(), key=len))\n",
        "    min_neighborhood = len(min(neighborhood.values(), key=len))\n",
        "    size_k_hop_neighborhood.append([min_neighborhood, max_neighborhood])"
      ],
      "execution_count": 209,
      "outputs": [
        {
          "output_type": "stream",
          "text": [
            "100%|██████████| 10556/10556 [00:00<00:00, 46609.02it/s]\n",
            "100%|██████████| 86332/86332 [00:02<00:00, 37543.60it/s]\n",
            "100%|██████████| 247250/247250 [00:10<00:00, 23428.47it/s]\n",
            "100%|██████████| 663302/663302 [00:39<00:00, 16629.27it/s]\n",
            "100%|██████████| 1187132/1187132 [01:31<00:00, 13029.02it/s]\n",
            "100%|██████████| 1389500/1389500 [02:01<00:00, 11410.84it/s]\n",
            "100%|██████████| 1118348/1118348 [01:48<00:00, 10314.25it/s]\n",
            "100%|██████████| 693030/693030 [01:11<00:00, 9723.77it/s] \n",
            "100%|██████████| 378066/378066 [00:40<00:00, 9302.98it/s] \n",
            "100%|██████████| 204848/204848 [00:21<00:00, 9369.37it/s] \n",
            "100%|██████████| 109002/109002 [00:11<00:00, 9279.37it/s]\n",
            "100%|██████████| 53372/53372 [00:05<00:00, 9486.58it/s]\n",
            "100%|██████████| 22528/22528 [00:02<00:00, 9990.51it/s] \n",
            "100%|██████████| 7614/7614 [00:00<00:00, 10766.67it/s]\n",
            "100%|██████████| 2202/2202 [00:00<00:00, 11708.11it/s]\n",
            "100%|██████████| 592/592 [00:00<00:00, 12793.64it/s]\n",
            "100%|██████████| 130/130 [00:00<00:00, 11516.00it/s]\n",
            "100%|██████████| 30/30 [00:00<00:00, 7688.45it/s]\n",
            "100%|██████████| 2/2 [00:00<00:00, 2181.13it/s]\n"
          ],
          "name": "stderr"
        },
        {
          "output_type": "error",
          "ename": "IndexError",
          "evalue": "ignored",
          "traceback": [
            "\u001b[0;31m---------------------------------------------------------------------------\u001b[0m",
            "\u001b[0;31mIndexError\u001b[0m                                Traceback (most recent call last)",
            "\u001b[0;32m<ipython-input-209-18857871cac5>\u001b[0m in \u001b[0;36m<module>\u001b[0;34m()\u001b[0m\n\u001b[1;32m     20\u001b[0m     edge_index, neighborhood = get_next_hop_neighbors(edge_index=edge_index,\n\u001b[1;32m     21\u001b[0m                                                       \u001b[0mneighbors\u001b[0m\u001b[0;34m=\u001b[0m\u001b[0mdirect_neighbors\u001b[0m\u001b[0;34m,\u001b[0m\u001b[0;34m\u001b[0m\u001b[0;34m\u001b[0m\u001b[0m\n\u001b[0;32m---> 22\u001b[0;31m                                                       neighborhood=neighborhood)\n\u001b[0m\u001b[1;32m     23\u001b[0m     \u001b[0mk_hop_neighbors\u001b[0m \u001b[0;34m=\u001b[0m \u001b[0mget_neighbors\u001b[0m\u001b[0;34m(\u001b[0m\u001b[0medge_index\u001b[0m\u001b[0;34m)\u001b[0m\u001b[0;34m\u001b[0m\u001b[0;34m\u001b[0m\u001b[0m\n\u001b[1;32m     24\u001b[0m \u001b[0;34m\u001b[0m\u001b[0m\n",
            "\u001b[0;32m<ipython-input-202-cb06098f362b>\u001b[0m in \u001b[0;36mget_next_hop_neighbors\u001b[0;34m(edge_index, neighbors, neighborhood)\u001b[0m\n\u001b[1;32m     24\u001b[0m             \u001b[0mneighborhood\u001b[0m\u001b[0;34m[\u001b[0m\u001b[0mnode_i\u001b[0m\u001b[0;34m]\u001b[0m \u001b[0;34m+=\u001b[0m \u001b[0;34m[\u001b[0m\u001b[0mnode_k\u001b[0m\u001b[0;34m]\u001b[0m\u001b[0;34m\u001b[0m\u001b[0;34m\u001b[0m\u001b[0m\n\u001b[1;32m     25\u001b[0m \u001b[0;34m\u001b[0m\u001b[0m\n\u001b[0;32m---> 26\u001b[0;31m     \u001b[0mnew_edge_index\u001b[0m \u001b[0;34m=\u001b[0m \u001b[0mtorch\u001b[0m\u001b[0;34m.\u001b[0m\u001b[0mtranspose\u001b[0m\u001b[0;34m(\u001b[0m\u001b[0mtorch\u001b[0m\u001b[0;34m.\u001b[0m\u001b[0mtensor\u001b[0m\u001b[0;34m(\u001b[0m\u001b[0mnew_edge_index\u001b[0m\u001b[0;34m,\u001b[0m \u001b[0mdtype\u001b[0m\u001b[0;34m=\u001b[0m\u001b[0medge_index\u001b[0m\u001b[0;34m.\u001b[0m\u001b[0mdtype\u001b[0m\u001b[0;34m)\u001b[0m\u001b[0;34m,\u001b[0m \u001b[0;36m1\u001b[0m\u001b[0;34m,\u001b[0m \u001b[0;36m0\u001b[0m\u001b[0;34m)\u001b[0m\u001b[0;34m\u001b[0m\u001b[0;34m\u001b[0m\u001b[0m\n\u001b[0m\u001b[1;32m     27\u001b[0m     \u001b[0;32mreturn\u001b[0m \u001b[0mnew_edge_index\u001b[0m\u001b[0;34m,\u001b[0m \u001b[0mneighborhood\u001b[0m\u001b[0;34m\u001b[0m\u001b[0;34m\u001b[0m\u001b[0m\n",
            "\u001b[0;31mIndexError\u001b[0m: Dimension out of range (expected to be in range of [-1, 0], but got 1)"
          ]
        }
      ]
    },
    {
      "cell_type": "code",
      "metadata": {
        "colab": {
          "base_uri": "https://localhost:8080/",
          "height": 723
        },
        "id": "osiHgcT-tebD",
        "outputId": "c4f279f6-c8f6-4c61-baf3-84fd0d19f4a6"
      },
      "source": [
        "plt.rcParams['figure.figsize'] = [12, 8]\n",
        "plt.rcParams['figure.dpi'] = 100\n",
        "\n",
        "# credit to: https://stackoverflow.com/a/55579762/11805354\n",
        "data = pd.DataFrame({\n",
        "    'k': range(1, 20),\n",
        "    'min_neighbors': torch.tensor(nb_k_hop_neighbors)[:, 0],\n",
        "    'max_neighbors': torch.tensor(nb_k_hop_neighbors)[:, 1],\n",
        "    'min_neighborhood': torch.tensor(size_k_hop_neighborhood)[:, 0],\n",
        "    'max_neighborhood': torch.tensor(size_k_hop_neighborhood)[:, 1],\n",
        "})\n",
        "sn.lineplot(x='k', y='value', hue='variable', data=pd.melt(data, ['k'])).set(title=\"Neighborhood expansion on Cora\")"
      ],
      "execution_count": 211,
      "outputs": [
        {
          "output_type": "execute_result",
          "data": {
            "text/plain": [
              "[Text(0.5, 1.0, 'Neighborhood expansion on Cora')]"
            ]
          },
          "metadata": {
            "tags": []
          },
          "execution_count": 211
        },
        {
          "output_type": "display_data",
          "data": {
            "image/png": "[encoded data removed]",
            "text/plain": [
              "<Figure size 1200x800 with 1 Axes>"
            ]
          },
          "metadata": {
            "tags": [],
            "needs_background": "light"
          }
        }
      ]
    },
    {
      "cell_type": "code",
      "metadata": {
        "colab": {
          "base_uri": "https://localhost:8080/",
          "height": 638
        },
        "id": "76YTz9aS7KZh",
        "outputId": "002e140d-2c45-4a96-a054-a02dfeab2714"
      },
      "source": [
        "data"
      ],
      "execution_count": 212,
      "outputs": [
        {
          "output_type": "execute_result",
          "data": {
            "text/html": [
              "<div>\n",
              "<style scoped>\n",
              "    .dataframe tbody tr th:only-of-type {\n",
              "        vertical-align: middle;\n",
              "    }\n",
              "\n",
              "    .dataframe tbody tr th {\n",
              "        vertical-align: top;\n",
              "    }\n",
              "\n",
              "    .dataframe thead th {\n",
              "        text-align: right;\n",
              "    }\n",
              "</style>\n",
              "<table border=\"1\" class=\"dataframe\">\n",
              "  <thead>\n",
              "    <tr style=\"text-align: right;\">\n",
              "      <th></th>\n",
              "      <th>k</th>\n",
              "      <th>min_neighbors</th>\n",
              "      <th>max_neighbors</th>\n",
              "      <th>min_neighborhood</th>\n",
              "      <th>max_neighborhood</th>\n",
              "    </tr>\n",
              "  </thead>\n",
              "  <tbody>\n",
              "    <tr>\n",
              "      <th>0</th>\n",
              "      <td>1</td>\n",
              "      <td>1</td>\n",
              "      <td>168</td>\n",
              "      <td>1</td>\n",
              "      <td>168</td>\n",
              "    </tr>\n",
              "    <tr>\n",
              "      <th>1</th>\n",
              "      <td>2</td>\n",
              "      <td>1</td>\n",
              "      <td>318</td>\n",
              "      <td>1</td>\n",
              "      <td>425</td>\n",
              "    </tr>\n",
              "    <tr>\n",
              "      <th>2</th>\n",
              "      <td>3</td>\n",
              "      <td>1</td>\n",
              "      <td>630</td>\n",
              "      <td>1</td>\n",
              "      <td>898</td>\n",
              "    </tr>\n",
              "    <tr>\n",
              "      <th>3</th>\n",
              "      <td>4</td>\n",
              "      <td>1</td>\n",
              "      <td>800</td>\n",
              "      <td>1</td>\n",
              "      <td>1572</td>\n",
              "    </tr>\n",
              "    <tr>\n",
              "      <th>4</th>\n",
              "      <td>5</td>\n",
              "      <td>1</td>\n",
              "      <td>904</td>\n",
              "      <td>1</td>\n",
              "      <td>2136</td>\n",
              "    </tr>\n",
              "    <tr>\n",
              "      <th>5</th>\n",
              "      <td>6</td>\n",
              "      <td>2</td>\n",
              "      <td>915</td>\n",
              "      <td>1</td>\n",
              "      <td>2356</td>\n",
              "    </tr>\n",
              "    <tr>\n",
              "      <th>6</th>\n",
              "      <td>7</td>\n",
              "      <td>4</td>\n",
              "      <td>868</td>\n",
              "      <td>1</td>\n",
              "      <td>2449</td>\n",
              "    </tr>\n",
              "    <tr>\n",
              "      <th>7</th>\n",
              "      <td>8</td>\n",
              "      <td>10</td>\n",
              "      <td>868</td>\n",
              "      <td>1</td>\n",
              "      <td>2472</td>\n",
              "    </tr>\n",
              "    <tr>\n",
              "      <th>8</th>\n",
              "      <td>9</td>\n",
              "      <td>9</td>\n",
              "      <td>868</td>\n",
              "      <td>1</td>\n",
              "      <td>2481</td>\n",
              "    </tr>\n",
              "    <tr>\n",
              "      <th>9</th>\n",
              "      <td>10</td>\n",
              "      <td>2</td>\n",
              "      <td>835</td>\n",
              "      <td>1</td>\n",
              "      <td>2484</td>\n",
              "    </tr>\n",
              "    <tr>\n",
              "      <th>10</th>\n",
              "      <td>11</td>\n",
              "      <td>1</td>\n",
              "      <td>819</td>\n",
              "      <td>1</td>\n",
              "      <td>2484</td>\n",
              "    </tr>\n",
              "    <tr>\n",
              "      <th>11</th>\n",
              "      <td>12</td>\n",
              "      <td>1</td>\n",
              "      <td>712</td>\n",
              "      <td>1</td>\n",
              "      <td>2484</td>\n",
              "    </tr>\n",
              "    <tr>\n",
              "      <th>12</th>\n",
              "      <td>13</td>\n",
              "      <td>1</td>\n",
              "      <td>712</td>\n",
              "      <td>1</td>\n",
              "      <td>2484</td>\n",
              "    </tr>\n",
              "    <tr>\n",
              "      <th>13</th>\n",
              "      <td>14</td>\n",
              "      <td>1</td>\n",
              "      <td>608</td>\n",
              "      <td>1</td>\n",
              "      <td>2484</td>\n",
              "    </tr>\n",
              "    <tr>\n",
              "      <th>14</th>\n",
              "      <td>15</td>\n",
              "      <td>1</td>\n",
              "      <td>291</td>\n",
              "      <td>1</td>\n",
              "      <td>2484</td>\n",
              "    </tr>\n",
              "    <tr>\n",
              "      <th>15</th>\n",
              "      <td>16</td>\n",
              "      <td>1</td>\n",
              "      <td>88</td>\n",
              "      <td>1</td>\n",
              "      <td>2484</td>\n",
              "    </tr>\n",
              "    <tr>\n",
              "      <th>16</th>\n",
              "      <td>17</td>\n",
              "      <td>1</td>\n",
              "      <td>25</td>\n",
              "      <td>1</td>\n",
              "      <td>2484</td>\n",
              "    </tr>\n",
              "    <tr>\n",
              "      <th>17</th>\n",
              "      <td>18</td>\n",
              "      <td>1</td>\n",
              "      <td>12</td>\n",
              "      <td>1</td>\n",
              "      <td>2484</td>\n",
              "    </tr>\n",
              "    <tr>\n",
              "      <th>18</th>\n",
              "      <td>19</td>\n",
              "      <td>1</td>\n",
              "      <td>1</td>\n",
              "      <td>1</td>\n",
              "      <td>2484</td>\n",
              "    </tr>\n",
              "  </tbody>\n",
              "</table>\n",
              "</div>"
            ],
            "text/plain": [
              "     k  min_neighbors  max_neighbors  min_neighborhood  max_neighborhood\n",
              "0    1              1            168                 1               168\n",
              "1    2              1            318                 1               425\n",
              "2    3              1            630                 1               898\n",
              "3    4              1            800                 1              1572\n",
              "4    5              1            904                 1              2136\n",
              "5    6              2            915                 1              2356\n",
              "6    7              4            868                 1              2449\n",
              "7    8             10            868                 1              2472\n",
              "8    9              9            868                 1              2481\n",
              "9   10              2            835                 1              2484\n",
              "10  11              1            819                 1              2484\n",
              "11  12              1            712                 1              2484\n",
              "12  13              1            712                 1              2484\n",
              "13  14              1            608                 1              2484\n",
              "14  15              1            291                 1              2484\n",
              "15  16              1             88                 1              2484\n",
              "16  17              1             25                 1              2484\n",
              "17  18              1             12                 1              2484\n",
              "18  19              1              1                 1              2484"
            ]
          },
          "metadata": {
            "tags": []
          },
          "execution_count": 212
        }
      ]
    },
    {
      "cell_type": "markdown",
      "metadata": {
        "id": "gS20xTjwH9lR"
      },
      "source": [
        "Explanation:\n",
        "- the min_neighbors can be bigger than min_neighborhood if two adjacent nodes are isolated, they will then be disregarded for the next hops, and thus not be considered for the min_neighborhood 💡"
      ]
    },
    {
      "cell_type": "markdown",
      "metadata": {
        "id": "qGHenT8uKbgD"
      },
      "source": [
        "Result: the max_neighbors reach zero for the 20th hop which is what we expected ✅"
      ]
    },
    {
      "cell_type": "markdown",
      "metadata": {
        "id": "Bp2rl87UaOqU"
      },
      "source": [
        "## The model: our approach"
      ]
    },
    {
      "cell_type": "code",
      "metadata": {
        "id": "uvOMwHM-lu3K"
      },
      "source": [
        "import math\n",
        "import random\n",
        "\n",
        "import torch_geometric\n",
        "import torch.nn.functional as F\n",
        "\n",
        "from torch_geometric.nn import GCNConv, MessagePassing\n",
        "from torch_geometric.utils import degree"
      ],
      "execution_count": 337,
      "outputs": []
    },
    {
      "cell_type": "code",
      "metadata": {
        "id": "xK_J2lR7WzpT"
      },
      "source": [
        "def xavier(tensor):\n",
        "    \"\"\"Initialize weight matrix with Xavier distribution\n",
        "\n",
        "    Args:\n",
        "        tensor (tensor): weigh matrix\n",
        "    Return:\n",
        "        tensor - weight matrix initialized\n",
        "    \"\"\"\n",
        "    if tensor is not None:\n",
        "        stdv = math.sqrt(6.0 / (tensor.size(-2) + tensor.size(-2)))\n",
        "        tensor.data.uniform_(-stdv, stdv)\n",
        "\n",
        "def zeros(tensor):\n",
        "    \"\"\"Initialize bias vector with all zeros\n",
        "\n",
        "    Args:\n",
        "        tensor (tensor): bias vector\n",
        "    \n",
        "    Return\n",
        "        tensor - bias vector initialized with zeros\n",
        "    \"\"\"\n",
        "    if tensor is not None:\n",
        "        tensor.data.fill_(0)"
      ],
      "execution_count": 309,
      "outputs": []
    },
    {
      "cell_type": "markdown",
      "metadata": {
        "id": "kRCFqtPTeDoz"
      },
      "source": [
        "### the HopGCNConv: our modified GCNConv layer"
      ]
    },
    {
      "cell_type": "code",
      "metadata": {
        "id": "V62Xsa0OOhs5"
      },
      "source": [
        "class HopGCNConv(MessagePassing):\n",
        "    def __init__(self, num_features, in_channels, out_channels):\n",
        "        super(HopGCNConv, self).__init__(aggr='add')  # \"Add\" aggregation.\n",
        "        self.lin_input = torch.nn.Linear(num_features, out_channels)\n",
        "        self.lin_hidden = torch.nn.Linear(in_channels, out_channels)\n",
        "        \n",
        "        self.reset_parameters()\n",
        "        \n",
        "    def reset_parameters(self):\n",
        "        xavier(self.lin_input.weight)\n",
        "        zeros(self.lin_input.bias)\n",
        "        \n",
        "        xavier(self.lin_hidden.weight)\n",
        "        zeros(self.lin_hidden.bias)\n",
        "\n",
        "    def forward(self, x, h, edge_index):\n",
        "        # x is the input features and has shape [N, num_features]\n",
        "        # h is the hidden state and has shape [N, in_channels]\n",
        "        # edge_index has shape [2, E] , E being the number of edges\n",
        "\n",
        "        # step 1: linearly transform node feature matrices\n",
        "        x = self.lin_input(x)\n",
        "        h = self.lin_hidden(h)\n",
        "\n",
        "        # step 3-5: start propagating messages\n",
        "        return self.propagate(edge_index, x=x, h=h)\n",
        "\n",
        "    def message(self, x_j, h_i, edge_index, size):\n",
        "        # x_j is the input features of the neighbors and has shape [E, out_channels] (has already been multiplied by the weight matrix)\n",
        "\n",
        "        # step 3: normalize node features\n",
        "        row, col = edge_index\n",
        "        deg = degree(row, size[0], dtype=x_j.dtype)\n",
        "        deg_inv_sqrt = deg.pow(-0.5)\n",
        "        deg_inv_sqrt[deg_inv_sqrt == float('inf')] = 0\n",
        "        norm = deg_inv_sqrt[row] * deg_inv_sqrt[col]\n",
        "\n",
        "        out = norm.view(-1, 1) * x_j\n",
        "\n",
        "        # add the hidden state of the target node\n",
        "        norm = deg_inv_sqrt[row] * deg_inv_sqrt[row]\n",
        "        \n",
        "        return out + norm.view(-1, 1) * h_i\n",
        "\n",
        "    def update(self, aggr_out):\n",
        "        # aggr_out has shape [N, out_channels]\n",
        "\n",
        "        # Step 5: Return new node embeddings.\n",
        "        return aggr_out"
      ],
      "execution_count": 333,
      "outputs": []
    },
    {
      "cell_type": "markdown",
      "metadata": {
        "id": "KLocgdwjeKPJ"
      },
      "source": [
        "### utility functions"
      ]
    },
    {
      "cell_type": "code",
      "metadata": {
        "id": "_DeiyjRRyslo"
      },
      "source": [
        "def train(model: torch.nn.Module, optimizer: torch.optim.Optimizer,\n",
        "          data: type(G)):\n",
        "    \"\"\"Performs one training sep\n",
        "    \"\"\"\n",
        "    model.train()\n",
        "    optimizer.zero_grad()\n",
        "\n",
        "    direct_neighbors = get_neighbors(data.edge_index)\n",
        "    neighborhood = copy.deepcopy(direct_neighbors)\n",
        "    out = model(data.x, data.edge_index, direct_neighbors, neighborhood)\n",
        "    \n",
        "    loss = F.nll_loss(out[data.train_mask], data.y[data.train_mask])\n",
        "    loss.backward()\n",
        "    optimizer.step()\n",
        "    return loss"
      ],
      "execution_count": 310,
      "outputs": []
    },
    {
      "cell_type": "code",
      "metadata": {
        "id": "2bJR9E88y0-M"
      },
      "source": [
        "def evaluate(model: torch.nn.Module, data: type(G)):\n",
        "    model.eval()\n",
        "\n",
        "    with torch.no_grad():\n",
        "        direct_neighbors = get_neighbors(data.edge_index)\n",
        "        neighborhood = copy.deepcopy(direct_neighbors)\n",
        "        logits = model(data.x, data.edge_index, direct_neighbors, neighborhood)\n",
        "    \n",
        "    outs = {}\n",
        "    for key in ['train', 'val', 'test']:\n",
        "        mask = data[f'{key}_mask']\n",
        "        loss = F.nll_loss(logits[mask], data.y[mask]).item()\n",
        "        pred = logits[mask].max(1)[1]\n",
        "        acc = pred.eq(data.y[mask]).sum().item() / mask.sum().item()\n",
        "\n",
        "        outs[f'{key}_loss'] = loss\n",
        "        outs[f'{key}_acc'] = acc\n",
        "    return outs"
      ],
      "execution_count": 311,
      "outputs": []
    },
    {
      "cell_type": "code",
      "metadata": {
        "id": "-4trPmjuwM9k"
      },
      "source": [
        "def run(data: type(G), model: torch.nn.Module,\n",
        "        runs: int, epochs: int,\n",
        "        lr: float, weight_decay: float,\n",
        "        early_stopping: int = 0):\n",
        "    \n",
        "    val_losses, accs, durations = [], [], []\n",
        "    for _ in range(runs):\n",
        "        data = data.to(device)\n",
        "        model.to(device).reset_parameters()\n",
        "        optimizer = torch.optim.Adam(model.parameters(), lr=lr, \n",
        "                                     weight_decay=weight_decay)\n",
        "\n",
        "        if torch.cuda.is_available():\n",
        "            torch.cuda.synchronize()\n",
        "        \n",
        "        t_start = time.perf_counter()\n",
        "\n",
        "        best_val_loss = float('inf')\n",
        "        test_acc = 0\n",
        "        val_loss_history = []\n",
        "\n",
        "        train_losses = []\n",
        "        test_accs = []\n",
        "\n",
        "        for epoch in range(1, epochs+1):\n",
        "            train_loss = train(model, optimizer, data)\n",
        "            eval_info = evaluate(model, data)\n",
        "            eval_info['epoch'] = epoch\n",
        "        \n",
        "            if eval_info['val_loss'] < best_val_loss:\n",
        "                best_val_loss = eval_info['val_loss']\n",
        "                test_acc = eval_info['test_acc']\n",
        "            \n",
        "            val_loss_history.append(eval_info['val_loss'])\n",
        "            if early_stopping > 0 and epoch > epochs // 2:\n",
        "                tmp = torch.tensor(val_loss_history[-(early_stopping + 1):-1])\n",
        "                if eval_info['val_loss'] > tmp.mean().item():\n",
        "                    break\n",
        "            \n",
        "            train_losses.append(train_loss.item())\n",
        "            test_accs.append(test_acc)\n",
        "\n",
        "            if epoch % 10 == 0:\n",
        "                print(f\"Epoch: [{epoch} / {epochs}] | Loss: {train_loss} | Test accuracy: {test_acc}\")\n",
        "\n",
        "        if torch.cuda.is_available():\n",
        "            torch.cuda.synchronize()\n",
        "\n",
        "        t_end = time.perf_counter()\n",
        "\n",
        "        val_losses.append(best_val_loss)\n",
        "        accs.append(test_acc)\n",
        "        durations.append(t_end - t_start)\n",
        "\n",
        "    loss, acc, duration = torch.tensor(val_losses), torch.tensor(accs), torch.tensor(durations)\n",
        "\n",
        "    print(f\"Val Loss: {loss.mean().item():.4f}, Test Accuracy: {acc.mean().item():.3f} ± {acc.std().item():.3f}, Duration: {duration.mean().item():.3f}\")\n",
        "    return train_losses, test_accs"
      ],
      "execution_count": 344,
      "outputs": []
    },
    {
      "cell_type": "code",
      "metadata": {
        "id": "0WHZV-0NQzi_"
      },
      "source": [
        "# count model parameters\n",
        "def count_parameters(model: torch.nn.Module):\n",
        "    print(f\"The model has {sum(p.numel() for p in model.parameters() if p.requires_grad):,} parameters\")"
      ],
      "execution_count": 380,
      "outputs": []
    },
    {
      "cell_type": "code",
      "metadata": {
        "id": "5lXWFw-gJPPZ"
      },
      "source": [
        "device = torch.device('cuda' if torch.cuda.is_available() else 'cpu')"
      ],
      "execution_count": 314,
      "outputs": []
    },
    {
      "cell_type": "markdown",
      "metadata": {
        "id": "KQA-lTE7ePow"
      },
      "source": [
        "### running experiments"
      ]
    },
    {
      "cell_type": "code",
      "metadata": {
        "id": "wbE7xr07feNe"
      },
      "source": [
        "# model should be as follows:\n",
        "dropout=0.5\n",
        "model = torch_geometric.nn.Sequential(\"x, edge_index, direct_neighbors, neighborhood\",[\n",
        "    # first hop\n",
        "    (HopGCNConv(num_features=cora_dataset.num_features, in_channels=cora_dataset.num_features, out_channels=12), \"x, x, edge_index -> h\"),\n",
        "    (torch.nn.ReLU(), \"h -> h\"),\n",
        "    (torch.nn.Dropout(p=dropout), \"h -> h\"),\n",
        "    (get_next_hop_neighbors, \"edge_index, direct_neighbors, neighborhood -> edge_index, neighborhood\"),\n",
        "\n",
        "    # second hop\n",
        "    (HopGCNConv(num_features=cora_dataset.num_features, in_channels=12, out_channels=12), \"x, h, edge_index -> h\"),\n",
        "    (torch.nn.ReLU(), \"h -> h\"),\n",
        "    (torch.nn.Dropout(p=dropout), \"h -> h\"),\n",
        "    (get_next_hop_neighbors, \"edge_index, direct_neighbors, neighborhood -> edge_index, neighborhood\"),\n",
        "\n",
        "    # third hop\n",
        "    (HopGCNConv(num_features=cora_dataset.num_features, in_channels=12, out_channels=12), \"x, h, edge_index -> h\"),\n",
        "    (torch.nn.ReLU(), \"h -> h\"),\n",
        "    (torch.nn.Dropout(p=dropout), \"h -> h\"),\n",
        "    (get_next_hop_neighbors, \"edge_index, direct_neighbors, neighborhood -> edge_index, neighborhood\"),\n",
        "    \n",
        "    # final layer\n",
        "    (HopGCNConv(num_features=cora_dataset.num_features, in_channels=12, out_channels=cora_dataset.num_classes), \"x, h, edge_index -> h\"),\n",
        "\n",
        "    (torch.nn.LogSoftmax(dim=1), \"h -> h\")\n",
        "])\n",
        "\n",
        "model.reset_parameters()\n",
        "count_parameters(model)"
      ],
      "execution_count": 345,
      "outputs": []
    },
    {
      "cell_type": "code",
      "metadata": {
        "colab": {
          "base_uri": "https://localhost:8080/",
          "height": 408
        },
        "id": "1dKr3o_Yq3Fx",
        "outputId": "96eb07a5-7abb-4b92-9eea-bec0bf51b815"
      },
      "source": [
        "train_losses, test_accs = run(data=G, model=model, \n",
        "                              runs=1, epochs=100,\n",
        "                              lr=0.01, weight_decay=0.0005,\n",
        "                              early_stopping=0)"
      ],
      "execution_count": 347,
      "outputs": [
        {
          "output_type": "stream",
          "text": [
            "Epoch: [10 / 100] | Loss: 4.078047752380371 | Test accuracy: 0.234\n",
            "Epoch: [20 / 100] | Loss: 10.790060997009277 | Test accuracy: 0.402\n",
            "Epoch: [30 / 100] | Loss: 16.139617919921875 | Test accuracy: 0.402\n",
            "Epoch: [40 / 100] | Loss: 1.7235288619995117 | Test accuracy: 0.402\n"
          ],
          "name": "stdout"
        },
        {
          "output_type": "error",
          "ename": "KeyboardInterrupt",
          "evalue": "ignored",
          "traceback": [
            "\u001b[0;31m---------------------------------------------------------------------------\u001b[0m",
            "\u001b[0;31mKeyboardInterrupt\u001b[0m                         Traceback (most recent call last)",
            "\u001b[0;32m<ipython-input-347-bf23938386cc>\u001b[0m in \u001b[0;36m<module>\u001b[0;34m()\u001b[0m\n\u001b[1;32m      2\u001b[0m     \u001b[0mruns\u001b[0m\u001b[0;34m=\u001b[0m\u001b[0;36m1\u001b[0m\u001b[0;34m,\u001b[0m \u001b[0mepochs\u001b[0m\u001b[0;34m=\u001b[0m\u001b[0;36m100\u001b[0m\u001b[0;34m,\u001b[0m\u001b[0;34m\u001b[0m\u001b[0;34m\u001b[0m\u001b[0m\n\u001b[1;32m      3\u001b[0m     \u001b[0mlr\u001b[0m\u001b[0;34m=\u001b[0m\u001b[0;36m0.01\u001b[0m\u001b[0;34m,\u001b[0m \u001b[0mweight_decay\u001b[0m\u001b[0;34m=\u001b[0m\u001b[0;36m0.0005\u001b[0m\u001b[0;34m,\u001b[0m\u001b[0;34m\u001b[0m\u001b[0;34m\u001b[0m\u001b[0m\n\u001b[0;32m----> 4\u001b[0;31m     early_stopping=0)\n\u001b[0m",
            "\u001b[0;32m<ipython-input-344-7d0f9716daf3>\u001b[0m in \u001b[0;36mrun\u001b[0;34m(data, model, runs, epochs, lr, weight_decay, early_stopping)\u001b[0m\n\u001b[1;32m     24\u001b[0m \u001b[0;34m\u001b[0m\u001b[0m\n\u001b[1;32m     25\u001b[0m         \u001b[0;32mfor\u001b[0m \u001b[0mepoch\u001b[0m \u001b[0;32min\u001b[0m \u001b[0mrange\u001b[0m\u001b[0;34m(\u001b[0m\u001b[0;36m1\u001b[0m\u001b[0;34m,\u001b[0m \u001b[0mepochs\u001b[0m\u001b[0;34m+\u001b[0m\u001b[0;36m1\u001b[0m\u001b[0;34m)\u001b[0m\u001b[0;34m:\u001b[0m\u001b[0;34m\u001b[0m\u001b[0;34m\u001b[0m\u001b[0m\n\u001b[0;32m---> 26\u001b[0;31m             \u001b[0mtrain_loss\u001b[0m \u001b[0;34m=\u001b[0m \u001b[0mtrain\u001b[0m\u001b[0;34m(\u001b[0m\u001b[0mmodel\u001b[0m\u001b[0;34m,\u001b[0m \u001b[0moptimizer\u001b[0m\u001b[0;34m,\u001b[0m \u001b[0mdata\u001b[0m\u001b[0;34m)\u001b[0m\u001b[0;34m\u001b[0m\u001b[0;34m\u001b[0m\u001b[0m\n\u001b[0m\u001b[1;32m     27\u001b[0m             \u001b[0meval_info\u001b[0m \u001b[0;34m=\u001b[0m \u001b[0mevaluate\u001b[0m\u001b[0;34m(\u001b[0m\u001b[0mmodel\u001b[0m\u001b[0;34m,\u001b[0m \u001b[0mdata\u001b[0m\u001b[0;34m)\u001b[0m\u001b[0;34m\u001b[0m\u001b[0;34m\u001b[0m\u001b[0m\n\u001b[1;32m     28\u001b[0m             \u001b[0meval_info\u001b[0m\u001b[0;34m[\u001b[0m\u001b[0;34m'epoch'\u001b[0m\u001b[0;34m]\u001b[0m \u001b[0;34m=\u001b[0m \u001b[0mepoch\u001b[0m\u001b[0;34m\u001b[0m\u001b[0;34m\u001b[0m\u001b[0m\n",
            "\u001b[0;32m<ipython-input-310-1bb23e43814f>\u001b[0m in \u001b[0;36mtrain\u001b[0;34m(model, optimizer, data)\u001b[0m\n\u001b[1;32m      8\u001b[0m     \u001b[0mdirect_neighbors\u001b[0m \u001b[0;34m=\u001b[0m \u001b[0mget_neighbors\u001b[0m\u001b[0;34m(\u001b[0m\u001b[0mdata\u001b[0m\u001b[0;34m.\u001b[0m\u001b[0medge_index\u001b[0m\u001b[0;34m)\u001b[0m\u001b[0;34m\u001b[0m\u001b[0;34m\u001b[0m\u001b[0m\n\u001b[1;32m      9\u001b[0m     \u001b[0mneighborhood\u001b[0m \u001b[0;34m=\u001b[0m \u001b[0mcopy\u001b[0m\u001b[0;34m.\u001b[0m\u001b[0mdeepcopy\u001b[0m\u001b[0;34m(\u001b[0m\u001b[0mdirect_neighbors\u001b[0m\u001b[0;34m)\u001b[0m\u001b[0;34m\u001b[0m\u001b[0;34m\u001b[0m\u001b[0m\n\u001b[0;32m---> 10\u001b[0;31m     \u001b[0mout\u001b[0m \u001b[0;34m=\u001b[0m \u001b[0mmodel\u001b[0m\u001b[0;34m(\u001b[0m\u001b[0mdata\u001b[0m\u001b[0;34m.\u001b[0m\u001b[0mx\u001b[0m\u001b[0;34m,\u001b[0m \u001b[0mdata\u001b[0m\u001b[0;34m.\u001b[0m\u001b[0medge_index\u001b[0m\u001b[0;34m,\u001b[0m \u001b[0mdirect_neighbors\u001b[0m\u001b[0;34m,\u001b[0m \u001b[0mneighborhood\u001b[0m\u001b[0;34m)\u001b[0m\u001b[0;34m\u001b[0m\u001b[0;34m\u001b[0m\u001b[0m\n\u001b[0m\u001b[1;32m     11\u001b[0m \u001b[0;34m\u001b[0m\u001b[0m\n\u001b[1;32m     12\u001b[0m     \u001b[0mloss\u001b[0m \u001b[0;34m=\u001b[0m \u001b[0mF\u001b[0m\u001b[0;34m.\u001b[0m\u001b[0mnll_loss\u001b[0m\u001b[0;34m(\u001b[0m\u001b[0mout\u001b[0m\u001b[0;34m[\u001b[0m\u001b[0mdata\u001b[0m\u001b[0;34m.\u001b[0m\u001b[0mtrain_mask\u001b[0m\u001b[0;34m]\u001b[0m\u001b[0;34m,\u001b[0m \u001b[0mdata\u001b[0m\u001b[0;34m.\u001b[0m\u001b[0my\u001b[0m\u001b[0;34m[\u001b[0m\u001b[0mdata\u001b[0m\u001b[0;34m.\u001b[0m\u001b[0mtrain_mask\u001b[0m\u001b[0;34m]\u001b[0m\u001b[0;34m)\u001b[0m\u001b[0;34m\u001b[0m\u001b[0;34m\u001b[0m\u001b[0m\n",
            "\u001b[0;32m/usr/local/lib/python3.7/dist-packages/torch/nn/modules/module.py\u001b[0m in \u001b[0;36m_call_impl\u001b[0;34m(self, *input, **kwargs)\u001b[0m\n\u001b[1;32m    887\u001b[0m             \u001b[0mresult\u001b[0m \u001b[0;34m=\u001b[0m \u001b[0mself\u001b[0m\u001b[0;34m.\u001b[0m\u001b[0m_slow_forward\u001b[0m\u001b[0;34m(\u001b[0m\u001b[0;34m*\u001b[0m\u001b[0minput\u001b[0m\u001b[0;34m,\u001b[0m \u001b[0;34m**\u001b[0m\u001b[0mkwargs\u001b[0m\u001b[0;34m)\u001b[0m\u001b[0;34m\u001b[0m\u001b[0;34m\u001b[0m\u001b[0m\n\u001b[1;32m    888\u001b[0m         \u001b[0;32melse\u001b[0m\u001b[0;34m:\u001b[0m\u001b[0;34m\u001b[0m\u001b[0;34m\u001b[0m\u001b[0m\n\u001b[0;32m--> 889\u001b[0;31m             \u001b[0mresult\u001b[0m \u001b[0;34m=\u001b[0m \u001b[0mself\u001b[0m\u001b[0;34m.\u001b[0m\u001b[0mforward\u001b[0m\u001b[0;34m(\u001b[0m\u001b[0;34m*\u001b[0m\u001b[0minput\u001b[0m\u001b[0;34m,\u001b[0m \u001b[0;34m**\u001b[0m\u001b[0mkwargs\u001b[0m\u001b[0;34m)\u001b[0m\u001b[0;34m\u001b[0m\u001b[0;34m\u001b[0m\u001b[0m\n\u001b[0m\u001b[1;32m    890\u001b[0m         for hook in itertools.chain(\n\u001b[1;32m    891\u001b[0m                 \u001b[0m_global_forward_hooks\u001b[0m\u001b[0;34m.\u001b[0m\u001b[0mvalues\u001b[0m\u001b[0;34m(\u001b[0m\u001b[0;34m)\u001b[0m\u001b[0;34m,\u001b[0m\u001b[0;34m\u001b[0m\u001b[0;34m\u001b[0m\u001b[0m\n",
            "\u001b[0;32m/content/notebooks/torch_geometric/nn/sequential.py\u001b[0m in \u001b[0;36mforward\u001b[0;34m(self, *args)\u001b[0m\n\u001b[1;32m    104\u001b[0m         \u001b[0;32mfor\u001b[0m \u001b[0mnn\u001b[0m\u001b[0;34m,\u001b[0m \u001b[0mfn\u001b[0m\u001b[0;34m,\u001b[0m \u001b[0;34m(\u001b[0m\u001b[0min_desc\u001b[0m\u001b[0;34m,\u001b[0m \u001b[0mout_desc\u001b[0m\u001b[0;34m)\u001b[0m \u001b[0;32min\u001b[0m \u001b[0mzip\u001b[0m\u001b[0;34m(\u001b[0m\u001b[0mself\u001b[0m\u001b[0;34m.\u001b[0m\u001b[0mnns\u001b[0m\u001b[0;34m,\u001b[0m \u001b[0mself\u001b[0m\u001b[0;34m.\u001b[0m\u001b[0mfns\u001b[0m\u001b[0;34m,\u001b[0m \u001b[0mself\u001b[0m\u001b[0;34m.\u001b[0m\u001b[0mdescs\u001b[0m\u001b[0;34m)\u001b[0m\u001b[0;34m:\u001b[0m\u001b[0;34m\u001b[0m\u001b[0;34m\u001b[0m\u001b[0m\n\u001b[1;32m    105\u001b[0m             \u001b[0mfn\u001b[0m \u001b[0;34m=\u001b[0m \u001b[0mnn\u001b[0m \u001b[0;32mif\u001b[0m \u001b[0mfn\u001b[0m \u001b[0;32mis\u001b[0m \u001b[0;32mNone\u001b[0m \u001b[0;32melse\u001b[0m \u001b[0mfn\u001b[0m\u001b[0;34m\u001b[0m\u001b[0;34m\u001b[0m\u001b[0m\n\u001b[0;32m--> 106\u001b[0;31m             \u001b[0mout\u001b[0m \u001b[0;34m=\u001b[0m \u001b[0mfn\u001b[0m\u001b[0;34m(\u001b[0m\u001b[0;34m*\u001b[0m\u001b[0;34m[\u001b[0m\u001b[0mstate\u001b[0m\u001b[0;34m[\u001b[0m\u001b[0mkey\u001b[0m\u001b[0;34m]\u001b[0m \u001b[0;32mfor\u001b[0m \u001b[0mkey\u001b[0m \u001b[0;32min\u001b[0m \u001b[0min_desc\u001b[0m\u001b[0;34m]\u001b[0m\u001b[0;34m)\u001b[0m\u001b[0;34m\u001b[0m\u001b[0;34m\u001b[0m\u001b[0m\n\u001b[0m\u001b[1;32m    107\u001b[0m             \u001b[0mout\u001b[0m \u001b[0;34m=\u001b[0m \u001b[0;34m(\u001b[0m\u001b[0mout\u001b[0m\u001b[0;34m,\u001b[0m \u001b[0;34m)\u001b[0m \u001b[0;32mif\u001b[0m \u001b[0;32mnot\u001b[0m \u001b[0misinstance\u001b[0m\u001b[0;34m(\u001b[0m\u001b[0mout\u001b[0m\u001b[0;34m,\u001b[0m \u001b[0mtuple\u001b[0m\u001b[0;34m)\u001b[0m \u001b[0;32melse\u001b[0m \u001b[0mout\u001b[0m\u001b[0;34m\u001b[0m\u001b[0;34m\u001b[0m\u001b[0m\n\u001b[1;32m    108\u001b[0m             \u001b[0;32massert\u001b[0m \u001b[0mlen\u001b[0m\u001b[0;34m(\u001b[0m\u001b[0mout\u001b[0m\u001b[0;34m)\u001b[0m \u001b[0;34m==\u001b[0m \u001b[0mlen\u001b[0m\u001b[0;34m(\u001b[0m\u001b[0mout_desc\u001b[0m\u001b[0;34m)\u001b[0m\u001b[0;34m\u001b[0m\u001b[0;34m\u001b[0m\u001b[0m\n",
            "\u001b[0;32m<ipython-input-306-88780a333abb>\u001b[0m in \u001b[0;36mget_next_hop_neighbors\u001b[0;34m(edge_index, direct_neighbors, neighborhood)\u001b[0m\n\u001b[1;32m     17\u001b[0m     \u001b[0mnew_edge_index\u001b[0m \u001b[0;34m=\u001b[0m \u001b[0;34m[\u001b[0m\u001b[0;34m]\u001b[0m\u001b[0;34m\u001b[0m\u001b[0;34m\u001b[0m\u001b[0m\n\u001b[1;32m     18\u001b[0m     \u001b[0;32mfor\u001b[0m \u001b[0mi\u001b[0m \u001b[0;32min\u001b[0m \u001b[0mrange\u001b[0m\u001b[0;34m(\u001b[0m\u001b[0mE\u001b[0m\u001b[0;34m)\u001b[0m\u001b[0;34m:\u001b[0m\u001b[0;34m\u001b[0m\u001b[0;34m\u001b[0m\u001b[0m\n\u001b[0;32m---> 19\u001b[0;31m         \u001b[0mnode_i\u001b[0m\u001b[0;34m,\u001b[0m \u001b[0mnode_j\u001b[0m \u001b[0;34m=\u001b[0m \u001b[0medge_index\u001b[0m\u001b[0;34m[\u001b[0m\u001b[0;34m:\u001b[0m\u001b[0;34m,\u001b[0m \u001b[0mi\u001b[0m\u001b[0;34m]\u001b[0m\u001b[0;34m\u001b[0m\u001b[0;34m\u001b[0m\u001b[0m\n\u001b[0m\u001b[1;32m     20\u001b[0m         \u001b[0mnode_i\u001b[0m\u001b[0;34m,\u001b[0m \u001b[0mnode_j\u001b[0m \u001b[0;34m=\u001b[0m \u001b[0mnode_i\u001b[0m\u001b[0;34m.\u001b[0m\u001b[0mitem\u001b[0m\u001b[0;34m(\u001b[0m\u001b[0;34m)\u001b[0m\u001b[0;34m,\u001b[0m \u001b[0mnode_j\u001b[0m\u001b[0;34m.\u001b[0m\u001b[0mitem\u001b[0m\u001b[0;34m(\u001b[0m\u001b[0;34m)\u001b[0m\u001b[0;34m\u001b[0m\u001b[0;34m\u001b[0m\u001b[0m\n\u001b[1;32m     21\u001b[0m \u001b[0;34m\u001b[0m\u001b[0m\n",
            "\u001b[0;32m/usr/local/lib/python3.7/dist-packages/torch/tensor.py\u001b[0m in \u001b[0;36m__iter__\u001b[0;34m(self)\u001b[0m\n\u001b[1;32m    589\u001b[0m                           \u001b[0;34m'iterations executed (and might lead to errors or silently give '\u001b[0m\u001b[0;34m\u001b[0m\u001b[0;34m\u001b[0m\u001b[0m\n\u001b[1;32m    590\u001b[0m                           'incorrect results).', category=RuntimeWarning)\n\u001b[0;32m--> 591\u001b[0;31m         \u001b[0;32mreturn\u001b[0m \u001b[0miter\u001b[0m\u001b[0;34m(\u001b[0m\u001b[0mself\u001b[0m\u001b[0;34m.\u001b[0m\u001b[0munbind\u001b[0m\u001b[0;34m(\u001b[0m\u001b[0;36m0\u001b[0m\u001b[0;34m)\u001b[0m\u001b[0;34m)\u001b[0m\u001b[0;34m\u001b[0m\u001b[0;34m\u001b[0m\u001b[0m\n\u001b[0m\u001b[1;32m    592\u001b[0m \u001b[0;34m\u001b[0m\u001b[0m\n\u001b[1;32m    593\u001b[0m     \u001b[0;32mdef\u001b[0m \u001b[0m__hash__\u001b[0m\u001b[0;34m(\u001b[0m\u001b[0mself\u001b[0m\u001b[0;34m)\u001b[0m\u001b[0;34m:\u001b[0m\u001b[0;34m\u001b[0m\u001b[0;34m\u001b[0m\u001b[0m\n",
            "\u001b[0;31mKeyboardInterrupt\u001b[0m: "
          ]
        }
      ]
    },
    {
      "cell_type": "markdown",
      "metadata": {
        "id": "-1brX0kjdPqe"
      },
      "source": [
        "### refactored model: compute all neighborhoods once"
      ]
    },
    {
      "cell_type": "code",
      "metadata": {
        "id": "cdnc_-jveWv_"
      },
      "source": [
        "class HopGCNConv(MessagePassing):\n",
        "    def __init__(self, num_features, in_channels, out_channels, k):\n",
        "        super(HopGCNConv, self).__init__(aggr='add')  # \"Add\" aggregation.\n",
        "        self.lin_input = torch.nn.Linear(num_features, out_channels)\n",
        "        self.lin_hidden = torch.nn.Linear(in_channels, out_channels)\n",
        "        self.k = k\n",
        "        self.reset_parameters()\n",
        "        \n",
        "    def reset_parameters(self):\n",
        "        xavier(self.lin_input.weight)\n",
        "        zeros(self.lin_input.bias)\n",
        "        \n",
        "        xavier(self.lin_hidden.weight)\n",
        "        zeros(self.lin_hidden.bias)\n",
        "\n",
        "    def forward(self, x, h, edge_index):\n",
        "        # x is the input features and has shape [N, num_features]\n",
        "        # h is the hidden state and has shape [N, in_channels]\n",
        "        # edge_index has shape [2, E] , E being the number of edges\n",
        "\n",
        "        # step 1: linearly transform node feature matrices\n",
        "        x = self.lin_input(x)\n",
        "        h = self.lin_hidden(h)\n",
        "\n",
        "        # step 3-5: start propagating messages\n",
        "        return self.propagate(edge_index[self.k], x=x, h=h)\n",
        "\n",
        "    def message(self, x_j, h_i, edge_index, size):\n",
        "        # x_j is the input features of the neighbors and has shape [E, out_channels] (has already been multiplied by the weight matrix)\n",
        "\n",
        "        # step 3: normalize node features\n",
        "        row, col = edge_index\n",
        "        deg = degree(row, size[0], dtype=x_j.dtype)\n",
        "        deg_inv_sqrt = deg.pow(-0.5)\n",
        "        deg_inv_sqrt[deg_inv_sqrt == float('inf')] = 0\n",
        "        norm = deg_inv_sqrt[row] * deg_inv_sqrt[col]\n",
        "\n",
        "        out = norm.view(-1, 1) * x_j\n",
        "\n",
        "        # add the hidden state of the target node\n",
        "        norm = deg_inv_sqrt[row] * deg_inv_sqrt[row]\n",
        "        \n",
        "        return out + norm.view(-1, 1) * h_i\n",
        "\n",
        "    def update(self, aggr_out):\n",
        "        # aggr_out has shape [N, out_channels]\n",
        "\n",
        "        # Step 5: Return new node embeddings.\n",
        "        return aggr_out"
      ],
      "execution_count": 350,
      "outputs": []
    },
    {
      "cell_type": "code",
      "metadata": {
        "id": "ikvqhksifcdh"
      },
      "source": [
        "def train(model: torch.nn.Module, optimizer: torch.optim.Optimizer,\n",
        "          data: type(G), all_edge_index: list):\n",
        "    \"\"\"Performs one training step\n",
        "    \"\"\"\n",
        "    \n",
        "    model.train()\n",
        "    optimizer.zero_grad()\n",
        "\n",
        "    out = model(data.x, all_edge_index)\n",
        "    \n",
        "    loss = F.nll_loss(out[data.train_mask], data.y[data.train_mask])\n",
        "    loss.backward()\n",
        "    optimizer.step()\n",
        "    return loss"
      ],
      "execution_count": 352,
      "outputs": []
    },
    {
      "cell_type": "code",
      "metadata": {
        "id": "8_Pj3KeCft8s"
      },
      "source": [
        "def evaluate(model: torch.nn.Module, data: type(G), all_edge_index: list):\n",
        "    \"\"\"Evaluates the model\n",
        "    \"\"\"\n",
        "    \n",
        "    model.eval()\n",
        "\n",
        "    with torch.no_grad():\n",
        "        logits = model(data.x, all_edge_index)\n",
        "    \n",
        "    outs = {}\n",
        "    for key in ['train', 'val', 'test']:\n",
        "        mask = data[f'{key}_mask']\n",
        "        loss = F.nll_loss(logits[mask], data.y[mask]).item()\n",
        "        pred = logits[mask].max(1)[1]\n",
        "        acc = pred.eq(data.y[mask]).sum().item() / mask.sum().item()\n",
        "\n",
        "        outs[f'{key}_loss'] = loss\n",
        "        outs[f'{key}_acc'] = acc\n",
        "    return outs"
      ],
      "execution_count": 353,
      "outputs": []
    },
    {
      "cell_type": "code",
      "metadata": {
        "id": "pvjW89_Le0s8"
      },
      "source": [
        "def run(data: type(G), model: torch.nn.Module,\n",
        "        all_edge_index: list,\n",
        "        runs: int, epochs: int, lr: float,\n",
        "        weight_decay: float, early_stopping: int = 0,\n",
        "        initialize:bool=True):\n",
        "\n",
        "    val_losses, accs, durations = [], [], []\n",
        "    for _ in range(runs):\n",
        "        data = data.to(device)\n",
        "        model.to(device)\n",
        "        if initialize:\n",
        "            model.reset_parameters()\n",
        "        \n",
        "        optimizer = torch.optim.Adam(model.parameters(), lr=lr, \n",
        "                                     weight_decay=weight_decay)\n",
        "\n",
        "        if torch.cuda.is_available():\n",
        "            torch.cuda.synchronize()\n",
        "        \n",
        "        t_start = time.perf_counter()\n",
        "\n",
        "        best_val_loss = float('inf')\n",
        "        val_loss_history, train_losses, test_accs = [], [], []\n",
        "\n",
        "        for epoch in range(1, epochs+1):\n",
        "            train_loss = train(model, optimizer, data, all_edge_index)\n",
        "            eval_info = evaluate(model, data, all_edge_index)\n",
        "            test_acc = eval_info['test_acc']\n",
        "            val_loss_history.append(eval_info['val_loss'])\n",
        "            train_losses.append(train_loss.item())\n",
        "            test_accs.append(test_acc)\n",
        "        \n",
        "            # I don't understand what this is for...\n",
        "            if eval_info['val_loss'] < best_val_loss:\n",
        "                best_val_loss = eval_info['val_loss']\n",
        "            \n",
        "            if early_stopping > 0 and epoch > epochs // 2:\n",
        "                tmp = torch.tensor(val_loss_history[-(early_stopping + 1):-1])\n",
        "                if eval_info['val_loss'] > tmp.mean().item():\n",
        "                    break\n",
        "            \n",
        "            if epoch % 10 == 0:\n",
        "                MAD = mean_average_distance(x=data.x)\n",
        "                print(f\"Epoch: [{epoch} / {epochs}] | Loss: {train_loss} | Test accuracy: {test_acc} | MAD: {MAD}\")\n",
        "\n",
        "        if torch.cuda.is_available():\n",
        "            torch.cuda.synchronize()\n",
        "\n",
        "        t_end = time.perf_counter()\n",
        "\n",
        "        val_losses.append(best_val_loss)\n",
        "        accs.append(test_acc)\n",
        "        durations.append(t_end - t_start)\n",
        "\n",
        "    loss, acc, duration = torch.tensor(val_losses), torch.tensor(accs), torch.tensor(durations)\n",
        "\n",
        "    print(f\"Val Loss: {loss.mean().item():.4f}, Test Accuracy: {acc.mean().item():.3f} ± {acc.std().item():.3f}, Duration: {duration.mean().item():.3f}\")\n",
        "    return train_losses, test_accs"
      ],
      "execution_count": 393,
      "outputs": []
    },
    {
      "cell_type": "code",
      "metadata": {
        "id": "Top-jwFkdW2i",
        "outputId": "f1e84093-484d-4d00-da6d-e886dcf89141",
        "colab": {
          "base_uri": "https://localhost:8080/"
        }
      },
      "source": [
        "# model should be as follows:\n",
        "dropout=0.5\n",
        "model = torch_geometric.nn.Sequential(\"x, edge_index\",[\n",
        "    # first hop\n",
        "    (HopGCNConv(num_features=cora_dataset.num_features, in_channels=cora_dataset.num_features, out_channels=32, k=1), \"x, x, edge_index -> h\"),\n",
        "    (torch.nn.ReLU(), \"h -> h\"),\n",
        "    (torch.nn.Dropout(p=dropout), \"h -> h\"),\n",
        "\n",
        "    # second hop\n",
        "    (HopGCNConv(num_features=cora_dataset.num_features, in_channels=32, out_channels=32, k=2), \"x, h, edge_index -> h\"),\n",
        "    (torch.nn.ReLU(), \"h -> h\"),\n",
        "    (torch.nn.Dropout(p=dropout), \"h -> h\"),\n",
        "\n",
        "    # third hop\n",
        "    (HopGCNConv(num_features=cora_dataset.num_features, in_channels=32, out_channels=32, k=3), \"x, h, edge_index -> h\"),\n",
        "    (torch.nn.ReLU(), \"h -> h\"),\n",
        "    (torch.nn.Dropout(p=dropout), \"h -> h\"),\n",
        "\n",
        "    # fourth hop\n",
        "    (HopGCNConv(num_features=cora_dataset.num_features, in_channels=32, out_channels=32, k=4), \"x, h, edge_index -> h\"),\n",
        "    (torch.nn.ReLU(), \"h -> h\"),\n",
        "    (torch.nn.Dropout(p=dropout), \"h -> h\"),\n",
        "\n",
        "    # fifth hop\n",
        "    (HopGCNConv(num_features=cora_dataset.num_features, in_channels=32, out_channels=32, k=5), \"x, h, edge_index -> h\"),\n",
        "    (torch.nn.ReLU(), \"h -> h\"),\n",
        "    (torch.nn.Dropout(p=dropout), \"h -> h\"),\n",
        "    \n",
        "    # final layer\n",
        "    (HopGCNConv(num_features=cora_dataset.num_features, in_channels=32, out_channels=cora_dataset.num_classes, k=6), \"x, h, edge_index -> h\"),\n",
        "\n",
        "    (torch.nn.LogSoftmax(dim=1), \"h -> h\")\n",
        "])\n",
        "\n",
        "model.reset_parameters()\n",
        "count_parameters(model)"
      ],
      "execution_count": 396,
      "outputs": [
        {
          "output_type": "stream",
          "text": [
            "The model has 289,821 parameters\n"
          ],
          "name": "stdout"
        }
      ]
    },
    {
      "cell_type": "code",
      "metadata": {
        "id": "67iKOS4ngh4s"
      },
      "source": [
        "all_edge_index, _ = get_all_hops(G.edge_index, k=6)"
      ],
      "execution_count": null,
      "outputs": []
    },
    {
      "cell_type": "code",
      "metadata": {
        "id": "3vu31UmDqtLz"
      },
      "source": [
        "initial_MAD = mean_average_distance(x=G.x)\n",
        "print(f\"Initial MAD: {initial_MAD}\")"
      ],
      "execution_count": null,
      "outputs": []
    },
    {
      "cell_type": "code",
      "metadata": {
        "id": "gkoEBlL7gJiI",
        "outputId": "1d4d2862-884c-4b16-cadc-9404194b7198",
        "colab": {
          "base_uri": "https://localhost:8080/"
        }
      },
      "source": [
        "train_losses, test_accs = run(data=G, model=model,\n",
        "                              all_edge_index=all_edge_index,\n",
        "                              runs=1, epochs=100,\n",
        "                              lr=0.01, weight_decay=0.0005,\n",
        "                              early_stopping=0, initialize=False)"
      ],
      "execution_count": 389,
      "outputs": [
        {
          "output_type": "stream",
          "text": [
            "Epoch: [10 / 100] | Loss: 1.8307342529296875 | Test accuracy: 0.612\n",
            "Epoch: [20 / 100] | Loss: 0.8231418132781982 | Test accuracy: 0.612\n",
            "Epoch: [30 / 100] | Loss: 0.8252192139625549 | Test accuracy: 0.612\n",
            "Epoch: [40 / 100] | Loss: 0.6538023948669434 | Test accuracy: 0.612\n",
            "Epoch: [50 / 100] | Loss: 0.6773667335510254 | Test accuracy: 0.612\n",
            "Epoch: [60 / 100] | Loss: 1.3369401693344116 | Test accuracy: 0.612\n",
            "Epoch: [70 / 100] | Loss: 0.9154360294342041 | Test accuracy: 0.612\n",
            "Epoch: [80 / 100] | Loss: 1.8033450841903687 | Test accuracy: 0.612\n",
            "Epoch: [90 / 100] | Loss: 0.7188414335250854 | Test accuracy: 0.612\n",
            "Epoch: [100 / 100] | Loss: 0.5640637874603271 | Test accuracy: 0.612\n",
            "Val Loss: 1.1602, Test Accuracy: 0.612 ± nan, Duration: 504.017\n"
          ],
          "name": "stdout"
        }
      ]
    },
    {
      "cell_type": "code",
      "metadata": {
        "colab": {
          "base_uri": "https://localhost:8080/"
        },
        "id": "hBD87De9G_vv",
        "outputId": "74658b50-33b8-4ced-94d5-3b24022dcc42"
      },
      "source": [
        "evaluate(model=model, data=G, all_edge_index=all_edge_index)"
      ],
      "execution_count": 383,
      "outputs": [
        {
          "output_type": "execute_result",
          "data": {
            "text/plain": [
              "{'test_acc': 0.619,\n",
              " 'test_loss': 1.9763652086257935,\n",
              " 'train_acc': 0.75,\n",
              " 'train_loss': 0.837860107421875,\n",
              " 'val_acc': 0.624,\n",
              " 'val_loss': 1.349611759185791}"
            ]
          },
          "metadata": {
            "tags": []
          },
          "execution_count": 383
        }
      ]
    },
    {
      "cell_type": "code",
      "metadata": {
        "id": "9dCyrWDdi_eH",
        "outputId": "f0f5aed2-48fc-4443-be73-292860fd6683",
        "colab": {
          "base_uri": "https://localhost:8080/",
          "height": 480
        }
      },
      "source": [
        "# credits to: https://stackoverflow.com/a/43131357/11805354\n",
        "\n",
        "data = pd.DataFrame({\n",
        "    'epoch': range(1, 101),\n",
        "    'train_loss': train_losses,\n",
        "    'test_acc': test_accs,\n",
        "})\n",
        "\n",
        "plt.rcParams['figure.figsize'] = [18, 5]\n",
        "plt.rcParams['figure.dpi'] = 100\n",
        "\n",
        "fig, ax =plt.subplots(1,3)\n",
        "\n",
        "sn.lineplot(x=range(1, 101), y=train_losses, ax=ax[0]).set(xlabel=\"epochs\", ylabel=\"loss\", title=\"Train Loss\")\n",
        "sn.lineplot(x=range(1, 101), y=test_accs, ax=ax[1]).set(xlabel=\"epochs\", ylabel=\"accuracy\", title=\"Test Accuracy\")\n",
        "sn.lineplot(x='epoch', y='value', hue='variable', data=pd.melt(data, ['epoch']), ax=ax[2]).set(title=\"Experiment results\")\n",
        "\n",
        "fig.show()"
      ],
      "execution_count": 384,
      "outputs": [
        {
          "output_type": "display_data",
          "data": {
            "image/png": "[encoded data removed]",
            "text/plain": [
              "<Figure size 1800x500 with 3 Axes>"
            ]
          },
          "metadata": {
            "tags": [],
            "needs_background": "light"
          }
        }
      ]
    }
  ]
}