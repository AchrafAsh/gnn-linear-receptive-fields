{
  "nbformat": 4,
  "nbformat_minor": 0,
  "metadata": {
    "colab": {
      "name": "00_knn_cora.ipynb",
      "provenance": [],
      "authorship_tag": "ABX9TyMJ4mGW778LWco54tDZiSOj",
      "include_colab_link": true
    },
    "kernelspec": {
      "name": "python3",
      "display_name": "Python 3"
    },
    "language_info": {
      "name": "python"
    }
  },
  "cells": [
    {
      "cell_type": "markdown",
      "metadata": {
        "id": "view-in-github",
        "colab_type": "text"
      },
      "source": [
        "<a href=\"https://colab.research.google.com/github/AchrafAsh/gnn-receptive-fields/blob/main/00_knn_cora.ipynb\" target=\"_parent\"><img src=\"https://colab.research.google.com/assets/colab-badge.svg\" alt=\"Open In Colab\"/></a>"
      ]
    },
    {
      "cell_type": "markdown",
      "metadata": {
        "id": "bcoBvNH1807r"
      },
      "source": [
        "The goal of this notebook is to apply a simple K-nearest neighbors on Cora dataset to understand the labels of the graph.\n",
        "\n",
        "*NB: it is actually a slightly modified version of the KNN where we consider a k-hop neighborhood and not k neighbors*\n",
        "\n",
        "The expectations are:\n",
        "- the influence of node locality is way more significant than node features, in other words, we can label nodes just by looking at its neighbors\n",
        "- we can compute the graph problem radius by plotting the accuracy w.r.t the size of the neighborhood considered"
      ]
    },
    {
      "cell_type": "markdown",
      "metadata": {
        "id": "7o-HqyQp9s2t"
      },
      "source": [
        "## Setting up the environment"
      ]
    },
    {
      "cell_type": "code",
      "metadata": {
        "colab": {
          "base_uri": "https://localhost:8080/"
        },
        "id": "YPKpWz3p8vUO",
        "outputId": "e9e5b18d-097a-46e0-b8a1-f0c0331f10b8"
      },
      "source": [
        "import os, sys\n",
        "import os.path as osp\n",
        "from google.colab import drive\n",
        "drive.mount('/content/mnt')\n",
        "nb_path = '/content/notebooks'\n",
        "try:\n",
        "    os.symlink('/content/mnt/My Drive/Colab Notebooks', nb_path)\n",
        "except:\n",
        "    pass\n",
        "sys.path.insert(0, nb_path)  # or append(nb_path)"
      ],
      "execution_count": 1,
      "outputs": [
        {
          "output_type": "stream",
          "text": [
            "Mounted at /content/mnt\n"
          ],
          "name": "stdout"
        }
      ]
    },
    {
      "cell_type": "code",
      "metadata": {
        "id": "6dJJND3E9viQ"
      },
      "source": [
        "%%capture\n",
        "!wget https://raw.githubusercontent.com/AchrafAsh/gnn-receptive-fields/main/data.py\n",
        "\n",
        "from data import load_dataset\n",
        "\n",
        "path = osp.join(os.getcwd(), 'data')\n",
        "cora_dataset = load_dataset(path, 'Cora')\n",
        "G = cora_dataset[0] # only graph of the dataset"
      ],
      "execution_count": 2,
      "outputs": []
    },
    {
      "cell_type": "markdown",
      "metadata": {
        "id": "bvSCFFTy9vrd"
      },
      "source": [
        "## Building the model"
      ]
    },
    {
      "cell_type": "code",
      "metadata": {
        "id": "Weufk2_M9v2J"
      },
      "source": [
        "from collections import Counter\n",
        "from torch_geometric.utils import to_dense_adj"
      ],
      "execution_count": 3,
      "outputs": []
    },
    {
      "cell_type": "code",
      "metadata": {
        "id": "TC8bggZh9wCI"
      },
      "source": [
        "A = to_dense_adj(G.edge_index)"
      ],
      "execution_count": 4,
      "outputs": []
    },
    {
      "cell_type": "code",
      "metadata": {
        "id": "GJRjDcJP_s7A"
      },
      "source": [
        "A = A.squeeze(0)"
      ],
      "execution_count": 22,
      "outputs": []
    },
    {
      "cell_type": "code",
      "metadata": {
        "colab": {
          "base_uri": "https://localhost:8080/"
        },
        "id": "bgUUgCsSAec2",
        "outputId": "341994a3-3236-411c-c164-bce6b9c0805d"
      },
      "source": [
        "d = Counter([1, 2, 2, 2, 3, 1])\n",
        "\n",
        "max(d, key=lambda x: d[x])"
      ],
      "execution_count": 35,
      "outputs": [
        {
          "output_type": "execute_result",
          "data": {
            "text/plain": [
              "2"
            ]
          },
          "metadata": {
            "tags": []
          },
          "execution_count": 35
        }
      ]
    },
    {
      "cell_type": "code",
      "metadata": {
        "id": "ybrKA7aW9wMJ"
      },
      "source": [
        "test_acc = 0\n",
        "num_test_nodes = 0\n",
        "\n",
        "for i in range(G.num_nodes):\n",
        "    if G.test_mask[i]:\n",
        "        num_test_nodes += 1\n",
        "        neb_labels = []\n",
        "        # count all the labels from its neighbors\n",
        "        for j in range(G.num_nodes):\n",
        "            if A[i, j] != 0:\n",
        "                neb_labels += [G.y[j].item()]\n",
        "        \n",
        "        # find the most occurence in the neighborhood\n",
        "        count = Counter(neb_labels)\n",
        "        pred = max(count, key=lambda x: d[x])\n",
        "        if pred == G.y[i]: test_acc += 1"
      ],
      "execution_count": 43,
      "outputs": []
    },
    {
      "cell_type": "code",
      "metadata": {
        "colab": {
          "base_uri": "https://localhost:8080/"
        },
        "id": "0vRol0rzBjDq",
        "outputId": "8580957d-a97f-4baa-9b49-4369872b37c9"
      },
      "source": [
        "test_acc / num_test_nodes"
      ],
      "execution_count": 41,
      "outputs": [
        {
          "output_type": "execute_result",
          "data": {
            "text/plain": [
              "0.789"
            ]
          },
          "metadata": {
            "tags": []
          },
          "execution_count": 41
        }
      ]
    },
    {
      "cell_type": "markdown",
      "metadata": {
        "id": "p74ExftPBtW_"
      },
      "source": [
        "That is what I thought 🤯\n",
        "A KNN with a 1-hop neighborhood performs better than most graph neural networks!!!\n",
        "\n",
        "But we cheated a little bit. We looked at neighbors regardless of whether they are part of our training set. Let's see what happens if we just consider nodes from our training set:"
      ]
    },
    {
      "cell_type": "code",
      "metadata": {
        "id": "5f_gEaNu9wWX"
      },
      "source": [
        "test_acc = 0\n",
        "num_test_nodes = 0\n",
        "num_no_neighbors = 0\n",
        "\n",
        "for i in range(G.num_nodes):\n",
        "    if G.test_mask[i]:\n",
        "        num_test_nodes += 1\n",
        "        neb_labels = []\n",
        "        # count all the labels from its neighbors\n",
        "        for j in range(G.num_nodes):\n",
        "            if A[i, j] != 0 and G.train_mask[j]:\n",
        "                neb_labels += [G.y[j].item()]\n",
        "        \n",
        "        # find the most occurence in the neighborhood\n",
        "        if len(neb_labels) != 0:\n",
        "            count = Counter(neb_labels)\n",
        "            pred = max(count, key=lambda x: d[x])\n",
        "            if pred == G.y[i]: test_acc += 1\n",
        "        else:\n",
        "            num_no_neighbors += 1"
      ],
      "execution_count": 46,
      "outputs": []
    },
    {
      "cell_type": "code",
      "metadata": {
        "colab": {
          "base_uri": "https://localhost:8080/"
        },
        "id": "ONK3uXRi9wgG",
        "outputId": "64764685-daf8-4cd5-b5f5-c7baa2b53f44"
      },
      "source": [
        "print(f\"Test accuracy: {test_acc / num_test_nodes}\")\n",
        "print(f\"{num_no_neighbors}/{num_test_nodes} () testing nodes had no training nodes in their direct neighborhood\")"
      ],
      "execution_count": 57,
      "outputs": [
        {
          "output_type": "stream",
          "text": [
            "Test accuracy: 0.169\n",
            "789/1000 testing nodes had no training nodes in their direct neighborhood\n"
          ],
          "name": "stdout"
        }
      ]
    },
    {
      "cell_type": "markdown",
      "metadata": {
        "id": "VzyaB3Af9w3V"
      },
      "source": [
        "Ok now this an entirely different score. Because most of our testing nodes are actually neighbors with other testing nodes but not training nodes.\n",
        "\n",
        "Let's try to increase the neighborhood by one."
      ]
    },
    {
      "cell_type": "code",
      "metadata": {
        "id": "i1NVOfC1CrvB"
      },
      "source": [
        "def get_k_hop_neighborhood(k:int, i: int, adj: torch.tensor) -> list:\n",
        "    \"\"\"Returns the list of nodes in the k-hop neighborhood (recursively)\n",
        "    \n",
        "    Args:\n",
        "        - k (int): size of the neighborhood\n",
        "        - i (int): index of the target node\n",
        "        - adj (torch.tensor): dense adjacency matrix\n",
        "    \"\"\"\n",
        "    if k == 0: return []\n",
        "\n",
        "    neighbors = []\n",
        "    for j in range(adj.size(0)):\n",
        "        if adj[i, j] != 0:\n",
        "            neighbors.append(j)\n",
        "            neighbors += get_k_hop_neighborhood(k-1, j, adj)\n",
        "    \n",
        "    return list(dict.fromkeys(neighbors))"
      ],
      "execution_count": 53,
      "outputs": []
    },
    {
      "cell_type": "code",
      "metadata": {
        "id": "Ns69PZ23CsMF"
      },
      "source": [
        "K = 2\n",
        "test_acc = 0\n",
        "num_test_nodes = 0\n",
        "num_no_neighbors = 0\n",
        "\n",
        "for i in range(G.num_nodes):\n",
        "    if G.test_mask[i]:\n",
        "        num_test_nodes += 1\n",
        "        neb_labels = []\n",
        "        # count all the labels from its neighbors\n",
        "        neb_labels = [G.y[j] for j in get_k_hop_neighborhood(K, i, A) if G.train_mask[j]]\n",
        "        \n",
        "        # find the most occurence in the neighborhood\n",
        "        if len(neb_labels) != 0:\n",
        "            count = Counter(neb_labels)\n",
        "            pred = max(count, key=lambda x: d[x])\n",
        "            if pred == G.y[i]: test_acc += 1\n",
        "        else:\n",
        "            num_no_neighbors += 1"
      ],
      "execution_count": 59,
      "outputs": []
    },
    {
      "cell_type": "code",
      "metadata": {
        "colab": {
          "base_uri": "https://localhost:8080/"
        },
        "id": "o1zfJb8tFMGr",
        "outputId": "b09fd7fb-48c2-428c-e16c-0f53aee14767"
      },
      "source": [
        "print(f\"Test accuracy: {test_acc / num_test_nodes}\")\n",
        "print(f\"{num_no_neighbors}/{num_test_nodes} () testing nodes had no training nodes in their direct neighborhood\")"
      ],
      "execution_count": 60,
      "outputs": [
        {
          "output_type": "stream",
          "text": [
            "Test accuracy: 0.448\n",
            "382/1000 () testing nodes had no training nodes in their direct neighborhood\n"
          ],
          "name": "stdout"
        }
      ]
    },
    {
      "cell_type": "markdown",
      "metadata": {
        "id": "HO6tsJscF2Xn"
      },
      "source": [
        "Ok this already much better, this is in comparison with a 2-layer GCN which performs the best.\n",
        "\n",
        "Now let's put all of this into a function and run it over several neighborhood sizes to see how our performance evolves"
      ]
    },
    {
      "cell_type": "code",
      "metadata": {
        "id": "6xWlEqahF2_W"
      },
      "source": [
        "def run(k: int):\n",
        "    test_acc = 0\n",
        "    num_test_nodes = 0\n",
        "    num_no_neighbors = 0\n",
        "\n",
        "    for i in range(G.num_nodes):\n",
        "        if G.test_mask[i]:\n",
        "            num_test_nodes += 1\n",
        "            neb_labels = []\n",
        "            # count all the labels from its neighbors\n",
        "            neb_labels = [G.y[j] for j in get_k_hop_neighborhood(k, i, A) if G.train_mask[j]]\n",
        "            \n",
        "            # find the most occurence in the neighborhood\n",
        "            if len(neb_labels) != 0:\n",
        "                count = Counter(neb_labels)\n",
        "                pred = max(count, key=lambda x: d[x])\n",
        "                if pred == G.y[i]: test_acc += 1\n",
        "            else:\n",
        "                num_no_neighbors += 1\n",
        "    \n",
        "    return test_acc, num_no_neighbors"
      ],
      "execution_count": 61,
      "outputs": []
    },
    {
      "cell_type": "code",
      "metadata": {
        "id": "f3M0uvM_F3Ju"
      },
      "source": [
        "all_test_acc, all_num_no_neb = [], []\n",
        "for k in range(1, 7):\n",
        "    test_acc, num_no_neb = run(k)\n",
        "    all_test_acc.append(test_acc)\n",
        "    all_num_no_neb.append(num_no_neb)"
      ],
      "execution_count": null,
      "outputs": []
    },
    {
      "cell_type": "code",
      "metadata": {
        "id": "YK3mZXQwF3WF"
      },
      "source": [
        "import seaborn as sns\n",
        "import matplotlib.pyplot as plt\n",
        "%matplotlib inline"
      ],
      "execution_count": null,
      "outputs": []
    },
    {
      "cell_type": "code",
      "metadata": {
        "id": "s2sDezqOHDL4"
      },
      "source": [
        "plt.figure(figsize=(12, 6))\n",
        "\n",
        "data = pd.DataFrame({\n",
        "    'k': range(1, 7),\n",
        "    'test_acc': all_test_acc,\n",
        "    'no_neighbors': all_num_no_neb\n",
        "})\n",
        "\n",
        "sn.lineplot(x='k', y='value', hue='variable', data=pd.melt(data, ['k'])).set(title=\"KNN on Cora\")"
      ],
      "execution_count": null,
      "outputs": []
    }
  ]
}