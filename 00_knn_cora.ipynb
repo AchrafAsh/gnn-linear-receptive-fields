{
  "nbformat": 4,
  "nbformat_minor": 0,
  "metadata": {
    "colab": {
      "name": "00_knn_cora.ipynb",
      "provenance": [],
      "authorship_tag": "ABX9TyPa8qLrzymQna76vt1n0T+/",
      "include_colab_link": true
    },
    "kernelspec": {
      "display_name": "Python 3",
      "name": "python3"
    },
    "language_info": {
      "name": "python"
    }
  },
  "cells": [
    {
      "cell_type": "markdown",
      "metadata": {
        "id": "view-in-github",
        "colab_type": "text"
      },
      "source": [
        "<a href=\"https://colab.research.google.com/github/AchrafAsh/gnn-receptive-fields/blob/main/00_knn_cora.ipynb\" target=\"_parent\"><img src=\"https://colab.research.google.com/assets/colab-badge.svg\" alt=\"Open In Colab\"/></a>"
      ]
    },
    {
      "cell_type": "markdown",
      "metadata": {
        "id": "bcoBvNH1807r"
      },
      "source": [
        "The goal of this notebook is to apply a simple **K-nearest neighbors on Cora** dataset to understand the labels of the graph.\n",
        "\n",
        "*NB: it is actually a slightly modified version of the KNN where we consider a k-hop neighborhood and not k neighbors*\n",
        "\n",
        "The expectations are:\n",
        "- the influence of node locality is way more significant than node features, in other words, we can label nodes just by looking at its neighbors\n",
        "- we can compute the graph problem radius by plotting the accuracy w.r.t the size of the neighborhood considered"
      ]
    },
    {
      "cell_type": "markdown",
      "metadata": {
        "id": "7o-HqyQp9s2t"
      },
      "source": [
        "## **Setting up the environment**"
      ]
    },
    {
      "cell_type": "code",
      "metadata": {
        "colab": {
          "base_uri": "https://localhost:8080/"
        },
        "id": "YPKpWz3p8vUO",
        "outputId": "5810f3a7-b840-4b2c-e929-ef13fd2fac81"
      },
      "source": [
        "import os, sys\n",
        "import os.path as osp\n",
        "from google.colab import drive\n",
        "drive.mount('/content/mnt')\n",
        "nb_path = '/content/notebooks'\n",
        "try:\n",
        "    os.symlink('/content/mnt/My Drive/Colab Notebooks', nb_path)\n",
        "except:\n",
        "    pass\n",
        "sys.path.insert(0, nb_path)  # or append(nb_path)"
      ],
      "execution_count": 1,
      "outputs": [
        {
          "output_type": "stream",
          "text": [
            "Mounted at /content/mnt\n"
          ],
          "name": "stdout"
        }
      ]
    },
    {
      "cell_type": "code",
      "metadata": {
        "id": "6dJJND3E9viQ"
      },
      "source": [
        "%%capture\n",
        "!wget https://raw.githubusercontent.com/AchrafAsh/gnn-receptive-fields/main/data.py\n",
        "\n",
        "from data import load_dataset\n",
        "\n",
        "path = osp.join(os.getcwd(), 'data')\n",
        "cora_dataset = load_dataset(path, 'Cora')\n",
        "G = cora_dataset[0] # only graph of the dataset\n",
        "\n",
        "num_test_nodes = G.test_mask.sum().item()"
      ],
      "execution_count": 187,
      "outputs": []
    },
    {
      "cell_type": "markdown",
      "metadata": {
        "id": "bvSCFFTy9vrd"
      },
      "source": [
        "## **Building the model**"
      ]
    },
    {
      "cell_type": "code",
      "metadata": {
        "id": "Weufk2_M9v2J"
      },
      "source": [
        "import torch\n",
        "\n",
        "from collections import Counter\n",
        "from torch_geometric.utils import to_dense_adj"
      ],
      "execution_count": 6,
      "outputs": []
    },
    {
      "cell_type": "code",
      "metadata": {
        "id": "TC8bggZh9wCI"
      },
      "source": [
        "A = to_dense_adj(G.edge_index)\n",
        "A = A.squeeze(0)"
      ],
      "execution_count": 4,
      "outputs": []
    },
    {
      "cell_type": "code",
      "metadata": {
        "id": "ybrKA7aW9wMJ"
      },
      "source": [
        "test_acc = 0\n",
        "num_test_nodes = 0\n",
        "\n",
        "for i in range(G.num_nodes):\n",
        "    if G.test_mask[i]:\n",
        "        num_test_nodes += 1\n",
        "        neb_labels = []\n",
        "        # count all the labels from its neighbors\n",
        "        for j in range(G.num_nodes):\n",
        "            if A[i, j] != 0:\n",
        "                neb_labels += [G.y[j].item()]\n",
        "        \n",
        "        # find the most occurence in the neighborhood\n",
        "        count = Counter(neb_labels)\n",
        "        pred = max(count, key=lambda x: d[x])\n",
        "        if pred == G.y[i]: test_acc += 1"
      ],
      "execution_count": null,
      "outputs": []
    },
    {
      "cell_type": "code",
      "metadata": {
        "colab": {
          "base_uri": "https://localhost:8080/"
        },
        "id": "0vRol0rzBjDq",
        "outputId": "8580957d-a97f-4baa-9b49-4369872b37c9"
      },
      "source": [
        "test_acc / num_test_nodes"
      ],
      "execution_count": null,
      "outputs": [
        {
          "output_type": "execute_result",
          "data": {
            "text/plain": [
              "0.789"
            ]
          },
          "metadata": {
            "tags": []
          },
          "execution_count": 41
        }
      ]
    },
    {
      "cell_type": "markdown",
      "metadata": {
        "id": "p74ExftPBtW_"
      },
      "source": [
        "That is what I thought 🤯\n",
        "A KNN with a 1-hop neighborhood performs better than most graph neural networks!!!\n",
        "\n",
        "But we cheated a little bit 🤭. We looked at neighbors regardless of whether they are part of our training set. Let's see what happens if we just consider nodes from our training set:"
      ]
    },
    {
      "cell_type": "code",
      "metadata": {
        "id": "5f_gEaNu9wWX"
      },
      "source": [
        "test_acc = 0\n",
        "num_test_nodes = 0\n",
        "num_no_neighbors = 0\n",
        "\n",
        "for i in range(G.num_nodes):\n",
        "    if G.test_mask[i]:\n",
        "        num_test_nodes += 1\n",
        "        neb_labels = []\n",
        "        # count all the labels from its neighbors\n",
        "        for j in range(G.num_nodes):\n",
        "            if A[i, j] != 0 and G.train_mask[j]:\n",
        "                neb_labels += [G.y[j].item()]\n",
        "        \n",
        "        # find the most occurence in the neighborhood\n",
        "        if len(neb_labels) != 0:\n",
        "            count = Counter(neb_labels)\n",
        "            pred = max(count, key=lambda x: d[x])\n",
        "            if pred == G.y[i]: test_acc += 1\n",
        "        else:\n",
        "            num_no_neighbors += 1"
      ],
      "execution_count": null,
      "outputs": []
    },
    {
      "cell_type": "code",
      "metadata": {
        "colab": {
          "base_uri": "https://localhost:8080/"
        },
        "id": "ONK3uXRi9wgG",
        "outputId": "64764685-daf8-4cd5-b5f5-c7baa2b53f44"
      },
      "source": [
        "print(f\"Test accuracy: {test_acc / num_test_nodes}\")\n",
        "print(f\"{num_no_neighbors}/{num_test_nodes} () testing nodes had no training nodes in their direct neighborhood\")"
      ],
      "execution_count": null,
      "outputs": [
        {
          "output_type": "stream",
          "text": [
            "Test accuracy: 0.169\n",
            "789/1000 testing nodes had no training nodes in their direct neighborhood\n"
          ],
          "name": "stdout"
        }
      ]
    },
    {
      "cell_type": "markdown",
      "metadata": {
        "id": "VzyaB3Af9w3V"
      },
      "source": [
        "Ok now this an entirely different score. Most of our testing nodes are actually around other testing nodes.\n",
        "\n",
        "Let's try to increase the neighborhood by one:"
      ]
    },
    {
      "cell_type": "code",
      "metadata": {
        "id": "-ciQj3Ok3rW8"
      },
      "source": [
        "def get_k_hop_neighborhood(k:int, adj: torch.tensor) -> list:\n",
        "    \"\"\"Returns the list of nodes in the k-hop neighborhood (recursively)\n",
        "    \n",
        "    Args:\n",
        "        - k (int): size of the neighborhood\n",
        "        - i (int): index of the target node\n",
        "        - adj [num_nodes, num_nodes]: dense adjacency matrix\n",
        "    \"\"\"\n",
        "    \n",
        "    k_hop_neb = [adj.clone()]\n",
        "    pow_A = adj.clone()\n",
        "\n",
        "    for l in range(k-1):\n",
        "        pow_A = torch.mm(adj, pow_A)\n",
        "        k_neb = torch.where(\n",
        "            torch.where(pow_A > 0, 1, 0) - sum(k_hop_neb) > 0,\n",
        "            1,\n",
        "            0\n",
        "        )\n",
        "        k_hop_neb.append(k_neb)\n",
        "    \n",
        "    return k_hop_neb"
      ],
      "execution_count": 15,
      "outputs": []
    },
    {
      "cell_type": "code",
      "metadata": {
        "id": "Ns69PZ23CsMF"
      },
      "source": [
        "K = 2\n",
        "test_acc = 0\n",
        "num_no_neighbors = 0\n",
        "\n",
        "for i in range(G.num_nodes):\n",
        "    if G.test_mask[i]:\n",
        "        num_test_nodes += 1\n",
        "        neb_labels = []\n",
        "        # count all the labels from its neighbors\n",
        "        neb_labels = [G.y[j] for j in get_k_hop_neighborhood(K, i, A) if G.train_mask[j]]\n",
        "        \n",
        "        # find the most occurence in the neighborhood\n",
        "        if len(neb_labels) != 0:\n",
        "            count = Counter(neb_labels)\n",
        "            pred = max(count, key=lambda x: d[x])\n",
        "            if pred == G.y[i]: test_acc += 1\n",
        "        else:\n",
        "            num_no_neighbors += 1"
      ],
      "execution_count": null,
      "outputs": []
    },
    {
      "cell_type": "code",
      "metadata": {
        "colab": {
          "background_save": true
        },
        "id": "o1zfJb8tFMGr",
        "outputId": "3127ea90-99f2-474f-81ef-0dd774cf0b1d"
      },
      "source": [
        "print(f\"Test accuracy: {test_acc / num_test_nodes}\")\n",
        "print(f\"{num_no_neighbors}/{num_test_nodes} testing nodes had no training nodes in their direct neighborhood\")"
      ],
      "execution_count": null,
      "outputs": [
        {
          "output_type": "stream",
          "text": [
            "Test accuracy: 0.00016900000000000002\n",
            "382/1000 testing nodes had no training nodes in their direct neighborhood\n"
          ],
          "name": "stdout"
        }
      ]
    },
    {
      "cell_type": "markdown",
      "metadata": {
        "id": "HO6tsJscF2Xn"
      },
      "source": [
        "Ok this already much better, this is in comparison with a 2-layer GCN which performs the best (0.81)."
      ]
    },
    {
      "cell_type": "markdown",
      "metadata": {
        "id": "3pZkhqNjlSPH"
      },
      "source": [
        "## **Finding the right depth**\n",
        "\n",
        "Now let's put all of this into a function and run it over several neighborhood sizes to see how our performance evolves"
      ]
    },
    {
      "cell_type": "code",
      "metadata": {
        "id": "6xWlEqahF2_W"
      },
      "source": [
        "def run(k: int):\n",
        "    test_acc = 0\n",
        "    num_test_nodes = 0\n",
        "    num_no_neighbors = 0\n",
        "    k_neb = sum(get_k_hop_neighborhood(k, A+torch.eye(A.size(0))))\n",
        "\n",
        "    for i in range(G.num_nodes):\n",
        "        if G.test_mask[i]:\n",
        "            num_test_nodes += 1\n",
        "            neb_labels = []\n",
        "            # count all the labels from its neighbors\n",
        "            neb_labels = [G.y[j] for j in range(A.size(0)) if G.train_mask[j] and k_neb[i,j] == 1]\n",
        "            \n",
        "            # find the most occurence in the neighborhood\n",
        "            if len(neb_labels) != 0:\n",
        "                count = Counter(neb_labels)\n",
        "                pred = max(count, key=lambda x: count[x])\n",
        "                if pred == G.y[i]: test_acc += 1\n",
        "            else:\n",
        "                num_no_neighbors += 1\n",
        "    \n",
        "    return test_acc/num_test_nodes, num_no_neighbors"
      ],
      "execution_count": 32,
      "outputs": []
    },
    {
      "cell_type": "code",
      "metadata": {
        "id": "f3M0uvM_F3Ju",
        "outputId": "ef67291a-bce0-47bc-c1d3-cceaef1ef1da",
        "colab": {
          "base_uri": "https://localhost:8080/"
        }
      },
      "source": [
        "all_test_acc, all_num_no_neb = [], []\n",
        "for k in range(1, 7):\n",
        "    test_acc, num_no_neb = run(k)\n",
        "    all_test_acc.append(test_acc)\n",
        "    all_num_no_neb.append(num_no_neb)\n",
        "    \n",
        "    print(f\"k: {k} | test_acc: {test_acc} | num_no_neb: {num_no_neb}\")"
      ],
      "execution_count": 34,
      "outputs": [
        {
          "output_type": "stream",
          "text": [
            "k: 1 | test_acc: 169 | num_no_neb: 789\n",
            "k: 2 | test_acc: 413 | num_no_neb: 382\n",
            "k: 3 | test_acc: 439 | num_no_neb: 186\n",
            "k: 4 | test_acc: 401 | num_no_neb: 101\n",
            "k: 5 | test_acc: 361 | num_no_neb: 76\n",
            "k: 6 | test_acc: 339 | num_no_neb: 66\n"
          ],
          "name": "stdout"
        }
      ]
    },
    {
      "cell_type": "code",
      "metadata": {
        "id": "YK3mZXQwF3WF"
      },
      "source": [
        "import seaborn as sns\n",
        "import pandas as pd\n",
        "import numpy as np\n",
        "import matplotlib.pyplot as plt\n",
        "%matplotlib inline\n",
        "sns.set_style('darkgrid')"
      ],
      "execution_count": 151,
      "outputs": []
    },
    {
      "cell_type": "code",
      "metadata": {
        "colab": {
          "base_uri": "https://localhost:8080/",
          "height": 421
        },
        "id": "67S11ZiIK3dA",
        "outputId": "f4cbd9f0-10af-47e0-f48b-1d89534e527b"
      },
      "source": [
        "plt.figure(figsize=(12, 6))\n",
        "\n",
        "\n",
        "data = pd.DataFrame({\n",
        "    'k': range(1, 7),\n",
        "    'test_acc': all_test_acc,\n",
        "    'no_neighbors': all_num_no_neb\n",
        "})\n",
        "\n",
        "sns.lineplot(x='k', y='value', hue='variable', data=pd.melt(data, ['k'])).set(title=\"KNN on Cora\")"
      ],
      "execution_count": 37,
      "outputs": [
        {
          "output_type": "execute_result",
          "data": {
            "text/plain": [
              "[Text(0.5, 1.0, 'KNN on Cora')]"
            ]
          },
          "metadata": {
            "tags": []
          },
          "execution_count": 37
        },
        {
          "output_type": "display_data",
          "data": {
            "image/png": "[encoded data removed]",
            "text/plain": [
              "<Figure size 864x432 with 1 Axes>"
            ]
          },
          "metadata": {
            "tags": [],
            "needs_background": "light"
          }
        }
      ]
    },
    {
      "cell_type": "markdown",
      "metadata": {
        "id": "uHAazH3OlbeB"
      },
      "source": [
        "Even with a depth of 3 we keep getting better results (the vanilla GCN lose its accuracy after 2 layers).\n",
        "\n",
        "<strong>TODO: measure the threshold for uninformative receptive field (ratio between same class nodes and different class nodes):\n",
        "<br/>\n",
        "$$\n",
        "informative-ratio(v) = \\frac{ \\left| \\{ u \\in \\mathcal N(v) | c(u) = c(v) \\} \\right| }{  \\left| \\{ u \\in \\mathcal N(v) | c(u) \\neq c(v) \\} \\right| }\n",
        "$$\n",
        "<strong/>"
      ]
    },
    {
      "cell_type": "markdown",
      "metadata": {
        "id": "0dxHeOtb-2cC"
      },
      "source": [
        "## **Measuring uninformative receptive fields**"
      ]
    },
    {
      "cell_type": "code",
      "metadata": {
        "id": "hySw92lOD2ZC",
        "outputId": "6b12dd3d-b97d-46a1-91b2-8e9956c02729",
        "colab": {
          "base_uri": "https://localhost:8080/"
        }
      },
      "source": [
        "G.train_mask * torch.ones(G.num_nodes)"
      ],
      "execution_count": 81,
      "outputs": [
        {
          "output_type": "execute_result",
          "data": {
            "text/plain": [
              "tensor([1., 1., 1.,  ..., 0., 0., 0.])"
            ]
          },
          "metadata": {
            "tags": []
          },
          "execution_count": 81
        }
      ]
    },
    {
      "cell_type": "code",
      "metadata": {
        "id": "-QbjwQ67DeY4",
        "outputId": "71286912-d5e9-4bbf-8d35-5fca4b841039",
        "colab": {
          "base_uri": "https://localhost:8080/"
        }
      },
      "source": [
        "G.y[A[10]==1]"
      ],
      "execution_count": 92,
      "outputs": [
        {
          "output_type": "execute_result",
          "data": {
            "text/plain": [
              "tensor([1, 1])"
            ]
          },
          "metadata": {
            "tags": []
          },
          "execution_count": 92
        }
      ]
    },
    {
      "cell_type": "code",
      "metadata": {
        "id": "1O7Y8gh6-7ex"
      },
      "source": [
        "def informative_ratio(i:int, neb:torch.tensor, mask=None):\n",
        "    \"\"\"\n",
        "    Args:\n",
        "        - i: index of a node\n",
        "        - neb [num_nodes, num_nodes]: neighbors to consider (can be the adjacency matrix or k-hop neighborhood)\n",
        "        - mask [num_nodes]: \"train\", \"test\" or \"val\" to consider only these specific neighbors\n",
        "    \"\"\"\n",
        "    if mask == None:\n",
        "        mask = torch.ones(G.num_nodes)\n",
        "\n",
        "    labels = G.y[neb[i] * mask == 1]\n",
        "    # labels = torch.tensor([G.y[j] for j in range(G.num_nodes) if neb[i,j] == 1 and mask[j]])\n",
        "\n",
        "    if len(labels) == 0: return 0\n",
        "    \n",
        "    return (labels == G.y[i]).sum().item() / len(labels)"
      ],
      "execution_count": 138,
      "outputs": []
    },
    {
      "cell_type": "code",
      "metadata": {
        "id": "Zb8DIkuvAee7",
        "outputId": "eed5970e-fd29-41c7-ce31-379cb0792072",
        "colab": {
          "base_uri": "https://localhost:8080/"
        }
      },
      "source": [
        "torch.tensor([informative_ratio(i, A) for i in range(G.num_nodes)]).mean()"
      ],
      "execution_count": 108,
      "outputs": [
        {
          "output_type": "execute_result",
          "data": {
            "text/plain": [
              "tensor(0.8252)"
            ]
          },
          "metadata": {
            "tags": []
          },
          "execution_count": 108
        }
      ]
    },
    {
      "cell_type": "code",
      "metadata": {
        "id": "437epT4EFDuy"
      },
      "source": [
        "nebs = get_k_hop_neighborhood(10, A)"
      ],
      "execution_count": 109,
      "outputs": []
    },
    {
      "cell_type": "code",
      "metadata": {
        "id": "UaBLD-ElFQOs"
      },
      "source": [
        "info_ratio = pd.DataFrame(columns=['k', 'ratio', 'hop_ratio', 'all_neb'])"
      ],
      "execution_count": 182,
      "outputs": []
    },
    {
      "cell_type": "code",
      "metadata": {
        "id": "8SIzvEJlJIU_",
        "outputId": "e63ab841-6107-4d8b-c3eb-ddcfa04f5020",
        "colab": {
          "base_uri": "https://localhost:8080/"
        }
      },
      "source": [
        "test_idx = [i for i in range(G.num_nodes) if G.test_mask[i]]\n",
        "neb = torch.zeros(G.num_nodes, G.num_nodes)\n",
        "\n",
        "for k in range(1, 10):\n",
        "    neb = neb + nebs[k-1]\n",
        "    \n",
        "    ratio = torch.tensor(\n",
        "        [informative_ratio(i, neb, mask=G.train_mask) for i in test_idx]\n",
        "    ).mean().item()\n",
        "    hop_ratio = torch.tensor(\n",
        "        [informative_ratio(i, nebs[k-1], mask=G.train_mask) for i in test_idx]\n",
        "    ).mean().item()\n",
        "    all_neb_ratio = torch.tensor(\n",
        "        [informative_ratio(i, nebs[k-1]) for i in test_idx]\n",
        "    ).mean().item() \n",
        "    \n",
        "    info_ratio.loc[k-1] = {'k':k, 'ratio':ratio, 'hop_ratio': hop_ratio, 'all_neb': all_neb_ratio}\n",
        "\n",
        "    print(f\"k: {k} | ratio: {ratio} | hop-ratio: {hop_ratio} | all neighbors: {all_neb_ratio}\")"
      ],
      "execution_count": 183,
      "outputs": [
        {
          "output_type": "stream",
          "text": [
            "k: 1 | ratio: 0.16891667246818542 | hop-ratio: 0.16891667246818542 | all neighbors: 0.816875696182251\n",
            "k: 2 | ratio: 0.45707565546035767 | hop-ratio: 0.3880768418312073 | all neighbors: 0.7619004249572754\n",
            "k: 3 | ratio: 0.4762896001338959 | hop-ratio: 0.37553074955940247 | all neighbors: 0.5438345074653625\n",
            "k: 4 | ratio: 0.39577797055244446 | hop-ratio: 0.2910778820514679 | all neighbors: 0.3777962625026703\n",
            "k: 5 | ratio: 0.29598456621170044 | hop-ratio: 0.1808316707611084 | all neighbors: 0.24327242374420166\n",
            "k: 6 | ratio: 0.23052231967449188 | hop-ratio: 0.11646512895822525 | all neighbors: 0.16547228395938873\n",
            "k: 7 | ratio: 0.1963481456041336 | hop-ratio: 0.08987057954072952 | all neighbors: 0.12800486385822296\n",
            "k: 8 | ratio: 0.17813144624233246 | hop-ratio: 0.06578488647937775 | all neighbors: 0.11155708879232407\n",
            "k: 9 | ratio: 0.16906602680683136 | hop-ratio: 0.04480306804180145 | all neighbors: 0.10523762553930283\n"
          ],
          "name": "stdout"
        }
      ]
    },
    {
      "cell_type": "code",
      "metadata": {
        "id": "NcETv2qMFiLJ",
        "outputId": "85296891-091b-42b3-9293-2f79102646f7",
        "colab": {
          "base_uri": "https://localhost:8080/",
          "height": 638
        }
      },
      "source": [
        "plt.figure(figsize=(16, 10))\n",
        "sns.lineplot(x='k', y='value', hue='variable', data=pd.melt(info_ratio.astype('float64'), ['k'])).set(title=\"Information ratio in receptive fields (test nodes)\")\n",
        "plt.axvline(x=3, linestyle='--')\n",
        "plt.axhline(y=.5, linestyle='--')"
      ],
      "execution_count": 184,
      "outputs": [
        {
          "output_type": "execute_result",
          "data": {
            "text/plain": [
              "<matplotlib.lines.Line2D at 0x7f568864f4d0>"
            ]
          },
          "metadata": {
            "tags": []
          },
          "execution_count": 184
        },
        {
          "output_type": "display_data",
          "data": {
            "image/png": "[encoded data removed]",
            "text/plain": [
              "<Figure size 1152x720 with 1 Axes>"
            ]
          },
          "metadata": {
            "tags": []
          }
        }
      ]
    },
    {
      "cell_type": "markdown",
      "metadata": {
        "id": "q1mPeRRJbPZ0"
      },
      "source": [
        "_info: the target nodes considered are from the test set, and only the nodes from the training set were considered in the information ratio_"
      ]
    },
    {
      "cell_type": "markdown",
      "metadata": {
        "id": "TkUMgsPGbf3E"
      },
      "source": [
        "We should also note that in smaller neighborhoods, most nodes from the test set do not have any neighbors from the training set. This explains why the ratio is so low at the beginning (and not because direct neighbors are from different classes)."
      ]
    },
    {
      "cell_type": "markdown",
      "metadata": {
        "id": "ONlOqbcGMH44"
      },
      "source": [
        "## **More hyperparameters**\n",
        "\n",
        "Now let's try something different. We will run the KNN several time so that after labelling the nodes that we can label, we will have new neighbors to consider.\n",
        "So we now have two hyperparameters:\n",
        "- k: the size of the neighborhood\n",
        "- n: the number of time we want to run the KNN"
      ]
    },
    {
      "cell_type": "code",
      "metadata": {
        "id": "PFa5RJPoiwCs"
      },
      "source": [
        "def run_and_label(labels:list, neb:torch.tensor):\n",
        "    \"\"\"Run KNN on test set with already labelled nodes and returns the new \n",
        "    labels, updated accuracy and the number of nodes from the test set that do not have neighbors from the training set.\n",
        "\n",
        "    Args:\n",
        "        - labels [num_nodes]: all the labels where unlabelled nodes are set to -1\n",
        "        - neb [num_nodes, num_nodes]: neighbors to consider (can be adjacency matrix or k-hop neighborhood)\n",
        "    \"\"\"\n",
        "\n",
        "    test_acc, num_no_neighbors = 0, 0\n",
        "    new_labels = labels.clone()\n",
        "\n",
        "    for i in range(G.num_nodes):\n",
        "        if G.test_mask[i] and labels[i] == -1: # to avoid labelling nodes already labelled\n",
        "            neb_labels = labels[neb[i] * (labels!=-1) == 1] # nodes from the training set and labelled nodes only\n",
        "            \n",
        "            # find the most occurence in the neighborhood\n",
        "            if len(neb_labels) != 0:\n",
        "                count = Counter(neb_labels)\n",
        "                pred = max(count, key=lambda x: count[x])\n",
        "                new_labels[i] = pred.item()\n",
        "                if pred == G.y[i]: test_acc += 1\n",
        "            else:\n",
        "                num_no_neighbors += 1\n",
        "    \n",
        "    return new_labels, test_acc/num_test_nodes, num_no_neighbors"
      ],
      "execution_count": 201,
      "outputs": []
    },
    {
      "cell_type": "code",
      "metadata": {
        "colab": {
          "base_uri": "https://localhost:8080/"
        },
        "id": "lrBQ8F4oNgTN",
        "outputId": "6186f3df-21dc-4596-91be-fd04a924b8da"
      },
      "source": [
        "k_neb = get_k_hop_neighborhood(k=6, adj=A)\n",
        "\n",
        "results = pd.DataFrame(columns=['k', 'n', 'test_acc', 'no_neb'])\n",
        "id = 0\n",
        "\n",
        "for k in range(1, 7):\n",
        "    labels = torch.where(G.train_mask, G.y, -1)\n",
        "    for n in range(1, 7):\n",
        "        labels, test_acc, no_neb = run_and_label(labels, neb=k_neb[k-1])\n",
        "        results.loc[id] = {'k':k, 'n':n, 'test_acc': test_acc, 'no_neb': no_neb}\n",
        "        id += 1\n",
        "\n",
        "        print(f\"k: [{k}/3] | n: [{n}/3] | acc: {test_acc} | no_neighbors: {no_neb}\")"
      ],
      "execution_count": 208,
      "outputs": [
        {
          "output_type": "stream",
          "text": [
            "k: [1/3] | n: [1/3] | acc: 0.169 | no_neighbors: 789\n",
            "k: [1/3] | n: [2/3] | acc: 0.137 | no_neighbors: 589\n",
            "k: [1/3] | n: [3/3] | acc: 0.059 | no_neighbors: 500\n",
            "k: [1/3] | n: [4/3] | acc: 0.029 | no_neighbors: 453\n",
            "k: [1/3] | n: [5/3] | acc: 0.01 | no_neighbors: 429\n",
            "k: [1/3] | n: [6/3] | acc: 0.004 | no_neighbors: 422\n",
            "k: [2/3] | n: [1/3] | acc: 0.34 | no_neighbors: 459\n",
            "k: [2/3] | n: [2/3] | acc: 0.126 | no_neighbors: 186\n",
            "k: [2/3] | n: [3/3] | acc: 0.022 | no_neighbors: 139\n",
            "k: [2/3] | n: [4/3] | acc: 0.002 | no_neighbors: 136\n",
            "k: [2/3] | n: [5/3] | acc: 0.0 | no_neighbors: 136\n",
            "k: [2/3] | n: [6/3] | acc: 0.0 | no_neighbors: 136\n",
            "k: [3/3] | n: [1/3] | acc: 0.336 | no_neighbors: 247\n",
            "k: [3/3] | n: [2/3] | acc: 0.075 | no_neighbors: 95\n",
            "k: [3/3] | n: [3/3] | acc: 0.004 | no_neighbors: 91\n",
            "k: [3/3] | n: [4/3] | acc: 0.0 | no_neighbors: 91\n",
            "k: [3/3] | n: [5/3] | acc: 0.0 | no_neighbors: 91\n",
            "k: [3/3] | n: [6/3] | acc: 0.0 | no_neighbors: 91\n",
            "k: [4/3] | n: [1/3] | acc: 0.288 | no_neighbors: 135\n",
            "k: [4/3] | n: [2/3] | acc: 0.017 | no_neighbors: 96\n",
            "k: [4/3] | n: [3/3] | acc: 0.002 | no_neighbors: 94\n",
            "k: [4/3] | n: [4/3] | acc: 0.0 | no_neighbors: 94\n",
            "k: [4/3] | n: [5/3] | acc: 0.0 | no_neighbors: 94\n",
            "k: [4/3] | n: [6/3] | acc: 0.0 | no_neighbors: 94\n",
            "k: [5/3] | n: [1/3] | acc: 0.255 | no_neighbors: 110\n",
            "k: [5/3] | n: [2/3] | acc: 0.014 | no_neighbors: 91\n",
            "k: [5/3] | n: [3/3] | acc: 0.001 | no_neighbors: 90\n",
            "k: [5/3] | n: [4/3] | acc: 0.0 | no_neighbors: 90\n",
            "k: [5/3] | n: [5/3] | acc: 0.0 | no_neighbors: 90\n",
            "k: [5/3] | n: [6/3] | acc: 0.0 | no_neighbors: 90\n",
            "k: [6/3] | n: [1/3] | acc: 0.218 | no_neighbors: 97\n",
            "k: [6/3] | n: [2/3] | acc: 0.003 | no_neighbors: 84\n",
            "k: [6/3] | n: [3/3] | acc: 0.0 | no_neighbors: 84\n",
            "k: [6/3] | n: [4/3] | acc: 0.0 | no_neighbors: 84\n",
            "k: [6/3] | n: [5/3] | acc: 0.0 | no_neighbors: 84\n",
            "k: [6/3] | n: [6/3] | acc: 0.0 | no_neighbors: 84\n"
          ],
          "name": "stdout"
        }
      ]
    },
    {
      "cell_type": "code",
      "metadata": {
        "id": "JqRHnC4ugh2n",
        "outputId": "457ce591-3eb6-4a85-9409-3c536ffe600b",
        "colab": {
          "base_uri": "https://localhost:8080/",
          "height": 1000
        }
      },
      "source": [
        "results"
      ],
      "execution_count": 209,
      "outputs": [
        {
          "output_type": "execute_result",
          "data": {
            "text/html": [
              "<div>\n",
              "<style scoped>\n",
              "    .dataframe tbody tr th:only-of-type {\n",
              "        vertical-align: middle;\n",
              "    }\n",
              "\n",
              "    .dataframe tbody tr th {\n",
              "        vertical-align: top;\n",
              "    }\n",
              "\n",
              "    .dataframe thead th {\n",
              "        text-align: right;\n",
              "    }\n",
              "</style>\n",
              "<table border=\"1\" class=\"dataframe\">\n",
              "  <thead>\n",
              "    <tr style=\"text-align: right;\">\n",
              "      <th></th>\n",
              "      <th>k</th>\n",
              "      <th>n</th>\n",
              "      <th>test_acc</th>\n",
              "      <th>no_neb</th>\n",
              "    </tr>\n",
              "  </thead>\n",
              "  <tbody>\n",
              "    <tr>\n",
              "      <th>0</th>\n",
              "      <td>1</td>\n",
              "      <td>1</td>\n",
              "      <td>0.169</td>\n",
              "      <td>789</td>\n",
              "    </tr>\n",
              "    <tr>\n",
              "      <th>1</th>\n",
              "      <td>1</td>\n",
              "      <td>2</td>\n",
              "      <td>0.137</td>\n",
              "      <td>589</td>\n",
              "    </tr>\n",
              "    <tr>\n",
              "      <th>2</th>\n",
              "      <td>1</td>\n",
              "      <td>3</td>\n",
              "      <td>0.059</td>\n",
              "      <td>500</td>\n",
              "    </tr>\n",
              "    <tr>\n",
              "      <th>3</th>\n",
              "      <td>1</td>\n",
              "      <td>4</td>\n",
              "      <td>0.029</td>\n",
              "      <td>453</td>\n",
              "    </tr>\n",
              "    <tr>\n",
              "      <th>4</th>\n",
              "      <td>1</td>\n",
              "      <td>5</td>\n",
              "      <td>0.010</td>\n",
              "      <td>429</td>\n",
              "    </tr>\n",
              "    <tr>\n",
              "      <th>5</th>\n",
              "      <td>1</td>\n",
              "      <td>6</td>\n",
              "      <td>0.004</td>\n",
              "      <td>422</td>\n",
              "    </tr>\n",
              "    <tr>\n",
              "      <th>6</th>\n",
              "      <td>2</td>\n",
              "      <td>1</td>\n",
              "      <td>0.340</td>\n",
              "      <td>459</td>\n",
              "    </tr>\n",
              "    <tr>\n",
              "      <th>7</th>\n",
              "      <td>2</td>\n",
              "      <td>2</td>\n",
              "      <td>0.126</td>\n",
              "      <td>186</td>\n",
              "    </tr>\n",
              "    <tr>\n",
              "      <th>8</th>\n",
              "      <td>2</td>\n",
              "      <td>3</td>\n",
              "      <td>0.022</td>\n",
              "      <td>139</td>\n",
              "    </tr>\n",
              "    <tr>\n",
              "      <th>9</th>\n",
              "      <td>2</td>\n",
              "      <td>4</td>\n",
              "      <td>0.002</td>\n",
              "      <td>136</td>\n",
              "    </tr>\n",
              "    <tr>\n",
              "      <th>10</th>\n",
              "      <td>2</td>\n",
              "      <td>5</td>\n",
              "      <td>0.000</td>\n",
              "      <td>136</td>\n",
              "    </tr>\n",
              "    <tr>\n",
              "      <th>11</th>\n",
              "      <td>2</td>\n",
              "      <td>6</td>\n",
              "      <td>0.000</td>\n",
              "      <td>136</td>\n",
              "    </tr>\n",
              "    <tr>\n",
              "      <th>12</th>\n",
              "      <td>3</td>\n",
              "      <td>1</td>\n",
              "      <td>0.336</td>\n",
              "      <td>247</td>\n",
              "    </tr>\n",
              "    <tr>\n",
              "      <th>13</th>\n",
              "      <td>3</td>\n",
              "      <td>2</td>\n",
              "      <td>0.075</td>\n",
              "      <td>95</td>\n",
              "    </tr>\n",
              "    <tr>\n",
              "      <th>14</th>\n",
              "      <td>3</td>\n",
              "      <td>3</td>\n",
              "      <td>0.004</td>\n",
              "      <td>91</td>\n",
              "    </tr>\n",
              "    <tr>\n",
              "      <th>15</th>\n",
              "      <td>3</td>\n",
              "      <td>4</td>\n",
              "      <td>0.000</td>\n",
              "      <td>91</td>\n",
              "    </tr>\n",
              "    <tr>\n",
              "      <th>16</th>\n",
              "      <td>3</td>\n",
              "      <td>5</td>\n",
              "      <td>0.000</td>\n",
              "      <td>91</td>\n",
              "    </tr>\n",
              "    <tr>\n",
              "      <th>17</th>\n",
              "      <td>3</td>\n",
              "      <td>6</td>\n",
              "      <td>0.000</td>\n",
              "      <td>91</td>\n",
              "    </tr>\n",
              "    <tr>\n",
              "      <th>18</th>\n",
              "      <td>4</td>\n",
              "      <td>1</td>\n",
              "      <td>0.288</td>\n",
              "      <td>135</td>\n",
              "    </tr>\n",
              "    <tr>\n",
              "      <th>19</th>\n",
              "      <td>4</td>\n",
              "      <td>2</td>\n",
              "      <td>0.017</td>\n",
              "      <td>96</td>\n",
              "    </tr>\n",
              "    <tr>\n",
              "      <th>20</th>\n",
              "      <td>4</td>\n",
              "      <td>3</td>\n",
              "      <td>0.002</td>\n",
              "      <td>94</td>\n",
              "    </tr>\n",
              "    <tr>\n",
              "      <th>21</th>\n",
              "      <td>4</td>\n",
              "      <td>4</td>\n",
              "      <td>0.000</td>\n",
              "      <td>94</td>\n",
              "    </tr>\n",
              "    <tr>\n",
              "      <th>22</th>\n",
              "      <td>4</td>\n",
              "      <td>5</td>\n",
              "      <td>0.000</td>\n",
              "      <td>94</td>\n",
              "    </tr>\n",
              "    <tr>\n",
              "      <th>23</th>\n",
              "      <td>4</td>\n",
              "      <td>6</td>\n",
              "      <td>0.000</td>\n",
              "      <td>94</td>\n",
              "    </tr>\n",
              "    <tr>\n",
              "      <th>24</th>\n",
              "      <td>5</td>\n",
              "      <td>1</td>\n",
              "      <td>0.255</td>\n",
              "      <td>110</td>\n",
              "    </tr>\n",
              "    <tr>\n",
              "      <th>25</th>\n",
              "      <td>5</td>\n",
              "      <td>2</td>\n",
              "      <td>0.014</td>\n",
              "      <td>91</td>\n",
              "    </tr>\n",
              "    <tr>\n",
              "      <th>26</th>\n",
              "      <td>5</td>\n",
              "      <td>3</td>\n",
              "      <td>0.001</td>\n",
              "      <td>90</td>\n",
              "    </tr>\n",
              "    <tr>\n",
              "      <th>27</th>\n",
              "      <td>5</td>\n",
              "      <td>4</td>\n",
              "      <td>0.000</td>\n",
              "      <td>90</td>\n",
              "    </tr>\n",
              "    <tr>\n",
              "      <th>28</th>\n",
              "      <td>5</td>\n",
              "      <td>5</td>\n",
              "      <td>0.000</td>\n",
              "      <td>90</td>\n",
              "    </tr>\n",
              "    <tr>\n",
              "      <th>29</th>\n",
              "      <td>5</td>\n",
              "      <td>6</td>\n",
              "      <td>0.000</td>\n",
              "      <td>90</td>\n",
              "    </tr>\n",
              "    <tr>\n",
              "      <th>30</th>\n",
              "      <td>6</td>\n",
              "      <td>1</td>\n",
              "      <td>0.218</td>\n",
              "      <td>97</td>\n",
              "    </tr>\n",
              "    <tr>\n",
              "      <th>31</th>\n",
              "      <td>6</td>\n",
              "      <td>2</td>\n",
              "      <td>0.003</td>\n",
              "      <td>84</td>\n",
              "    </tr>\n",
              "    <tr>\n",
              "      <th>32</th>\n",
              "      <td>6</td>\n",
              "      <td>3</td>\n",
              "      <td>0.000</td>\n",
              "      <td>84</td>\n",
              "    </tr>\n",
              "    <tr>\n",
              "      <th>33</th>\n",
              "      <td>6</td>\n",
              "      <td>4</td>\n",
              "      <td>0.000</td>\n",
              "      <td>84</td>\n",
              "    </tr>\n",
              "    <tr>\n",
              "      <th>34</th>\n",
              "      <td>6</td>\n",
              "      <td>5</td>\n",
              "      <td>0.000</td>\n",
              "      <td>84</td>\n",
              "    </tr>\n",
              "    <tr>\n",
              "      <th>35</th>\n",
              "      <td>6</td>\n",
              "      <td>6</td>\n",
              "      <td>0.000</td>\n",
              "      <td>84</td>\n",
              "    </tr>\n",
              "  </tbody>\n",
              "</table>\n",
              "</div>"
            ],
            "text/plain": [
              "    k  n  test_acc no_neb\n",
              "0   1  1     0.169    789\n",
              "1   1  2     0.137    589\n",
              "2   1  3     0.059    500\n",
              "3   1  4     0.029    453\n",
              "4   1  5     0.010    429\n",
              "5   1  6     0.004    422\n",
              "6   2  1     0.340    459\n",
              "7   2  2     0.126    186\n",
              "8   2  3     0.022    139\n",
              "9   2  4     0.002    136\n",
              "10  2  5     0.000    136\n",
              "11  2  6     0.000    136\n",
              "12  3  1     0.336    247\n",
              "13  3  2     0.075     95\n",
              "14  3  3     0.004     91\n",
              "15  3  4     0.000     91\n",
              "16  3  5     0.000     91\n",
              "17  3  6     0.000     91\n",
              "18  4  1     0.288    135\n",
              "19  4  2     0.017     96\n",
              "20  4  3     0.002     94\n",
              "21  4  4     0.000     94\n",
              "22  4  5     0.000     94\n",
              "23  4  6     0.000     94\n",
              "24  5  1     0.255    110\n",
              "25  5  2     0.014     91\n",
              "26  5  3     0.001     90\n",
              "27  5  4     0.000     90\n",
              "28  5  5     0.000     90\n",
              "29  5  6     0.000     90\n",
              "30  6  1     0.218     97\n",
              "31  6  2     0.003     84\n",
              "32  6  3     0.000     84\n",
              "33  6  4     0.000     84\n",
              "34  6  5     0.000     84\n",
              "35  6  6     0.000     84"
            ]
          },
          "metadata": {
            "tags": []
          },
          "execution_count": 209
        }
      ]
    },
    {
      "cell_type": "code",
      "metadata": {
        "id": "qmd1bsv7gY35",
        "outputId": "2fb1afb0-27b1-45b9-cab2-03fedec0642e",
        "colab": {
          "base_uri": "https://localhost:8080/",
          "height": 731
        }
      },
      "source": [
        "plt.figure(figsize=(16, 12))\n",
        "\n",
        "sns.lineplot(x='k', y='test_acc', data=results, hue='n')"
      ],
      "execution_count": 211,
      "outputs": [
        {
          "output_type": "execute_result",
          "data": {
            "text/plain": [
              "<matplotlib.axes._subplots.AxesSubplot at 0x7f5688300a90>"
            ]
          },
          "metadata": {
            "tags": []
          },
          "execution_count": 211
        },
        {
          "output_type": "display_data",
          "data": {
            "image/png": "[encoded data removed]",
            "text/plain": [
              "<Figure size 1152x864 with 1 Axes>"
            ]
          },
          "metadata": {
            "tags": []
          }
        }
      ]
    },
    {
      "cell_type": "code",
      "metadata": {
        "id": "enRGX51hhmnp",
        "outputId": "cf0c154c-4123-4e2b-d4ca-e728201b67b6",
        "colab": {
          "base_uri": "https://localhost:8080/",
          "height": 638
        }
      },
      "source": [
        "plt.figure(figsize=(14, 10))\n",
        "\n",
        "sns.lineplot(x=results['k'], y=results[results['n']==1]['test_acc'], data=results).set(title='Testing accuracy of the KNN with different neighborhood depth')"
      ],
      "execution_count": 222,
      "outputs": [
        {
          "output_type": "execute_result",
          "data": {
            "text/plain": [
              "[Text(0.5, 1.0, 'Testing accuracy of the KNN with different neighborhood depth')]"
            ]
          },
          "metadata": {
            "tags": []
          },
          "execution_count": 222
        },
        {
          "output_type": "display_data",
          "data": {
            "image/png": "[encoded data removed]",
            "text/plain": [
              "<Figure size 1008x720 with 1 Axes>"
            ]
          },
          "metadata": {
            "tags": []
          }
        }
      ]
    }
  ]
}