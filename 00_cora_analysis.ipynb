{
  "nbformat": 4,
  "nbformat_minor": 0,
  "metadata": {
    "colab": {
      "name": "00_knn_cora.ipynb",
      "provenance": [],
      "toc_visible": true,
      "authorship_tag": "ABX9TyPsVlCCY02V/H/fAMaGw0l8",
      "include_colab_link": true
    },
    "kernelspec": {
      "display_name": "Python 3",
      "name": "python3"
    },
    "language_info": {
      "name": "python"
    },
    "widgets": {
      "application/vnd.jupyter.widget-state+json": {
        "8ea11a5a3d564223a84dc1e50cf0c958": {
          "model_module": "@jupyter-widgets/controls",
          "model_name": "HBoxModel",
          "state": {
            "_view_name": "HBoxView",
            "_dom_classes": [],
            "_model_name": "HBoxModel",
            "_view_module": "@jupyter-widgets/controls",
            "_model_module_version": "1.5.0",
            "_view_count": null,
            "_view_module_version": "1.5.0",
            "box_style": "",
            "layout": "IPY_MODEL_f5c858f7e7b14efca74237f833e189c6",
            "_model_module": "@jupyter-widgets/controls",
            "children": [
              "IPY_MODEL_4a85064044484b88b91933f85fc4f12b",
              "IPY_MODEL_67e35dbb5d6d42dabcacd213eff88830",
              "IPY_MODEL_7d2a0cc73cad481fabdb2d4c1c52264b"
            ]
          }
        },
        "f5c858f7e7b14efca74237f833e189c6": {
          "model_module": "@jupyter-widgets/base",
          "model_name": "LayoutModel",
          "state": {
            "_view_name": "LayoutView",
            "grid_template_rows": null,
            "right": null,
            "justify_content": null,
            "_view_module": "@jupyter-widgets/base",
            "overflow": null,
            "_model_module_version": "1.2.0",
            "_view_count": null,
            "flex_flow": null,
            "width": null,
            "min_width": null,
            "border": null,
            "align_items": null,
            "bottom": null,
            "_model_module": "@jupyter-widgets/base",
            "top": null,
            "grid_column": null,
            "overflow_y": null,
            "overflow_x": null,
            "grid_auto_flow": null,
            "grid_area": null,
            "grid_template_columns": null,
            "flex": null,
            "_model_name": "LayoutModel",
            "justify_items": null,
            "grid_row": null,
            "max_height": null,
            "align_content": null,
            "visibility": null,
            "align_self": null,
            "height": null,
            "min_height": null,
            "padding": null,
            "grid_auto_rows": null,
            "grid_gap": null,
            "max_width": null,
            "order": null,
            "_view_module_version": "1.2.0",
            "grid_template_areas": null,
            "object_position": null,
            "object_fit": null,
            "grid_auto_columns": null,
            "margin": null,
            "display": null,
            "left": null
          }
        },
        "4a85064044484b88b91933f85fc4f12b": {
          "model_module": "@jupyter-widgets/controls",
          "model_name": "HTMLModel",
          "state": {
            "_view_name": "HTMLView",
            "style": "IPY_MODEL_e1307ccd36294643b19c19433974e6d5",
            "_dom_classes": [],
            "description": "",
            "_model_name": "HTMLModel",
            "placeholder": "​",
            "_view_module": "@jupyter-widgets/controls",
            "_model_module_version": "1.5.0",
            "value": "100%",
            "_view_count": null,
            "_view_module_version": "1.5.0",
            "description_tooltip": null,
            "_model_module": "@jupyter-widgets/controls",
            "layout": "IPY_MODEL_a1c20d898de44a87826714e21dd50537"
          }
        },
        "67e35dbb5d6d42dabcacd213eff88830": {
          "model_module": "@jupyter-widgets/controls",
          "model_name": "FloatProgressModel",
          "state": {
            "_view_name": "ProgressView",
            "style": "IPY_MODEL_1d019e93f4404a488333acddf7c91e3f",
            "_dom_classes": [],
            "description": "",
            "_model_name": "FloatProgressModel",
            "bar_style": "success",
            "max": 20,
            "_view_module": "@jupyter-widgets/controls",
            "_model_module_version": "1.5.0",
            "value": 20,
            "_view_count": null,
            "_view_module_version": "1.5.0",
            "orientation": "horizontal",
            "min": 0,
            "description_tooltip": null,
            "_model_module": "@jupyter-widgets/controls",
            "layout": "IPY_MODEL_0f7170eb33da47dfaf1ecf6f9dba70e5"
          }
        },
        "7d2a0cc73cad481fabdb2d4c1c52264b": {
          "model_module": "@jupyter-widgets/controls",
          "model_name": "HTMLModel",
          "state": {
            "_view_name": "HTMLView",
            "style": "IPY_MODEL_8d448e9afcfa4d748a52bd6ec1d9b0e9",
            "_dom_classes": [],
            "description": "",
            "_model_name": "HTMLModel",
            "placeholder": "​",
            "_view_module": "@jupyter-widgets/controls",
            "_model_module_version": "1.5.0",
            "value": " 20/20 [4:48:45&lt;00:00, 1320.30s/it]",
            "_view_count": null,
            "_view_module_version": "1.5.0",
            "description_tooltip": null,
            "_model_module": "@jupyter-widgets/controls",
            "layout": "IPY_MODEL_527d0601fb614472b1ef48e981879cd8"
          }
        },
        "e1307ccd36294643b19c19433974e6d5": {
          "model_module": "@jupyter-widgets/controls",
          "model_name": "DescriptionStyleModel",
          "state": {
            "_view_name": "StyleView",
            "_model_name": "DescriptionStyleModel",
            "description_width": "",
            "_view_module": "@jupyter-widgets/base",
            "_model_module_version": "1.5.0",
            "_view_count": null,
            "_view_module_version": "1.2.0",
            "_model_module": "@jupyter-widgets/controls"
          }
        },
        "a1c20d898de44a87826714e21dd50537": {
          "model_module": "@jupyter-widgets/base",
          "model_name": "LayoutModel",
          "state": {
            "_view_name": "LayoutView",
            "grid_template_rows": null,
            "right": null,
            "justify_content": null,
            "_view_module": "@jupyter-widgets/base",
            "overflow": null,
            "_model_module_version": "1.2.0",
            "_view_count": null,
            "flex_flow": null,
            "width": null,
            "min_width": null,
            "border": null,
            "align_items": null,
            "bottom": null,
            "_model_module": "@jupyter-widgets/base",
            "top": null,
            "grid_column": null,
            "overflow_y": null,
            "overflow_x": null,
            "grid_auto_flow": null,
            "grid_area": null,
            "grid_template_columns": null,
            "flex": null,
            "_model_name": "LayoutModel",
            "justify_items": null,
            "grid_row": null,
            "max_height": null,
            "align_content": null,
            "visibility": null,
            "align_self": null,
            "height": null,
            "min_height": null,
            "padding": null,
            "grid_auto_rows": null,
            "grid_gap": null,
            "max_width": null,
            "order": null,
            "_view_module_version": "1.2.0",
            "grid_template_areas": null,
            "object_position": null,
            "object_fit": null,
            "grid_auto_columns": null,
            "margin": null,
            "display": null,
            "left": null
          }
        },
        "1d019e93f4404a488333acddf7c91e3f": {
          "model_module": "@jupyter-widgets/controls",
          "model_name": "ProgressStyleModel",
          "state": {
            "_view_name": "StyleView",
            "_model_name": "ProgressStyleModel",
            "description_width": "",
            "_view_module": "@jupyter-widgets/base",
            "_model_module_version": "1.5.0",
            "_view_count": null,
            "_view_module_version": "1.2.0",
            "bar_color": null,
            "_model_module": "@jupyter-widgets/controls"
          }
        },
        "0f7170eb33da47dfaf1ecf6f9dba70e5": {
          "model_module": "@jupyter-widgets/base",
          "model_name": "LayoutModel",
          "state": {
            "_view_name": "LayoutView",
            "grid_template_rows": null,
            "right": null,
            "justify_content": null,
            "_view_module": "@jupyter-widgets/base",
            "overflow": null,
            "_model_module_version": "1.2.0",
            "_view_count": null,
            "flex_flow": null,
            "width": null,
            "min_width": null,
            "border": null,
            "align_items": null,
            "bottom": null,
            "_model_module": "@jupyter-widgets/base",
            "top": null,
            "grid_column": null,
            "overflow_y": null,
            "overflow_x": null,
            "grid_auto_flow": null,
            "grid_area": null,
            "grid_template_columns": null,
            "flex": null,
            "_model_name": "LayoutModel",
            "justify_items": null,
            "grid_row": null,
            "max_height": null,
            "align_content": null,
            "visibility": null,
            "align_self": null,
            "height": null,
            "min_height": null,
            "padding": null,
            "grid_auto_rows": null,
            "grid_gap": null,
            "max_width": null,
            "order": null,
            "_view_module_version": "1.2.0",
            "grid_template_areas": null,
            "object_position": null,
            "object_fit": null,
            "grid_auto_columns": null,
            "margin": null,
            "display": null,
            "left": null
          }
        },
        "8d448e9afcfa4d748a52bd6ec1d9b0e9": {
          "model_module": "@jupyter-widgets/controls",
          "model_name": "DescriptionStyleModel",
          "state": {
            "_view_name": "StyleView",
            "_model_name": "DescriptionStyleModel",
            "description_width": "",
            "_view_module": "@jupyter-widgets/base",
            "_model_module_version": "1.5.0",
            "_view_count": null,
            "_view_module_version": "1.2.0",
            "_model_module": "@jupyter-widgets/controls"
          }
        },
        "527d0601fb614472b1ef48e981879cd8": {
          "model_module": "@jupyter-widgets/base",
          "model_name": "LayoutModel",
          "state": {
            "_view_name": "LayoutView",
            "grid_template_rows": null,
            "right": null,
            "justify_content": null,
            "_view_module": "@jupyter-widgets/base",
            "overflow": null,
            "_model_module_version": "1.2.0",
            "_view_count": null,
            "flex_flow": null,
            "width": null,
            "min_width": null,
            "border": null,
            "align_items": null,
            "bottom": null,
            "_model_module": "@jupyter-widgets/base",
            "top": null,
            "grid_column": null,
            "overflow_y": null,
            "overflow_x": null,
            "grid_auto_flow": null,
            "grid_area": null,
            "grid_template_columns": null,
            "flex": null,
            "_model_name": "LayoutModel",
            "justify_items": null,
            "grid_row": null,
            "max_height": null,
            "align_content": null,
            "visibility": null,
            "align_self": null,
            "height": null,
            "min_height": null,
            "padding": null,
            "grid_auto_rows": null,
            "grid_gap": null,
            "max_width": null,
            "order": null,
            "_view_module_version": "1.2.0",
            "grid_template_areas": null,
            "object_position": null,
            "object_fit": null,
            "grid_auto_columns": null,
            "margin": null,
            "display": null,
            "left": null
          }
        },
        "ce0dc22e2f554a59bc33ff3fac322644": {
          "model_module": "@jupyter-widgets/controls",
          "model_name": "HBoxModel",
          "state": {
            "_view_name": "HBoxView",
            "_dom_classes": [],
            "_model_name": "HBoxModel",
            "_view_module": "@jupyter-widgets/controls",
            "_model_module_version": "1.5.0",
            "_view_count": null,
            "_view_module_version": "1.5.0",
            "box_style": "",
            "layout": "IPY_MODEL_724caea3001c4c54a1785a1029ab7414",
            "_model_module": "@jupyter-widgets/controls",
            "children": [
              "IPY_MODEL_ff9ab6e1ea4341b6941a20e57c5ca676",
              "IPY_MODEL_0123a647a1c3413aba58c564f02c1563",
              "IPY_MODEL_190e97e0c87b4e25b32cd720d8d18034"
            ]
          }
        },
        "724caea3001c4c54a1785a1029ab7414": {
          "model_module": "@jupyter-widgets/base",
          "model_name": "LayoutModel",
          "state": {
            "_view_name": "LayoutView",
            "grid_template_rows": null,
            "right": null,
            "justify_content": null,
            "_view_module": "@jupyter-widgets/base",
            "overflow": null,
            "_model_module_version": "1.2.0",
            "_view_count": null,
            "flex_flow": null,
            "width": null,
            "min_width": null,
            "border": null,
            "align_items": null,
            "bottom": null,
            "_model_module": "@jupyter-widgets/base",
            "top": null,
            "grid_column": null,
            "overflow_y": null,
            "overflow_x": null,
            "grid_auto_flow": null,
            "grid_area": null,
            "grid_template_columns": null,
            "flex": null,
            "_model_name": "LayoutModel",
            "justify_items": null,
            "grid_row": null,
            "max_height": null,
            "align_content": null,
            "visibility": null,
            "align_self": null,
            "height": null,
            "min_height": null,
            "padding": null,
            "grid_auto_rows": null,
            "grid_gap": null,
            "max_width": null,
            "order": null,
            "_view_module_version": "1.2.0",
            "grid_template_areas": null,
            "object_position": null,
            "object_fit": null,
            "grid_auto_columns": null,
            "margin": null,
            "display": null,
            "left": null
          }
        },
        "ff9ab6e1ea4341b6941a20e57c5ca676": {
          "model_module": "@jupyter-widgets/controls",
          "model_name": "HTMLModel",
          "state": {
            "_view_name": "HTMLView",
            "style": "IPY_MODEL_f2b3f794ba4a4af39589f8713070f338",
            "_dom_classes": [],
            "description": "",
            "_model_name": "HTMLModel",
            "placeholder": "​",
            "_view_module": "@jupyter-widgets/controls",
            "_model_module_version": "1.5.0",
            "value": "100%",
            "_view_count": null,
            "_view_module_version": "1.5.0",
            "description_tooltip": null,
            "_model_module": "@jupyter-widgets/controls",
            "layout": "IPY_MODEL_0aa6ae458a0d4c95a32bc6d8883b97fb"
          }
        },
        "0123a647a1c3413aba58c564f02c1563": {
          "model_module": "@jupyter-widgets/controls",
          "model_name": "FloatProgressModel",
          "state": {
            "_view_name": "ProgressView",
            "style": "IPY_MODEL_dd6b6a7e3c8a4853b81197b7bd75d8ba",
            "_dom_classes": [],
            "description": "",
            "_model_name": "FloatProgressModel",
            "bar_style": "success",
            "max": 2708,
            "_view_module": "@jupyter-widgets/controls",
            "_model_module_version": "1.5.0",
            "value": 2708,
            "_view_count": null,
            "_view_module_version": "1.5.0",
            "orientation": "horizontal",
            "min": 0,
            "description_tooltip": null,
            "_model_module": "@jupyter-widgets/controls",
            "layout": "IPY_MODEL_10c9ec0776d54b5683a416351b13026c"
          }
        },
        "190e97e0c87b4e25b32cd720d8d18034": {
          "model_module": "@jupyter-widgets/controls",
          "model_name": "HTMLModel",
          "state": {
            "_view_name": "HTMLView",
            "style": "IPY_MODEL_bd7588c670af466ba527e5bba316603f",
            "_dom_classes": [],
            "description": "",
            "_model_name": "HTMLModel",
            "placeholder": "​",
            "_view_module": "@jupyter-widgets/controls",
            "_model_module_version": "1.5.0",
            "value": " 2708/2708 [00:03&lt;00:00, 712.10it/s]",
            "_view_count": null,
            "_view_module_version": "1.5.0",
            "description_tooltip": null,
            "_model_module": "@jupyter-widgets/controls",
            "layout": "IPY_MODEL_1a58b4fff6e14e4ab9de54707342ce2a"
          }
        },
        "f2b3f794ba4a4af39589f8713070f338": {
          "model_module": "@jupyter-widgets/controls",
          "model_name": "DescriptionStyleModel",
          "state": {
            "_view_name": "StyleView",
            "_model_name": "DescriptionStyleModel",
            "description_width": "",
            "_view_module": "@jupyter-widgets/base",
            "_model_module_version": "1.5.0",
            "_view_count": null,
            "_view_module_version": "1.2.0",
            "_model_module": "@jupyter-widgets/controls"
          }
        },
        "0aa6ae458a0d4c95a32bc6d8883b97fb": {
          "model_module": "@jupyter-widgets/base",
          "model_name": "LayoutModel",
          "state": {
            "_view_name": "LayoutView",
            "grid_template_rows": null,
            "right": null,
            "justify_content": null,
            "_view_module": "@jupyter-widgets/base",
            "overflow": null,
            "_model_module_version": "1.2.0",
            "_view_count": null,
            "flex_flow": null,
            "width": null,
            "min_width": null,
            "border": null,
            "align_items": null,
            "bottom": null,
            "_model_module": "@jupyter-widgets/base",
            "top": null,
            "grid_column": null,
            "overflow_y": null,
            "overflow_x": null,
            "grid_auto_flow": null,
            "grid_area": null,
            "grid_template_columns": null,
            "flex": null,
            "_model_name": "LayoutModel",
            "justify_items": null,
            "grid_row": null,
            "max_height": null,
            "align_content": null,
            "visibility": null,
            "align_self": null,
            "height": null,
            "min_height": null,
            "padding": null,
            "grid_auto_rows": null,
            "grid_gap": null,
            "max_width": null,
            "order": null,
            "_view_module_version": "1.2.0",
            "grid_template_areas": null,
            "object_position": null,
            "object_fit": null,
            "grid_auto_columns": null,
            "margin": null,
            "display": null,
            "left": null
          }
        },
        "dd6b6a7e3c8a4853b81197b7bd75d8ba": {
          "model_module": "@jupyter-widgets/controls",
          "model_name": "ProgressStyleModel",
          "state": {
            "_view_name": "StyleView",
            "_model_name": "ProgressStyleModel",
            "description_width": "",
            "_view_module": "@jupyter-widgets/base",
            "_model_module_version": "1.5.0",
            "_view_count": null,
            "_view_module_version": "1.2.0",
            "bar_color": null,
            "_model_module": "@jupyter-widgets/controls"
          }
        },
        "10c9ec0776d54b5683a416351b13026c": {
          "model_module": "@jupyter-widgets/base",
          "model_name": "LayoutModel",
          "state": {
            "_view_name": "LayoutView",
            "grid_template_rows": null,
            "right": null,
            "justify_content": null,
            "_view_module": "@jupyter-widgets/base",
            "overflow": null,
            "_model_module_version": "1.2.0",
            "_view_count": null,
            "flex_flow": null,
            "width": null,
            "min_width": null,
            "border": null,
            "align_items": null,
            "bottom": null,
            "_model_module": "@jupyter-widgets/base",
            "top": null,
            "grid_column": null,
            "overflow_y": null,
            "overflow_x": null,
            "grid_auto_flow": null,
            "grid_area": null,
            "grid_template_columns": null,
            "flex": null,
            "_model_name": "LayoutModel",
            "justify_items": null,
            "grid_row": null,
            "max_height": null,
            "align_content": null,
            "visibility": null,
            "align_self": null,
            "height": null,
            "min_height": null,
            "padding": null,
            "grid_auto_rows": null,
            "grid_gap": null,
            "max_width": null,
            "order": null,
            "_view_module_version": "1.2.0",
            "grid_template_areas": null,
            "object_position": null,
            "object_fit": null,
            "grid_auto_columns": null,
            "margin": null,
            "display": null,
            "left": null
          }
        },
        "bd7588c670af466ba527e5bba316603f": {
          "model_module": "@jupyter-widgets/controls",
          "model_name": "DescriptionStyleModel",
          "state": {
            "_view_name": "StyleView",
            "_model_name": "DescriptionStyleModel",
            "description_width": "",
            "_view_module": "@jupyter-widgets/base",
            "_model_module_version": "1.5.0",
            "_view_count": null,
            "_view_module_version": "1.2.0",
            "_model_module": "@jupyter-widgets/controls"
          }
        },
        "1a58b4fff6e14e4ab9de54707342ce2a": {
          "model_module": "@jupyter-widgets/base",
          "model_name": "LayoutModel",
          "state": {
            "_view_name": "LayoutView",
            "grid_template_rows": null,
            "right": null,
            "justify_content": null,
            "_view_module": "@jupyter-widgets/base",
            "overflow": null,
            "_model_module_version": "1.2.0",
            "_view_count": null,
            "flex_flow": null,
            "width": null,
            "min_width": null,
            "border": null,
            "align_items": null,
            "bottom": null,
            "_model_module": "@jupyter-widgets/base",
            "top": null,
            "grid_column": null,
            "overflow_y": null,
            "overflow_x": null,
            "grid_auto_flow": null,
            "grid_area": null,
            "grid_template_columns": null,
            "flex": null,
            "_model_name": "LayoutModel",
            "justify_items": null,
            "grid_row": null,
            "max_height": null,
            "align_content": null,
            "visibility": null,
            "align_self": null,
            "height": null,
            "min_height": null,
            "padding": null,
            "grid_auto_rows": null,
            "grid_gap": null,
            "max_width": null,
            "order": null,
            "_view_module_version": "1.2.0",
            "grid_template_areas": null,
            "object_position": null,
            "object_fit": null,
            "grid_auto_columns": null,
            "margin": null,
            "display": null,
            "left": null
          }
        }
      }
    }
  },
  "cells": [
    {
      "cell_type": "markdown",
      "metadata": {
        "id": "view-in-github",
        "colab_type": "text"
      },
      "source": [
        "<a href=\"https://colab.research.google.com/github/AchrafAsh/gnn-receptive-fields/blob/main/00_cora_analysis.ipynb\" target=\"_parent\"><img src=\"https://colab.research.google.com/assets/colab-badge.svg\" alt=\"Open In Colab\"/></a>"
      ]
    },
    {
      "cell_type": "markdown",
      "metadata": {
        "id": "bcoBvNH1807r"
      },
      "source": [
        "The goal of this notebook is to apply a simple **K-nearest neighbors on Cora** dataset to understand the labels of the graph.\n",
        "\n",
        "*NB: it is actually a slightly modified version of the KNN where we consider a k-hop neighborhood and not k neighbors*\n",
        "\n",
        "The expectations are:\n",
        "- the influence of node locality is way more significant than node features, in other words, we can label nodes just by looking at its neighbors\n",
        "- we can compute the graph problem radius by plotting the accuracy w.r.t the size of the neighborhood considered"
      ]
    },
    {
      "cell_type": "markdown",
      "metadata": {
        "id": "7o-HqyQp9s2t"
      },
      "source": [
        "## **Setting up the environment**"
      ]
    },
    {
      "cell_type": "code",
      "metadata": {
        "colab": {
          "base_uri": "https://localhost:8080/"
        },
        "id": "YPKpWz3p8vUO",
        "outputId": "a62afaa7-f2b8-46f7-b841-a1fdbc4f5701"
      },
      "source": [
        "import os, sys\n",
        "import os.path as osp\n",
        "from google.colab import drive\n",
        "drive.mount('/content/mnt')\n",
        "nb_path = '/content/notebooks'\n",
        "try:\n",
        "    os.symlink('/content/mnt/My Drive/Colab Notebooks', nb_path)\n",
        "except:\n",
        "    pass\n",
        "sys.path.insert(0, nb_path)  # or append(nb_path)"
      ],
      "execution_count": 1,
      "outputs": [
        {
          "output_type": "stream",
          "text": [
            "Mounted at /content/mnt\n"
          ],
          "name": "stdout"
        }
      ]
    },
    {
      "cell_type": "code",
      "metadata": {
        "id": "6dJJND3E9viQ"
      },
      "source": [
        "%%capture\n",
        "!wget https://raw.githubusercontent.com/AchrafAsh/gnn-receptive-fields/main/data.py\n",
        "\n",
        "from data import load_dataset\n",
        "\n",
        "path = osp.join(os.getcwd(), 'data')\n",
        "cora_dataset = load_dataset(path, 'Cora')\n",
        "G = cora_dataset[0] # only graph of the dataset\n",
        "\n",
        "num_test_nodes = G.test_mask.sum().item()"
      ],
      "execution_count": 2,
      "outputs": []
    },
    {
      "cell_type": "code",
      "metadata": {
        "id": "YK3mZXQwF3WF"
      },
      "source": [
        "import seaborn as sns\n",
        "import pandas as pd\n",
        "import numpy as np\n",
        "import matplotlib.pyplot as plt\n",
        "\n",
        "from tqdm.notebook import tqdm\n",
        "%matplotlib inline\n",
        "sns.set_style('darkgrid')"
      ],
      "execution_count": 31,
      "outputs": []
    },
    {
      "cell_type": "markdown",
      "metadata": {
        "id": "bvSCFFTy9vrd"
      },
      "source": [
        "## **Building the model**"
      ]
    },
    {
      "cell_type": "code",
      "metadata": {
        "id": "Weufk2_M9v2J"
      },
      "source": [
        "import torch\n",
        "\n",
        "from collections import Counter\n",
        "from torch_geometric.utils import to_dense_adj"
      ],
      "execution_count": 4,
      "outputs": []
    },
    {
      "cell_type": "code",
      "metadata": {
        "id": "TC8bggZh9wCI"
      },
      "source": [
        "A = to_dense_adj(G.edge_index)\n",
        "A = A.squeeze(0)"
      ],
      "execution_count": 5,
      "outputs": []
    },
    {
      "cell_type": "code",
      "metadata": {
        "id": "ybrKA7aW9wMJ"
      },
      "source": [
        "test_acc = 0\n",
        "num_test_nodes = 0\n",
        "\n",
        "for i in range(G.num_nodes):\n",
        "    if G.test_mask[i]:\n",
        "        num_test_nodes += 1\n",
        "        neb_labels = []\n",
        "        # count all the labels from its neighbors\n",
        "        for j in range(G.num_nodes):\n",
        "            if A[i, j] != 0:\n",
        "                neb_labels += [G.y[j].item()]\n",
        "        \n",
        "        # find the most occurence in the neighborhood\n",
        "        count = Counter(neb_labels)\n",
        "        pred = max(count, key=lambda x: d[x])\n",
        "        if pred == G.y[i]: test_acc += 1"
      ],
      "execution_count": null,
      "outputs": []
    },
    {
      "cell_type": "code",
      "metadata": {
        "colab": {
          "base_uri": "https://localhost:8080/"
        },
        "id": "0vRol0rzBjDq",
        "outputId": "8580957d-a97f-4baa-9b49-4369872b37c9"
      },
      "source": [
        "test_acc / num_test_nodes"
      ],
      "execution_count": null,
      "outputs": [
        {
          "output_type": "execute_result",
          "data": {
            "text/plain": [
              "0.789"
            ]
          },
          "metadata": {
            "tags": []
          },
          "execution_count": 41
        }
      ]
    },
    {
      "cell_type": "markdown",
      "metadata": {
        "id": "p74ExftPBtW_"
      },
      "source": [
        "That is what I thought 🤯\n",
        "A KNN with a 1-hop neighborhood performs better than most graph neural networks!!!\n",
        "\n",
        "But we cheated a little bit 🤭. We looked at neighbors regardless of whether they are part of our training set. Let's see what happens if we just consider nodes from our training set:"
      ]
    },
    {
      "cell_type": "code",
      "metadata": {
        "id": "5f_gEaNu9wWX"
      },
      "source": [
        "test_acc = 0\n",
        "num_test_nodes = 0\n",
        "num_no_neighbors = 0\n",
        "\n",
        "for i in range(G.num_nodes):\n",
        "    if G.test_mask[i]:\n",
        "        num_test_nodes += 1\n",
        "        neb_labels = []\n",
        "        # count all the labels from its neighbors\n",
        "        for j in range(G.num_nodes):\n",
        "            if A[i, j] != 0 and G.train_mask[j]:\n",
        "                neb_labels += [G.y[j].item()]\n",
        "        \n",
        "        # find the most occurence in the neighborhood\n",
        "        if len(neb_labels) != 0:\n",
        "            count = Counter(neb_labels)\n",
        "            pred = max(count, key=lambda x: d[x])\n",
        "            if pred == G.y[i]: test_acc += 1\n",
        "        else:\n",
        "            num_no_neighbors += 1"
      ],
      "execution_count": null,
      "outputs": []
    },
    {
      "cell_type": "code",
      "metadata": {
        "colab": {
          "base_uri": "https://localhost:8080/"
        },
        "id": "ONK3uXRi9wgG",
        "outputId": "64764685-daf8-4cd5-b5f5-c7baa2b53f44"
      },
      "source": [
        "print(f\"Test accuracy: {test_acc / num_test_nodes}\")\n",
        "print(f\"{num_no_neighbors}/{num_test_nodes} () testing nodes had no training nodes in their direct neighborhood\")"
      ],
      "execution_count": null,
      "outputs": [
        {
          "output_type": "stream",
          "text": [
            "Test accuracy: 0.169\n",
            "789/1000 testing nodes had no training nodes in their direct neighborhood\n"
          ],
          "name": "stdout"
        }
      ]
    },
    {
      "cell_type": "markdown",
      "metadata": {
        "id": "VzyaB3Af9w3V"
      },
      "source": [
        "Ok now this an entirely different score. Most of our testing nodes are actually around other testing nodes.\n",
        "\n",
        "Let's try to increase the neighborhood by one:"
      ]
    },
    {
      "cell_type": "code",
      "metadata": {
        "id": "-ciQj3Ok3rW8"
      },
      "source": [
        "def get_k_hop_neighborhood(k:int, adj: torch.tensor) -> list:\n",
        "    \"\"\"Returns the list of dense adjacency matrices of k-hop neighbors (only)\n",
        "    \n",
        "    Args:\n",
        "        - k (int): maximum depth of neighborhood to compute\n",
        "        - adj [num_nodes, num_nodes]: dense adjacency matrix\n",
        "    \n",
        "    :rtype: List[torch.Tensor]\n",
        "    \"\"\"\n",
        "    \n",
        "    k_hop_neb = [adj.clone()]\n",
        "    pow_A = adj.clone()\n",
        "\n",
        "    for l in range(k-1):\n",
        "        pow_A = torch.mm(adj, pow_A)\n",
        "        k_neb = torch.where(\n",
        "            torch.where(pow_A > 0, 1, 0) - sum(k_hop_neb) > 0,\n",
        "            1,\n",
        "            0\n",
        "        )\n",
        "        k_hop_neb.append(k_neb)\n",
        "    \n",
        "    return k_hop_neb"
      ],
      "execution_count": 7,
      "outputs": []
    },
    {
      "cell_type": "markdown",
      "metadata": {
        "id": "3pZkhqNjlSPH"
      },
      "source": [
        "## **Finding the right depth**\n",
        "\n",
        "Now let's put all of this into a function and run it over several neighborhood sizes to see how our performance evolves"
      ]
    },
    {
      "cell_type": "code",
      "metadata": {
        "id": "6xWlEqahF2_W"
      },
      "source": [
        "def run(k: int):\n",
        "    test_acc = 0\n",
        "    num_test_nodes = 0\n",
        "    num_no_neighbors = 0\n",
        "    k_neb = sum(get_k_hop_neighborhood(k, A+torch.eye(A.size(0))))\n",
        "\n",
        "    for i in range(G.num_nodes):\n",
        "        if G.test_mask[i]:\n",
        "            num_test_nodes += 1\n",
        "            neb_labels = []\n",
        "            # count all the labels from its neighbors\n",
        "            neb_labels = [G.y[j] for j in range(A.size(0)) if G.train_mask[j] and k_neb[i,j] == 1]\n",
        "            \n",
        "            # find the most occurence in the neighborhood\n",
        "            if len(neb_labels) != 0:\n",
        "                count = Counter(neb_labels)\n",
        "                pred = max(count, key=lambda x: count[x])\n",
        "                if pred == G.y[i]: test_acc += 1\n",
        "            else:\n",
        "                num_no_neighbors += 1\n",
        "    \n",
        "    return test_acc/num_test_nodes, num_no_neighbors"
      ],
      "execution_count": null,
      "outputs": []
    },
    {
      "cell_type": "code",
      "metadata": {
        "id": "f3M0uvM_F3Ju",
        "colab": {
          "base_uri": "https://localhost:8080/"
        },
        "outputId": "3cfe854a-aaca-4a76-daf2-d3c9ef9f5c3f"
      },
      "source": [
        "all_test_acc, all_num_no_neb = [], []\n",
        "for k in range(1, 7):\n",
        "    test_acc, num_no_neb = run(k)\n",
        "    all_test_acc.append(test_acc)\n",
        "    all_num_no_neb.append(num_no_neb)\n",
        "    \n",
        "    print(f\"k: {k} | test_acc: {test_acc} | num_no_neb: {num_no_neb}\")"
      ],
      "execution_count": null,
      "outputs": [
        {
          "output_type": "stream",
          "text": [
            "k: 1 | test_acc: 0.169 | num_no_neb: 789\n",
            "k: 2 | test_acc: 0.413 | num_no_neb: 382\n",
            "k: 3 | test_acc: 0.439 | num_no_neb: 186\n",
            "k: 4 | test_acc: 0.401 | num_no_neb: 101\n",
            "k: 5 | test_acc: 0.361 | num_no_neb: 76\n",
            "k: 6 | test_acc: 0.339 | num_no_neb: 66\n"
          ],
          "name": "stdout"
        }
      ]
    },
    {
      "cell_type": "code",
      "metadata": {
        "id": "0a3rnOUA1dXW"
      },
      "source": [
        "all_num_no_neb = list(map(lambda x: x/1000, all_num_no_neb))"
      ],
      "execution_count": null,
      "outputs": []
    },
    {
      "cell_type": "code",
      "metadata": {
        "colab": {
          "base_uri": "https://localhost:8080/",
          "height": 530
        },
        "id": "67S11ZiIK3dA",
        "outputId": "2f5817fc-9c4a-4316-cdf6-ee75c6e02114"
      },
      "source": [
        "plt.figure(figsize=(14, 8))\n",
        "\n",
        "\n",
        "data = pd.DataFrame({\n",
        "    'k': range(1, 7),\n",
        "    'test_acc': all_test_acc,\n",
        "    'no_neighbors': all_num_no_neb\n",
        "})\n",
        "\n",
        "sns.lineplot(x='k', y='value', hue='variable', data=pd.melt(data, ['k'])).set(title=\"KNN on Cora\")"
      ],
      "execution_count": null,
      "outputs": [
        {
          "output_type": "execute_result",
          "data": {
            "text/plain": [
              "[Text(0.5, 1.0, 'KNN on Cora')]"
            ]
          },
          "metadata": {
            "tags": []
          },
          "execution_count": 24
        },
        {
          "output_type": "display_data",
          "data": {
            "image/png": "[encoded data removed]",
            "text/plain": [
              "<Figure size 1008x576 with 1 Axes>"
            ]
          },
          "metadata": {
            "tags": []
          }
        }
      ]
    },
    {
      "cell_type": "markdown",
      "metadata": {
        "id": "uHAazH3OlbeB"
      },
      "source": [
        "Even with a depth of 3 we keep getting better results (the vanilla GCN lose its accuracy after 2 layers)."
      ]
    },
    {
      "cell_type": "markdown",
      "metadata": {
        "id": "0dxHeOtb-2cC"
      },
      "source": [
        "## **Measuring uninformative receptive fields**"
      ]
    },
    {
      "cell_type": "markdown",
      "metadata": {
        "id": "qxMJquH229il"
      },
      "source": [
        "$$\n",
        "informative-quality(v) = \\frac{ \\left| \\{ u \\in \\mathcal N(v) | c(u) = c(v) \\} \\right| }{  \\left| \\mathcal N(v) \\right| }\n",
        "$$"
      ]
    },
    {
      "cell_type": "code",
      "metadata": {
        "id": "1O7Y8gh6-7ex"
      },
      "source": [
        "def informative_ratio(i:int, neb:torch.tensor, mask=None):\n",
        "    \"\"\"\n",
        "    Args:\n",
        "        - i: index of a node\n",
        "        - neb [num_nodes, num_nodes]: neighbors to consider (can be the adjacency matrix or k-hop neighborhood)\n",
        "        - mask [num_nodes]: \"train\", \"test\" or \"val\" to consider only these specific neighbors\n",
        "    \"\"\"\n",
        "    if mask == None:\n",
        "        mask = torch.ones(G.num_nodes)\n",
        "\n",
        "    labels = G.y[neb[i] * mask == 1]\n",
        "    # labels = torch.tensor([G.y[j] for j in range(G.num_nodes) if neb[i,j] == 1 and mask[j]])\n",
        "\n",
        "    if len(labels) == 0: return 0\n",
        "    \n",
        "    return (labels == G.y[i]).sum().item() / len(labels)"
      ],
      "execution_count": null,
      "outputs": []
    },
    {
      "cell_type": "code",
      "metadata": {
        "id": "Zb8DIkuvAee7",
        "colab": {
          "base_uri": "https://localhost:8080/"
        },
        "outputId": "7cd2f250-be44-4640-89a7-afed02c7037f"
      },
      "source": [
        "torch.tensor([informative_ratio(i, A) for i in range(G.num_nodes)]).mean()"
      ],
      "execution_count": null,
      "outputs": [
        {
          "output_type": "execute_result",
          "data": {
            "text/plain": [
              "tensor(0.8252)"
            ]
          },
          "metadata": {
            "tags": []
          },
          "execution_count": 26
        }
      ]
    },
    {
      "cell_type": "code",
      "metadata": {
        "id": "437epT4EFDuy"
      },
      "source": [
        "# get 1 to 10-hop neighborhoods\n",
        "nebs = get_k_hop_neighborhood(10, A)"
      ],
      "execution_count": null,
      "outputs": []
    },
    {
      "cell_type": "code",
      "metadata": {
        "id": "UaBLD-ElFQOs"
      },
      "source": [
        "info_ratio = pd.DataFrame(columns=['k', 'train_ratio', 'hop_ratio', 'all_neb'])"
      ],
      "execution_count": null,
      "outputs": []
    },
    {
      "cell_type": "code",
      "metadata": {
        "id": "8SIzvEJlJIU_",
        "colab": {
          "base_uri": "https://localhost:8080/"
        },
        "outputId": "c1effa55-3510-42fc-c1be-2814f3def496"
      },
      "source": [
        "test_idx = [i for i in range(G.num_nodes) if G.test_mask[i]]\n",
        "neb = torch.zeros(G.num_nodes, G.num_nodes)\n",
        "\n",
        "for k in range(1, 10):\n",
        "    neb = neb + nebs[k-1]\n",
        "    \n",
        "    train_ratio = torch.tensor(\n",
        "        [informative_ratio(i, neb, mask=G.train_mask) for i in test_idx]\n",
        "    ).mean().item()\n",
        "    hop_ratio = torch.tensor(\n",
        "        [informative_ratio(i, nebs[k-1], mask=G.train_mask) for i in test_idx]\n",
        "    ).mean().item()\n",
        "    all_neb_ratio = torch.tensor(\n",
        "        [informative_ratio(i, nebs[k-1]) for i in test_idx]\n",
        "    ).mean().item() \n",
        "    \n",
        "    info_ratio.loc[k-1] = {'k':k, 'train_ratio': train_ratio, 'hop_ratio': hop_ratio, 'all_neb': all_neb_ratio}\n",
        "\n",
        "    print(f\"k: {k} | train_ratio: {train_ratio} | hop-ratio: {hop_ratio} | all neighbors: {all_neb_ratio}\")"
      ],
      "execution_count": null,
      "outputs": [
        {
          "output_type": "stream",
          "text": [
            "k: 1 | train_ratio: 0.16891667246818542 | hop-ratio: 0.16891667246818542 | all neighbors: 0.816875696182251\n",
            "k: 2 | train_ratio: 0.45707565546035767 | hop-ratio: 0.3880768418312073 | all neighbors: 0.7619004249572754\n",
            "k: 3 | train_ratio: 0.4762896001338959 | hop-ratio: 0.37553074955940247 | all neighbors: 0.5438345074653625\n",
            "k: 4 | train_ratio: 0.39577797055244446 | hop-ratio: 0.2910778820514679 | all neighbors: 0.3777962625026703\n",
            "k: 5 | train_ratio: 0.29598456621170044 | hop-ratio: 0.1808316707611084 | all neighbors: 0.24327242374420166\n",
            "k: 6 | train_ratio: 0.23052231967449188 | hop-ratio: 0.11646512895822525 | all neighbors: 0.16547228395938873\n",
            "k: 7 | train_ratio: 0.1963481456041336 | hop-ratio: 0.08987057954072952 | all neighbors: 0.12800486385822296\n",
            "k: 8 | train_ratio: 0.17813144624233246 | hop-ratio: 0.06578488647937775 | all neighbors: 0.11155708879232407\n",
            "k: 9 | train_ratio: 0.16906602680683136 | hop-ratio: 0.04480306804180145 | all neighbors: 0.10523762553930283\n"
          ],
          "name": "stdout"
        }
      ]
    },
    {
      "cell_type": "code",
      "metadata": {
        "id": "NcETv2qMFiLJ",
        "colab": {
          "base_uri": "https://localhost:8080/",
          "height": 638
        },
        "outputId": "08e2a22f-01f1-46ef-f9b2-fb3088626166"
      },
      "source": [
        "plt.figure(figsize=(16, 10))\n",
        "sns.lineplot(x='k', y='value', hue='variable', data=pd.melt(info_ratio.astype('float64'), ['k'])).set(title=\"Information ratio in receptive fields (test nodes)\")\n",
        "plt.axvline(x=3, linestyle='--')\n",
        "plt.axhline(y=.5, linestyle='--')"
      ],
      "execution_count": null,
      "outputs": [
        {
          "output_type": "execute_result",
          "data": {
            "text/plain": [
              "<matplotlib.lines.Line2D at 0x7f6b37279950>"
            ]
          },
          "metadata": {
            "tags": []
          },
          "execution_count": 32
        },
        {
          "output_type": "display_data",
          "data": {
            "image/png": "[encoded data removed]",
            "text/plain": [
              "<Figure size 1152x720 with 1 Axes>"
            ]
          },
          "metadata": {
            "tags": []
          }
        }
      ]
    },
    {
      "cell_type": "markdown",
      "metadata": {
        "id": "q1mPeRRJbPZ0"
      },
      "source": [
        "_info: the target nodes considered are from the test set, and only the nodes from the training set were considered in the information ratio_"
      ]
    },
    {
      "cell_type": "markdown",
      "metadata": {
        "id": "TkUMgsPGbf3E"
      },
      "source": [
        "We should also note that in smaller neighborhoods, most nodes from the test set do not have any neighbors from the training set. This explains why the ratio is so low at the beginning (and not because direct neighbors are from different classes)."
      ]
    },
    {
      "cell_type": "markdown",
      "metadata": {
        "id": "ONlOqbcGMH44"
      },
      "source": [
        "## **More hyperparameters**\n",
        "\n",
        "Now let's try something different. We will run the KNN several time so that after labelling the nodes that we can label, we will have new neighbors to consider.\n",
        "So we now have two hyperparameters:\n",
        "- k: the size of the neighborhood\n",
        "- n: the number of time we want to run the KNN"
      ]
    },
    {
      "cell_type": "code",
      "metadata": {
        "id": "PFa5RJPoiwCs"
      },
      "source": [
        "def run_and_label(labels:list, neb:torch.tensor):\n",
        "    \"\"\"Run KNN on test set with already labelled nodes and returns the new \n",
        "    labels, updated accuracy and the number of nodes from the test set that do not have neighbors from the training set.\n",
        "\n",
        "    Args:\n",
        "        - labels [num_nodes]: all the labels where unlabelled nodes are set to -1\n",
        "        - neb [num_nodes, num_nodes]: neighbors to consider (can be adjacency matrix or k-hop neighborhood)\n",
        "    \"\"\"\n",
        "\n",
        "    test_acc, num_no_neighbors = 0, 0\n",
        "    new_labels = labels.clone()\n",
        "\n",
        "    for i in range(G.num_nodes):\n",
        "        if G.test_mask[i] and labels[i] == -1: # to avoid labelling nodes already labelled\n",
        "            neb_labels = labels[neb[i] * (labels!=-1) == 1] # nodes from the training set and labelled nodes only\n",
        "            \n",
        "            # find the most occurence in the neighborhood\n",
        "            if len(neb_labels) != 0:\n",
        "                count = Counter(neb_labels)\n",
        "                pred = max(count, key=lambda x: count[x])\n",
        "                new_labels[i] = pred.item()\n",
        "                if pred == G.y[i]: test_acc += 1\n",
        "            else:\n",
        "                num_no_neighbors += 1\n",
        "    \n",
        "    return new_labels, test_acc/num_test_nodes, num_no_neighbors"
      ],
      "execution_count": null,
      "outputs": []
    },
    {
      "cell_type": "code",
      "metadata": {
        "colab": {
          "base_uri": "https://localhost:8080/"
        },
        "id": "lrBQ8F4oNgTN",
        "outputId": "6186f3df-21dc-4596-91be-fd04a924b8da"
      },
      "source": [
        "k_neb = get_k_hop_neighborhood(k=6, adj=A)\n",
        "\n",
        "results = pd.DataFrame(columns=['k', 'n', 'test_acc', 'no_neb'])\n",
        "id = 0\n",
        "\n",
        "for k in range(1, 7):\n",
        "    labels = torch.where(G.train_mask, G.y, -1)\n",
        "    for n in range(1, 7):\n",
        "        labels, test_acc, no_neb = run_and_label(labels, neb=k_neb[k-1])\n",
        "        results.loc[id] = {'k':k, 'n':n, 'test_acc': test_acc, 'no_neb': no_neb}\n",
        "        id += 1\n",
        "\n",
        "        print(f\"k: [{k}/3] | n: [{n}/3] | acc: {test_acc} | no_neighbors: {no_neb}\")"
      ],
      "execution_count": null,
      "outputs": [
        {
          "output_type": "stream",
          "text": [
            "k: [1/3] | n: [1/3] | acc: 0.169 | no_neighbors: 789\n",
            "k: [1/3] | n: [2/3] | acc: 0.137 | no_neighbors: 589\n",
            "k: [1/3] | n: [3/3] | acc: 0.059 | no_neighbors: 500\n",
            "k: [1/3] | n: [4/3] | acc: 0.029 | no_neighbors: 453\n",
            "k: [1/3] | n: [5/3] | acc: 0.01 | no_neighbors: 429\n",
            "k: [1/3] | n: [6/3] | acc: 0.004 | no_neighbors: 422\n",
            "k: [2/3] | n: [1/3] | acc: 0.34 | no_neighbors: 459\n",
            "k: [2/3] | n: [2/3] | acc: 0.126 | no_neighbors: 186\n",
            "k: [2/3] | n: [3/3] | acc: 0.022 | no_neighbors: 139\n",
            "k: [2/3] | n: [4/3] | acc: 0.002 | no_neighbors: 136\n",
            "k: [2/3] | n: [5/3] | acc: 0.0 | no_neighbors: 136\n",
            "k: [2/3] | n: [6/3] | acc: 0.0 | no_neighbors: 136\n",
            "k: [3/3] | n: [1/3] | acc: 0.336 | no_neighbors: 247\n",
            "k: [3/3] | n: [2/3] | acc: 0.075 | no_neighbors: 95\n",
            "k: [3/3] | n: [3/3] | acc: 0.004 | no_neighbors: 91\n",
            "k: [3/3] | n: [4/3] | acc: 0.0 | no_neighbors: 91\n",
            "k: [3/3] | n: [5/3] | acc: 0.0 | no_neighbors: 91\n",
            "k: [3/3] | n: [6/3] | acc: 0.0 | no_neighbors: 91\n",
            "k: [4/3] | n: [1/3] | acc: 0.288 | no_neighbors: 135\n",
            "k: [4/3] | n: [2/3] | acc: 0.017 | no_neighbors: 96\n",
            "k: [4/3] | n: [3/3] | acc: 0.002 | no_neighbors: 94\n",
            "k: [4/3] | n: [4/3] | acc: 0.0 | no_neighbors: 94\n",
            "k: [4/3] | n: [5/3] | acc: 0.0 | no_neighbors: 94\n",
            "k: [4/3] | n: [6/3] | acc: 0.0 | no_neighbors: 94\n",
            "k: [5/3] | n: [1/3] | acc: 0.255 | no_neighbors: 110\n",
            "k: [5/3] | n: [2/3] | acc: 0.014 | no_neighbors: 91\n",
            "k: [5/3] | n: [3/3] | acc: 0.001 | no_neighbors: 90\n",
            "k: [5/3] | n: [4/3] | acc: 0.0 | no_neighbors: 90\n",
            "k: [5/3] | n: [5/3] | acc: 0.0 | no_neighbors: 90\n",
            "k: [5/3] | n: [6/3] | acc: 0.0 | no_neighbors: 90\n",
            "k: [6/3] | n: [1/3] | acc: 0.218 | no_neighbors: 97\n",
            "k: [6/3] | n: [2/3] | acc: 0.003 | no_neighbors: 84\n",
            "k: [6/3] | n: [3/3] | acc: 0.0 | no_neighbors: 84\n",
            "k: [6/3] | n: [4/3] | acc: 0.0 | no_neighbors: 84\n",
            "k: [6/3] | n: [5/3] | acc: 0.0 | no_neighbors: 84\n",
            "k: [6/3] | n: [6/3] | acc: 0.0 | no_neighbors: 84\n"
          ],
          "name": "stdout"
        }
      ]
    },
    {
      "cell_type": "code",
      "metadata": {
        "id": "qmd1bsv7gY35",
        "colab": {
          "base_uri": "https://localhost:8080/",
          "height": 731
        },
        "outputId": "2fb1afb0-27b1-45b9-cab2-03fedec0642e"
      },
      "source": [
        "plt.figure(figsize=(16, 12))\n",
        "\n",
        "sns.lineplot(x='k', y='test_acc', data=results, hue='n')"
      ],
      "execution_count": null,
      "outputs": [
        {
          "output_type": "execute_result",
          "data": {
            "text/plain": [
              "<matplotlib.axes._subplots.AxesSubplot at 0x7f5688300a90>"
            ]
          },
          "metadata": {
            "tags": []
          },
          "execution_count": 211
        },
        {
          "output_type": "display_data",
          "data": {
            "image/png": "[encoded data removed]",
            "text/plain": [
              "<Figure size 1152x864 with 1 Axes>"
            ]
          },
          "metadata": {
            "tags": []
          }
        }
      ]
    },
    {
      "cell_type": "code",
      "metadata": {
        "id": "enRGX51hhmnp",
        "colab": {
          "base_uri": "https://localhost:8080/",
          "height": 638
        },
        "outputId": "cf0c154c-4123-4e2b-d4ca-e728201b67b6"
      },
      "source": [
        "plt.figure(figsize=(14, 10))\n",
        "\n",
        "sns.lineplot(x=results['k'], y=results[results['n']==1]['test_acc'], data=results).set(title='Testing accuracy of the KNN with different neighborhood depth')"
      ],
      "execution_count": null,
      "outputs": [
        {
          "output_type": "execute_result",
          "data": {
            "text/plain": [
              "[Text(0.5, 1.0, 'Testing accuracy of the KNN with different neighborhood depth')]"
            ]
          },
          "metadata": {
            "tags": []
          },
          "execution_count": 222
        },
        {
          "output_type": "display_data",
          "data": {
            "image/png": "[encoded data removed]",
            "text/plain": [
              "<Figure size 1008x720 with 1 Axes>"
            ]
          },
          "metadata": {
            "tags": []
          }
        }
      ]
    },
    {
      "cell_type": "markdown",
      "metadata": {
        "id": "j-Lqo77UWFOF"
      },
      "source": [
        "## **Information quality by Feature Correlation**"
      ]
    },
    {
      "cell_type": "markdown",
      "metadata": {
        "id": "ETqasA6MWRYj"
      },
      "source": [
        "For each node $v$ and each feature $j$:\n",
        "$$\n",
        "\\sum_v \\sum_{u \\in \\mathcal N^K(v)} (X_{u}[j] - l_v)^2\n",
        "$$\n",
        "\n",
        "- What does the difference between a feature and the label should mean anyway?\n",
        "<br/>\n",
        "- What should we expect from these values?\n",
        "<br/>\n",
        "- W.r.t the information quality of the neighborhood?\n",
        "\n",
        "I don't think this is what we are looking for, because we are comparing two different things: node features and node labels which have nothing in common and are not supposed to follow the same distribution."
      ]
    },
    {
      "cell_type": "code",
      "metadata": {
        "id": "Wfh2JA94OSAD"
      },
      "source": [
        "adj_self_loops = A + torch.eye(A.size(0))"
      ],
      "execution_count": 6,
      "outputs": []
    },
    {
      "cell_type": "code",
      "metadata": {
        "id": "iyLgASEOue25"
      },
      "source": [
        "all_adj = get_k_hop_neighborhood(20, adj_self_loops)"
      ],
      "execution_count": null,
      "outputs": []
    },
    {
      "cell_type": "code",
      "metadata": {
        "id": "Ij60GWp5PG5D",
        "colab": {
          "base_uri": "https://localhost:8080/"
        },
        "outputId": "afce7c8f-09fe-4032-dc52-f170114cafb8"
      },
      "source": [
        "i = 0 # target node\n",
        "j = 0 # feature considered\n",
        "\n",
        "torch.tensor([\n",
        "    torch.tensor([\n",
        "        ((G.x[all_adj[0][i] == 1][:,j] - G.y[i])**2).sum() for i in range(G.num_nodes)\n",
        "    ]).sum()\n",
        "    for j in range(G.num_features)\n",
        "])"
      ],
      "execution_count": null,
      "outputs": [
        {
          "output_type": "execute_result",
          "data": {
            "text/plain": [
              "tensor([139750., 139398., 138806.,  ..., 140087., 138373., 139830.])"
            ]
          },
          "metadata": {
            "tags": []
          },
          "execution_count": 32
        }
      ]
    },
    {
      "cell_type": "code",
      "metadata": {
        "id": "ZFbDvVRFO06C"
      },
      "source": [
        "j = 0\n",
        "\n",
        "(G.x[all_adj[0][i] == 1][j] - G.y[i]) **2"
      ],
      "execution_count": null,
      "outputs": []
    },
    {
      "cell_type": "code",
      "metadata": {
        "id": "PV-xFxbLW3Fc"
      },
      "source": [
        "def correlation(i:int, edges:torch.Tensor):\n",
        "    \"\"\"\n",
        "    Args:\n",
        "        - i: target node\n",
        "        - edges [num_nodes, num_nodes]: dense matrix of edges\n",
        "    \"\"\"\n",
        "    return ((G.x[edges[i] == 1] - G.y[i])**2).sum(0)"
      ],
      "execution_count": null,
      "outputs": []
    },
    {
      "cell_type": "code",
      "metadata": {
        "id": "B6G5_rIWvlF9"
      },
      "source": [
        "correlations = [correlation(i, k=1) for i in range(G.num_nodes)]"
      ],
      "execution_count": null,
      "outputs": []
    },
    {
      "cell_type": "code",
      "metadata": {
        "id": "UzeUF7kS36_A"
      },
      "source": [
        "correlations = torch.tensor(list(map(lambda x: x.numpy(), correlations)))"
      ],
      "execution_count": null,
      "outputs": []
    },
    {
      "cell_type": "code",
      "metadata": {
        "id": "M5Nn2DCs6MVs",
        "colab": {
          "base_uri": "https://localhost:8080/",
          "height": 439
        },
        "outputId": "099ae359-bc30-427b-e493-de09f8f6401a"
      },
      "source": [
        "pd.DataFrame(correlations.numpy())"
      ],
      "execution_count": null,
      "outputs": [
        {
          "output_type": "execute_result",
          "data": {
            "text/html": [
              "<div>\n",
              "<style scoped>\n",
              "    .dataframe tbody tr th:only-of-type {\n",
              "        vertical-align: middle;\n",
              "    }\n",
              "\n",
              "    .dataframe tbody tr th {\n",
              "        vertical-align: top;\n",
              "    }\n",
              "\n",
              "    .dataframe thead th {\n",
              "        text-align: right;\n",
              "    }\n",
              "</style>\n",
              "<table border=\"1\" class=\"dataframe\">\n",
              "  <thead>\n",
              "    <tr style=\"text-align: right;\">\n",
              "      <th></th>\n",
              "      <th>0</th>\n",
              "      <th>1</th>\n",
              "      <th>2</th>\n",
              "      <th>3</th>\n",
              "      <th>4</th>\n",
              "      <th>5</th>\n",
              "      <th>6</th>\n",
              "      <th>7</th>\n",
              "      <th>8</th>\n",
              "      <th>9</th>\n",
              "      <th>10</th>\n",
              "      <th>11</th>\n",
              "      <th>12</th>\n",
              "      <th>13</th>\n",
              "      <th>14</th>\n",
              "      <th>15</th>\n",
              "      <th>16</th>\n",
              "      <th>17</th>\n",
              "      <th>18</th>\n",
              "      <th>19</th>\n",
              "      <th>20</th>\n",
              "      <th>21</th>\n",
              "      <th>22</th>\n",
              "      <th>23</th>\n",
              "      <th>24</th>\n",
              "      <th>25</th>\n",
              "      <th>26</th>\n",
              "      <th>27</th>\n",
              "      <th>28</th>\n",
              "      <th>29</th>\n",
              "      <th>30</th>\n",
              "      <th>31</th>\n",
              "      <th>32</th>\n",
              "      <th>33</th>\n",
              "      <th>34</th>\n",
              "      <th>35</th>\n",
              "      <th>36</th>\n",
              "      <th>37</th>\n",
              "      <th>38</th>\n",
              "      <th>39</th>\n",
              "      <th>...</th>\n",
              "      <th>1393</th>\n",
              "      <th>1394</th>\n",
              "      <th>1395</th>\n",
              "      <th>1396</th>\n",
              "      <th>1397</th>\n",
              "      <th>1398</th>\n",
              "      <th>1399</th>\n",
              "      <th>1400</th>\n",
              "      <th>1401</th>\n",
              "      <th>1402</th>\n",
              "      <th>1403</th>\n",
              "      <th>1404</th>\n",
              "      <th>1405</th>\n",
              "      <th>1406</th>\n",
              "      <th>1407</th>\n",
              "      <th>1408</th>\n",
              "      <th>1409</th>\n",
              "      <th>1410</th>\n",
              "      <th>1411</th>\n",
              "      <th>1412</th>\n",
              "      <th>1413</th>\n",
              "      <th>1414</th>\n",
              "      <th>1415</th>\n",
              "      <th>1416</th>\n",
              "      <th>1417</th>\n",
              "      <th>1418</th>\n",
              "      <th>1419</th>\n",
              "      <th>1420</th>\n",
              "      <th>1421</th>\n",
              "      <th>1422</th>\n",
              "      <th>1423</th>\n",
              "      <th>1424</th>\n",
              "      <th>1425</th>\n",
              "      <th>1426</th>\n",
              "      <th>1427</th>\n",
              "      <th>1428</th>\n",
              "      <th>1429</th>\n",
              "      <th>1430</th>\n",
              "      <th>1431</th>\n",
              "      <th>1432</th>\n",
              "    </tr>\n",
              "  </thead>\n",
              "  <tbody>\n",
              "    <tr>\n",
              "      <th>0</th>\n",
              "      <td>36.0</td>\n",
              "      <td>36.0</td>\n",
              "      <td>36.0</td>\n",
              "      <td>36.0</td>\n",
              "      <td>36.0</td>\n",
              "      <td>36.0</td>\n",
              "      <td>36.0</td>\n",
              "      <td>36.0</td>\n",
              "      <td>36.0</td>\n",
              "      <td>36.0</td>\n",
              "      <td>36.0</td>\n",
              "      <td>36.0</td>\n",
              "      <td>36.0</td>\n",
              "      <td>36.0</td>\n",
              "      <td>36.0</td>\n",
              "      <td>36.0</td>\n",
              "      <td>36.0</td>\n",
              "      <td>36.0</td>\n",
              "      <td>36.0</td>\n",
              "      <td>16.0</td>\n",
              "      <td>36.0</td>\n",
              "      <td>36.0</td>\n",
              "      <td>36.0</td>\n",
              "      <td>36.0</td>\n",
              "      <td>36.0</td>\n",
              "      <td>36.0</td>\n",
              "      <td>36.0</td>\n",
              "      <td>36.0</td>\n",
              "      <td>36.0</td>\n",
              "      <td>36.0</td>\n",
              "      <td>36.0</td>\n",
              "      <td>36.0</td>\n",
              "      <td>36.0</td>\n",
              "      <td>36.0</td>\n",
              "      <td>36.0</td>\n",
              "      <td>36.0</td>\n",
              "      <td>36.0</td>\n",
              "      <td>36.0</td>\n",
              "      <td>36.0</td>\n",
              "      <td>36.0</td>\n",
              "      <td>...</td>\n",
              "      <td>36.0</td>\n",
              "      <td>36.0</td>\n",
              "      <td>36.0</td>\n",
              "      <td>36.0</td>\n",
              "      <td>36.0</td>\n",
              "      <td>36.0</td>\n",
              "      <td>36.0</td>\n",
              "      <td>36.0</td>\n",
              "      <td>36.0</td>\n",
              "      <td>36.0</td>\n",
              "      <td>36.0</td>\n",
              "      <td>36.0</td>\n",
              "      <td>36.0</td>\n",
              "      <td>36.0</td>\n",
              "      <td>36.0</td>\n",
              "      <td>36.0</td>\n",
              "      <td>36.0</td>\n",
              "      <td>36.0</td>\n",
              "      <td>36.0</td>\n",
              "      <td>36.0</td>\n",
              "      <td>36.0</td>\n",
              "      <td>36.0</td>\n",
              "      <td>36.0</td>\n",
              "      <td>36.0</td>\n",
              "      <td>36.0</td>\n",
              "      <td>31.0</td>\n",
              "      <td>36.0</td>\n",
              "      <td>36.0</td>\n",
              "      <td>36.0</td>\n",
              "      <td>36.0</td>\n",
              "      <td>36.0</td>\n",
              "      <td>36.0</td>\n",
              "      <td>36.0</td>\n",
              "      <td>36.0</td>\n",
              "      <td>36.0</td>\n",
              "      <td>36.0</td>\n",
              "      <td>36.0</td>\n",
              "      <td>36.0</td>\n",
              "      <td>31.0</td>\n",
              "      <td>36.0</td>\n",
              "    </tr>\n",
              "    <tr>\n",
              "      <th>1</th>\n",
              "      <td>64.0</td>\n",
              "      <td>64.0</td>\n",
              "      <td>64.0</td>\n",
              "      <td>64.0</td>\n",
              "      <td>57.0</td>\n",
              "      <td>64.0</td>\n",
              "      <td>64.0</td>\n",
              "      <td>64.0</td>\n",
              "      <td>64.0</td>\n",
              "      <td>64.0</td>\n",
              "      <td>64.0</td>\n",
              "      <td>64.0</td>\n",
              "      <td>64.0</td>\n",
              "      <td>64.0</td>\n",
              "      <td>64.0</td>\n",
              "      <td>64.0</td>\n",
              "      <td>64.0</td>\n",
              "      <td>64.0</td>\n",
              "      <td>64.0</td>\n",
              "      <td>36.0</td>\n",
              "      <td>64.0</td>\n",
              "      <td>64.0</td>\n",
              "      <td>64.0</td>\n",
              "      <td>64.0</td>\n",
              "      <td>64.0</td>\n",
              "      <td>64.0</td>\n",
              "      <td>64.0</td>\n",
              "      <td>64.0</td>\n",
              "      <td>64.0</td>\n",
              "      <td>64.0</td>\n",
              "      <td>64.0</td>\n",
              "      <td>64.0</td>\n",
              "      <td>64.0</td>\n",
              "      <td>64.0</td>\n",
              "      <td>64.0</td>\n",
              "      <td>64.0</td>\n",
              "      <td>64.0</td>\n",
              "      <td>64.0</td>\n",
              "      <td>64.0</td>\n",
              "      <td>64.0</td>\n",
              "      <td>...</td>\n",
              "      <td>64.0</td>\n",
              "      <td>64.0</td>\n",
              "      <td>64.0</td>\n",
              "      <td>64.0</td>\n",
              "      <td>57.0</td>\n",
              "      <td>64.0</td>\n",
              "      <td>64.0</td>\n",
              "      <td>64.0</td>\n",
              "      <td>64.0</td>\n",
              "      <td>64.0</td>\n",
              "      <td>64.0</td>\n",
              "      <td>64.0</td>\n",
              "      <td>64.0</td>\n",
              "      <td>64.0</td>\n",
              "      <td>64.0</td>\n",
              "      <td>64.0</td>\n",
              "      <td>64.0</td>\n",
              "      <td>64.0</td>\n",
              "      <td>64.0</td>\n",
              "      <td>64.0</td>\n",
              "      <td>57.0</td>\n",
              "      <td>64.0</td>\n",
              "      <td>64.0</td>\n",
              "      <td>64.0</td>\n",
              "      <td>64.0</td>\n",
              "      <td>64.0</td>\n",
              "      <td>64.0</td>\n",
              "      <td>64.0</td>\n",
              "      <td>64.0</td>\n",
              "      <td>64.0</td>\n",
              "      <td>64.0</td>\n",
              "      <td>64.0</td>\n",
              "      <td>64.0</td>\n",
              "      <td>64.0</td>\n",
              "      <td>64.0</td>\n",
              "      <td>64.0</td>\n",
              "      <td>64.0</td>\n",
              "      <td>64.0</td>\n",
              "      <td>64.0</td>\n",
              "      <td>64.0</td>\n",
              "    </tr>\n",
              "    <tr>\n",
              "      <th>2</th>\n",
              "      <td>96.0</td>\n",
              "      <td>96.0</td>\n",
              "      <td>96.0</td>\n",
              "      <td>96.0</td>\n",
              "      <td>96.0</td>\n",
              "      <td>96.0</td>\n",
              "      <td>89.0</td>\n",
              "      <td>96.0</td>\n",
              "      <td>96.0</td>\n",
              "      <td>96.0</td>\n",
              "      <td>96.0</td>\n",
              "      <td>96.0</td>\n",
              "      <td>96.0</td>\n",
              "      <td>96.0</td>\n",
              "      <td>96.0</td>\n",
              "      <td>96.0</td>\n",
              "      <td>96.0</td>\n",
              "      <td>96.0</td>\n",
              "      <td>96.0</td>\n",
              "      <td>68.0</td>\n",
              "      <td>96.0</td>\n",
              "      <td>96.0</td>\n",
              "      <td>96.0</td>\n",
              "      <td>96.0</td>\n",
              "      <td>96.0</td>\n",
              "      <td>96.0</td>\n",
              "      <td>96.0</td>\n",
              "      <td>89.0</td>\n",
              "      <td>96.0</td>\n",
              "      <td>96.0</td>\n",
              "      <td>96.0</td>\n",
              "      <td>96.0</td>\n",
              "      <td>96.0</td>\n",
              "      <td>96.0</td>\n",
              "      <td>96.0</td>\n",
              "      <td>96.0</td>\n",
              "      <td>89.0</td>\n",
              "      <td>96.0</td>\n",
              "      <td>96.0</td>\n",
              "      <td>96.0</td>\n",
              "      <td>...</td>\n",
              "      <td>96.0</td>\n",
              "      <td>96.0</td>\n",
              "      <td>96.0</td>\n",
              "      <td>96.0</td>\n",
              "      <td>96.0</td>\n",
              "      <td>96.0</td>\n",
              "      <td>96.0</td>\n",
              "      <td>96.0</td>\n",
              "      <td>96.0</td>\n",
              "      <td>96.0</td>\n",
              "      <td>96.0</td>\n",
              "      <td>96.0</td>\n",
              "      <td>96.0</td>\n",
              "      <td>96.0</td>\n",
              "      <td>96.0</td>\n",
              "      <td>96.0</td>\n",
              "      <td>96.0</td>\n",
              "      <td>96.0</td>\n",
              "      <td>96.0</td>\n",
              "      <td>96.0</td>\n",
              "      <td>96.0</td>\n",
              "      <td>96.0</td>\n",
              "      <td>96.0</td>\n",
              "      <td>96.0</td>\n",
              "      <td>96.0</td>\n",
              "      <td>96.0</td>\n",
              "      <td>96.0</td>\n",
              "      <td>96.0</td>\n",
              "      <td>96.0</td>\n",
              "      <td>96.0</td>\n",
              "      <td>89.0</td>\n",
              "      <td>96.0</td>\n",
              "      <td>96.0</td>\n",
              "      <td>96.0</td>\n",
              "      <td>96.0</td>\n",
              "      <td>96.0</td>\n",
              "      <td>96.0</td>\n",
              "      <td>96.0</td>\n",
              "      <td>96.0</td>\n",
              "      <td>96.0</td>\n",
              "    </tr>\n",
              "    <tr>\n",
              "      <th>3</th>\n",
              "      <td>0.0</td>\n",
              "      <td>0.0</td>\n",
              "      <td>0.0</td>\n",
              "      <td>0.0</td>\n",
              "      <td>0.0</td>\n",
              "      <td>0.0</td>\n",
              "      <td>0.0</td>\n",
              "      <td>0.0</td>\n",
              "      <td>0.0</td>\n",
              "      <td>0.0</td>\n",
              "      <td>0.0</td>\n",
              "      <td>0.0</td>\n",
              "      <td>0.0</td>\n",
              "      <td>0.0</td>\n",
              "      <td>0.0</td>\n",
              "      <td>0.0</td>\n",
              "      <td>0.0</td>\n",
              "      <td>0.0</td>\n",
              "      <td>0.0</td>\n",
              "      <td>0.0</td>\n",
              "      <td>0.0</td>\n",
              "      <td>0.0</td>\n",
              "      <td>0.0</td>\n",
              "      <td>0.0</td>\n",
              "      <td>0.0</td>\n",
              "      <td>0.0</td>\n",
              "      <td>0.0</td>\n",
              "      <td>0.0</td>\n",
              "      <td>0.0</td>\n",
              "      <td>0.0</td>\n",
              "      <td>0.0</td>\n",
              "      <td>0.0</td>\n",
              "      <td>0.0</td>\n",
              "      <td>0.0</td>\n",
              "      <td>0.0</td>\n",
              "      <td>0.0</td>\n",
              "      <td>0.0</td>\n",
              "      <td>0.0</td>\n",
              "      <td>0.0</td>\n",
              "      <td>0.0</td>\n",
              "      <td>...</td>\n",
              "      <td>0.0</td>\n",
              "      <td>0.0</td>\n",
              "      <td>0.0</td>\n",
              "      <td>0.0</td>\n",
              "      <td>0.0</td>\n",
              "      <td>0.0</td>\n",
              "      <td>0.0</td>\n",
              "      <td>0.0</td>\n",
              "      <td>0.0</td>\n",
              "      <td>0.0</td>\n",
              "      <td>0.0</td>\n",
              "      <td>0.0</td>\n",
              "      <td>0.0</td>\n",
              "      <td>0.0</td>\n",
              "      <td>0.0</td>\n",
              "      <td>0.0</td>\n",
              "      <td>0.0</td>\n",
              "      <td>0.0</td>\n",
              "      <td>0.0</td>\n",
              "      <td>0.0</td>\n",
              "      <td>0.0</td>\n",
              "      <td>0.0</td>\n",
              "      <td>0.0</td>\n",
              "      <td>0.0</td>\n",
              "      <td>0.0</td>\n",
              "      <td>0.0</td>\n",
              "      <td>0.0</td>\n",
              "      <td>0.0</td>\n",
              "      <td>0.0</td>\n",
              "      <td>0.0</td>\n",
              "      <td>0.0</td>\n",
              "      <td>0.0</td>\n",
              "      <td>0.0</td>\n",
              "      <td>0.0</td>\n",
              "      <td>0.0</td>\n",
              "      <td>0.0</td>\n",
              "      <td>0.0</td>\n",
              "      <td>0.0</td>\n",
              "      <td>0.0</td>\n",
              "      <td>0.0</td>\n",
              "    </tr>\n",
              "    <tr>\n",
              "      <th>4</th>\n",
              "      <td>54.0</td>\n",
              "      <td>49.0</td>\n",
              "      <td>54.0</td>\n",
              "      <td>49.0</td>\n",
              "      <td>54.0</td>\n",
              "      <td>54.0</td>\n",
              "      <td>54.0</td>\n",
              "      <td>54.0</td>\n",
              "      <td>54.0</td>\n",
              "      <td>54.0</td>\n",
              "      <td>54.0</td>\n",
              "      <td>54.0</td>\n",
              "      <td>54.0</td>\n",
              "      <td>54.0</td>\n",
              "      <td>54.0</td>\n",
              "      <td>54.0</td>\n",
              "      <td>54.0</td>\n",
              "      <td>54.0</td>\n",
              "      <td>54.0</td>\n",
              "      <td>54.0</td>\n",
              "      <td>54.0</td>\n",
              "      <td>54.0</td>\n",
              "      <td>54.0</td>\n",
              "      <td>54.0</td>\n",
              "      <td>54.0</td>\n",
              "      <td>54.0</td>\n",
              "      <td>54.0</td>\n",
              "      <td>54.0</td>\n",
              "      <td>54.0</td>\n",
              "      <td>54.0</td>\n",
              "      <td>54.0</td>\n",
              "      <td>54.0</td>\n",
              "      <td>54.0</td>\n",
              "      <td>54.0</td>\n",
              "      <td>54.0</td>\n",
              "      <td>54.0</td>\n",
              "      <td>54.0</td>\n",
              "      <td>54.0</td>\n",
              "      <td>54.0</td>\n",
              "      <td>54.0</td>\n",
              "      <td>...</td>\n",
              "      <td>54.0</td>\n",
              "      <td>54.0</td>\n",
              "      <td>54.0</td>\n",
              "      <td>54.0</td>\n",
              "      <td>54.0</td>\n",
              "      <td>54.0</td>\n",
              "      <td>54.0</td>\n",
              "      <td>54.0</td>\n",
              "      <td>54.0</td>\n",
              "      <td>54.0</td>\n",
              "      <td>54.0</td>\n",
              "      <td>54.0</td>\n",
              "      <td>54.0</td>\n",
              "      <td>54.0</td>\n",
              "      <td>54.0</td>\n",
              "      <td>54.0</td>\n",
              "      <td>54.0</td>\n",
              "      <td>54.0</td>\n",
              "      <td>54.0</td>\n",
              "      <td>54.0</td>\n",
              "      <td>54.0</td>\n",
              "      <td>54.0</td>\n",
              "      <td>54.0</td>\n",
              "      <td>54.0</td>\n",
              "      <td>54.0</td>\n",
              "      <td>54.0</td>\n",
              "      <td>54.0</td>\n",
              "      <td>54.0</td>\n",
              "      <td>54.0</td>\n",
              "      <td>54.0</td>\n",
              "      <td>54.0</td>\n",
              "      <td>54.0</td>\n",
              "      <td>54.0</td>\n",
              "      <td>54.0</td>\n",
              "      <td>54.0</td>\n",
              "      <td>54.0</td>\n",
              "      <td>54.0</td>\n",
              "      <td>54.0</td>\n",
              "      <td>54.0</td>\n",
              "      <td>54.0</td>\n",
              "    </tr>\n",
              "    <tr>\n",
              "      <th>...</th>\n",
              "      <td>...</td>\n",
              "      <td>...</td>\n",
              "      <td>...</td>\n",
              "      <td>...</td>\n",
              "      <td>...</td>\n",
              "      <td>...</td>\n",
              "      <td>...</td>\n",
              "      <td>...</td>\n",
              "      <td>...</td>\n",
              "      <td>...</td>\n",
              "      <td>...</td>\n",
              "      <td>...</td>\n",
              "      <td>...</td>\n",
              "      <td>...</td>\n",
              "      <td>...</td>\n",
              "      <td>...</td>\n",
              "      <td>...</td>\n",
              "      <td>...</td>\n",
              "      <td>...</td>\n",
              "      <td>...</td>\n",
              "      <td>...</td>\n",
              "      <td>...</td>\n",
              "      <td>...</td>\n",
              "      <td>...</td>\n",
              "      <td>...</td>\n",
              "      <td>...</td>\n",
              "      <td>...</td>\n",
              "      <td>...</td>\n",
              "      <td>...</td>\n",
              "      <td>...</td>\n",
              "      <td>...</td>\n",
              "      <td>...</td>\n",
              "      <td>...</td>\n",
              "      <td>...</td>\n",
              "      <td>...</td>\n",
              "      <td>...</td>\n",
              "      <td>...</td>\n",
              "      <td>...</td>\n",
              "      <td>...</td>\n",
              "      <td>...</td>\n",
              "      <td>...</td>\n",
              "      <td>...</td>\n",
              "      <td>...</td>\n",
              "      <td>...</td>\n",
              "      <td>...</td>\n",
              "      <td>...</td>\n",
              "      <td>...</td>\n",
              "      <td>...</td>\n",
              "      <td>...</td>\n",
              "      <td>...</td>\n",
              "      <td>...</td>\n",
              "      <td>...</td>\n",
              "      <td>...</td>\n",
              "      <td>...</td>\n",
              "      <td>...</td>\n",
              "      <td>...</td>\n",
              "      <td>...</td>\n",
              "      <td>...</td>\n",
              "      <td>...</td>\n",
              "      <td>...</td>\n",
              "      <td>...</td>\n",
              "      <td>...</td>\n",
              "      <td>...</td>\n",
              "      <td>...</td>\n",
              "      <td>...</td>\n",
              "      <td>...</td>\n",
              "      <td>...</td>\n",
              "      <td>...</td>\n",
              "      <td>...</td>\n",
              "      <td>...</td>\n",
              "      <td>...</td>\n",
              "      <td>...</td>\n",
              "      <td>...</td>\n",
              "      <td>...</td>\n",
              "      <td>...</td>\n",
              "      <td>...</td>\n",
              "      <td>...</td>\n",
              "      <td>...</td>\n",
              "      <td>...</td>\n",
              "      <td>...</td>\n",
              "      <td>...</td>\n",
              "    </tr>\n",
              "    <tr>\n",
              "      <th>2703</th>\n",
              "      <td>18.0</td>\n",
              "      <td>18.0</td>\n",
              "      <td>18.0</td>\n",
              "      <td>18.0</td>\n",
              "      <td>18.0</td>\n",
              "      <td>13.0</td>\n",
              "      <td>18.0</td>\n",
              "      <td>18.0</td>\n",
              "      <td>18.0</td>\n",
              "      <td>18.0</td>\n",
              "      <td>18.0</td>\n",
              "      <td>18.0</td>\n",
              "      <td>18.0</td>\n",
              "      <td>18.0</td>\n",
              "      <td>18.0</td>\n",
              "      <td>18.0</td>\n",
              "      <td>18.0</td>\n",
              "      <td>18.0</td>\n",
              "      <td>18.0</td>\n",
              "      <td>13.0</td>\n",
              "      <td>18.0</td>\n",
              "      <td>18.0</td>\n",
              "      <td>18.0</td>\n",
              "      <td>18.0</td>\n",
              "      <td>18.0</td>\n",
              "      <td>18.0</td>\n",
              "      <td>18.0</td>\n",
              "      <td>18.0</td>\n",
              "      <td>18.0</td>\n",
              "      <td>18.0</td>\n",
              "      <td>18.0</td>\n",
              "      <td>18.0</td>\n",
              "      <td>18.0</td>\n",
              "      <td>18.0</td>\n",
              "      <td>18.0</td>\n",
              "      <td>18.0</td>\n",
              "      <td>18.0</td>\n",
              "      <td>18.0</td>\n",
              "      <td>18.0</td>\n",
              "      <td>18.0</td>\n",
              "      <td>...</td>\n",
              "      <td>18.0</td>\n",
              "      <td>18.0</td>\n",
              "      <td>18.0</td>\n",
              "      <td>18.0</td>\n",
              "      <td>18.0</td>\n",
              "      <td>18.0</td>\n",
              "      <td>18.0</td>\n",
              "      <td>18.0</td>\n",
              "      <td>18.0</td>\n",
              "      <td>18.0</td>\n",
              "      <td>18.0</td>\n",
              "      <td>18.0</td>\n",
              "      <td>18.0</td>\n",
              "      <td>18.0</td>\n",
              "      <td>18.0</td>\n",
              "      <td>18.0</td>\n",
              "      <td>18.0</td>\n",
              "      <td>18.0</td>\n",
              "      <td>18.0</td>\n",
              "      <td>18.0</td>\n",
              "      <td>18.0</td>\n",
              "      <td>18.0</td>\n",
              "      <td>18.0</td>\n",
              "      <td>18.0</td>\n",
              "      <td>18.0</td>\n",
              "      <td>18.0</td>\n",
              "      <td>18.0</td>\n",
              "      <td>18.0</td>\n",
              "      <td>18.0</td>\n",
              "      <td>18.0</td>\n",
              "      <td>18.0</td>\n",
              "      <td>18.0</td>\n",
              "      <td>13.0</td>\n",
              "      <td>18.0</td>\n",
              "      <td>18.0</td>\n",
              "      <td>18.0</td>\n",
              "      <td>18.0</td>\n",
              "      <td>18.0</td>\n",
              "      <td>18.0</td>\n",
              "      <td>18.0</td>\n",
              "    </tr>\n",
              "    <tr>\n",
              "      <th>2704</th>\n",
              "      <td>18.0</td>\n",
              "      <td>18.0</td>\n",
              "      <td>13.0</td>\n",
              "      <td>18.0</td>\n",
              "      <td>18.0</td>\n",
              "      <td>18.0</td>\n",
              "      <td>18.0</td>\n",
              "      <td>18.0</td>\n",
              "      <td>18.0</td>\n",
              "      <td>18.0</td>\n",
              "      <td>18.0</td>\n",
              "      <td>18.0</td>\n",
              "      <td>18.0</td>\n",
              "      <td>18.0</td>\n",
              "      <td>18.0</td>\n",
              "      <td>18.0</td>\n",
              "      <td>18.0</td>\n",
              "      <td>18.0</td>\n",
              "      <td>18.0</td>\n",
              "      <td>18.0</td>\n",
              "      <td>18.0</td>\n",
              "      <td>18.0</td>\n",
              "      <td>18.0</td>\n",
              "      <td>18.0</td>\n",
              "      <td>18.0</td>\n",
              "      <td>18.0</td>\n",
              "      <td>18.0</td>\n",
              "      <td>18.0</td>\n",
              "      <td>18.0</td>\n",
              "      <td>18.0</td>\n",
              "      <td>18.0</td>\n",
              "      <td>18.0</td>\n",
              "      <td>18.0</td>\n",
              "      <td>18.0</td>\n",
              "      <td>18.0</td>\n",
              "      <td>18.0</td>\n",
              "      <td>18.0</td>\n",
              "      <td>18.0</td>\n",
              "      <td>18.0</td>\n",
              "      <td>18.0</td>\n",
              "      <td>...</td>\n",
              "      <td>18.0</td>\n",
              "      <td>18.0</td>\n",
              "      <td>18.0</td>\n",
              "      <td>18.0</td>\n",
              "      <td>18.0</td>\n",
              "      <td>18.0</td>\n",
              "      <td>18.0</td>\n",
              "      <td>18.0</td>\n",
              "      <td>18.0</td>\n",
              "      <td>8.0</td>\n",
              "      <td>18.0</td>\n",
              "      <td>18.0</td>\n",
              "      <td>18.0</td>\n",
              "      <td>18.0</td>\n",
              "      <td>18.0</td>\n",
              "      <td>18.0</td>\n",
              "      <td>18.0</td>\n",
              "      <td>18.0</td>\n",
              "      <td>18.0</td>\n",
              "      <td>18.0</td>\n",
              "      <td>18.0</td>\n",
              "      <td>18.0</td>\n",
              "      <td>18.0</td>\n",
              "      <td>18.0</td>\n",
              "      <td>18.0</td>\n",
              "      <td>18.0</td>\n",
              "      <td>18.0</td>\n",
              "      <td>18.0</td>\n",
              "      <td>18.0</td>\n",
              "      <td>18.0</td>\n",
              "      <td>18.0</td>\n",
              "      <td>13.0</td>\n",
              "      <td>18.0</td>\n",
              "      <td>18.0</td>\n",
              "      <td>18.0</td>\n",
              "      <td>18.0</td>\n",
              "      <td>18.0</td>\n",
              "      <td>18.0</td>\n",
              "      <td>18.0</td>\n",
              "      <td>18.0</td>\n",
              "    </tr>\n",
              "    <tr>\n",
              "      <th>2705</th>\n",
              "      <td>18.0</td>\n",
              "      <td>18.0</td>\n",
              "      <td>18.0</td>\n",
              "      <td>18.0</td>\n",
              "      <td>18.0</td>\n",
              "      <td>18.0</td>\n",
              "      <td>18.0</td>\n",
              "      <td>18.0</td>\n",
              "      <td>18.0</td>\n",
              "      <td>18.0</td>\n",
              "      <td>18.0</td>\n",
              "      <td>18.0</td>\n",
              "      <td>18.0</td>\n",
              "      <td>18.0</td>\n",
              "      <td>18.0</td>\n",
              "      <td>18.0</td>\n",
              "      <td>18.0</td>\n",
              "      <td>18.0</td>\n",
              "      <td>18.0</td>\n",
              "      <td>18.0</td>\n",
              "      <td>18.0</td>\n",
              "      <td>18.0</td>\n",
              "      <td>18.0</td>\n",
              "      <td>18.0</td>\n",
              "      <td>18.0</td>\n",
              "      <td>18.0</td>\n",
              "      <td>18.0</td>\n",
              "      <td>18.0</td>\n",
              "      <td>18.0</td>\n",
              "      <td>18.0</td>\n",
              "      <td>18.0</td>\n",
              "      <td>18.0</td>\n",
              "      <td>18.0</td>\n",
              "      <td>18.0</td>\n",
              "      <td>18.0</td>\n",
              "      <td>18.0</td>\n",
              "      <td>18.0</td>\n",
              "      <td>18.0</td>\n",
              "      <td>18.0</td>\n",
              "      <td>18.0</td>\n",
              "      <td>...</td>\n",
              "      <td>18.0</td>\n",
              "      <td>18.0</td>\n",
              "      <td>18.0</td>\n",
              "      <td>18.0</td>\n",
              "      <td>18.0</td>\n",
              "      <td>18.0</td>\n",
              "      <td>18.0</td>\n",
              "      <td>18.0</td>\n",
              "      <td>18.0</td>\n",
              "      <td>18.0</td>\n",
              "      <td>18.0</td>\n",
              "      <td>18.0</td>\n",
              "      <td>18.0</td>\n",
              "      <td>18.0</td>\n",
              "      <td>18.0</td>\n",
              "      <td>18.0</td>\n",
              "      <td>18.0</td>\n",
              "      <td>18.0</td>\n",
              "      <td>18.0</td>\n",
              "      <td>18.0</td>\n",
              "      <td>18.0</td>\n",
              "      <td>18.0</td>\n",
              "      <td>18.0</td>\n",
              "      <td>18.0</td>\n",
              "      <td>18.0</td>\n",
              "      <td>18.0</td>\n",
              "      <td>18.0</td>\n",
              "      <td>18.0</td>\n",
              "      <td>18.0</td>\n",
              "      <td>18.0</td>\n",
              "      <td>18.0</td>\n",
              "      <td>18.0</td>\n",
              "      <td>18.0</td>\n",
              "      <td>18.0</td>\n",
              "      <td>18.0</td>\n",
              "      <td>18.0</td>\n",
              "      <td>18.0</td>\n",
              "      <td>18.0</td>\n",
              "      <td>18.0</td>\n",
              "      <td>18.0</td>\n",
              "    </tr>\n",
              "    <tr>\n",
              "      <th>2706</th>\n",
              "      <td>45.0</td>\n",
              "      <td>45.0</td>\n",
              "      <td>45.0</td>\n",
              "      <td>45.0</td>\n",
              "      <td>45.0</td>\n",
              "      <td>45.0</td>\n",
              "      <td>45.0</td>\n",
              "      <td>45.0</td>\n",
              "      <td>45.0</td>\n",
              "      <td>45.0</td>\n",
              "      <td>45.0</td>\n",
              "      <td>45.0</td>\n",
              "      <td>45.0</td>\n",
              "      <td>45.0</td>\n",
              "      <td>45.0</td>\n",
              "      <td>45.0</td>\n",
              "      <td>45.0</td>\n",
              "      <td>45.0</td>\n",
              "      <td>45.0</td>\n",
              "      <td>25.0</td>\n",
              "      <td>45.0</td>\n",
              "      <td>45.0</td>\n",
              "      <td>45.0</td>\n",
              "      <td>45.0</td>\n",
              "      <td>45.0</td>\n",
              "      <td>45.0</td>\n",
              "      <td>45.0</td>\n",
              "      <td>45.0</td>\n",
              "      <td>45.0</td>\n",
              "      <td>45.0</td>\n",
              "      <td>45.0</td>\n",
              "      <td>45.0</td>\n",
              "      <td>45.0</td>\n",
              "      <td>45.0</td>\n",
              "      <td>45.0</td>\n",
              "      <td>45.0</td>\n",
              "      <td>45.0</td>\n",
              "      <td>45.0</td>\n",
              "      <td>45.0</td>\n",
              "      <td>45.0</td>\n",
              "      <td>...</td>\n",
              "      <td>45.0</td>\n",
              "      <td>40.0</td>\n",
              "      <td>45.0</td>\n",
              "      <td>45.0</td>\n",
              "      <td>45.0</td>\n",
              "      <td>45.0</td>\n",
              "      <td>45.0</td>\n",
              "      <td>45.0</td>\n",
              "      <td>45.0</td>\n",
              "      <td>45.0</td>\n",
              "      <td>45.0</td>\n",
              "      <td>45.0</td>\n",
              "      <td>45.0</td>\n",
              "      <td>45.0</td>\n",
              "      <td>45.0</td>\n",
              "      <td>45.0</td>\n",
              "      <td>45.0</td>\n",
              "      <td>45.0</td>\n",
              "      <td>45.0</td>\n",
              "      <td>40.0</td>\n",
              "      <td>45.0</td>\n",
              "      <td>40.0</td>\n",
              "      <td>45.0</td>\n",
              "      <td>45.0</td>\n",
              "      <td>45.0</td>\n",
              "      <td>45.0</td>\n",
              "      <td>45.0</td>\n",
              "      <td>45.0</td>\n",
              "      <td>45.0</td>\n",
              "      <td>45.0</td>\n",
              "      <td>45.0</td>\n",
              "      <td>45.0</td>\n",
              "      <td>40.0</td>\n",
              "      <td>45.0</td>\n",
              "      <td>45.0</td>\n",
              "      <td>45.0</td>\n",
              "      <td>45.0</td>\n",
              "      <td>45.0</td>\n",
              "      <td>45.0</td>\n",
              "      <td>45.0</td>\n",
              "    </tr>\n",
              "    <tr>\n",
              "      <th>2707</th>\n",
              "      <td>45.0</td>\n",
              "      <td>45.0</td>\n",
              "      <td>45.0</td>\n",
              "      <td>45.0</td>\n",
              "      <td>45.0</td>\n",
              "      <td>45.0</td>\n",
              "      <td>45.0</td>\n",
              "      <td>45.0</td>\n",
              "      <td>45.0</td>\n",
              "      <td>45.0</td>\n",
              "      <td>45.0</td>\n",
              "      <td>45.0</td>\n",
              "      <td>45.0</td>\n",
              "      <td>45.0</td>\n",
              "      <td>45.0</td>\n",
              "      <td>45.0</td>\n",
              "      <td>45.0</td>\n",
              "      <td>45.0</td>\n",
              "      <td>45.0</td>\n",
              "      <td>20.0</td>\n",
              "      <td>45.0</td>\n",
              "      <td>45.0</td>\n",
              "      <td>45.0</td>\n",
              "      <td>45.0</td>\n",
              "      <td>45.0</td>\n",
              "      <td>45.0</td>\n",
              "      <td>45.0</td>\n",
              "      <td>45.0</td>\n",
              "      <td>45.0</td>\n",
              "      <td>45.0</td>\n",
              "      <td>45.0</td>\n",
              "      <td>45.0</td>\n",
              "      <td>45.0</td>\n",
              "      <td>45.0</td>\n",
              "      <td>45.0</td>\n",
              "      <td>45.0</td>\n",
              "      <td>45.0</td>\n",
              "      <td>45.0</td>\n",
              "      <td>45.0</td>\n",
              "      <td>45.0</td>\n",
              "      <td>...</td>\n",
              "      <td>45.0</td>\n",
              "      <td>40.0</td>\n",
              "      <td>45.0</td>\n",
              "      <td>45.0</td>\n",
              "      <td>45.0</td>\n",
              "      <td>45.0</td>\n",
              "      <td>45.0</td>\n",
              "      <td>45.0</td>\n",
              "      <td>45.0</td>\n",
              "      <td>45.0</td>\n",
              "      <td>45.0</td>\n",
              "      <td>45.0</td>\n",
              "      <td>45.0</td>\n",
              "      <td>45.0</td>\n",
              "      <td>45.0</td>\n",
              "      <td>45.0</td>\n",
              "      <td>45.0</td>\n",
              "      <td>45.0</td>\n",
              "      <td>45.0</td>\n",
              "      <td>40.0</td>\n",
              "      <td>45.0</td>\n",
              "      <td>40.0</td>\n",
              "      <td>45.0</td>\n",
              "      <td>45.0</td>\n",
              "      <td>45.0</td>\n",
              "      <td>45.0</td>\n",
              "      <td>45.0</td>\n",
              "      <td>45.0</td>\n",
              "      <td>45.0</td>\n",
              "      <td>45.0</td>\n",
              "      <td>45.0</td>\n",
              "      <td>45.0</td>\n",
              "      <td>35.0</td>\n",
              "      <td>45.0</td>\n",
              "      <td>45.0</td>\n",
              "      <td>45.0</td>\n",
              "      <td>45.0</td>\n",
              "      <td>45.0</td>\n",
              "      <td>45.0</td>\n",
              "      <td>45.0</td>\n",
              "    </tr>\n",
              "  </tbody>\n",
              "</table>\n",
              "<p>2708 rows × 1433 columns</p>\n",
              "</div>"
            ],
            "text/plain": [
              "      0     1     2     3     4     5     ...  1427  1428  1429  1430  1431  1432\n",
              "0     36.0  36.0  36.0  36.0  36.0  36.0  ...  36.0  36.0  36.0  36.0  31.0  36.0\n",
              "1     64.0  64.0  64.0  64.0  57.0  64.0  ...  64.0  64.0  64.0  64.0  64.0  64.0\n",
              "2     96.0  96.0  96.0  96.0  96.0  96.0  ...  96.0  96.0  96.0  96.0  96.0  96.0\n",
              "3      0.0   0.0   0.0   0.0   0.0   0.0  ...   0.0   0.0   0.0   0.0   0.0   0.0\n",
              "4     54.0  49.0  54.0  49.0  54.0  54.0  ...  54.0  54.0  54.0  54.0  54.0  54.0\n",
              "...    ...   ...   ...   ...   ...   ...  ...   ...   ...   ...   ...   ...   ...\n",
              "2703  18.0  18.0  18.0  18.0  18.0  13.0  ...  18.0  18.0  18.0  18.0  18.0  18.0\n",
              "2704  18.0  18.0  13.0  18.0  18.0  18.0  ...  18.0  18.0  18.0  18.0  18.0  18.0\n",
              "2705  18.0  18.0  18.0  18.0  18.0  18.0  ...  18.0  18.0  18.0  18.0  18.0  18.0\n",
              "2706  45.0  45.0  45.0  45.0  45.0  45.0  ...  45.0  45.0  45.0  45.0  45.0  45.0\n",
              "2707  45.0  45.0  45.0  45.0  45.0  45.0  ...  45.0  45.0  45.0  45.0  45.0  45.0\n",
              "\n",
              "[2708 rows x 1433 columns]"
            ]
          },
          "metadata": {
            "tags": []
          },
          "execution_count": 65
        }
      ]
    },
    {
      "cell_type": "code",
      "metadata": {
        "id": "hp7kUum46mB2"
      },
      "source": [
        "df = pd.DataFrame(correlations.numpy())"
      ],
      "execution_count": null,
      "outputs": []
    },
    {
      "cell_type": "code",
      "metadata": {
        "id": "q8-XjJaA6u7H",
        "colab": {
          "base_uri": "https://localhost:8080/",
          "height": 419
        },
        "outputId": "6cc72510-51a6-49a7-f62d-13417daf91b7"
      },
      "source": [
        "df.iloc[:,0:30]"
      ],
      "execution_count": null,
      "outputs": [
        {
          "output_type": "execute_result",
          "data": {
            "text/html": [
              "<div>\n",
              "<style scoped>\n",
              "    .dataframe tbody tr th:only-of-type {\n",
              "        vertical-align: middle;\n",
              "    }\n",
              "\n",
              "    .dataframe tbody tr th {\n",
              "        vertical-align: top;\n",
              "    }\n",
              "\n",
              "    .dataframe thead th {\n",
              "        text-align: right;\n",
              "    }\n",
              "</style>\n",
              "<table border=\"1\" class=\"dataframe\">\n",
              "  <thead>\n",
              "    <tr style=\"text-align: right;\">\n",
              "      <th></th>\n",
              "      <th>0</th>\n",
              "      <th>1</th>\n",
              "      <th>2</th>\n",
              "      <th>3</th>\n",
              "      <th>4</th>\n",
              "      <th>5</th>\n",
              "      <th>6</th>\n",
              "      <th>7</th>\n",
              "      <th>8</th>\n",
              "      <th>9</th>\n",
              "      <th>10</th>\n",
              "      <th>11</th>\n",
              "      <th>12</th>\n",
              "      <th>13</th>\n",
              "      <th>14</th>\n",
              "      <th>15</th>\n",
              "      <th>16</th>\n",
              "      <th>17</th>\n",
              "      <th>18</th>\n",
              "      <th>19</th>\n",
              "      <th>20</th>\n",
              "      <th>21</th>\n",
              "      <th>22</th>\n",
              "      <th>23</th>\n",
              "      <th>24</th>\n",
              "      <th>25</th>\n",
              "      <th>26</th>\n",
              "      <th>27</th>\n",
              "      <th>28</th>\n",
              "      <th>29</th>\n",
              "    </tr>\n",
              "  </thead>\n",
              "  <tbody>\n",
              "    <tr>\n",
              "      <th>0</th>\n",
              "      <td>36.0</td>\n",
              "      <td>36.0</td>\n",
              "      <td>36.0</td>\n",
              "      <td>36.0</td>\n",
              "      <td>36.0</td>\n",
              "      <td>36.0</td>\n",
              "      <td>36.0</td>\n",
              "      <td>36.0</td>\n",
              "      <td>36.0</td>\n",
              "      <td>36.0</td>\n",
              "      <td>36.0</td>\n",
              "      <td>36.0</td>\n",
              "      <td>36.0</td>\n",
              "      <td>36.0</td>\n",
              "      <td>36.0</td>\n",
              "      <td>36.0</td>\n",
              "      <td>36.0</td>\n",
              "      <td>36.0</td>\n",
              "      <td>36.0</td>\n",
              "      <td>16.0</td>\n",
              "      <td>36.0</td>\n",
              "      <td>36.0</td>\n",
              "      <td>36.0</td>\n",
              "      <td>36.0</td>\n",
              "      <td>36.0</td>\n",
              "      <td>36.0</td>\n",
              "      <td>36.0</td>\n",
              "      <td>36.0</td>\n",
              "      <td>36.0</td>\n",
              "      <td>36.0</td>\n",
              "    </tr>\n",
              "    <tr>\n",
              "      <th>1</th>\n",
              "      <td>64.0</td>\n",
              "      <td>64.0</td>\n",
              "      <td>64.0</td>\n",
              "      <td>64.0</td>\n",
              "      <td>57.0</td>\n",
              "      <td>64.0</td>\n",
              "      <td>64.0</td>\n",
              "      <td>64.0</td>\n",
              "      <td>64.0</td>\n",
              "      <td>64.0</td>\n",
              "      <td>64.0</td>\n",
              "      <td>64.0</td>\n",
              "      <td>64.0</td>\n",
              "      <td>64.0</td>\n",
              "      <td>64.0</td>\n",
              "      <td>64.0</td>\n",
              "      <td>64.0</td>\n",
              "      <td>64.0</td>\n",
              "      <td>64.0</td>\n",
              "      <td>36.0</td>\n",
              "      <td>64.0</td>\n",
              "      <td>64.0</td>\n",
              "      <td>64.0</td>\n",
              "      <td>64.0</td>\n",
              "      <td>64.0</td>\n",
              "      <td>64.0</td>\n",
              "      <td>64.0</td>\n",
              "      <td>64.0</td>\n",
              "      <td>64.0</td>\n",
              "      <td>64.0</td>\n",
              "    </tr>\n",
              "    <tr>\n",
              "      <th>2</th>\n",
              "      <td>96.0</td>\n",
              "      <td>96.0</td>\n",
              "      <td>96.0</td>\n",
              "      <td>96.0</td>\n",
              "      <td>96.0</td>\n",
              "      <td>96.0</td>\n",
              "      <td>89.0</td>\n",
              "      <td>96.0</td>\n",
              "      <td>96.0</td>\n",
              "      <td>96.0</td>\n",
              "      <td>96.0</td>\n",
              "      <td>96.0</td>\n",
              "      <td>96.0</td>\n",
              "      <td>96.0</td>\n",
              "      <td>96.0</td>\n",
              "      <td>96.0</td>\n",
              "      <td>96.0</td>\n",
              "      <td>96.0</td>\n",
              "      <td>96.0</td>\n",
              "      <td>68.0</td>\n",
              "      <td>96.0</td>\n",
              "      <td>96.0</td>\n",
              "      <td>96.0</td>\n",
              "      <td>96.0</td>\n",
              "      <td>96.0</td>\n",
              "      <td>96.0</td>\n",
              "      <td>96.0</td>\n",
              "      <td>89.0</td>\n",
              "      <td>96.0</td>\n",
              "      <td>96.0</td>\n",
              "    </tr>\n",
              "    <tr>\n",
              "      <th>3</th>\n",
              "      <td>0.0</td>\n",
              "      <td>0.0</td>\n",
              "      <td>0.0</td>\n",
              "      <td>0.0</td>\n",
              "      <td>0.0</td>\n",
              "      <td>0.0</td>\n",
              "      <td>0.0</td>\n",
              "      <td>0.0</td>\n",
              "      <td>0.0</td>\n",
              "      <td>0.0</td>\n",
              "      <td>0.0</td>\n",
              "      <td>0.0</td>\n",
              "      <td>0.0</td>\n",
              "      <td>0.0</td>\n",
              "      <td>0.0</td>\n",
              "      <td>0.0</td>\n",
              "      <td>0.0</td>\n",
              "      <td>0.0</td>\n",
              "      <td>0.0</td>\n",
              "      <td>0.0</td>\n",
              "      <td>0.0</td>\n",
              "      <td>0.0</td>\n",
              "      <td>0.0</td>\n",
              "      <td>0.0</td>\n",
              "      <td>0.0</td>\n",
              "      <td>0.0</td>\n",
              "      <td>0.0</td>\n",
              "      <td>0.0</td>\n",
              "      <td>0.0</td>\n",
              "      <td>0.0</td>\n",
              "    </tr>\n",
              "    <tr>\n",
              "      <th>4</th>\n",
              "      <td>54.0</td>\n",
              "      <td>49.0</td>\n",
              "      <td>54.0</td>\n",
              "      <td>49.0</td>\n",
              "      <td>54.0</td>\n",
              "      <td>54.0</td>\n",
              "      <td>54.0</td>\n",
              "      <td>54.0</td>\n",
              "      <td>54.0</td>\n",
              "      <td>54.0</td>\n",
              "      <td>54.0</td>\n",
              "      <td>54.0</td>\n",
              "      <td>54.0</td>\n",
              "      <td>54.0</td>\n",
              "      <td>54.0</td>\n",
              "      <td>54.0</td>\n",
              "      <td>54.0</td>\n",
              "      <td>54.0</td>\n",
              "      <td>54.0</td>\n",
              "      <td>54.0</td>\n",
              "      <td>54.0</td>\n",
              "      <td>54.0</td>\n",
              "      <td>54.0</td>\n",
              "      <td>54.0</td>\n",
              "      <td>54.0</td>\n",
              "      <td>54.0</td>\n",
              "      <td>54.0</td>\n",
              "      <td>54.0</td>\n",
              "      <td>54.0</td>\n",
              "      <td>54.0</td>\n",
              "    </tr>\n",
              "    <tr>\n",
              "      <th>...</th>\n",
              "      <td>...</td>\n",
              "      <td>...</td>\n",
              "      <td>...</td>\n",
              "      <td>...</td>\n",
              "      <td>...</td>\n",
              "      <td>...</td>\n",
              "      <td>...</td>\n",
              "      <td>...</td>\n",
              "      <td>...</td>\n",
              "      <td>...</td>\n",
              "      <td>...</td>\n",
              "      <td>...</td>\n",
              "      <td>...</td>\n",
              "      <td>...</td>\n",
              "      <td>...</td>\n",
              "      <td>...</td>\n",
              "      <td>...</td>\n",
              "      <td>...</td>\n",
              "      <td>...</td>\n",
              "      <td>...</td>\n",
              "      <td>...</td>\n",
              "      <td>...</td>\n",
              "      <td>...</td>\n",
              "      <td>...</td>\n",
              "      <td>...</td>\n",
              "      <td>...</td>\n",
              "      <td>...</td>\n",
              "      <td>...</td>\n",
              "      <td>...</td>\n",
              "      <td>...</td>\n",
              "    </tr>\n",
              "    <tr>\n",
              "      <th>2703</th>\n",
              "      <td>18.0</td>\n",
              "      <td>18.0</td>\n",
              "      <td>18.0</td>\n",
              "      <td>18.0</td>\n",
              "      <td>18.0</td>\n",
              "      <td>13.0</td>\n",
              "      <td>18.0</td>\n",
              "      <td>18.0</td>\n",
              "      <td>18.0</td>\n",
              "      <td>18.0</td>\n",
              "      <td>18.0</td>\n",
              "      <td>18.0</td>\n",
              "      <td>18.0</td>\n",
              "      <td>18.0</td>\n",
              "      <td>18.0</td>\n",
              "      <td>18.0</td>\n",
              "      <td>18.0</td>\n",
              "      <td>18.0</td>\n",
              "      <td>18.0</td>\n",
              "      <td>13.0</td>\n",
              "      <td>18.0</td>\n",
              "      <td>18.0</td>\n",
              "      <td>18.0</td>\n",
              "      <td>18.0</td>\n",
              "      <td>18.0</td>\n",
              "      <td>18.0</td>\n",
              "      <td>18.0</td>\n",
              "      <td>18.0</td>\n",
              "      <td>18.0</td>\n",
              "      <td>18.0</td>\n",
              "    </tr>\n",
              "    <tr>\n",
              "      <th>2704</th>\n",
              "      <td>18.0</td>\n",
              "      <td>18.0</td>\n",
              "      <td>13.0</td>\n",
              "      <td>18.0</td>\n",
              "      <td>18.0</td>\n",
              "      <td>18.0</td>\n",
              "      <td>18.0</td>\n",
              "      <td>18.0</td>\n",
              "      <td>18.0</td>\n",
              "      <td>18.0</td>\n",
              "      <td>18.0</td>\n",
              "      <td>18.0</td>\n",
              "      <td>18.0</td>\n",
              "      <td>18.0</td>\n",
              "      <td>18.0</td>\n",
              "      <td>18.0</td>\n",
              "      <td>18.0</td>\n",
              "      <td>18.0</td>\n",
              "      <td>18.0</td>\n",
              "      <td>18.0</td>\n",
              "      <td>18.0</td>\n",
              "      <td>18.0</td>\n",
              "      <td>18.0</td>\n",
              "      <td>18.0</td>\n",
              "      <td>18.0</td>\n",
              "      <td>18.0</td>\n",
              "      <td>18.0</td>\n",
              "      <td>18.0</td>\n",
              "      <td>18.0</td>\n",
              "      <td>18.0</td>\n",
              "    </tr>\n",
              "    <tr>\n",
              "      <th>2705</th>\n",
              "      <td>18.0</td>\n",
              "      <td>18.0</td>\n",
              "      <td>18.0</td>\n",
              "      <td>18.0</td>\n",
              "      <td>18.0</td>\n",
              "      <td>18.0</td>\n",
              "      <td>18.0</td>\n",
              "      <td>18.0</td>\n",
              "      <td>18.0</td>\n",
              "      <td>18.0</td>\n",
              "      <td>18.0</td>\n",
              "      <td>18.0</td>\n",
              "      <td>18.0</td>\n",
              "      <td>18.0</td>\n",
              "      <td>18.0</td>\n",
              "      <td>18.0</td>\n",
              "      <td>18.0</td>\n",
              "      <td>18.0</td>\n",
              "      <td>18.0</td>\n",
              "      <td>18.0</td>\n",
              "      <td>18.0</td>\n",
              "      <td>18.0</td>\n",
              "      <td>18.0</td>\n",
              "      <td>18.0</td>\n",
              "      <td>18.0</td>\n",
              "      <td>18.0</td>\n",
              "      <td>18.0</td>\n",
              "      <td>18.0</td>\n",
              "      <td>18.0</td>\n",
              "      <td>18.0</td>\n",
              "    </tr>\n",
              "    <tr>\n",
              "      <th>2706</th>\n",
              "      <td>45.0</td>\n",
              "      <td>45.0</td>\n",
              "      <td>45.0</td>\n",
              "      <td>45.0</td>\n",
              "      <td>45.0</td>\n",
              "      <td>45.0</td>\n",
              "      <td>45.0</td>\n",
              "      <td>45.0</td>\n",
              "      <td>45.0</td>\n",
              "      <td>45.0</td>\n",
              "      <td>45.0</td>\n",
              "      <td>45.0</td>\n",
              "      <td>45.0</td>\n",
              "      <td>45.0</td>\n",
              "      <td>45.0</td>\n",
              "      <td>45.0</td>\n",
              "      <td>45.0</td>\n",
              "      <td>45.0</td>\n",
              "      <td>45.0</td>\n",
              "      <td>25.0</td>\n",
              "      <td>45.0</td>\n",
              "      <td>45.0</td>\n",
              "      <td>45.0</td>\n",
              "      <td>45.0</td>\n",
              "      <td>45.0</td>\n",
              "      <td>45.0</td>\n",
              "      <td>45.0</td>\n",
              "      <td>45.0</td>\n",
              "      <td>45.0</td>\n",
              "      <td>45.0</td>\n",
              "    </tr>\n",
              "    <tr>\n",
              "      <th>2707</th>\n",
              "      <td>45.0</td>\n",
              "      <td>45.0</td>\n",
              "      <td>45.0</td>\n",
              "      <td>45.0</td>\n",
              "      <td>45.0</td>\n",
              "      <td>45.0</td>\n",
              "      <td>45.0</td>\n",
              "      <td>45.0</td>\n",
              "      <td>45.0</td>\n",
              "      <td>45.0</td>\n",
              "      <td>45.0</td>\n",
              "      <td>45.0</td>\n",
              "      <td>45.0</td>\n",
              "      <td>45.0</td>\n",
              "      <td>45.0</td>\n",
              "      <td>45.0</td>\n",
              "      <td>45.0</td>\n",
              "      <td>45.0</td>\n",
              "      <td>45.0</td>\n",
              "      <td>20.0</td>\n",
              "      <td>45.0</td>\n",
              "      <td>45.0</td>\n",
              "      <td>45.0</td>\n",
              "      <td>45.0</td>\n",
              "      <td>45.0</td>\n",
              "      <td>45.0</td>\n",
              "      <td>45.0</td>\n",
              "      <td>45.0</td>\n",
              "      <td>45.0</td>\n",
              "      <td>45.0</td>\n",
              "    </tr>\n",
              "  </tbody>\n",
              "</table>\n",
              "<p>2708 rows × 30 columns</p>\n",
              "</div>"
            ],
            "text/plain": [
              "        0     1     2     3     4     5   ...    24    25    26    27    28    29\n",
              "0     36.0  36.0  36.0  36.0  36.0  36.0  ...  36.0  36.0  36.0  36.0  36.0  36.0\n",
              "1     64.0  64.0  64.0  64.0  57.0  64.0  ...  64.0  64.0  64.0  64.0  64.0  64.0\n",
              "2     96.0  96.0  96.0  96.0  96.0  96.0  ...  96.0  96.0  96.0  89.0  96.0  96.0\n",
              "3      0.0   0.0   0.0   0.0   0.0   0.0  ...   0.0   0.0   0.0   0.0   0.0   0.0\n",
              "4     54.0  49.0  54.0  49.0  54.0  54.0  ...  54.0  54.0  54.0  54.0  54.0  54.0\n",
              "...    ...   ...   ...   ...   ...   ...  ...   ...   ...   ...   ...   ...   ...\n",
              "2703  18.0  18.0  18.0  18.0  18.0  13.0  ...  18.0  18.0  18.0  18.0  18.0  18.0\n",
              "2704  18.0  18.0  13.0  18.0  18.0  18.0  ...  18.0  18.0  18.0  18.0  18.0  18.0\n",
              "2705  18.0  18.0  18.0  18.0  18.0  18.0  ...  18.0  18.0  18.0  18.0  18.0  18.0\n",
              "2706  45.0  45.0  45.0  45.0  45.0  45.0  ...  45.0  45.0  45.0  45.0  45.0  45.0\n",
              "2707  45.0  45.0  45.0  45.0  45.0  45.0  ...  45.0  45.0  45.0  45.0  45.0  45.0\n",
              "\n",
              "[2708 rows x 30 columns]"
            ]
          },
          "metadata": {
            "tags": []
          },
          "execution_count": 71
        }
      ]
    },
    {
      "cell_type": "code",
      "metadata": {
        "id": "r_NJliwN7WqV",
        "colab": {
          "base_uri": "https://localhost:8080/",
          "height": 346
        },
        "outputId": "46a9f498-406e-41f7-80cd-2fcb51a6b0cf"
      },
      "source": [
        "df.describe()"
      ],
      "execution_count": null,
      "outputs": [
        {
          "output_type": "execute_result",
          "data": {
            "text/html": [
              "<div>\n",
              "<style scoped>\n",
              "    .dataframe tbody tr th:only-of-type {\n",
              "        vertical-align: middle;\n",
              "    }\n",
              "\n",
              "    .dataframe tbody tr th {\n",
              "        vertical-align: top;\n",
              "    }\n",
              "\n",
              "    .dataframe thead th {\n",
              "        text-align: right;\n",
              "    }\n",
              "</style>\n",
              "<table border=\"1\" class=\"dataframe\">\n",
              "  <thead>\n",
              "    <tr style=\"text-align: right;\">\n",
              "      <th></th>\n",
              "      <th>0</th>\n",
              "      <th>1</th>\n",
              "      <th>2</th>\n",
              "      <th>3</th>\n",
              "      <th>4</th>\n",
              "      <th>5</th>\n",
              "      <th>6</th>\n",
              "      <th>7</th>\n",
              "      <th>8</th>\n",
              "      <th>9</th>\n",
              "      <th>10</th>\n",
              "      <th>11</th>\n",
              "      <th>12</th>\n",
              "      <th>13</th>\n",
              "      <th>14</th>\n",
              "      <th>15</th>\n",
              "      <th>16</th>\n",
              "      <th>17</th>\n",
              "      <th>18</th>\n",
              "      <th>19</th>\n",
              "      <th>20</th>\n",
              "      <th>21</th>\n",
              "      <th>22</th>\n",
              "      <th>23</th>\n",
              "      <th>24</th>\n",
              "      <th>25</th>\n",
              "      <th>26</th>\n",
              "      <th>27</th>\n",
              "      <th>28</th>\n",
              "      <th>29</th>\n",
              "      <th>30</th>\n",
              "      <th>31</th>\n",
              "      <th>32</th>\n",
              "      <th>33</th>\n",
              "      <th>34</th>\n",
              "      <th>35</th>\n",
              "      <th>36</th>\n",
              "      <th>37</th>\n",
              "      <th>38</th>\n",
              "      <th>39</th>\n",
              "      <th>...</th>\n",
              "      <th>1393</th>\n",
              "      <th>1394</th>\n",
              "      <th>1395</th>\n",
              "      <th>1396</th>\n",
              "      <th>1397</th>\n",
              "      <th>1398</th>\n",
              "      <th>1399</th>\n",
              "      <th>1400</th>\n",
              "      <th>1401</th>\n",
              "      <th>1402</th>\n",
              "      <th>1403</th>\n",
              "      <th>1404</th>\n",
              "      <th>1405</th>\n",
              "      <th>1406</th>\n",
              "      <th>1407</th>\n",
              "      <th>1408</th>\n",
              "      <th>1409</th>\n",
              "      <th>1410</th>\n",
              "      <th>1411</th>\n",
              "      <th>1412</th>\n",
              "      <th>1413</th>\n",
              "      <th>1414</th>\n",
              "      <th>1415</th>\n",
              "      <th>1416</th>\n",
              "      <th>1417</th>\n",
              "      <th>1418</th>\n",
              "      <th>1419</th>\n",
              "      <th>1420</th>\n",
              "      <th>1421</th>\n",
              "      <th>1422</th>\n",
              "      <th>1423</th>\n",
              "      <th>1424</th>\n",
              "      <th>1425</th>\n",
              "      <th>1426</th>\n",
              "      <th>1427</th>\n",
              "      <th>1428</th>\n",
              "      <th>1429</th>\n",
              "      <th>1430</th>\n",
              "      <th>1431</th>\n",
              "      <th>1432</th>\n",
              "    </tr>\n",
              "  </thead>\n",
              "  <tbody>\n",
              "    <tr>\n",
              "      <th>count</th>\n",
              "      <td>2708.000000</td>\n",
              "      <td>2708.000000</td>\n",
              "      <td>2708.000000</td>\n",
              "      <td>2708.000000</td>\n",
              "      <td>2708.000000</td>\n",
              "      <td>2708.000000</td>\n",
              "      <td>2708.000000</td>\n",
              "      <td>2708.000000</td>\n",
              "      <td>2708.000000</td>\n",
              "      <td>2708.000000</td>\n",
              "      <td>2708.000000</td>\n",
              "      <td>2708.000000</td>\n",
              "      <td>2708.000000</td>\n",
              "      <td>2708.000000</td>\n",
              "      <td>2708.000000</td>\n",
              "      <td>2708.000000</td>\n",
              "      <td>2708.000000</td>\n",
              "      <td>2708.000000</td>\n",
              "      <td>2708.000000</td>\n",
              "      <td>2708.000000</td>\n",
              "      <td>2708.000000</td>\n",
              "      <td>2708.000000</td>\n",
              "      <td>2708.000000</td>\n",
              "      <td>2708.000000</td>\n",
              "      <td>2708.000000</td>\n",
              "      <td>2708.000000</td>\n",
              "      <td>2708.000000</td>\n",
              "      <td>2708.000000</td>\n",
              "      <td>2708.000000</td>\n",
              "      <td>2708.000000</td>\n",
              "      <td>2708.00000</td>\n",
              "      <td>2708.000000</td>\n",
              "      <td>2708.000000</td>\n",
              "      <td>2708.000000</td>\n",
              "      <td>2708.000000</td>\n",
              "      <td>2708.000000</td>\n",
              "      <td>2708.000000</td>\n",
              "      <td>2708.000000</td>\n",
              "      <td>2708.000000</td>\n",
              "      <td>2708.000000</td>\n",
              "      <td>...</td>\n",
              "      <td>2708.000000</td>\n",
              "      <td>2708.000000</td>\n",
              "      <td>2708.000000</td>\n",
              "      <td>2708.000000</td>\n",
              "      <td>2708.00000</td>\n",
              "      <td>2708.000000</td>\n",
              "      <td>2708.000000</td>\n",
              "      <td>2708.000000</td>\n",
              "      <td>2708.000000</td>\n",
              "      <td>2708.000000</td>\n",
              "      <td>2708.000000</td>\n",
              "      <td>2708.000000</td>\n",
              "      <td>2708.000000</td>\n",
              "      <td>2708.000000</td>\n",
              "      <td>2708.000000</td>\n",
              "      <td>2708.000000</td>\n",
              "      <td>2708.000000</td>\n",
              "      <td>2708.000000</td>\n",
              "      <td>2708.000000</td>\n",
              "      <td>2708.000000</td>\n",
              "      <td>2708.000000</td>\n",
              "      <td>2708.000000</td>\n",
              "      <td>2708.000000</td>\n",
              "      <td>2708.000000</td>\n",
              "      <td>2708.000000</td>\n",
              "      <td>2708.000000</td>\n",
              "      <td>2708.000000</td>\n",
              "      <td>2708.000000</td>\n",
              "      <td>2708.000000</td>\n",
              "      <td>2708.000000</td>\n",
              "      <td>2708.000000</td>\n",
              "      <td>2708.000000</td>\n",
              "      <td>2708.000000</td>\n",
              "      <td>2708.000000</td>\n",
              "      <td>2708.000000</td>\n",
              "      <td>2708.000000</td>\n",
              "      <td>2708.000000</td>\n",
              "      <td>2708.000000</td>\n",
              "      <td>2708.000000</td>\n",
              "      <td>2708.000000</td>\n",
              "    </tr>\n",
              "    <tr>\n",
              "      <th>mean</th>\n",
              "      <td>51.606350</td>\n",
              "      <td>51.476368</td>\n",
              "      <td>51.257755</td>\n",
              "      <td>51.342319</td>\n",
              "      <td>49.562038</td>\n",
              "      <td>51.695717</td>\n",
              "      <td>51.574226</td>\n",
              "      <td>51.694241</td>\n",
              "      <td>51.444241</td>\n",
              "      <td>51.741138</td>\n",
              "      <td>51.686115</td>\n",
              "      <td>51.688332</td>\n",
              "      <td>51.489662</td>\n",
              "      <td>51.619644</td>\n",
              "      <td>51.685009</td>\n",
              "      <td>51.692394</td>\n",
              "      <td>51.577179</td>\n",
              "      <td>51.686115</td>\n",
              "      <td>51.550961</td>\n",
              "      <td>47.059822</td>\n",
              "      <td>51.740398</td>\n",
              "      <td>51.729691</td>\n",
              "      <td>51.741138</td>\n",
              "      <td>51.581612</td>\n",
              "      <td>51.711964</td>\n",
              "      <td>51.035080</td>\n",
              "      <td>51.207165</td>\n",
              "      <td>51.469349</td>\n",
              "      <td>51.693130</td>\n",
              "      <td>51.759602</td>\n",
              "      <td>51.60746</td>\n",
              "      <td>51.722305</td>\n",
              "      <td>51.708271</td>\n",
              "      <td>51.704208</td>\n",
              "      <td>51.652142</td>\n",
              "      <td>51.596752</td>\n",
              "      <td>51.705318</td>\n",
              "      <td>51.715286</td>\n",
              "      <td>51.452732</td>\n",
              "      <td>50.424297</td>\n",
              "      <td>...</td>\n",
              "      <td>50.840103</td>\n",
              "      <td>51.679100</td>\n",
              "      <td>51.504799</td>\n",
              "      <td>51.713810</td>\n",
              "      <td>50.16396</td>\n",
              "      <td>51.728580</td>\n",
              "      <td>51.675407</td>\n",
              "      <td>51.729691</td>\n",
              "      <td>51.700886</td>\n",
              "      <td>51.726734</td>\n",
              "      <td>51.685009</td>\n",
              "      <td>51.730427</td>\n",
              "      <td>51.740398</td>\n",
              "      <td>51.640324</td>\n",
              "      <td>51.714550</td>\n",
              "      <td>51.717873</td>\n",
              "      <td>51.604504</td>\n",
              "      <td>51.678360</td>\n",
              "      <td>51.674667</td>\n",
              "      <td>51.328655</td>\n",
              "      <td>51.273266</td>\n",
              "      <td>51.328655</td>\n",
              "      <td>51.713810</td>\n",
              "      <td>51.702732</td>\n",
              "      <td>51.672821</td>\n",
              "      <td>51.289883</td>\n",
              "      <td>51.687962</td>\n",
              "      <td>51.706795</td>\n",
              "      <td>51.741508</td>\n",
              "      <td>51.336040</td>\n",
              "      <td>50.873337</td>\n",
              "      <td>51.249630</td>\n",
              "      <td>51.265511</td>\n",
              "      <td>50.912113</td>\n",
              "      <td>51.529171</td>\n",
              "      <td>51.741508</td>\n",
              "      <td>51.442024</td>\n",
              "      <td>51.730797</td>\n",
              "      <td>51.097858</td>\n",
              "      <td>51.635895</td>\n",
              "    </tr>\n",
              "    <tr>\n",
              "      <th>std</th>\n",
              "      <td>68.378014</td>\n",
              "      <td>68.211952</td>\n",
              "      <td>68.055496</td>\n",
              "      <td>67.961525</td>\n",
              "      <td>65.949036</td>\n",
              "      <td>68.457207</td>\n",
              "      <td>68.500343</td>\n",
              "      <td>68.516724</td>\n",
              "      <td>68.277092</td>\n",
              "      <td>68.568016</td>\n",
              "      <td>68.499626</td>\n",
              "      <td>68.545403</td>\n",
              "      <td>68.221916</td>\n",
              "      <td>68.514603</td>\n",
              "      <td>68.478523</td>\n",
              "      <td>68.505577</td>\n",
              "      <td>68.472183</td>\n",
              "      <td>68.543259</td>\n",
              "      <td>68.353531</td>\n",
              "      <td>66.461945</td>\n",
              "      <td>68.550949</td>\n",
              "      <td>68.500755</td>\n",
              "      <td>68.551895</td>\n",
              "      <td>68.438545</td>\n",
              "      <td>68.477875</td>\n",
              "      <td>67.543663</td>\n",
              "      <td>67.923798</td>\n",
              "      <td>68.281441</td>\n",
              "      <td>68.463837</td>\n",
              "      <td>68.560913</td>\n",
              "      <td>68.30220</td>\n",
              "      <td>68.525909</td>\n",
              "      <td>68.545746</td>\n",
              "      <td>68.535645</td>\n",
              "      <td>68.449310</td>\n",
              "      <td>68.305527</td>\n",
              "      <td>68.512512</td>\n",
              "      <td>68.507141</td>\n",
              "      <td>68.382492</td>\n",
              "      <td>67.142944</td>\n",
              "      <td>...</td>\n",
              "      <td>67.366470</td>\n",
              "      <td>68.507568</td>\n",
              "      <td>68.298225</td>\n",
              "      <td>68.554199</td>\n",
              "      <td>66.34063</td>\n",
              "      <td>68.541168</td>\n",
              "      <td>68.513062</td>\n",
              "      <td>68.525032</td>\n",
              "      <td>68.522369</td>\n",
              "      <td>68.580383</td>\n",
              "      <td>68.506187</td>\n",
              "      <td>68.471947</td>\n",
              "      <td>68.528587</td>\n",
              "      <td>68.514557</td>\n",
              "      <td>68.512939</td>\n",
              "      <td>68.495567</td>\n",
              "      <td>68.452293</td>\n",
              "      <td>68.509491</td>\n",
              "      <td>68.506920</td>\n",
              "      <td>68.245911</td>\n",
              "      <td>67.896164</td>\n",
              "      <td>68.245911</td>\n",
              "      <td>68.552147</td>\n",
              "      <td>68.508507</td>\n",
              "      <td>68.514648</td>\n",
              "      <td>68.059555</td>\n",
              "      <td>68.513794</td>\n",
              "      <td>68.505257</td>\n",
              "      <td>68.561050</td>\n",
              "      <td>68.169304</td>\n",
              "      <td>67.655586</td>\n",
              "      <td>68.213707</td>\n",
              "      <td>67.984276</td>\n",
              "      <td>67.399628</td>\n",
              "      <td>68.294861</td>\n",
              "      <td>68.550545</td>\n",
              "      <td>68.243843</td>\n",
              "      <td>68.532570</td>\n",
              "      <td>67.525307</td>\n",
              "      <td>68.505104</td>\n",
              "    </tr>\n",
              "    <tr>\n",
              "      <th>min</th>\n",
              "      <td>0.000000</td>\n",
              "      <td>0.000000</td>\n",
              "      <td>0.000000</td>\n",
              "      <td>0.000000</td>\n",
              "      <td>0.000000</td>\n",
              "      <td>0.000000</td>\n",
              "      <td>0.000000</td>\n",
              "      <td>0.000000</td>\n",
              "      <td>0.000000</td>\n",
              "      <td>0.000000</td>\n",
              "      <td>0.000000</td>\n",
              "      <td>0.000000</td>\n",
              "      <td>0.000000</td>\n",
              "      <td>0.000000</td>\n",
              "      <td>0.000000</td>\n",
              "      <td>0.000000</td>\n",
              "      <td>0.000000</td>\n",
              "      <td>0.000000</td>\n",
              "      <td>0.000000</td>\n",
              "      <td>0.000000</td>\n",
              "      <td>0.000000</td>\n",
              "      <td>0.000000</td>\n",
              "      <td>0.000000</td>\n",
              "      <td>0.000000</td>\n",
              "      <td>0.000000</td>\n",
              "      <td>0.000000</td>\n",
              "      <td>0.000000</td>\n",
              "      <td>0.000000</td>\n",
              "      <td>0.000000</td>\n",
              "      <td>0.000000</td>\n",
              "      <td>0.00000</td>\n",
              "      <td>0.000000</td>\n",
              "      <td>0.000000</td>\n",
              "      <td>0.000000</td>\n",
              "      <td>0.000000</td>\n",
              "      <td>0.000000</td>\n",
              "      <td>0.000000</td>\n",
              "      <td>0.000000</td>\n",
              "      <td>0.000000</td>\n",
              "      <td>0.000000</td>\n",
              "      <td>...</td>\n",
              "      <td>0.000000</td>\n",
              "      <td>0.000000</td>\n",
              "      <td>0.000000</td>\n",
              "      <td>0.000000</td>\n",
              "      <td>0.00000</td>\n",
              "      <td>0.000000</td>\n",
              "      <td>0.000000</td>\n",
              "      <td>0.000000</td>\n",
              "      <td>0.000000</td>\n",
              "      <td>0.000000</td>\n",
              "      <td>0.000000</td>\n",
              "      <td>0.000000</td>\n",
              "      <td>0.000000</td>\n",
              "      <td>0.000000</td>\n",
              "      <td>0.000000</td>\n",
              "      <td>0.000000</td>\n",
              "      <td>0.000000</td>\n",
              "      <td>0.000000</td>\n",
              "      <td>0.000000</td>\n",
              "      <td>0.000000</td>\n",
              "      <td>0.000000</td>\n",
              "      <td>0.000000</td>\n",
              "      <td>0.000000</td>\n",
              "      <td>0.000000</td>\n",
              "      <td>0.000000</td>\n",
              "      <td>0.000000</td>\n",
              "      <td>0.000000</td>\n",
              "      <td>0.000000</td>\n",
              "      <td>0.000000</td>\n",
              "      <td>0.000000</td>\n",
              "      <td>0.000000</td>\n",
              "      <td>0.000000</td>\n",
              "      <td>0.000000</td>\n",
              "      <td>0.000000</td>\n",
              "      <td>0.000000</td>\n",
              "      <td>0.000000</td>\n",
              "      <td>0.000000</td>\n",
              "      <td>0.000000</td>\n",
              "      <td>0.000000</td>\n",
              "      <td>0.000000</td>\n",
              "    </tr>\n",
              "    <tr>\n",
              "      <th>25%</th>\n",
              "      <td>12.000000</td>\n",
              "      <td>12.000000</td>\n",
              "      <td>12.000000</td>\n",
              "      <td>12.000000</td>\n",
              "      <td>12.000000</td>\n",
              "      <td>12.000000</td>\n",
              "      <td>12.000000</td>\n",
              "      <td>12.000000</td>\n",
              "      <td>12.000000</td>\n",
              "      <td>12.000000</td>\n",
              "      <td>12.000000</td>\n",
              "      <td>12.000000</td>\n",
              "      <td>12.000000</td>\n",
              "      <td>12.000000</td>\n",
              "      <td>12.000000</td>\n",
              "      <td>12.000000</td>\n",
              "      <td>12.000000</td>\n",
              "      <td>12.000000</td>\n",
              "      <td>12.000000</td>\n",
              "      <td>9.000000</td>\n",
              "      <td>12.000000</td>\n",
              "      <td>12.000000</td>\n",
              "      <td>12.000000</td>\n",
              "      <td>12.000000</td>\n",
              "      <td>12.000000</td>\n",
              "      <td>12.000000</td>\n",
              "      <td>12.000000</td>\n",
              "      <td>12.000000</td>\n",
              "      <td>12.000000</td>\n",
              "      <td>12.000000</td>\n",
              "      <td>12.00000</td>\n",
              "      <td>12.000000</td>\n",
              "      <td>12.000000</td>\n",
              "      <td>12.000000</td>\n",
              "      <td>12.000000</td>\n",
              "      <td>12.000000</td>\n",
              "      <td>12.000000</td>\n",
              "      <td>12.000000</td>\n",
              "      <td>12.000000</td>\n",
              "      <td>12.000000</td>\n",
              "      <td>...</td>\n",
              "      <td>12.000000</td>\n",
              "      <td>12.000000</td>\n",
              "      <td>12.000000</td>\n",
              "      <td>12.000000</td>\n",
              "      <td>12.00000</td>\n",
              "      <td>12.000000</td>\n",
              "      <td>12.000000</td>\n",
              "      <td>12.000000</td>\n",
              "      <td>12.000000</td>\n",
              "      <td>12.000000</td>\n",
              "      <td>12.000000</td>\n",
              "      <td>12.000000</td>\n",
              "      <td>12.000000</td>\n",
              "      <td>12.000000</td>\n",
              "      <td>12.000000</td>\n",
              "      <td>12.000000</td>\n",
              "      <td>12.000000</td>\n",
              "      <td>12.000000</td>\n",
              "      <td>12.000000</td>\n",
              "      <td>12.000000</td>\n",
              "      <td>12.000000</td>\n",
              "      <td>12.000000</td>\n",
              "      <td>12.000000</td>\n",
              "      <td>12.000000</td>\n",
              "      <td>12.000000</td>\n",
              "      <td>12.000000</td>\n",
              "      <td>12.000000</td>\n",
              "      <td>12.000000</td>\n",
              "      <td>12.000000</td>\n",
              "      <td>12.000000</td>\n",
              "      <td>12.000000</td>\n",
              "      <td>12.000000</td>\n",
              "      <td>12.000000</td>\n",
              "      <td>12.000000</td>\n",
              "      <td>12.000000</td>\n",
              "      <td>12.000000</td>\n",
              "      <td>12.000000</td>\n",
              "      <td>12.000000</td>\n",
              "      <td>12.000000</td>\n",
              "      <td>12.000000</td>\n",
              "    </tr>\n",
              "    <tr>\n",
              "      <th>50%</th>\n",
              "      <td>32.000000</td>\n",
              "      <td>32.000000</td>\n",
              "      <td>32.000000</td>\n",
              "      <td>32.000000</td>\n",
              "      <td>32.000000</td>\n",
              "      <td>32.000000</td>\n",
              "      <td>32.000000</td>\n",
              "      <td>32.000000</td>\n",
              "      <td>32.000000</td>\n",
              "      <td>32.000000</td>\n",
              "      <td>32.000000</td>\n",
              "      <td>32.000000</td>\n",
              "      <td>32.000000</td>\n",
              "      <td>32.000000</td>\n",
              "      <td>32.000000</td>\n",
              "      <td>32.000000</td>\n",
              "      <td>32.000000</td>\n",
              "      <td>32.000000</td>\n",
              "      <td>32.000000</td>\n",
              "      <td>26.000000</td>\n",
              "      <td>32.000000</td>\n",
              "      <td>32.000000</td>\n",
              "      <td>32.000000</td>\n",
              "      <td>32.000000</td>\n",
              "      <td>32.000000</td>\n",
              "      <td>32.000000</td>\n",
              "      <td>32.000000</td>\n",
              "      <td>32.000000</td>\n",
              "      <td>32.000000</td>\n",
              "      <td>32.000000</td>\n",
              "      <td>32.00000</td>\n",
              "      <td>32.000000</td>\n",
              "      <td>32.000000</td>\n",
              "      <td>32.000000</td>\n",
              "      <td>32.000000</td>\n",
              "      <td>32.000000</td>\n",
              "      <td>32.000000</td>\n",
              "      <td>32.000000</td>\n",
              "      <td>32.000000</td>\n",
              "      <td>31.000000</td>\n",
              "      <td>...</td>\n",
              "      <td>32.000000</td>\n",
              "      <td>32.000000</td>\n",
              "      <td>32.000000</td>\n",
              "      <td>32.000000</td>\n",
              "      <td>32.00000</td>\n",
              "      <td>32.000000</td>\n",
              "      <td>32.000000</td>\n",
              "      <td>32.000000</td>\n",
              "      <td>32.000000</td>\n",
              "      <td>32.000000</td>\n",
              "      <td>32.000000</td>\n",
              "      <td>32.000000</td>\n",
              "      <td>32.000000</td>\n",
              "      <td>32.000000</td>\n",
              "      <td>32.000000</td>\n",
              "      <td>32.000000</td>\n",
              "      <td>32.000000</td>\n",
              "      <td>32.000000</td>\n",
              "      <td>32.000000</td>\n",
              "      <td>32.000000</td>\n",
              "      <td>32.000000</td>\n",
              "      <td>32.000000</td>\n",
              "      <td>32.000000</td>\n",
              "      <td>32.000000</td>\n",
              "      <td>32.000000</td>\n",
              "      <td>32.000000</td>\n",
              "      <td>32.000000</td>\n",
              "      <td>32.000000</td>\n",
              "      <td>32.000000</td>\n",
              "      <td>32.000000</td>\n",
              "      <td>32.000000</td>\n",
              "      <td>32.000000</td>\n",
              "      <td>32.000000</td>\n",
              "      <td>32.000000</td>\n",
              "      <td>32.000000</td>\n",
              "      <td>32.000000</td>\n",
              "      <td>32.000000</td>\n",
              "      <td>32.000000</td>\n",
              "      <td>32.000000</td>\n",
              "      <td>32.000000</td>\n",
              "    </tr>\n",
              "    <tr>\n",
              "      <th>75%</th>\n",
              "      <td>64.000000</td>\n",
              "      <td>64.000000</td>\n",
              "      <td>64.000000</td>\n",
              "      <td>64.000000</td>\n",
              "      <td>64.000000</td>\n",
              "      <td>64.000000</td>\n",
              "      <td>64.000000</td>\n",
              "      <td>64.000000</td>\n",
              "      <td>64.000000</td>\n",
              "      <td>64.000000</td>\n",
              "      <td>64.000000</td>\n",
              "      <td>64.000000</td>\n",
              "      <td>64.000000</td>\n",
              "      <td>64.000000</td>\n",
              "      <td>64.000000</td>\n",
              "      <td>64.000000</td>\n",
              "      <td>64.000000</td>\n",
              "      <td>64.000000</td>\n",
              "      <td>64.000000</td>\n",
              "      <td>63.000000</td>\n",
              "      <td>64.000000</td>\n",
              "      <td>64.000000</td>\n",
              "      <td>64.000000</td>\n",
              "      <td>64.000000</td>\n",
              "      <td>64.000000</td>\n",
              "      <td>64.000000</td>\n",
              "      <td>64.000000</td>\n",
              "      <td>64.000000</td>\n",
              "      <td>64.000000</td>\n",
              "      <td>64.000000</td>\n",
              "      <td>64.00000</td>\n",
              "      <td>64.000000</td>\n",
              "      <td>64.000000</td>\n",
              "      <td>64.000000</td>\n",
              "      <td>64.000000</td>\n",
              "      <td>64.000000</td>\n",
              "      <td>64.000000</td>\n",
              "      <td>64.000000</td>\n",
              "      <td>64.000000</td>\n",
              "      <td>64.000000</td>\n",
              "      <td>...</td>\n",
              "      <td>64.000000</td>\n",
              "      <td>64.000000</td>\n",
              "      <td>64.000000</td>\n",
              "      <td>64.000000</td>\n",
              "      <td>64.00000</td>\n",
              "      <td>64.000000</td>\n",
              "      <td>64.000000</td>\n",
              "      <td>64.000000</td>\n",
              "      <td>64.000000</td>\n",
              "      <td>64.000000</td>\n",
              "      <td>64.000000</td>\n",
              "      <td>64.000000</td>\n",
              "      <td>64.000000</td>\n",
              "      <td>64.000000</td>\n",
              "      <td>64.000000</td>\n",
              "      <td>64.000000</td>\n",
              "      <td>64.000000</td>\n",
              "      <td>64.000000</td>\n",
              "      <td>64.000000</td>\n",
              "      <td>64.000000</td>\n",
              "      <td>64.000000</td>\n",
              "      <td>64.000000</td>\n",
              "      <td>64.000000</td>\n",
              "      <td>64.000000</td>\n",
              "      <td>64.000000</td>\n",
              "      <td>64.000000</td>\n",
              "      <td>64.000000</td>\n",
              "      <td>64.000000</td>\n",
              "      <td>64.000000</td>\n",
              "      <td>64.000000</td>\n",
              "      <td>64.000000</td>\n",
              "      <td>64.000000</td>\n",
              "      <td>64.000000</td>\n",
              "      <td>64.000000</td>\n",
              "      <td>64.000000</td>\n",
              "      <td>64.000000</td>\n",
              "      <td>64.000000</td>\n",
              "      <td>64.000000</td>\n",
              "      <td>64.000000</td>\n",
              "      <td>64.000000</td>\n",
              "    </tr>\n",
              "    <tr>\n",
              "      <th>max</th>\n",
              "      <td>1152.000000</td>\n",
              "      <td>1141.000000</td>\n",
              "      <td>1152.000000</td>\n",
              "      <td>1141.000000</td>\n",
              "      <td>1141.000000</td>\n",
              "      <td>1152.000000</td>\n",
              "      <td>1152.000000</td>\n",
              "      <td>1152.000000</td>\n",
              "      <td>1152.000000</td>\n",
              "      <td>1152.000000</td>\n",
              "      <td>1152.000000</td>\n",
              "      <td>1152.000000</td>\n",
              "      <td>1141.000000</td>\n",
              "      <td>1152.000000</td>\n",
              "      <td>1152.000000</td>\n",
              "      <td>1152.000000</td>\n",
              "      <td>1152.000000</td>\n",
              "      <td>1152.000000</td>\n",
              "      <td>1152.000000</td>\n",
              "      <td>1152.000000</td>\n",
              "      <td>1152.000000</td>\n",
              "      <td>1152.000000</td>\n",
              "      <td>1152.000000</td>\n",
              "      <td>1152.000000</td>\n",
              "      <td>1152.000000</td>\n",
              "      <td>1141.000000</td>\n",
              "      <td>1152.000000</td>\n",
              "      <td>1152.000000</td>\n",
              "      <td>1152.000000</td>\n",
              "      <td>1152.000000</td>\n",
              "      <td>1152.00000</td>\n",
              "      <td>1152.000000</td>\n",
              "      <td>1152.000000</td>\n",
              "      <td>1152.000000</td>\n",
              "      <td>1152.000000</td>\n",
              "      <td>1141.000000</td>\n",
              "      <td>1152.000000</td>\n",
              "      <td>1152.000000</td>\n",
              "      <td>1152.000000</td>\n",
              "      <td>1130.000000</td>\n",
              "      <td>...</td>\n",
              "      <td>1141.000000</td>\n",
              "      <td>1152.000000</td>\n",
              "      <td>1152.000000</td>\n",
              "      <td>1152.000000</td>\n",
              "      <td>1119.00000</td>\n",
              "      <td>1152.000000</td>\n",
              "      <td>1152.000000</td>\n",
              "      <td>1152.000000</td>\n",
              "      <td>1152.000000</td>\n",
              "      <td>1152.000000</td>\n",
              "      <td>1152.000000</td>\n",
              "      <td>1152.000000</td>\n",
              "      <td>1152.000000</td>\n",
              "      <td>1152.000000</td>\n",
              "      <td>1152.000000</td>\n",
              "      <td>1152.000000</td>\n",
              "      <td>1152.000000</td>\n",
              "      <td>1152.000000</td>\n",
              "      <td>1152.000000</td>\n",
              "      <td>1141.000000</td>\n",
              "      <td>1130.000000</td>\n",
              "      <td>1141.000000</td>\n",
              "      <td>1152.000000</td>\n",
              "      <td>1152.000000</td>\n",
              "      <td>1152.000000</td>\n",
              "      <td>1152.000000</td>\n",
              "      <td>1152.000000</td>\n",
              "      <td>1152.000000</td>\n",
              "      <td>1152.000000</td>\n",
              "      <td>1152.000000</td>\n",
              "      <td>1119.000000</td>\n",
              "      <td>1152.000000</td>\n",
              "      <td>1141.000000</td>\n",
              "      <td>1141.000000</td>\n",
              "      <td>1152.000000</td>\n",
              "      <td>1152.000000</td>\n",
              "      <td>1141.000000</td>\n",
              "      <td>1152.000000</td>\n",
              "      <td>1141.000000</td>\n",
              "      <td>1152.000000</td>\n",
              "    </tr>\n",
              "  </tbody>\n",
              "</table>\n",
              "<p>8 rows × 1433 columns</p>\n",
              "</div>"
            ],
            "text/plain": [
              "              0            1     ...         1431         1432\n",
              "count  2708.000000  2708.000000  ...  2708.000000  2708.000000\n",
              "mean     51.606350    51.476368  ...    51.097858    51.635895\n",
              "std      68.378014    68.211952  ...    67.525307    68.505104\n",
              "min       0.000000     0.000000  ...     0.000000     0.000000\n",
              "25%      12.000000    12.000000  ...    12.000000    12.000000\n",
              "50%      32.000000    32.000000  ...    32.000000    32.000000\n",
              "75%      64.000000    64.000000  ...    64.000000    64.000000\n",
              "max    1152.000000  1141.000000  ...  1141.000000  1152.000000\n",
              "\n",
              "[8 rows x 1433 columns]"
            ]
          },
          "metadata": {
            "tags": []
          },
          "execution_count": 75
        }
      ]
    },
    {
      "cell_type": "code",
      "metadata": {
        "id": "1K1Ki9uPZAq5",
        "colab": {
          "base_uri": "https://localhost:8080/",
          "height": 507
        },
        "outputId": "90f785e4-3a87-4f91-f90c-10607b015e18"
      },
      "source": [
        "plt.figure(figsize=(16, 8))\n",
        "\n",
        "sns.lineplot(data=df.iloc[:,0:30])"
      ],
      "execution_count": null,
      "outputs": [
        {
          "output_type": "execute_result",
          "data": {
            "text/plain": [
              "<matplotlib.axes._subplots.AxesSubplot at 0x7f914dcdf3d0>"
            ]
          },
          "metadata": {
            "tags": []
          },
          "execution_count": 72
        },
        {
          "output_type": "display_data",
          "data": {
            "image/png": "[encoded data removed]",
            "text/plain": [
              "<Figure size 1152x576 with 1 Axes>"
            ]
          },
          "metadata": {
            "tags": []
          }
        }
      ]
    },
    {
      "cell_type": "markdown",
      "metadata": {
        "id": "gm7T1FNmE3lK"
      },
      "source": [
        "Values for different features $j$ seem quite similar, as well as across nodes, so it makes sense to consider the mean and monitor correlation over neighborhood depth:"
      ]
    },
    {
      "cell_type": "code",
      "metadata": {
        "id": "FSPJ57dh5b8_"
      },
      "source": [
        "all_corr = []\n",
        "\n",
        "for k in tqdm(range(1,11)):\n",
        "    corr = np.mean([correlation(i, sum(all_adj[:k])).mean().item() for i in range(G.num_nodes)])\n",
        "    all_corr += [corr]\n",
        "    print(f\"Depth: {k} | Correlation: {corr}\")"
      ],
      "execution_count": null,
      "outputs": []
    },
    {
      "cell_type": "code",
      "metadata": {
        "id": "4WTNZccCF1d9"
      },
      "source": [
        "plt.figure(figsize=(12, 10))\n",
        "\n",
        "sns.lineplot(x=range(1,11), y=all_corr).set(xlabel=\"Neighborhood depth\", ylabel=\"Correlation\")"
      ],
      "execution_count": null,
      "outputs": []
    },
    {
      "cell_type": "markdown",
      "metadata": {
        "id": "LARXvGmp9QWK"
      },
      "source": [
        "### **New correlation formula**"
      ]
    },
    {
      "cell_type": "markdown",
      "metadata": {
        "id": "ir6EbaZ6RcrA"
      },
      "source": [
        "- step 1: compute the average observation of each label\n",
        "- step 2: compute the correlation between the node feature of the neighbors and the average observation associated with the target node's label\n",
        "\n",
        "$$\n",
        "\\bar{X}_j = mean( \\left\\{ X_v | c(v) = j  \\right\\} )\n",
        "$$\n",
        "\n",
        "<br/>\n",
        "\n",
        "<center>\n",
        "$c(v) = j$\n",
        "<br/>\n",
        "$mean(\\left\\{ cor(X_u, \\bar{X}_j), \\; \\forall u \\in \\cal N(v) \\right\\})$\n",
        "</center>"
      ]
    },
    {
      "cell_type": "code",
      "metadata": {
        "id": "Jc7lFKR49UeZ"
      },
      "source": [
        "# compute the average observation of a class\n",
        "obs = {}\n",
        "\n",
        "for i in range(G.num_nodes):\n",
        "    if obs.get(G.y[i].item()):\n",
        "        obs[G.y[i].item()] += [G.x[i]]\n",
        "    else:\n",
        "        obs[G.y[i].item()] = [G.x[i]]"
      ],
      "execution_count": 9,
      "outputs": []
    },
    {
      "cell_type": "code",
      "metadata": {
        "id": "NY-NcnVH-ayl",
        "colab": {
          "base_uri": "https://localhost:8080/",
          "height": 516
        },
        "outputId": "8c9e2bd1-3763-4bf9-86b7-19a25b597a7d"
      },
      "source": [
        "plt.figure(figsize=(10, 8))\n",
        "sns.lineplot(x=range(7), y=[len(obs[c]) for c in range(7)]).set(title=\"Label distribution\")"
      ],
      "execution_count": null,
      "outputs": [
        {
          "output_type": "execute_result",
          "data": {
            "text/plain": [
              "[Text(0.5, 1.0, 'Label distribution')]"
            ]
          },
          "metadata": {
            "tags": []
          },
          "execution_count": 35
        },
        {
          "output_type": "display_data",
          "data": {
            "image/png": "[encoded data removed]",
            "text/plain": [
              "<Figure size 720x576 with 1 Axes>"
            ]
          },
          "metadata": {
            "tags": []
          }
        }
      ]
    },
    {
      "cell_type": "code",
      "metadata": {
        "id": "6xf2IQa_9Ut-"
      },
      "source": [
        "avg_obs = [ sum(obs[c]) / len(obs[c]) for c in range(7) ]"
      ],
      "execution_count": 10,
      "outputs": []
    },
    {
      "cell_type": "code",
      "metadata": {
        "id": "00YqYEmk9U4Z"
      },
      "source": [
        "# convert to torch tensor\n",
        "avg_obs = torch.tensor(list(map(lambda x: x.numpy(), avg_obs)))"
      ],
      "execution_count": null,
      "outputs": []
    },
    {
      "cell_type": "code",
      "metadata": {
        "id": "yqTwerQc_Za2",
        "colab": {
          "base_uri": "https://localhost:8080/"
        },
        "outputId": "83202d50-7f4c-4dcd-d1e6-a8b4aac2334e"
      },
      "source": [
        "avg_obs.shape # [num_label, num_features]"
      ],
      "execution_count": null,
      "outputs": [
        {
          "output_type": "execute_result",
          "data": {
            "text/plain": [
              "torch.Size([7, 1433])"
            ]
          },
          "metadata": {
            "tags": []
          },
          "execution_count": 17
        }
      ]
    },
    {
      "cell_type": "code",
      "metadata": {
        "id": "0R8xE5JAEglt",
        "colab": {
          "base_uri": "https://localhost:8080/",
          "height": 612
        },
        "outputId": "41cfa117-d927-423f-9a45-ddc8f14dc96a"
      },
      "source": [
        "plt.figure(figsize=(16, 10))\n",
        "\n",
        "sns.heatmap(np.corrcoef(avg_obs.numpy()), annot=True)"
      ],
      "execution_count": null,
      "outputs": [
        {
          "output_type": "execute_result",
          "data": {
            "text/plain": [
              "<matplotlib.axes._subplots.AxesSubplot at 0x7fb0273b6350>"
            ]
          },
          "metadata": {
            "tags": []
          },
          "execution_count": 18
        },
        {
          "output_type": "display_data",
          "data": {
            "image/png": "[encoded data removed]",
            "text/plain": [
              "<Figure size 1152x720 with 2 Axes>"
            ]
          },
          "metadata": {
            "tags": []
          }
        }
      ]
    },
    {
      "cell_type": "markdown",
      "metadata": {
        "id": "GJDTTibqFpgx"
      },
      "source": [
        "This might not work as the average members are already quite similar so the correlation with the neighbors will not be as expressive as I thought they would."
      ]
    },
    {
      "cell_type": "markdown",
      "metadata": {
        "id": "98sYY0aBT4q0"
      },
      "source": [
        "$$mean(\\left\\{ cor(X_u, \\bar{X}_j), \\; \\forall u \\in \\cal N_k(v) \\right\\})$$\n"
      ]
    },
    {
      "cell_type": "code",
      "metadata": {
        "id": "iywV68gjUYlc",
        "colab": {
          "base_uri": "https://localhost:8080/"
        },
        "outputId": "1a31ed46-8146-4c0a-cb7f-82f6626f0083"
      },
      "source": [
        "i = 10 # node index\n",
        "\n",
        "np.mean(np.corrcoef(\n",
        "    x=G.x[ sum(all_adj[:5])[i] == 1 ].numpy(), # features of the (direct) neighbors\n",
        "    y=avg_obs[G.y[i].item()].numpy()\n",
        ")[:-1, -1])"
      ],
      "execution_count": null,
      "outputs": [
        {
          "output_type": "execute_result",
          "data": {
            "text/plain": [
              "0.19607753184011123"
            ]
          },
          "metadata": {
            "tags": []
          },
          "execution_count": 54
        }
      ]
    },
    {
      "cell_type": "code",
      "metadata": {
        "id": "XXoks6MwVa8y"
      },
      "source": [
        "def graph_correlation(all_adj, k):\n",
        "    \"\"\"Returns the list of correlations between the label representation\n",
        "    associated to the target node and its neighbors' features.\n",
        "\n",
        "    Args:\n",
        "        - all_adj: list of k-hop adjacency dense matrices [num_nodes, num_nodes]\n",
        "        - k (int): depth of the neighborhood\n",
        "\n",
        "    :rtype: list<float> - [num_nodes]\n",
        "    \"\"\"\n",
        "    return [np.mean(np.corrcoef(x=G.x[ sum(all_adj[:k])[i] == 1 ].numpy(), y=avg_obs[G.y[i].item()].numpy())[:-1, -1]) \n",
        "            for i in range(G.num_nodes)]"
      ],
      "execution_count": 84,
      "outputs": []
    },
    {
      "cell_type": "markdown",
      "metadata": {
        "id": "1q1dFPDv1Ucq"
      },
      "source": [
        "##### **TODO**\n",
        "Fix the formula above ☝. Is it possible to set a dimension (for the mean and standard deviation)"
      ]
    },
    {
      "cell_type": "code",
      "metadata": {
        "id": "HojMknY-Fzw1"
      },
      "source": [
        "direct_correlations = graph_correlation(all_adj, 1)"
      ],
      "execution_count": null,
      "outputs": []
    },
    {
      "cell_type": "code",
      "metadata": {
        "id": "UXJdiqVxGZE_",
        "colab": {
          "base_uri": "https://localhost:8080/",
          "height": 733
        },
        "outputId": "4779144e-6d19-4b56-ed08-e9e84432c750"
      },
      "source": [
        "plt.figure(figsize=(12,12))\n",
        "sns.lineplot(x=range(G.num_nodes), y=direct_correlations).set(title=\"Correlations (direct neighbors)\")"
      ],
      "execution_count": null,
      "outputs": [
        {
          "output_type": "execute_result",
          "data": {
            "text/plain": [
              "[Text(0.5, 1.0, 'Correlations')]"
            ]
          },
          "metadata": {
            "tags": []
          },
          "execution_count": 57
        },
        {
          "output_type": "display_data",
          "data": {
            "image/png": "[encoded data removed]",
            "text/plain": [
              "<Figure size 864x864 with 1 Axes>"
            ]
          },
          "metadata": {
            "tags": []
          }
        }
      ]
    },
    {
      "cell_type": "code",
      "metadata": {
        "id": "Yg6dZuEyWQJf"
      },
      "source": [
        "correlations_3_hop = graph_correlation(all_adj, k=3)"
      ],
      "execution_count": null,
      "outputs": []
    },
    {
      "cell_type": "code",
      "metadata": {
        "id": "3tKhwcRbWdoH",
        "colab": {
          "base_uri": "https://localhost:8080/"
        },
        "outputId": "5c12004d-6a05-4c85-e235-1ecd46421526"
      },
      "source": [
        "np.mean(correlations_3_hop)"
      ],
      "execution_count": null,
      "outputs": [
        {
          "output_type": "execute_result",
          "data": {
            "text/plain": [
              "0.236600881763053"
            ]
          },
          "metadata": {
            "tags": []
          },
          "execution_count": 59
        }
      ]
    },
    {
      "cell_type": "code",
      "metadata": {
        "id": "Rf6uqKdLWT71",
        "colab": {
          "base_uri": "https://localhost:8080/",
          "height": 733
        },
        "outputId": "eb80fd43-21c6-4f07-b05f-71893c5fa822"
      },
      "source": [
        "plt.figure(figsize=(12,12))\n",
        "sns.lineplot(x=range(G.num_nodes), y=correlations_3_hop).set(title=\"Correlations (3-hop neighborhood)\")"
      ],
      "execution_count": null,
      "outputs": [
        {
          "output_type": "execute_result",
          "data": {
            "text/plain": [
              "[Text(0.5, 1.0, 'Correlations (3-hop neighborhood)')]"
            ]
          },
          "metadata": {
            "tags": []
          },
          "execution_count": 60
        },
        {
          "output_type": "display_data",
          "data": {
            "image/png": "[encoded data removed]",
            "text/plain": [
              "<Figure size 864x864 with 1 Axes>"
            ]
          },
          "metadata": {
            "tags": []
          }
        }
      ]
    },
    {
      "cell_type": "markdown",
      "metadata": {
        "id": "grysD6XJXIim"
      },
      "source": [
        "Evolution of mean correlation"
      ]
    },
    {
      "cell_type": "code",
      "metadata": {
        "id": "9xi1VHU_XPyH"
      },
      "source": [
        "all_adj = get_k_hop_neighborhood(k=20, adj=adj_self_loops)"
      ],
      "execution_count": 82,
      "outputs": []
    },
    {
      "cell_type": "code",
      "metadata": {
        "id": "vDfOLSWDXKew",
        "colab": {
          "base_uri": "https://localhost:8080/",
          "height": 49,
          "referenced_widgets": [
            "8ea11a5a3d564223a84dc1e50cf0c958",
            "f5c858f7e7b14efca74237f833e189c6",
            "4a85064044484b88b91933f85fc4f12b",
            "67e35dbb5d6d42dabcacd213eff88830",
            "7d2a0cc73cad481fabdb2d4c1c52264b",
            "e1307ccd36294643b19c19433974e6d5",
            "a1c20d898de44a87826714e21dd50537",
            "1d019e93f4404a488333acddf7c91e3f",
            "0f7170eb33da47dfaf1ecf6f9dba70e5",
            "8d448e9afcfa4d748a52bd6ec1d9b0e9",
            "527d0601fb614472b1ef48e981879cd8"
          ]
        },
        "outputId": "e424aaae-b023-496d-dbd4-b785bf89e4a5"
      },
      "source": [
        "k_hop_correlations = [np.mean(graph_correlation(all_adj, k=k)) for k in tqdm(range(1, 21))]"
      ],
      "execution_count": 85,
      "outputs": [
        {
          "output_type": "display_data",
          "data": {
            "application/vnd.jupyter.widget-view+json": {
              "model_id": "8ea11a5a3d564223a84dc1e50cf0c958",
              "version_minor": 0,
              "version_major": 2
            },
            "text/plain": [
              "  0%|          | 0/20 [00:00<?, ?it/s]"
            ]
          },
          "metadata": {
            "tags": []
          }
        }
      ]
    },
    {
      "cell_type": "code",
      "metadata": {
        "id": "PDBY7Vj7XhuK",
        "colab": {
          "base_uri": "https://localhost:8080/",
          "height": 623
        },
        "outputId": "0d7501b5-da15-472a-8fff-0f9275085363"
      },
      "source": [
        "plt.figure(figsize=(12, 10))\n",
        "\n",
        "sns.lineplot(x=range(1, 21), y=k_hop_correlations).set(xlabel=\"Neighborhood depth\", ylabel=\"Correlation\")"
      ],
      "execution_count": 86,
      "outputs": [
        {
          "output_type": "execute_result",
          "data": {
            "text/plain": [
              "[Text(0, 0.5, 'Correlation'), Text(0.5, 0, 'Neighborhood depth')]"
            ]
          },
          "metadata": {
            "tags": []
          },
          "execution_count": 86
        },
        {
          "output_type": "display_data",
          "data": {
            "image/png": "[encoded data removed]",
            "text/plain": [
              "<Figure size 864x720 with 1 Axes>"
            ]
          },
          "metadata": {
            "tags": []
          }
        }
      ]
    },
    {
      "cell_type": "markdown",
      "metadata": {
        "id": "949xSTJP68d9"
      },
      "source": [
        "## **Correlation on scaled features**"
      ]
    },
    {
      "cell_type": "markdown",
      "metadata": {
        "id": "wF6nvrpf1oSH"
      },
      "source": [
        "##### **TODO**\n",
        "- scale node features (columns)\n",
        "- take the absolute value of the correlations\n",
        "- monitor mean_correlation on k-hop neighborhoods\n",
        "- monitor mean_correlation on k-hop neighbors only (might be a good parameter for our k-hop net)"
      ]
    },
    {
      "cell_type": "code",
      "metadata": {
        "id": "xIWDJDi56_vg"
      },
      "source": [
        ""
      ],
      "execution_count": null,
      "outputs": []
    },
    {
      "cell_type": "markdown",
      "metadata": {
        "id": "qjcPsgP_7W_i"
      },
      "source": [
        "## **Can we represent labels by the average of observations with that label?**"
      ]
    },
    {
      "cell_type": "markdown",
      "metadata": {
        "id": "NNM5gTu3ecfZ"
      },
      "source": [
        "Let's verify the significance of:\n",
        "$$\n",
        "corr(X_v, \\bar X_{c(v)} ) > corr(X_v, X_{l \\neq c(v)})\n",
        "$$"
      ]
    },
    {
      "cell_type": "code",
      "metadata": {
        "id": "8u95WT_1fbwH",
        "outputId": "4935aca6-ebb5-4255-e8a6-b2bea21eb89a",
        "colab": {
          "base_uri": "https://localhost:8080/"
        }
      },
      "source": [
        "i = 0\n",
        "j = 0\n",
        "\n",
        "[np.corrcoef(x=G.x[i].numpy(), y=avg_obs[j].numpy())[0,1] for j in range(cora_dataset.num_classes)]"
      ],
      "execution_count": 15,
      "outputs": [
        {
          "output_type": "execute_result",
          "data": {
            "text/plain": [
              "[0.009514787754922711,\n",
              " 0.11277047055694274,\n",
              " 0.08048514986771527,\n",
              " 0.3094080636986475,\n",
              " 0.08810259648024217,\n",
              " 0.006805818063360886,\n",
              " 0.0023072425243583746]"
            ]
          },
          "metadata": {
            "tags": []
          },
          "execution_count": 15
        }
      ]
    },
    {
      "cell_type": "code",
      "metadata": {
        "id": "_2x8i-2NgT_r",
        "outputId": "d3dc6e01-cc59-4b0c-d700-40a94be42b32",
        "colab": {
          "base_uri": "https://localhost:8080/"
        }
      },
      "source": [
        "G.y[0].item()"
      ],
      "execution_count": 20,
      "outputs": [
        {
          "output_type": "execute_result",
          "data": {
            "text/plain": [
              "3"
            ]
          },
          "metadata": {
            "tags": []
          },
          "execution_count": 20
        }
      ]
    },
    {
      "cell_type": "markdown",
      "metadata": {
        "id": "juCr6UrmgV83"
      },
      "source": [
        "This is a good start!\n",
        "\n",
        "Node n°$0$ has a significantly higher correlation with the representation of its label (3)."
      ]
    },
    {
      "cell_type": "code",
      "metadata": {
        "id": "KxM355f0eXvt"
      },
      "source": [
        "label_correlations = pd.DataFrame({'node':[], 'label':[], 'correlation':[], 'true_label':[]})\n",
        "idx = 0\n",
        "\n",
        "for i in range(G.num_nodes):\n",
        "    for j in range(cora_dataset.num_classes):\n",
        "        corr = np.corrcoef(x=G.x[i].numpy(), y=avg_obs[j].numpy())[0,1]\n",
        "        \n",
        "        label_correlations.loc[idx] = {'node':i, 'label':j, 'true_label':G.y[i].item(), 'correlation':corr}\n",
        "        idx += 1"
      ],
      "execution_count": 30,
      "outputs": []
    },
    {
      "cell_type": "code",
      "metadata": {
        "id": "2810m6Q_i8cQ",
        "outputId": "2d69f77e-78d5-4af4-e617-a7ed31be40b1",
        "colab": {
          "base_uri": "https://localhost:8080/",
          "height": 419
        }
      },
      "source": [
        "label_correlations"
      ],
      "execution_count": 40,
      "outputs": [
        {
          "output_type": "execute_result",
          "data": {
            "text/html": [
              "<div>\n",
              "<style scoped>\n",
              "    .dataframe tbody tr th:only-of-type {\n",
              "        vertical-align: middle;\n",
              "    }\n",
              "\n",
              "    .dataframe tbody tr th {\n",
              "        vertical-align: top;\n",
              "    }\n",
              "\n",
              "    .dataframe thead th {\n",
              "        text-align: right;\n",
              "    }\n",
              "</style>\n",
              "<table border=\"1\" class=\"dataframe\">\n",
              "  <thead>\n",
              "    <tr style=\"text-align: right;\">\n",
              "      <th></th>\n",
              "      <th>node</th>\n",
              "      <th>label</th>\n",
              "      <th>correlation</th>\n",
              "      <th>true_label</th>\n",
              "    </tr>\n",
              "  </thead>\n",
              "  <tbody>\n",
              "    <tr>\n",
              "      <th>0</th>\n",
              "      <td>0.0</td>\n",
              "      <td>0.0</td>\n",
              "      <td>0.009515</td>\n",
              "      <td>3.0</td>\n",
              "    </tr>\n",
              "    <tr>\n",
              "      <th>1</th>\n",
              "      <td>0.0</td>\n",
              "      <td>1.0</td>\n",
              "      <td>0.112770</td>\n",
              "      <td>3.0</td>\n",
              "    </tr>\n",
              "    <tr>\n",
              "      <th>2</th>\n",
              "      <td>0.0</td>\n",
              "      <td>2.0</td>\n",
              "      <td>0.080485</td>\n",
              "      <td>3.0</td>\n",
              "    </tr>\n",
              "    <tr>\n",
              "      <th>3</th>\n",
              "      <td>0.0</td>\n",
              "      <td>3.0</td>\n",
              "      <td>0.309408</td>\n",
              "      <td>3.0</td>\n",
              "    </tr>\n",
              "    <tr>\n",
              "      <th>4</th>\n",
              "      <td>0.0</td>\n",
              "      <td>4.0</td>\n",
              "      <td>0.088103</td>\n",
              "      <td>3.0</td>\n",
              "    </tr>\n",
              "    <tr>\n",
              "      <th>...</th>\n",
              "      <td>...</td>\n",
              "      <td>...</td>\n",
              "      <td>...</td>\n",
              "      <td>...</td>\n",
              "    </tr>\n",
              "    <tr>\n",
              "      <th>18951</th>\n",
              "      <td>2707.0</td>\n",
              "      <td>2.0</td>\n",
              "      <td>0.059876</td>\n",
              "      <td>3.0</td>\n",
              "    </tr>\n",
              "    <tr>\n",
              "      <th>18952</th>\n",
              "      <td>2707.0</td>\n",
              "      <td>3.0</td>\n",
              "      <td>0.268636</td>\n",
              "      <td>3.0</td>\n",
              "    </tr>\n",
              "    <tr>\n",
              "      <th>18953</th>\n",
              "      <td>2707.0</td>\n",
              "      <td>4.0</td>\n",
              "      <td>0.114768</td>\n",
              "      <td>3.0</td>\n",
              "    </tr>\n",
              "    <tr>\n",
              "      <th>18954</th>\n",
              "      <td>2707.0</td>\n",
              "      <td>5.0</td>\n",
              "      <td>0.018767</td>\n",
              "      <td>3.0</td>\n",
              "    </tr>\n",
              "    <tr>\n",
              "      <th>18955</th>\n",
              "      <td>2707.0</td>\n",
              "      <td>6.0</td>\n",
              "      <td>0.021307</td>\n",
              "      <td>3.0</td>\n",
              "    </tr>\n",
              "  </tbody>\n",
              "</table>\n",
              "<p>18956 rows × 4 columns</p>\n",
              "</div>"
            ],
            "text/plain": [
              "         node  label  correlation  true_label\n",
              "0         0.0    0.0     0.009515         3.0\n",
              "1         0.0    1.0     0.112770         3.0\n",
              "2         0.0    2.0     0.080485         3.0\n",
              "3         0.0    3.0     0.309408         3.0\n",
              "4         0.0    4.0     0.088103         3.0\n",
              "...       ...    ...          ...         ...\n",
              "18951  2707.0    2.0     0.059876         3.0\n",
              "18952  2707.0    3.0     0.268636         3.0\n",
              "18953  2707.0    4.0     0.114768         3.0\n",
              "18954  2707.0    5.0     0.018767         3.0\n",
              "18955  2707.0    6.0     0.021307         3.0\n",
              "\n",
              "[18956 rows x 4 columns]"
            ]
          },
          "metadata": {
            "tags": []
          },
          "execution_count": 40
        }
      ]
    },
    {
      "cell_type": "code",
      "metadata": {
        "id": "B8lIJeoVeYHA"
      },
      "source": [
        "# TODO: verify that the correlation is always higher with the representation of the true_label"
      ],
      "execution_count": 36,
      "outputs": []
    },
    {
      "cell_type": "code",
      "metadata": {
        "id": "pQAFRa99eYzJ",
        "outputId": "1e741591-a05f-46e0-b48c-de822c77efd5",
        "colab": {
          "base_uri": "https://localhost:8080/",
          "height": 49,
          "referenced_widgets": [
            "ce0dc22e2f554a59bc33ff3fac322644",
            "724caea3001c4c54a1785a1029ab7414",
            "ff9ab6e1ea4341b6941a20e57c5ca676",
            "0123a647a1c3413aba58c564f02c1563",
            "190e97e0c87b4e25b32cd720d8d18034",
            "f2b3f794ba4a4af39589f8713070f338",
            "0aa6ae458a0d4c95a32bc6d8883b97fb",
            "dd6b6a7e3c8a4853b81197b7bd75d8ba",
            "10c9ec0776d54b5683a416351b13026c",
            "bd7588c670af466ba527e5bba316603f",
            "1a58b4fff6e14e4ab9de54707342ce2a"
          ]
        }
      },
      "source": [
        "correct = 0\n",
        "for i in tqdm(range(G.num_nodes)):\n",
        "    true_label = G.y[i].item()\n",
        "    corrs = label_correlations[label_correlations['node'] == i]\n",
        "    if corrs['correlation'].max() == corrs[corrs['label'] == true_label]['correlation'].item():\n",
        "        correct += 1"
      ],
      "execution_count": 47,
      "outputs": [
        {
          "output_type": "display_data",
          "data": {
            "application/vnd.jupyter.widget-view+json": {
              "model_id": "ce0dc22e2f554a59bc33ff3fac322644",
              "version_minor": 0,
              "version_major": 2
            },
            "text/plain": [
              "  0%|          | 0/2708 [00:00<?, ?it/s]"
            ]
          },
          "metadata": {
            "tags": []
          }
        }
      ]
    },
    {
      "cell_type": "code",
      "metadata": {
        "id": "OE_UhZUpjDdF",
        "outputId": "53114763-e011-4f46-c9df-3c058279663d",
        "colab": {
          "base_uri": "https://localhost:8080/"
        }
      },
      "source": [
        "print(f\"{100*correct / G.num_nodes:.2f}% of nodes are more correlated with the representation of the true label\")"
      ],
      "execution_count": 56,
      "outputs": [
        {
          "output_type": "stream",
          "text": [
            "71.71% of nodes are more correlated with the representation of the true label\n"
          ],
          "name": "stdout"
        }
      ]
    },
    {
      "cell_type": "markdown",
      "metadata": {
        "id": "QSCb_vdReYqb"
      },
      "source": [
        "This is not ideal, plus it does not tell us anything about the significance of the result.\n",
        "\n",
        "*I am not even sure that a significance test is needed with such a low value!*"
      ]
    },
    {
      "cell_type": "code",
      "metadata": {
        "id": "mSBpzzDyk08R",
        "outputId": "0f51fa27-de60-4619-8940-b90ca3cc97a6",
        "colab": {
          "base_uri": "https://localhost:8080/"
        }
      },
      "source": [
        "label_correlations.query('node == 0')['correlation'].tolist()"
      ],
      "execution_count": 63,
      "outputs": [
        {
          "output_type": "execute_result",
          "data": {
            "text/plain": [
              "[0.009514787754922711,\n",
              " 0.11277047055694274,\n",
              " 0.08048514986771527,\n",
              " 0.3094080636986475,\n",
              " 0.08810259648024217,\n",
              " 0.006805818063360886,\n",
              " 0.0023072425243583746]"
            ]
          },
          "metadata": {
            "tags": []
          },
          "execution_count": 63
        }
      ]
    },
    {
      "cell_type": "code",
      "metadata": {
        "id": "Pm_fDd8HeYV9",
        "outputId": "a8c81a48-9514-4535-c1b6-3bb2a00b6760",
        "colab": {
          "base_uri": "https://localhost:8080/",
          "height": 530
        }
      },
      "source": [
        "plt.figure(figsize=(12, 8))\n",
        "\n",
        "i = 20\n",
        "\n",
        "sns.barplot(x=\"label\", y=\"correlation\", data=label_correlations.query(f\"node == {i}\")).set(title=f\"True label: {G.y[i]}\")\n",
        "plt.axhline(y=label_correlations.query(f\"node == {i}\")['correlation'].mean(), linestyle='--')"
      ],
      "execution_count": 81,
      "outputs": [
        {
          "output_type": "execute_result",
          "data": {
            "text/plain": [
              "<matplotlib.lines.Line2D at 0x7f850acee450>"
            ]
          },
          "metadata": {
            "tags": []
          },
          "execution_count": 81
        },
        {
          "output_type": "display_data",
          "data": {
            "image/png": "[encoded data removed]",
            "text/plain": [
              "<Figure size 864x576 with 1 Axes>"
            ]
          },
          "metadata": {
            "tags": []
          }
        }
      ]
    },
    {
      "cell_type": "markdown",
      "metadata": {
        "id": "ZbNtctjB1v0O"
      },
      "source": [
        "##### **TODO**\n",
        "Find a statistic to test the significance of:\n",
        "\n",
        "*H:* $corr(X_v, \\bar X_{c(v)} ) > corr(X_v, X_{l \\neq c(v)})$\n",
        "\n",
        "Maybe a Wald test?"
      ]
    },
    {
      "cell_type": "markdown",
      "metadata": {
        "id": "onkkM14f16WL"
      },
      "source": [
        "# **END**"
      ]
    }
  ]
}