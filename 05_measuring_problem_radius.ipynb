{
  "nbformat": 4,
  "nbformat_minor": 0,
  "metadata": {
    "colab": {
      "name": "05_measuring_problem_radius.ipynb",
      "provenance": [],
      "authorship_tag": "ABX9TyNxFqxx6tiC6ti9eRVCXAXM",
      "include_colab_link": true
    },
    "kernelspec": {
      "name": "python3",
      "display_name": "Python 3"
    },
    "language_info": {
      "name": "python"
    },
    "widgets": {
      "application/vnd.jupyter.widget-state+json": {
        "9efa5abcb9ec44fc96a16132473e9910": {
          "model_module": "@jupyter-widgets/controls",
          "model_name": "HBoxModel",
          "state": {
            "_view_name": "HBoxView",
            "_dom_classes": [],
            "_model_name": "HBoxModel",
            "_view_module": "@jupyter-widgets/controls",
            "_model_module_version": "1.5.0",
            "_view_count": null,
            "_view_module_version": "1.5.0",
            "box_style": "",
            "layout": "IPY_MODEL_336ffbb467774c15ae722e3853517109",
            "_model_module": "@jupyter-widgets/controls",
            "children": [
              "IPY_MODEL_2a9d6fdd418142dd9f7d0dfe233b4594",
              "IPY_MODEL_9dd865dc3f944428bf79cd54c32395b2",
              "IPY_MODEL_a9d8cd8ffa6d4a18ad2c0fd49e5edec1"
            ]
          }
        },
        "336ffbb467774c15ae722e3853517109": {
          "model_module": "@jupyter-widgets/base",
          "model_name": "LayoutModel",
          "state": {
            "_view_name": "LayoutView",
            "grid_template_rows": null,
            "right": null,
            "justify_content": null,
            "_view_module": "@jupyter-widgets/base",
            "overflow": null,
            "_model_module_version": "1.2.0",
            "_view_count": null,
            "flex_flow": null,
            "width": null,
            "min_width": null,
            "border": null,
            "align_items": null,
            "bottom": null,
            "_model_module": "@jupyter-widgets/base",
            "top": null,
            "grid_column": null,
            "overflow_y": null,
            "overflow_x": null,
            "grid_auto_flow": null,
            "grid_area": null,
            "grid_template_columns": null,
            "flex": null,
            "_model_name": "LayoutModel",
            "justify_items": null,
            "grid_row": null,
            "max_height": null,
            "align_content": null,
            "visibility": null,
            "align_self": null,
            "height": null,
            "min_height": null,
            "padding": null,
            "grid_auto_rows": null,
            "grid_gap": null,
            "max_width": null,
            "order": null,
            "_view_module_version": "1.2.0",
            "grid_template_areas": null,
            "object_position": null,
            "object_fit": null,
            "grid_auto_columns": null,
            "margin": null,
            "display": null,
            "left": null
          }
        },
        "2a9d6fdd418142dd9f7d0dfe233b4594": {
          "model_module": "@jupyter-widgets/controls",
          "model_name": "HTMLModel",
          "state": {
            "_view_name": "HTMLView",
            "style": "IPY_MODEL_5bc4eecd38244a71b297264cacdf1fa8",
            "_dom_classes": [],
            "description": "",
            "_model_name": "HTMLModel",
            "placeholder": "​",
            "_view_module": "@jupyter-widgets/controls",
            "_model_module_version": "1.5.0",
            "value": " 40%",
            "_view_count": null,
            "_view_module_version": "1.5.0",
            "description_tooltip": null,
            "_model_module": "@jupyter-widgets/controls",
            "layout": "IPY_MODEL_4f7bef35bafd479cb4cf19038cb38bd0"
          }
        },
        "9dd865dc3f944428bf79cd54c32395b2": {
          "model_module": "@jupyter-widgets/controls",
          "model_name": "FloatProgressModel",
          "state": {
            "_view_name": "ProgressView",
            "style": "IPY_MODEL_a7525baa8f54447c9b0b47d74794d3af",
            "_dom_classes": [],
            "description": "",
            "_model_name": "FloatProgressModel",
            "bar_style": "",
            "max": 5,
            "_view_module": "@jupyter-widgets/controls",
            "_model_module_version": "1.5.0",
            "value": 2,
            "_view_count": null,
            "_view_module_version": "1.5.0",
            "orientation": "horizontal",
            "min": 0,
            "description_tooltip": null,
            "_model_module": "@jupyter-widgets/controls",
            "layout": "IPY_MODEL_7e2fd59c3de94cf49606fd42a33010de"
          }
        },
        "a9d8cd8ffa6d4a18ad2c0fd49e5edec1": {
          "model_module": "@jupyter-widgets/controls",
          "model_name": "HTMLModel",
          "state": {
            "_view_name": "HTMLView",
            "style": "IPY_MODEL_b6dfd1cde3984d09971264559f5748d3",
            "_dom_classes": [],
            "description": "",
            "_model_name": "HTMLModel",
            "placeholder": "​",
            "_view_module": "@jupyter-widgets/controls",
            "_model_module_version": "1.5.0",
            "value": " 2/5 [00:04&lt;00:07,  2.51s/it]",
            "_view_count": null,
            "_view_module_version": "1.5.0",
            "description_tooltip": null,
            "_model_module": "@jupyter-widgets/controls",
            "layout": "IPY_MODEL_eee8033a941b47eda05113ecb14cfb60"
          }
        },
        "5bc4eecd38244a71b297264cacdf1fa8": {
          "model_module": "@jupyter-widgets/controls",
          "model_name": "DescriptionStyleModel",
          "state": {
            "_view_name": "StyleView",
            "_model_name": "DescriptionStyleModel",
            "description_width": "",
            "_view_module": "@jupyter-widgets/base",
            "_model_module_version": "1.5.0",
            "_view_count": null,
            "_view_module_version": "1.2.0",
            "_model_module": "@jupyter-widgets/controls"
          }
        },
        "4f7bef35bafd479cb4cf19038cb38bd0": {
          "model_module": "@jupyter-widgets/base",
          "model_name": "LayoutModel",
          "state": {
            "_view_name": "LayoutView",
            "grid_template_rows": null,
            "right": null,
            "justify_content": null,
            "_view_module": "@jupyter-widgets/base",
            "overflow": null,
            "_model_module_version": "1.2.0",
            "_view_count": null,
            "flex_flow": null,
            "width": null,
            "min_width": null,
            "border": null,
            "align_items": null,
            "bottom": null,
            "_model_module": "@jupyter-widgets/base",
            "top": null,
            "grid_column": null,
            "overflow_y": null,
            "overflow_x": null,
            "grid_auto_flow": null,
            "grid_area": null,
            "grid_template_columns": null,
            "flex": null,
            "_model_name": "LayoutModel",
            "justify_items": null,
            "grid_row": null,
            "max_height": null,
            "align_content": null,
            "visibility": null,
            "align_self": null,
            "height": null,
            "min_height": null,
            "padding": null,
            "grid_auto_rows": null,
            "grid_gap": null,
            "max_width": null,
            "order": null,
            "_view_module_version": "1.2.0",
            "grid_template_areas": null,
            "object_position": null,
            "object_fit": null,
            "grid_auto_columns": null,
            "margin": null,
            "display": null,
            "left": null
          }
        },
        "a7525baa8f54447c9b0b47d74794d3af": {
          "model_module": "@jupyter-widgets/controls",
          "model_name": "ProgressStyleModel",
          "state": {
            "_view_name": "StyleView",
            "_model_name": "ProgressStyleModel",
            "description_width": "",
            "_view_module": "@jupyter-widgets/base",
            "_model_module_version": "1.5.0",
            "_view_count": null,
            "_view_module_version": "1.2.0",
            "bar_color": null,
            "_model_module": "@jupyter-widgets/controls"
          }
        },
        "7e2fd59c3de94cf49606fd42a33010de": {
          "model_module": "@jupyter-widgets/base",
          "model_name": "LayoutModel",
          "state": {
            "_view_name": "LayoutView",
            "grid_template_rows": null,
            "right": null,
            "justify_content": null,
            "_view_module": "@jupyter-widgets/base",
            "overflow": null,
            "_model_module_version": "1.2.0",
            "_view_count": null,
            "flex_flow": null,
            "width": null,
            "min_width": null,
            "border": null,
            "align_items": null,
            "bottom": null,
            "_model_module": "@jupyter-widgets/base",
            "top": null,
            "grid_column": null,
            "overflow_y": null,
            "overflow_x": null,
            "grid_auto_flow": null,
            "grid_area": null,
            "grid_template_columns": null,
            "flex": null,
            "_model_name": "LayoutModel",
            "justify_items": null,
            "grid_row": null,
            "max_height": null,
            "align_content": null,
            "visibility": null,
            "align_self": null,
            "height": null,
            "min_height": null,
            "padding": null,
            "grid_auto_rows": null,
            "grid_gap": null,
            "max_width": null,
            "order": null,
            "_view_module_version": "1.2.0",
            "grid_template_areas": null,
            "object_position": null,
            "object_fit": null,
            "grid_auto_columns": null,
            "margin": null,
            "display": null,
            "left": null
          }
        },
        "b6dfd1cde3984d09971264559f5748d3": {
          "model_module": "@jupyter-widgets/controls",
          "model_name": "DescriptionStyleModel",
          "state": {
            "_view_name": "StyleView",
            "_model_name": "DescriptionStyleModel",
            "description_width": "",
            "_view_module": "@jupyter-widgets/base",
            "_model_module_version": "1.5.0",
            "_view_count": null,
            "_view_module_version": "1.2.0",
            "_model_module": "@jupyter-widgets/controls"
          }
        },
        "eee8033a941b47eda05113ecb14cfb60": {
          "model_module": "@jupyter-widgets/base",
          "model_name": "LayoutModel",
          "state": {
            "_view_name": "LayoutView",
            "grid_template_rows": null,
            "right": null,
            "justify_content": null,
            "_view_module": "@jupyter-widgets/base",
            "overflow": null,
            "_model_module_version": "1.2.0",
            "_view_count": null,
            "flex_flow": null,
            "width": null,
            "min_width": null,
            "border": null,
            "align_items": null,
            "bottom": null,
            "_model_module": "@jupyter-widgets/base",
            "top": null,
            "grid_column": null,
            "overflow_y": null,
            "overflow_x": null,
            "grid_auto_flow": null,
            "grid_area": null,
            "grid_template_columns": null,
            "flex": null,
            "_model_name": "LayoutModel",
            "justify_items": null,
            "grid_row": null,
            "max_height": null,
            "align_content": null,
            "visibility": null,
            "align_self": null,
            "height": null,
            "min_height": null,
            "padding": null,
            "grid_auto_rows": null,
            "grid_gap": null,
            "max_width": null,
            "order": null,
            "_view_module_version": "1.2.0",
            "grid_template_areas": null,
            "object_position": null,
            "object_fit": null,
            "grid_auto_columns": null,
            "margin": null,
            "display": null,
            "left": null
          }
        }
      }
    },
    "accelerator": "GPU"
  },
  "cells": [
    {
      "cell_type": "markdown",
      "metadata": {
        "id": "view-in-github",
        "colab_type": "text"
      },
      "source": [
        "<a href=\"https://colab.research.google.com/github/AchrafAsh/gnn-receptive-fields/blob/main/05_measuring_problem_radius.ipynb\" target=\"_parent\"><img src=\"https://colab.research.google.com/assets/colab-badge.svg\" alt=\"Open In Colab\"/></a>"
      ]
    },
    {
      "cell_type": "markdown",
      "metadata": {
        "id": "i0YTviLrOX5H"
      },
      "source": [
        "#### **Hardware specs**"
      ]
    },
    {
      "cell_type": "code",
      "metadata": {
        "id": "SaPN4UBGdAgB",
        "colab": {
          "base_uri": "https://localhost:8080/"
        },
        "outputId": "a59a65b0-e4a4-4f6b-a65a-388a2fef2ab1"
      },
      "source": [
        "gpu_info = !nvidia-smi\n",
        "gpu_info = '\\n'.join(gpu_info)\n",
        "if gpu_info.find('failed') >= 0:\n",
        "  print('Select the Runtime > \"Change runtime type\" menu to enable a GPU accelerator, ')\n",
        "  print('and then re-execute this cell.')\n",
        "else:\n",
        "  print(gpu_info)"
      ],
      "execution_count": 1,
      "outputs": [
        {
          "output_type": "stream",
          "text": [
            "Select the Runtime > \"Change runtime type\" menu to enable a GPU accelerator, \n",
            "and then re-execute this cell.\n"
          ],
          "name": "stdout"
        }
      ]
    },
    {
      "cell_type": "code",
      "metadata": {
        "id": "EnyO5rlSdDI1",
        "colab": {
          "base_uri": "https://localhost:8080/"
        },
        "outputId": "4a4f5cab-fef2-4e70-e186-b66107609493"
      },
      "source": [
        "from psutil import virtual_memory\n",
        "ram_gb = virtual_memory().total / 1e9\n",
        "print('Your runtime has {:.1f} gigabytes of available RAM\\n'.format(ram_gb))\n",
        "\n",
        "if ram_gb < 20:\n",
        "  print('To enable a high-RAM runtime, select the Runtime > \"Change runtime type\"')\n",
        "  print('menu, and then select High-RAM in the Runtime shape dropdown. Then, ')\n",
        "  print('re-execute this cell.')\n",
        "else:\n",
        "  print('You are using a high-RAM runtime!')"
      ],
      "execution_count": 2,
      "outputs": [
        {
          "output_type": "stream",
          "text": [
            "Your runtime has 13.6 gigabytes of available RAM\n",
            "\n",
            "To enable a high-RAM runtime, select the Runtime > \"Change runtime type\"\n",
            "menu, and then select High-RAM in the Runtime shape dropdown. Then, \n",
            "re-execute this cell.\n"
          ],
          "name": "stdout"
        }
      ]
    },
    {
      "cell_type": "markdown",
      "metadata": {
        "id": "HSiPMufnPBJG"
      },
      "source": [
        "## **🚀 Setting up the environment**"
      ]
    },
    {
      "cell_type": "code",
      "metadata": {
        "id": "kDryoKT1NgXg",
        "colab": {
          "base_uri": "https://localhost:8080/"
        },
        "outputId": "ccc74cd1-58b2-428e-9265-665de8b77bd7"
      },
      "source": [
        "import os, sys\n",
        "import os.path as osp\n",
        "from google.colab import drive, files\n",
        "drive.mount('/content/mnt')\n",
        "nb_path = '/content/notebooks'\n",
        "try:\n",
        "    os.symlink('/content/mnt/My Drive/Colab Notebooks', nb_path)\n",
        "except:\n",
        "    pass\n",
        "sys.path.insert(0, nb_path)  # or append(nb_path)"
      ],
      "execution_count": null,
      "outputs": [
        {
          "output_type": "stream",
          "text": [
            "Drive already mounted at /content/mnt; to attempt to forcibly remount, call drive.mount(\"/content/mnt\", force_remount=True).\n"
          ],
          "name": "stdout"
        }
      ]
    },
    {
      "cell_type": "code",
      "metadata": {
        "id": "STz_Wfm3N3ph"
      },
      "source": [
        "import time\n",
        "import concurrent.futures\n",
        "import seaborn as sns\n",
        "import pandas as pd\n",
        "import numpy as np\n",
        "import matplotlib.pyplot as plt\n",
        "\n",
        "import torch\n",
        "\n",
        "from collections import Counter\n",
        "from torch_geometric.utils import to_dense_adj\n",
        "from tqdm.notebook import tqdm\n",
        "\n",
        "%matplotlib inline\n",
        "sns.set_style('whitegrid')\n",
        "\n",
        "device = torch.device(\"cuda\" if torch.cuda.is_available() else 'cpu')"
      ],
      "execution_count": null,
      "outputs": []
    },
    {
      "cell_type": "markdown",
      "metadata": {
        "id": "C-GlC2R2PFYP"
      },
      "source": [
        "## **🧰 Utility functions**"
      ]
    },
    {
      "cell_type": "code",
      "metadata": {
        "id": "dbX7E4uCfn-q"
      },
      "source": [
        "def hop_neighbors(k:int, dense_adj: torch.Tensor):\n",
        "    cum_neighbors = pow_A = dense_adj\n",
        "\n",
        "    yield dense_adj, dense_adj\n",
        "\n",
        "    for _ in range(k-1):\n",
        "        # pow_A = torch.sparse.mm(edge_index, pow_A)\n",
        "        pow_A = torch.spmm(dense_adj, pow_A)\n",
        "        # neighbors = ((pow_A > 0) - cum_neighbors) > 0\n",
        "\n",
        "        neighbors = torch.where(\n",
        "            torch.where(pow_A > 0, 1, 0) - cum_neighbors > 0,\n",
        "            1, 0)\n",
        "        \n",
        "        cum_neighbors += neighbors\n",
        "        \n",
        "        yield neighbors, cum_neighbors"
      ],
      "execution_count": 5,
      "outputs": []
    },
    {
      "cell_type": "code",
      "metadata": {
        "id": "JTZt0a-JN-NI"
      },
      "source": [
        "def scale(X:torch.Tensor):\n",
        "    \"\"\"Returns the scaled features of the graph\n",
        "\n",
        "    Args:\n",
        "        - X [num_nodes, num_features]\n",
        "    \"\"\"\n",
        "   \n",
        "    m = X.mean(0)\n",
        "    s = X.std(0)\n",
        "    ones = torch.ones(s.shape).to(device)\n",
        "    s = torch.where(s == 0, ones, s)\n",
        "    return (X - m)/ s"
      ],
      "execution_count": 6,
      "outputs": []
    },
    {
      "cell_type": "code",
      "metadata": {
        "id": "Iw1tdEy2OBBi"
      },
      "source": [
        "def centroids(X:torch.Tensor, y:torch.Tensor):\n",
        "    \"\"\"Returns the label representation by averaging its nodes' features\n",
        "\n",
        "    Args:\n",
        "        - X [num_nodes, num_features]: node features\n",
        "        - y [num_nodes]: labels\n",
        "    \"\"\"\n",
        "    num_classes = y.max().item() + 1\n",
        "    \n",
        "    # group nodes by label\n",
        "    obs = {}\n",
        "    for i in range(X.size(0)):\n",
        "        if obs.get(y[i].item()):\n",
        "            obs[y[i].item()] += [X[i]]\n",
        "        else:\n",
        "            obs[y[i].item()] = [X[i]]\n",
        "\n",
        "    return torch.stack([sum(obs[c]) / len(obs[c]) for c in range(num_classes)], 0)"
      ],
      "execution_count": 7,
      "outputs": []
    },
    {
      "cell_type": "code",
      "metadata": {
        "id": "OAWqZvD3ORwO"
      },
      "source": [
        "def homophily_index(y:torch.Tensor, neb:torch.tensor, mask=None, optim='memory'):\n",
        "    \"\"\"Computes the homophily index for a given depth\n",
        "\n",
        "    Args:\n",
        "        - y [num_nodes]: labels of all nodes\n",
        "        - neb [num_nodes, num_nodes]: neighbors to consider (can be the adjacency matrix or k-hop neighborhood)\n",
        "        - mask [num_nodes]: \"train\", \"test\" or \"val\" to consider only these specific neighbors\n",
        "    \"\"\"\n",
        "    num_nodes = y.size(0)\n",
        "\n",
        "    if mask == None:\n",
        "        mask = torch.ones(num_nodes).to(device)\n",
        "\n",
        "    if(optim == 'memory'):\n",
        "        # memory optimized\n",
        "        return torch.stack([(y[neb[i] * mask == 1] == y[i]).float().mean().to(device) if (neb[i] * mask == 1).sum() > 0 else torch.tensor(0.).to(device) for i in range(num_nodes)], 0)\n",
        "\n",
        "    if(optim == 'gpu'):\n",
        "        # gpu optimized\n",
        "        masked_neb = neb * mask.to(device)\n",
        "        yy = y.unsqueeze(1).expand(-1, num_nodes).to(device)\n",
        "\n",
        "        return (((masked_neb.long() * yy.t()) == yy ) * (masked_neb == 1)).sum(1) / ((masked_neb == 1).sum(1) + 1e-8)"
      ],
      "execution_count": 8,
      "outputs": []
    },
    {
      "cell_type": "code",
      "metadata": {
        "id": "tgbgeRd1Riuk"
      },
      "source": [
        "def corrcoef(x:torch.Tensor, y:torch.Tensor, x_mean:torch.Tensor, y_mean:torch.Tensor):\n",
        "    if x == [] or x.size(0) == 0: return torch.tensor(0.)\n",
        "\n",
        "    c = torch.matmul(x.sub(x.mean(1, keepdim=True)), y.sub(y.mean(0, keepdim=True)).t()) / x.size(1)\n",
        "    c = c / (x.std(1) * y.std())\n",
        "    return c.clamp(-1.0, 1.0)"
      ],
      "execution_count": 9,
      "outputs": []
    },
    {
      "cell_type": "code",
      "metadata": {
        "id": "k92d-FcrHBwS"
      },
      "source": [
        "def graph_correlation(neb:torch.Tensor, x:torch.Tensor, y:torch.Tensor):\n",
        "    \"\"\"Returns the list of correlations between the barycenter representation of\n",
        "    labels and the neighbor features.\n",
        "\n",
        "    Args:\n",
        "        - neb [num_nodes, num_nodes]: dense adjacency matrix\n",
        "        - x [num_nodes, num_features]: node features\n",
        "        - y [num_nodes, num_features]: label representation associated with the target node\n",
        "\n",
        "    :rtype: list [num_nodes]: correlation (scalar) for every node\n",
        "    \"\"\"\n",
        "    num_nodes = x.size(0)\n",
        "\n",
        "    return torch.stack([corrcoef(x=x[neb[i] == 1], y=y[i]).abs().mean().to(device) for i in range(num_nodes)], 0)"
      ],
      "execution_count": 10,
      "outputs": []
    },
    {
      "cell_type": "code",
      "metadata": {
        "id": "Oz6Nj0Yxtp9A"
      },
      "source": [
        "def graph_correlation(neb:torch.Tensor, x:torch.Tensor, y:torch.Tensor, y_mean:torch.Tensor):\n",
        "    \"\"\"Returns the list of correlations between the barycenter representation of\n",
        "    labels and the neighbor features.\n",
        "\n",
        "    Args:\n",
        "        - neb [num_nodes, num_nodes]: dense adjacency matrix\n",
        "        - x [num_nodes, num_features]: node features\n",
        "        - y [num_nodes, num_features]: label representation associated with the target node\n",
        "        :rtype: list [num_nodes]: correlation (scalar) for every node\n",
        "    \"\"\"\n",
        "\n",
        "    num_nodes = x.size(0)\n",
        "    y_scaled = y.sub(y_mean)\n",
        " \n",
        "    def corr(x, y, i):\n",
        "        if x.size(0) == 0: return torch.tensor(0.)\n",
        "        cov = torch.einsum('ij, j -> i', x, y)\n",
        "        norm = torch.matmul(x, x.t()).diag().sqrt() * torch.matmul(y, y.t()).sqrt()\n",
        "        return cov / norm\n",
        "\n",
        "    return torch.stack([corr(x=x[neb[i] == 1], y=y_scaled[i], i=i).abs().mean().to(device) for i in range(num_nodes)], 0)"
      ],
      "execution_count": 11,
      "outputs": []
    },
    {
      "cell_type": "code",
      "metadata": {
        "id": "_kx6gR3Sdn8D"
      },
      "source": [
        "def confidence(values: torch.Tensor):\n",
        "    \"\"\"Returns the 95% confidence interval of the array of values\n",
        "    \"\"\"\n",
        "    q = 1.96\n",
        "    m = values.mean()\n",
        "    s = values.std()\n",
        "    \n",
        "    return m - q * s/np.sqrt(len(values)), m + q * s/np.sqrt(len(values))\n",
        "\n",
        "\n",
        "def graph_summary(dataset, K=20):\n",
        "    graph = dataset[0].to(device)\n",
        "    dense_adj = to_dense_adj(graph.edge_index).squeeze(0).to(device)\n",
        "\n",
        "    x = scale(graph.x)\n",
        "    scaled_centroids = centroids(x, graph.y)\n",
        "    y_mean = scaled_centroids.mean(0, keepdim=True)\n",
        "    y = torch.stack([scaled_centroids[graph.y[i]] for i in range(graph.num_nodes)]).to(device)\n",
        "\n",
        "    data = pd.DataFrame({'k': [], 'homophily_neighbors':[],\n",
        "                         'homophily_neighborhood':[],\n",
        "                         'correlation_neighbors':[],\n",
        "                         'correlation_neighborhood':[]})\n",
        "\n",
        "    idx, k = 0, 0\n",
        "    for neighbors, cum_neighbors in tqdm(hop_neighbors(K+1, dense_adj), total=K):\n",
        "        k += 1\n",
        "        homo_neighborhood = homophily_index(y=graph.y, neb=cum_neighbors)\n",
        "        homo_neighborhood_conf = confidence(homo_neighborhood)\n",
        "        \n",
        "        homo_neighbors = homophily_index(y=graph.y, neb=neighbors)\n",
        "        homo_neighbors_conf = confidence(homo_neighbors)\n",
        "\n",
        "        corr_neighbors = graph_correlation(neighbors, x=x, y=y, y_mean=y_mean)\n",
        "        corr_neighbors_conf = confidence(corr_neighbors)\n",
        "\n",
        "        corr_neighborhood = graph_correlation(cum_neighbors, x=x, y=y, y_mean=y_mean)\n",
        "        corr_neighborhood_conf = confidence(corr_neighborhood)\n",
        "\n",
        "        data.loc[idx] = {'k':k,\n",
        "                         'homophily_neighbors':homo_neighbors_conf[0].item(),\n",
        "                         'homophily_neighborhood':homo_neighborhood_conf[0].item(),\n",
        "                         'correlation_neighbors':corr_neighbors_conf[0].item(),\n",
        "                         'correlation_neighborhood':corr_neighborhood_conf[0].item()}\n",
        "        idx += 1\n",
        "        data.loc[idx] = {'k':k,\n",
        "                         'homophily_neighbors':homo_neighbors_conf[1].item(),\n",
        "                         'homophily_neighborhood':homo_neighborhood_conf[1].item(),\n",
        "                         'correlation_neighbors':corr_neighbors_conf[1].item(),\n",
        "                         'correlation_neighborhood':corr_neighborhood_conf[1].item()}\n",
        "        idx += 1\n",
        "\n",
        "    _, ax = plt.subplots(1, 2, figsize=(24,12))\n",
        "    sns.lineplot(ax=ax[0], x='k', y='value', \n",
        "                 hue='variable', \n",
        "                 data=pd.melt(data[['k', 'homophily_neighbors', 'homophily_neighborhood']], ['k'])).set(xlabel=\"depth\", ylabel=\"index\", title=\"Homophily\")\n",
        "    sns.lineplot(ax=ax[1], x='k', y='value', \n",
        "                 hue='variable',\n",
        "                 data=pd.melt(data[['k', 'correlation_neighbors', 'correlation_neighborhood']], ['k'])).set(xlabel=\"depth\", ylabel=\"correlation\", title=\"Correlation\")\n",
        "\n",
        "    return data"
      ],
      "execution_count": 12,
      "outputs": []
    },
    {
      "cell_type": "markdown",
      "metadata": {
        "id": "_FDpA1NPP2zj"
      },
      "source": [
        "## **🧪 Test with different datasets**"
      ]
    },
    {
      "cell_type": "code",
      "metadata": {
        "id": "QBngmV7TNvrp"
      },
      "source": [
        "%%capture\n",
        "!wget https://raw.githubusercontent.com/AchrafAsh/gnn-receptive-fields/main/data.py\n",
        "\n",
        "from data import load_dataset\n",
        "path = osp.join(os.getcwd(), 'data')"
      ],
      "execution_count": 13,
      "outputs": []
    },
    {
      "cell_type": "markdown",
      "metadata": {
        "id": "ryXR-XAe_wa3"
      },
      "source": [
        "### **📰 Cora (short-range)**"
      ]
    },
    {
      "cell_type": "code",
      "metadata": {
        "id": "w61SHRkEs3w_"
      },
      "source": [
        "# cora dataset\n",
        "cora_dataset = load_dataset(path, 'Cora')\n",
        "G = cora_dataset[0] # only graph of the dataset"
      ],
      "execution_count": 14,
      "outputs": []
    },
    {
      "cell_type": "code",
      "metadata": {
        "id": "iXXcm8Cw-Sq9",
        "outputId": "4683440a-85ca-4e8d-d4a6-8a1fc433516b",
        "colab": {
          "base_uri": "https://localhost:8080/",
          "height": 49,
          "referenced_widgets": [
            "9efa5abcb9ec44fc96a16132473e9910",
            "336ffbb467774c15ae722e3853517109",
            "2a9d6fdd418142dd9f7d0dfe233b4594",
            "9dd865dc3f944428bf79cd54c32395b2",
            "a9d8cd8ffa6d4a18ad2c0fd49e5edec1",
            "5bc4eecd38244a71b297264cacdf1fa8",
            "4f7bef35bafd479cb4cf19038cb38bd0",
            "a7525baa8f54447c9b0b47d74794d3af",
            "7e2fd59c3de94cf49606fd42a33010de",
            "b6dfd1cde3984d09971264559f5748d3",
            "eee8033a941b47eda05113ecb14cfb60"
          ]
        }
      },
      "source": [
        "cora_summary = graph_summary(cora_dataset, K=5)"
      ],
      "execution_count": null,
      "outputs": [
        {
          "output_type": "display_data",
          "data": {
            "application/vnd.jupyter.widget-view+json": {
              "model_id": "9efa5abcb9ec44fc96a16132473e9910",
              "version_minor": 0,
              "version_major": 2
            },
            "text/plain": [
              "  0%|          | 0/5 [00:00<?, ?it/s]"
            ]
          },
          "metadata": {
            "tags": []
          }
        }
      ]
    },
    {
      "cell_type": "code",
      "metadata": {
        "id": "j5zdWoxvAS3M"
      },
      "source": [
        "cora_summary = graph_summary(cora_dataset)"
      ],
      "execution_count": null,
      "outputs": []
    },
    {
      "cell_type": "code",
      "metadata": {
        "id": "7FHHgAeywPUe"
      },
      "source": [
        "cora_summary = graph_summary(cora_dataset)"
      ],
      "execution_count": null,
      "outputs": []
    },
    {
      "cell_type": "code",
      "metadata": {
        "id": "OZUtZcpjg2B1"
      },
      "source": [
        "cora_summary = graph_summary(cora_dataset)"
      ],
      "execution_count": null,
      "outputs": []
    },
    {
      "cell_type": "code",
      "metadata": {
        "id": "lt61gcvPaGWM"
      },
      "source": [
        "cora_summary.to_csv(\"./cora_summary.csv\")\n",
        "files.download('./cora_summary.csv')"
      ],
      "execution_count": null,
      "outputs": []
    },
    {
      "cell_type": "markdown",
      "metadata": {
        "id": "3gS3D5Z1cmw6"
      },
      "source": [
        "### **📰 Citeseer**"
      ]
    },
    {
      "cell_type": "code",
      "metadata": {
        "id": "r8jCEIUPc_cH"
      },
      "source": [
        "citeseer = load_dataset(path, \"CiteSeer\")"
      ],
      "execution_count": null,
      "outputs": []
    },
    {
      "cell_type": "code",
      "metadata": {
        "id": "iqKPcF9SdQ-e"
      },
      "source": [
        "citeseer_summary = graph_summary(citeseer)"
      ],
      "execution_count": null,
      "outputs": []
    },
    {
      "cell_type": "code",
      "metadata": {
        "id": "VRity5cAaS5E"
      },
      "source": [
        "citeseer_summary.to_csv(\"./citeseer_summary.csv\")\n",
        "files.download('./citeseer_summary.csv') "
      ],
      "execution_count": null,
      "outputs": []
    },
    {
      "cell_type": "markdown",
      "metadata": {
        "id": "Qf9YyXVhXnn0"
      },
      "source": [
        "### **📦 Amazon (short-range)**"
      ]
    },
    {
      "cell_type": "code",
      "metadata": {
        "id": "WGD3is8AXsU6"
      },
      "source": [
        "amazon = load_dataset(path, 'Amazon', params=dict(goods=\"Photo\"))"
      ],
      "execution_count": null,
      "outputs": []
    },
    {
      "cell_type": "code",
      "metadata": {
        "id": "OgKbLL_AtMvL"
      },
      "source": [
        "amazon_summary = graph_summary(amazon)"
      ],
      "execution_count": null,
      "outputs": []
    },
    {
      "cell_type": "code",
      "metadata": {
        "id": "XJeaxCyBae5J"
      },
      "source": [
        "amazon_summary.to_csv(\"./amazon_summary.csv\")\n",
        "files.download('./amazon_summary.csv') "
      ],
      "execution_count": null,
      "outputs": []
    },
    {
      "cell_type": "markdown",
      "metadata": {
        "id": "8Oz5VXCwc173"
      },
      "source": [
        "### **📰 PubMed**"
      ]
    },
    {
      "cell_type": "code",
      "metadata": {
        "id": "I46BgyQedFP2"
      },
      "source": [
        "pubmed = load_dataset(path, \"PubMed\")"
      ],
      "execution_count": null,
      "outputs": []
    },
    {
      "cell_type": "code",
      "metadata": {
        "id": "EUmTzwlrdLud"
      },
      "source": [
        "pubmed_summary = graph_summary(pubmed)"
      ],
      "execution_count": null,
      "outputs": []
    },
    {
      "cell_type": "code",
      "metadata": {
        "id": "nHhbbmRdaZq3"
      },
      "source": [
        "pubmed_summary.to_csv(\"./pubmed_summary.csv\")\n",
        "files.download('./pubmed_summary.csv') "
      ],
      "execution_count": null,
      "outputs": []
    },
    {
      "cell_type": "markdown",
      "metadata": {
        "id": "PXoHjGH5aRsz"
      },
      "source": [
        "### **⚛ PPI (protein-protein interaction)**"
      ]
    },
    {
      "cell_type": "code",
      "metadata": {
        "id": "FUEqGpFFaXjb"
      },
      "source": [
        "ppi = load_dataset(path, \"PPI\")"
      ],
      "execution_count": null,
      "outputs": []
    },
    {
      "cell_type": "code",
      "metadata": {
        "id": "Xct6tyqBacTy"
      },
      "source": [
        "for i in tqdm(range(len(ppi))):\n",
        "    summary = graph_summary([ppi[i]])\n",
        "    if i == 0:\n",
        "        ppi_summary = summary\n",
        "    else:\n",
        "        ppi_summary = pd.concat([ppi_summary, summary], ignore_index=True)"
      ],
      "execution_count": null,
      "outputs": []
    },
    {
      "cell_type": "code",
      "metadata": {
        "id": "m0K3P_Y1auLx"
      },
      "source": [
        ""
      ],
      "execution_count": null,
      "outputs": []
    },
    {
      "cell_type": "markdown",
      "metadata": {
        "id": "sAKWyTwb_0O6"
      },
      "source": [
        "### **⚛ QM9 (long-range, graph regression)**"
      ]
    },
    {
      "cell_type": "code",
      "metadata": {
        "id": "DoegcVfHs2wx"
      },
      "source": [
        "# amazon dataset\n",
        "qm9 = load_dataset(path, 'QM9')\n",
        "qm9"
      ],
      "execution_count": null,
      "outputs": []
    },
    {
      "cell_type": "code",
      "metadata": {
        "id": "LvXIxCVQSNQQ"
      },
      "source": [
        "qm9[5].y.shape"
      ],
      "execution_count": null,
      "outputs": []
    },
    {
      "cell_type": "markdown",
      "metadata": {
        "id": "hAYnra-DXUOH"
      },
      "source": [
        "This is a problem! 💥\n",
        "Every long-range graphs fall under the category of graph classification/regression tasks... In these types of settings we can not measure homophily or graph correlation the way we did with Cora (node classification)."
      ]
    }
  ]
}