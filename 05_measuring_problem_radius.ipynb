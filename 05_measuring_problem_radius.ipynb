{
  "nbformat": 4,
  "nbformat_minor": 0,
  "metadata": {
    "colab": {
      "name": "05_measuring_problem_radius.ipynb",
      "provenance": [],
      "authorship_tag": "ABX9TyNa7u/w1bCCu+tVJ6tlW3uX",
      "include_colab_link": true
    },
    "kernelspec": {
      "name": "python3",
      "display_name": "Python 3"
    },
    "language_info": {
      "name": "python"
    }
  },
  "cells": [
    {
      "cell_type": "markdown",
      "metadata": {
        "id": "view-in-github",
        "colab_type": "text"
      },
      "source": [
        "<a href=\"https://colab.research.google.com/github/AchrafAsh/gnn-receptive-fields/blob/main/05_measuring_problem_radius.ipynb\" target=\"_parent\"><img src=\"https://colab.research.google.com/assets/colab-badge.svg\" alt=\"Open In Colab\"/></a>"
      ]
    },
    {
      "cell_type": "code",
      "metadata": {
        "colab": {
          "base_uri": "https://localhost:8080/"
        },
        "id": "kDryoKT1NgXg",
        "outputId": "de99559b-649f-4e6b-be3e-e03a524a2e68"
      },
      "source": [
        "import os, sys\n",
        "import os.path as osp\n",
        "from google.colab import drive\n",
        "drive.mount('/content/mnt')\n",
        "nb_path = '/content/notebooks'\n",
        "try:\n",
        "    os.symlink('/content/mnt/My Drive/Colab Notebooks', nb_path)\n",
        "except:\n",
        "    pass\n",
        "sys.path.insert(0, nb_path)  # or append(nb_path)"
      ],
      "execution_count": 1,
      "outputs": [
        {
          "output_type": "stream",
          "text": [
            "Mounted at /content/mnt\n"
          ],
          "name": "stdout"
        }
      ]
    },
    {
      "cell_type": "code",
      "metadata": {
        "id": "STz_Wfm3N3ph"
      },
      "source": [
        "import seaborn as sns\n",
        "import pandas as pd\n",
        "import numpy as np\n",
        "import matplotlib.pyplot as plt\n",
        "\n",
        "import torch\n",
        "\n",
        "from collections import Counter\n",
        "from torch_geometric.utils import to_dense_adj\n",
        "from tqdm.notebook import tqdm\n",
        "\n",
        "%matplotlib inline\n",
        "sns.set_style('darkgrid')"
      ],
      "execution_count": 3,
      "outputs": []
    },
    {
      "cell_type": "code",
      "metadata": {
        "id": "Zf2QOlKsN8Y3"
      },
      "source": [
        "def get_k_hop_neighborhood(k:int, adj: torch.tensor) -> list:\n",
        "    \"\"\"Returns the list of k-hop dense adjacency matrices\n",
        "    \n",
        "    Args:\n",
        "        - k (int): maximum depth of neighborhood to compute\n",
        "        - adj [num_nodes, num_nodes]: dense adjacency matrix\n",
        "    \n",
        "    :rtype: List[torch.Tensor]\n",
        "    \"\"\"\n",
        "    \n",
        "    k_hop_neb = [adj.clone()]\n",
        "    pow_A = adj.clone()\n",
        "\n",
        "    for l in tqdm(range(k-1)):\n",
        "        pow_A = torch.mm(adj, pow_A)\n",
        "        k_neb = torch.where(\n",
        "            torch.where(pow_A > 0, 1, 0) - sum(k_hop_neb) > 0,\n",
        "            1,\n",
        "            0\n",
        "        )\n",
        "        k_hop_neb.append(k_neb)\n",
        "    \n",
        "    return k_hop_neb"
      ],
      "execution_count": 4,
      "outputs": []
    },
    {
      "cell_type": "code",
      "metadata": {
        "id": "JTZt0a-JN-NI"
      },
      "source": [
        "def scale(X:torch.Tensor):\n",
        "    \"\"\"Returns the scaled features of the graph\n",
        "\n",
        "    Args:\n",
        "        - X [num_nodes, num_features]\n",
        "    \"\"\"\n",
        "   \n",
        "    m = torch.mean(X, dim=0)\n",
        "    s = torch.std(X, dim=0)\n",
        "    return (X - m)/ s"
      ],
      "execution_count": 5,
      "outputs": []
    },
    {
      "cell_type": "code",
      "metadata": {
        "id": "Iw1tdEy2OBBi"
      },
      "source": [
        "def centroids(X:torch.Tensor, y:torch.Tensor):\n",
        "    \"\"\"Returns the label representation by averaging its nodes' features\n",
        "\n",
        "    Args:\n",
        "        - X [num_nodes, num_features]: node features\n",
        "        - y [num_nodes]: labels\n",
        "    \"\"\"\n",
        "    \n",
        "    # group nodes by label\n",
        "    obs = {}\n",
        "    for i in range(X.size(0)):\n",
        "        if obs.get(y[i].item()):\n",
        "            obs[y[i].item()] += [X[i]]\n",
        "        else:\n",
        "            obs[y[i].item()] = [X[i]]\n",
        "\n",
        "    avg_obs = [ sum(obs[c]) / len(obs[c]) for c in range(7) ]\n",
        "    \n",
        "    # convert to torch tensor\n",
        "    return torch.tensor(list(map(lambda x: x.numpy(), avg_obs)))"
      ],
      "execution_count": 6,
      "outputs": []
    },
    {
      "cell_type": "code",
      "metadata": {
        "id": "umthfH0DOFAr"
      },
      "source": [
        "def feature_correlation(all_adj, X, barycenters, k):\n",
        "    \"\"\"Returns the list of correlations between the barycenter representation of\n",
        "    labels and the neighbor features.\n",
        "\n",
        "    Args:\n",
        "        - all_adj: list of k-hop adjacency dense matrices [num_nodes, num_nodes]\n",
        "        - X: [num_nodes, num_features] features\n",
        "        - barycenters: [num_classes, num_features]\n",
        "        - k (int): depth of the neighborhood\n",
        "\n",
        "    :rtype: list - [num_nodes]\n",
        "    \"\"\"\n",
        "\n",
        "    return [np.mean(np.corrcoef(\n",
        "                x=X[ sum(all_adj[:k])[i] == 1 ].numpy(),\n",
        "                # x=X[ all_adj[k-1][i] == 1 ].numpy(),\n",
        "                y=barycenters[G.y[i].item()].numpy()\n",
        "            )[:-1, -1].abs()) if (all_adj[k-1][i] == 1).sum() > 0 else 0\n",
        "            for i in range(X.size(0))]"
      ],
      "execution_count": 32,
      "outputs": []
    },
    {
      "cell_type": "code",
      "metadata": {
        "id": "OAWqZvD3ORwO"
      },
      "source": [
        "# TODO: homophily index -- compute the average of all the nodes in the graph\n",
        "def homophily_index(neb:torch.tensor, mask=None):\n",
        "    \"\"\"Computes the homophily index for a given depth\n",
        "    \n",
        "    TODO - compute the average of all the nodes\n",
        "\n",
        "    Args:\n",
        "        - neb [num_nodes, num_nodes]: neighbors to consider (can be the adjacency matrix or k-hop neighborhood)\n",
        "        - mask [num_nodes]: \"train\", \"test\" or \"val\" to consider only these specific neighbors\n",
        "    \"\"\"\n",
        "    \n",
        "    if mask == None:\n",
        "        mask = torch.ones(G.num_nodes)\n",
        "\n",
        "    # neb_labels = G.y[neb[i] * mask == 1] # looking at the labels of the neighbors (within the mask)\n",
        "    # if len(neb_labels) == 0: return 0\n",
        "    # return (labels == G.y[i]).sum().item() / len(labels)\n",
        "    \n",
        "    return np.mean([(G.y[neb[i] * mask == 1] == G.y[i]).float().mean().item() if (neb[i] * mask == 1).sum() > 0 else 0 for i in range(G.num_nodes)])"
      ],
      "execution_count": 29,
      "outputs": []
    },
    {
      "cell_type": "code",
      "metadata": {
        "colab": {
          "base_uri": "https://localhost:8080/"
        },
        "id": "W4znc4I5RqTN",
        "outputId": "2263f12f-28bc-4293-fe25-33ac36239322"
      },
      "source": [
        "homophily_index(to_dense_adj(G.edge_index).squeeze(0), G.train_mask)"
      ],
      "execution_count": 31,
      "outputs": [
        {
          "output_type": "execute_result",
          "data": {
            "text/plain": [
              "0.8251578295204453"
            ]
          },
          "metadata": {
            "tags": []
          },
          "execution_count": 31
        }
      ]
    },
    {
      "cell_type": "markdown",
      "metadata": {
        "id": "_FDpA1NPP2zj"
      },
      "source": [
        "## Test with different datasets"
      ]
    },
    {
      "cell_type": "code",
      "metadata": {
        "id": "QBngmV7TNvrp"
      },
      "source": [
        "%%capture\n",
        "!wget https://raw.githubusercontent.com/AchrafAsh/gnn-receptive-fields/main/data.py\n",
        "\n",
        "from data import load_dataset\n",
        "\n",
        "path = osp.join(os.getcwd(), 'data')\n",
        "cora_dataset = load_dataset(path, 'Cora')\n",
        "G = cora_dataset[0] # only graph of the dataset"
      ],
      "execution_count": 2,
      "outputs": []
    }
  ]
}