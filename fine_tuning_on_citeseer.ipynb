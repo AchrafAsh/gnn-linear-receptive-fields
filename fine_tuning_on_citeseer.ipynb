{
  "nbformat": 4,
  "nbformat_minor": 0,
  "metadata": {
    "colab": {
      "name": "fine_tuning_on_citeseer.ipynb",
      "provenance": [],
      "machine_shape": "hm",
      "authorship_tag": "ABX9TyNpwjoToobIwZ1PcFchU19y",
      "include_colab_link": true
    },
    "kernelspec": {
      "name": "python3",
      "display_name": "Python 3"
    },
    "language_info": {
      "name": "python"
    },
    "accelerator": "GPU",
    "widgets": {
      "application/vnd.jupyter.widget-state+json": {
        "c62c394f6eba4fdeac4e622aca84a846": {
          "model_module": "@jupyter-widgets/controls",
          "model_name": "HBoxModel",
          "model_module_version": "1.5.0",
          "state": {
            "_view_name": "HBoxView",
            "_dom_classes": [],
            "_model_name": "HBoxModel",
            "_view_module": "@jupyter-widgets/controls",
            "_model_module_version": "1.5.0",
            "_view_count": null,
            "_view_module_version": "1.5.0",
            "box_style": "",
            "layout": "IPY_MODEL_14bc1b092188485099b71e5e9072a0d2",
            "_model_module": "@jupyter-widgets/controls",
            "children": [
              "IPY_MODEL_3cbe3b6eb4c848fe92f332844f46b2f9",
              "IPY_MODEL_ea7c6c791d1a411590ce88cc32cf7283",
              "IPY_MODEL_7b29b74d883948cd92ed85d8356eeb30"
            ]
          }
        },
        "14bc1b092188485099b71e5e9072a0d2": {
          "model_module": "@jupyter-widgets/base",
          "model_name": "LayoutModel",
          "model_module_version": "1.2.0",
          "state": {
            "_view_name": "LayoutView",
            "grid_template_rows": null,
            "right": null,
            "justify_content": null,
            "_view_module": "@jupyter-widgets/base",
            "overflow": null,
            "_model_module_version": "1.2.0",
            "_view_count": null,
            "flex_flow": null,
            "width": null,
            "min_width": null,
            "border": null,
            "align_items": null,
            "bottom": null,
            "_model_module": "@jupyter-widgets/base",
            "top": null,
            "grid_column": null,
            "overflow_y": null,
            "overflow_x": null,
            "grid_auto_flow": null,
            "grid_area": null,
            "grid_template_columns": null,
            "flex": null,
            "_model_name": "LayoutModel",
            "justify_items": null,
            "grid_row": null,
            "max_height": null,
            "align_content": null,
            "visibility": null,
            "align_self": null,
            "height": null,
            "min_height": null,
            "padding": null,
            "grid_auto_rows": null,
            "grid_gap": null,
            "max_width": null,
            "order": null,
            "_view_module_version": "1.2.0",
            "grid_template_areas": null,
            "object_position": null,
            "object_fit": null,
            "grid_auto_columns": null,
            "margin": null,
            "display": null,
            "left": null
          }
        },
        "3cbe3b6eb4c848fe92f332844f46b2f9": {
          "model_module": "@jupyter-widgets/controls",
          "model_name": "HTMLModel",
          "model_module_version": "1.5.0",
          "state": {
            "_view_name": "HTMLView",
            "style": "IPY_MODEL_0a06fb42640c4f879a73f640e7881048",
            "_dom_classes": [],
            "description": "",
            "_model_name": "HTMLModel",
            "placeholder": "​",
            "_view_module": "@jupyter-widgets/controls",
            "_model_module_version": "1.5.0",
            "value": "  0%",
            "_view_count": null,
            "_view_module_version": "1.5.0",
            "description_tooltip": null,
            "_model_module": "@jupyter-widgets/controls",
            "layout": "IPY_MODEL_aa1249e205af44088ed13ba200d38652"
          }
        },
        "ea7c6c791d1a411590ce88cc32cf7283": {
          "model_module": "@jupyter-widgets/controls",
          "model_name": "FloatProgressModel",
          "model_module_version": "1.5.0",
          "state": {
            "_view_name": "ProgressView",
            "style": "IPY_MODEL_1547dd2a7aaf4736b19a08e1370282db",
            "_dom_classes": [],
            "description": "",
            "_model_name": "FloatProgressModel",
            "bar_style": "danger",
            "max": 1500,
            "_view_module": "@jupyter-widgets/controls",
            "_model_module_version": "1.5.0",
            "value": 0,
            "_view_count": null,
            "_view_module_version": "1.5.0",
            "orientation": "horizontal",
            "min": 0,
            "description_tooltip": null,
            "_model_module": "@jupyter-widgets/controls",
            "layout": "IPY_MODEL_ee126373c9c447cf87baee2cbba0a748"
          }
        },
        "7b29b74d883948cd92ed85d8356eeb30": {
          "model_module": "@jupyter-widgets/controls",
          "model_name": "HTMLModel",
          "model_module_version": "1.5.0",
          "state": {
            "_view_name": "HTMLView",
            "style": "IPY_MODEL_fe8437db654e492a8aab7303e4677b91",
            "_dom_classes": [],
            "description": "",
            "_model_name": "HTMLModel",
            "placeholder": "​",
            "_view_module": "@jupyter-widgets/controls",
            "_model_module_version": "1.5.0",
            "value": " 0/1500 [01:59&lt;?, ?it/s]",
            "_view_count": null,
            "_view_module_version": "1.5.0",
            "description_tooltip": null,
            "_model_module": "@jupyter-widgets/controls",
            "layout": "IPY_MODEL_ac80ab4656b34957b9306d11b6b8fb5f"
          }
        },
        "0a06fb42640c4f879a73f640e7881048": {
          "model_module": "@jupyter-widgets/controls",
          "model_name": "DescriptionStyleModel",
          "model_module_version": "1.5.0",
          "state": {
            "_view_name": "StyleView",
            "_model_name": "DescriptionStyleModel",
            "description_width": "",
            "_view_module": "@jupyter-widgets/base",
            "_model_module_version": "1.5.0",
            "_view_count": null,
            "_view_module_version": "1.2.0",
            "_model_module": "@jupyter-widgets/controls"
          }
        },
        "aa1249e205af44088ed13ba200d38652": {
          "model_module": "@jupyter-widgets/base",
          "model_name": "LayoutModel",
          "model_module_version": "1.2.0",
          "state": {
            "_view_name": "LayoutView",
            "grid_template_rows": null,
            "right": null,
            "justify_content": null,
            "_view_module": "@jupyter-widgets/base",
            "overflow": null,
            "_model_module_version": "1.2.0",
            "_view_count": null,
            "flex_flow": null,
            "width": null,
            "min_width": null,
            "border": null,
            "align_items": null,
            "bottom": null,
            "_model_module": "@jupyter-widgets/base",
            "top": null,
            "grid_column": null,
            "overflow_y": null,
            "overflow_x": null,
            "grid_auto_flow": null,
            "grid_area": null,
            "grid_template_columns": null,
            "flex": null,
            "_model_name": "LayoutModel",
            "justify_items": null,
            "grid_row": null,
            "max_height": null,
            "align_content": null,
            "visibility": null,
            "align_self": null,
            "height": null,
            "min_height": null,
            "padding": null,
            "grid_auto_rows": null,
            "grid_gap": null,
            "max_width": null,
            "order": null,
            "_view_module_version": "1.2.0",
            "grid_template_areas": null,
            "object_position": null,
            "object_fit": null,
            "grid_auto_columns": null,
            "margin": null,
            "display": null,
            "left": null
          }
        },
        "1547dd2a7aaf4736b19a08e1370282db": {
          "model_module": "@jupyter-widgets/controls",
          "model_name": "ProgressStyleModel",
          "model_module_version": "1.5.0",
          "state": {
            "_view_name": "StyleView",
            "_model_name": "ProgressStyleModel",
            "description_width": "",
            "_view_module": "@jupyter-widgets/base",
            "_model_module_version": "1.5.0",
            "_view_count": null,
            "_view_module_version": "1.2.0",
            "bar_color": null,
            "_model_module": "@jupyter-widgets/controls"
          }
        },
        "ee126373c9c447cf87baee2cbba0a748": {
          "model_module": "@jupyter-widgets/base",
          "model_name": "LayoutModel",
          "model_module_version": "1.2.0",
          "state": {
            "_view_name": "LayoutView",
            "grid_template_rows": null,
            "right": null,
            "justify_content": null,
            "_view_module": "@jupyter-widgets/base",
            "overflow": null,
            "_model_module_version": "1.2.0",
            "_view_count": null,
            "flex_flow": null,
            "width": null,
            "min_width": null,
            "border": null,
            "align_items": null,
            "bottom": null,
            "_model_module": "@jupyter-widgets/base",
            "top": null,
            "grid_column": null,
            "overflow_y": null,
            "overflow_x": null,
            "grid_auto_flow": null,
            "grid_area": null,
            "grid_template_columns": null,
            "flex": null,
            "_model_name": "LayoutModel",
            "justify_items": null,
            "grid_row": null,
            "max_height": null,
            "align_content": null,
            "visibility": null,
            "align_self": null,
            "height": null,
            "min_height": null,
            "padding": null,
            "grid_auto_rows": null,
            "grid_gap": null,
            "max_width": null,
            "order": null,
            "_view_module_version": "1.2.0",
            "grid_template_areas": null,
            "object_position": null,
            "object_fit": null,
            "grid_auto_columns": null,
            "margin": null,
            "display": null,
            "left": null
          }
        },
        "fe8437db654e492a8aab7303e4677b91": {
          "model_module": "@jupyter-widgets/controls",
          "model_name": "DescriptionStyleModel",
          "model_module_version": "1.5.0",
          "state": {
            "_view_name": "StyleView",
            "_model_name": "DescriptionStyleModel",
            "description_width": "",
            "_view_module": "@jupyter-widgets/base",
            "_model_module_version": "1.5.0",
            "_view_count": null,
            "_view_module_version": "1.2.0",
            "_model_module": "@jupyter-widgets/controls"
          }
        },
        "ac80ab4656b34957b9306d11b6b8fb5f": {
          "model_module": "@jupyter-widgets/base",
          "model_name": "LayoutModel",
          "model_module_version": "1.2.0",
          "state": {
            "_view_name": "LayoutView",
            "grid_template_rows": null,
            "right": null,
            "justify_content": null,
            "_view_module": "@jupyter-widgets/base",
            "overflow": null,
            "_model_module_version": "1.2.0",
            "_view_count": null,
            "flex_flow": null,
            "width": null,
            "min_width": null,
            "border": null,
            "align_items": null,
            "bottom": null,
            "_model_module": "@jupyter-widgets/base",
            "top": null,
            "grid_column": null,
            "overflow_y": null,
            "overflow_x": null,
            "grid_auto_flow": null,
            "grid_area": null,
            "grid_template_columns": null,
            "flex": null,
            "_model_name": "LayoutModel",
            "justify_items": null,
            "grid_row": null,
            "max_height": null,
            "align_content": null,
            "visibility": null,
            "align_self": null,
            "height": null,
            "min_height": null,
            "padding": null,
            "grid_auto_rows": null,
            "grid_gap": null,
            "max_width": null,
            "order": null,
            "_view_module_version": "1.2.0",
            "grid_template_areas": null,
            "object_position": null,
            "object_fit": null,
            "grid_auto_columns": null,
            "margin": null,
            "display": null,
            "left": null
          }
        }
      }
    }
  },
  "cells": [
    {
      "cell_type": "markdown",
      "metadata": {
        "id": "view-in-github",
        "colab_type": "text"
      },
      "source": [
        "<a href=\"https://colab.research.google.com/github/AchrafAsh/gnn-receptive-fields/blob/main/fine_tuning_on_citeseer.ipynb\" target=\"_parent\"><img src=\"https://colab.research.google.com/assets/colab-badge.svg\" alt=\"Open In Colab\"/></a>"
      ]
    },
    {
      "cell_type": "markdown",
      "metadata": {
        "id": "QFl8_wXFTwmC"
      },
      "source": [
        "TODOs:\n",
        "- [x] sparse edge_index generator (→ not necessarily going from dense to sparse is actually better for the gpu);\n",
        "- [x] use gpu (but should work with only cpu);\n",
        "- [x] check the implementation of the model;"
      ]
    },
    {
      "cell_type": "markdown",
      "metadata": {
        "id": "hf8XemB3fRHH"
      },
      "source": [
        "## **🚀 Setting up the environment**"
      ]
    },
    {
      "cell_type": "code",
      "metadata": {
        "colab": {
          "base_uri": "https://localhost:8080/"
        },
        "id": "LqPtRBwhA6IX",
        "outputId": "28031f76-d86f-4508-bf8c-cc734de9c295"
      },
      "source": [
        "import os, sys\n",
        "import os.path as osp\n",
        "from google.colab import drive, files\n",
        "drive.mount('/content/mnt')\n",
        "nb_path = '/content/notebooks'\n",
        "try:\n",
        "    os.symlink('/content/mnt/My Drive/Colab Notebooks', nb_path)\n",
        "except:\n",
        "    pass\n",
        "sys.path.insert(0, nb_path)  # or append(nb_path)"
      ],
      "execution_count": 1,
      "outputs": [
        {
          "output_type": "stream",
          "name": "stdout",
          "text": [
            "Mounted at /content/mnt\n"
          ]
        }
      ]
    },
    {
      "cell_type": "code",
      "metadata": {
        "id": "sYmrG6x7BH_e"
      },
      "source": [
        "import math\n",
        "import random\n",
        "import copy\n",
        "import time\n",
        "import seaborn as sns\n",
        "import matplotlib.pyplot as plt\n",
        "import pandas as pd\n",
        "import numpy as np\n",
        "import torch\n",
        "import torch.nn.functional as F\n",
        "import networkx as nx\n",
        "\n",
        "from itertools import product\n",
        "from functools import partial\n",
        "from tqdm.notebook import tqdm\n",
        "from typing import Dict, List, Tuple\n",
        "from torch_geometric.utils import degree, to_dense_adj, dense_to_sparse, add_self_loops, to_networkx\n",
        "from torch_geometric.nn import GCNConv, MessagePassing, Sequential\n",
        "from torch_sparse import spmm, spspmm\n",
        "\n",
        "device = torch.device('cuda' if torch.cuda.is_available() else 'cpu')\n",
        "\n",
        "%matplotlib inline\n",
        "sns.set_theme(font_scale=1.8)\n",
        "sns.set_style('whitegrid')"
      ],
      "execution_count": 2,
      "outputs": []
    },
    {
      "cell_type": "code",
      "metadata": {
        "id": "IxgwjXUCBJ-9"
      },
      "source": [
        "%%capture\n",
        "!wget https://raw.githubusercontent.com/AchrafAsh/gnn-receptive-fields/main/data.py\n",
        "\n",
        "from data import load_dataset"
      ],
      "execution_count": 3,
      "outputs": []
    },
    {
      "cell_type": "markdown",
      "metadata": {
        "id": "UG8T6njUBKow"
      },
      "source": [
        "## **🎨 Designing the model**"
      ]
    },
    {
      "cell_type": "code",
      "metadata": {
        "id": "IhWT7zZRBOZ5"
      },
      "source": [
        "# Parameter initialization\n",
        "def xavier(tensor):\n",
        "    if tensor is not None:\n",
        "        stdv = math.sqrt(6.0 / (tensor.size(-2) + tensor.size(-2)))\n",
        "        tensor.data.uniform_(-stdv, stdv)\n",
        "\n",
        "\n",
        "def zeros(tensor):\n",
        "    if tensor is not None:\n",
        "        tensor.data.fill_(0)"
      ],
      "execution_count": 4,
      "outputs": []
    },
    {
      "cell_type": "code",
      "metadata": {
        "id": "nApNqGlIBP6D"
      },
      "source": [
        "class OurGCNConv(MessagePassing):\n",
        "    def __init__(self, num_features:int, in_channels:int, out_channels:int, k:int):\n",
        "        super().__init__(aggr='add')  # \"Add\" aggregation\n",
        "        self.k = k\n",
        "        self.lin_neb = torch.nn.Linear(num_features, out_channels)\n",
        "        self.lin_trgt = torch.nn.Linear(in_channels, out_channels)\n",
        "        \n",
        "        self.reset_parameters()\n",
        "        \n",
        "    def reset_parameters(self):\n",
        "        xavier(self.lin_neb.weight)\n",
        "        zeros(self.lin_neb.bias)\n",
        "        \n",
        "        xavier(self.lin_trgt.weight)\n",
        "        zeros(self.lin_trgt.bias)\n",
        "\n",
        "    def forward(self, x, h, edge_index):\n",
        "        # x is the input features and has shape [N, num_features]\n",
        "        # h is the hidden state and has shape [N, in_channels]\n",
        "        # edge_index has shape [2, E] , E being the number of edges\n",
        "\n",
        "        # step 1: linearly transform node feature matrices\n",
        "        x = self.lin_neb(x)\n",
        "        h = self.lin_trgt(h)\n",
        "\n",
        "        # step 3-5: start propagating messages\n",
        "        return self.propagate(next(edge_index), x=x, h=h)\n",
        "\n",
        "    def message(self, x_j, h_i, edge_index, size):\n",
        "        # x_j is the input features of the neighbors and has shape [E, out_channels] (has already been multiplied by the weight matrix)\n",
        "\n",
        "        # step 3: normalize node features\n",
        "        row, col = edge_index\n",
        "        deg = degree(row, size[0], dtype=x_j.dtype)\n",
        "        deg_inv_sqrt = deg.pow(-0.5)\n",
        "        deg_inv_sqrt[deg_inv_sqrt == float('inf')] = 0\n",
        "        norm = deg_inv_sqrt[row] * deg_inv_sqrt[col]\n",
        "\n",
        "        out = norm.view(-1, 1) * x_j\n",
        "\n",
        "        return out + h_i\n",
        "\n",
        "    def update(self, aggr_out):\n",
        "        # aggr_out has shape [N, out_channels] is the output of self.message()\n",
        "\n",
        "        # step 5: return new node embeddings\n",
        "        return aggr_out"
      ],
      "execution_count": 5,
      "outputs": []
    },
    {
      "cell_type": "code",
      "metadata": {
        "id": "nUXGw9bYBRxP"
      },
      "source": [
        "# the real deal\n",
        "class OurModel(torch.nn.Module):\n",
        "    def __init__(self, num_layers:int, hidden_dim:int, num_features:int, \n",
        "                 num_classes:int, propagation_steps:int=2, dropout:float=0.5):\n",
        "        super().__init__()\n",
        "        self.propagation_steps = propagation_steps\n",
        "        self.num_layers = num_layers\n",
        "        \n",
        "        self.alpha = torch.nn.Parameter(torch.tensor(0.5), requires_grad=True)\n",
        "        # Embedding input features\n",
        "        self.in_mlp = torch.nn.Sequential(\n",
        "            torch.nn.Linear(in_features=num_features, out_features=hidden_dim),\n",
        "            torch.nn.ReLU()\n",
        "        )\n",
        "        # Convolutional layers\n",
        "        self.conv_layers = self.create_layers(num_layers=num_layers,\n",
        "                                              hidden_dim=hidden_dim,\n",
        "                                              dropout=dropout)\n",
        "        # Readout function\n",
        "        self.readout = torch.nn.Sequential(\n",
        "            torch.nn.Linear(in_features=hidden_dim, out_features=num_classes),\n",
        "            torch.nn.LogSoftmax(dim=1)\n",
        "        )\n",
        "\n",
        "    def create_layers(self, num_layers:int, hidden_dim:int, dropout:float):\n",
        "        layers = [(OurGCNConv(num_features=hidden_dim, in_channels=hidden_dim, out_channels=hidden_dim, k=0), \"x, x, edge_index -> h\"),\n",
        "                (torch.nn.ReLU(inplace=True)),\n",
        "                (torch.nn.Dropout(p=dropout), \"h -> h\")]\n",
        "        \n",
        "        for k in range(1, num_layers):\n",
        "            layers += [\n",
        "                (OurGCNConv(num_features=hidden_dim, in_channels=hidden_dim, out_channels=hidden_dim, k=k), \"x, h, edge_index -> h\"),\n",
        "                # (GCNConv(hidden_dim, hidden_dim), \"h, edge_index -> h\"),\n",
        "                (torch.nn.ReLU(inplace=True)),\n",
        "                (torch.nn.Dropout(p=dropout), \"h -> h\")\n",
        "            ]\n",
        "        return Sequential(\"x, edge_index\", layers)\n",
        "\n",
        "    def reset_parameters(self):\n",
        "        self.conv_layers.reset_parameters()\n",
        "\n",
        "\n",
        "    def propagate(self, x, edge_index):\n",
        "        # add self loops\n",
        "        edge_index, _ = add_self_loops(edge_index, num_nodes=x.size(0))\n",
        "        \n",
        "        # normalize\n",
        "        row, col = edge_index\n",
        "        deg = degree(col, x.size(0), dtype=x.dtype)\n",
        "        deg_inv_sqrt = deg.pow(-0.5)\n",
        "        deg_inv_sqrt[deg_inv_sqrt == float('inf')] = 0\n",
        "        norm = deg_inv_sqrt[row] * deg_inv_sqrt[col]\n",
        "\n",
        "        # dense_adj = to_dense_adj(edge_index).squeeze(0)\n",
        "        # edge_index_pow = torch.eye(G.num_nodes).to(device)\n",
        "        # prop_repr = edge_index_pow.clone()\n",
        "        # for _ in range(self.propagation_steps):\n",
        "        #     edge_index_pow = torch.mm(dense_adj, edge_index_pow)\n",
        "        #     prop_repr += edge_index_pow\n",
        "        # return torch.mm(prop_repr, x)\n",
        "        \n",
        "        # APPNP propagation scheme\n",
        "        z = x.clone()\n",
        "        for _ in range(self.propagation_steps):\n",
        "            z = spmm(edge_index, norm, x.size(0), x.size(0), z) * (1-self.alpha) + x * self.alpha\n",
        "        return z\n",
        "\n",
        "        # another propagation scheme (sum of the powers of A)\n",
        "        # props = []\n",
        "        # for _ in range(self.propagation_steps):\n",
        "        #     x= spmm(edge_index, norm, x.size(0), x.size(0), x)\n",
        "        #     props.append(x)\n",
        "        # return sum(props)\n",
        "\n",
        "\n",
        "    def forward(self, x):\n",
        "        # compute different depth edge_index\n",
        "        edge_index_gen = k_hop_neighbors(self.num_layers, G.edge_index)\n",
        "\n",
        "        embeddings = self.in_mlp(x)\n",
        "        h = self.conv_layers(embeddings, edge_index_gen)\n",
        "        out = self.propagate(h, G.edge_index)\n",
        "        return h, self.readout(out)"
      ],
      "execution_count": 6,
      "outputs": []
    },
    {
      "cell_type": "markdown",
      "metadata": {
        "id": "32WHkuNtBT57"
      },
      "source": [
        "## **🧰 Utility functions**"
      ]
    },
    {
      "cell_type": "code",
      "metadata": {
        "id": "XQNj3U_VUQNR"
      },
      "source": [
        "def clamp(x: torch.Tensor):\n",
        "    if not x.is_coalesced(): x = x.coalesce()\n",
        "\n",
        "    mask = (x._values() > 0).nonzero().view(-1)\n",
        "    values = x._values().index_select(0, mask).clamp(0, 1)\n",
        "    indices = x._indices().index_select(1, mask)\n",
        "\n",
        "    return torch.sparse_coo_tensor(indices, values, x.shape).coalesce()\n",
        "\n",
        "def sparse_hop_neighbors(k:int, edge_index: torch.Tensor, num_nodes:int):\n",
        "    # transform edge_index into a sparse tensor\n",
        "    yield edge_index, edge_index\n",
        "\n",
        "    if k > 1:\n",
        "        sparse_edge_index = torch.sparse_coo_tensor(edge_index, torch.ones(edge_index.size(1), device=device), (num_nodes, num_nodes))\n",
        "        cum_neighbors = neighbors = pow_A = sparse_edge_index.clone()\n",
        "\n",
        "    for _ in range(1, k):\n",
        "        pow_A = clamp(torch.sparse.mm(sparse_edge_index, pow_A))\n",
        "        neighbors = clamp(pow_A - cum_neighbors)\n",
        "        cum_neighbors = (cum_neighbors + neighbors).coalesce()\n",
        "        \n",
        "        yield neighbors.indices()"
      ],
      "execution_count": 7,
      "outputs": []
    },
    {
      "cell_type": "code",
      "metadata": {
        "id": "W3rQEuwMUR8b"
      },
      "source": [
        "def k_hop_neighbors(k: int, edge_index: torch.Tensor):\n",
        "    yield edge_index\n",
        "    dense_adj = to_dense_adj(edge_index).squeeze(0)\n",
        "    cum_adj = adj_pow = dense_adj.clone()\n",
        "    for l in range(1, k):\n",
        "        adj_pow = torch.mm(dense_adj, adj_pow)\n",
        "        k_hop = torch.where(\n",
        "            torch.where(adj_pow > 0, 1, 0) - cum_adj > 0,\n",
        "            1,\n",
        "            0\n",
        "        )\n",
        "        cum_adj += k_hop\n",
        "        yield dense_to_sparse(k_hop)[0] # return only the edge indices"
      ],
      "execution_count": 8,
      "outputs": []
    },
    {
      "cell_type": "code",
      "metadata": {
        "id": "iSyEHTuHBezZ"
      },
      "source": [
        "# count model parameters\n",
        "def count_parameters(model: torch.nn.Module):\n",
        "    total_parameters = sum(p.numel() for p in model.parameters() if p.requires_grad)\n",
        "    return total_parameters"
      ],
      "execution_count": 9,
      "outputs": []
    },
    {
      "cell_type": "code",
      "metadata": {
        "id": "Bo9ZJplNBfz8"
      },
      "source": [
        "def make(config):\n",
        "    # Make the model\n",
        "    model = OurModel(num_layers=config['num_layers'],\n",
        "                     hidden_dim=config['hidden_dim'],\n",
        "                     num_features=config['num_features'],\n",
        "                     num_classes=config['num_classes'],\n",
        "                     propagation_steps=config['propagation_steps'],\n",
        "                     dropout=config['dropout']).to(device)\n",
        "\n",
        "    # Make the loss and optimizer\n",
        "    criterion = torch.nn.NLLLoss()\n",
        "    optimizer = torch.optim.Adam(model.parameters(),\n",
        "                                 lr=config['learning_rate'],\n",
        "                                 weight_decay=config['weight_decay'])\n",
        "    \n",
        "    return model, criterion, optimizer"
      ],
      "execution_count": 10,
      "outputs": []
    },
    {
      "cell_type": "code",
      "metadata": {
        "id": "ZrHBmQoQBhax"
      },
      "source": [
        "def train(model, criterion, optimizer, config):\n",
        "    outputs = []\n",
        "    \n",
        "    for _ in range(config['runs']):\n",
        "        for epoch in range(config['epochs']):\n",
        "            loss = train_step(model, optimizer, criterion)\n",
        "            \n",
        "            # test the model\n",
        "            outs = test(model, criterion)\n",
        "                        # metrics=[('mad', mad_value),\n",
        "                        #         ('mad_gap', partial(mad_gap_value,dense_adj)),\n",
        "                        #         ('mad_sp', shortest_path_mad)])\n",
        "            outs['epoch'] = epoch\n",
        "            outs['id'] = config['id']\n",
        "            outs['hidden_dim'] = config['hidden_dim']\n",
        "            outs['weight_decay'] = config['weight_decay']\n",
        "            outs['num_layers'] = config['num_layers']\n",
        "            outs['learning_rate'] = config['learning_rate']\n",
        "            outs['dropout'] = config['dropout']\n",
        "            outs['propagation_steps'] = config['propagation_steps']\n",
        "            outs['total_parameters'] = config['total_parameters']\n",
        "            outputs.append(outs)\n",
        "\n",
        "    return pd.DataFrame(outputs)"
      ],
      "execution_count": 11,
      "outputs": []
    },
    {
      "cell_type": "code",
      "metadata": {
        "id": "nOADLnOaBi9_"
      },
      "source": [
        "def train_step(model, optimizer, criterion):\n",
        "    \"\"\"Performs one training step\n",
        "    \"\"\"\n",
        "    model.train()\n",
        "    \n",
        "    # Forward pass\n",
        "    _, out = model(G.x)\n",
        "    loss = criterion(out[G.train_mask], G.y[G.train_mask])\n",
        "    \n",
        "    # Backward pass\n",
        "    optimizer.zero_grad()\n",
        "    loss.backward()\n",
        "    optimizer.step()\n",
        "    \n",
        "    return loss"
      ],
      "execution_count": 12,
      "outputs": []
    },
    {
      "cell_type": "code",
      "metadata": {
        "id": "L8AqfpLfBkTj"
      },
      "source": [
        "def test(model, criterion, metrics=[]):\n",
        "    \"\"\"\n",
        "    Metrics is a list of tuple ('metric_name', metric_func) where the metric \n",
        "    function takes the last representation matrix and returns a scalar.\n",
        "    \"\"\"\n",
        "    model.eval()\n",
        "\n",
        "    # Run the model on some test examples\n",
        "    with torch.no_grad():\n",
        "        h, logits = model(G.x)\n",
        "\n",
        "    outs = {}\n",
        "    h = h.detach().cpu()\n",
        "    for (name, metric) in metrics:\n",
        "        outs[name] = metric(h)\n",
        "\n",
        "    for key in ['train', 'val', 'test']:\n",
        "        mask = G[f'{key}_mask']\n",
        "        loss = criterion(logits[mask], G.y[mask]).item()\n",
        "        pred = logits[mask].max(1)[1]\n",
        "        acc = pred.eq(G.y[mask]).sum().item() / mask.sum().item()\n",
        "\n",
        "        outs[f'{key}_loss'] = loss\n",
        "        outs[f'{key}_acc'] = acc\n",
        "    \n",
        "    return outs"
      ],
      "execution_count": 13,
      "outputs": []
    },
    {
      "cell_type": "code",
      "metadata": {
        "id": "F3CtWm_mBl5r"
      },
      "source": [
        "def model_pipeline(config):\n",
        "    # create the model\n",
        "    model, criterion, optimizer = make(config)\n",
        "    config['total_parameters'] = count_parameters(model)\n",
        "\n",
        "    # train the model for different parameters\n",
        "    logs = train(model, criterion, optimizer, config)\n",
        "\n",
        "    # repr = tsne_plot(model, all_edge_index, title=\"Last hidden representations\")\n",
        "\n",
        "    return model, logs, config"
      ],
      "execution_count": 14,
      "outputs": []
    },
    {
      "cell_type": "markdown",
      "metadata": {
        "id": "2ixOXL-HBnch"
      },
      "source": [
        "## **🕸 Citeseer**"
      ]
    },
    {
      "cell_type": "code",
      "metadata": {
        "id": "nbMPjkiPBq63"
      },
      "source": [
        "%%capture\n",
        "path = osp.join(os.getcwd(), 'data')\n",
        "citeseer = load_dataset(path, 'CiteSeer')\n",
        "G = citeseer[0].to(device) # only graph of the dataset"
      ],
      "execution_count": null,
      "outputs": []
    },
    {
      "cell_type": "code",
      "metadata": {
        "id": "pIRY0K74L_s8",
        "colab": {
          "base_uri": "https://localhost:8080/"
        },
        "outputId": "6b6763e8-af66-4d77-86ee-410c5b086ff1"
      },
      "source": [
        "# Understand how train/test/valid split is done\n",
        "# TODO - count number of nodes per each subset\n",
        "print(f\"Train: {G.train_mask.sum()} | Test: {G.test_mask.sum()} | Valid: {G.val_mask.sum()}\")\n",
        "# TODO - look at label ratio within each subset (is it uniformaly distributed)\n",
        "for split in ['train','test','val']:\n",
        "    print(split, torch.bincount(G.y[G[f'{split}_mask']]))"
      ],
      "execution_count": null,
      "outputs": [
        {
          "output_type": "stream",
          "text": [
            "Train: 120 | Test: 1000 | Valid: 500\n",
            "train tensor([20, 20, 20, 20, 20, 20], device='cuda:0')\n",
            "test tensor([ 77, 182, 181, 231, 169, 160], device='cuda:0')\n",
            "val tensor([ 29,  86, 116, 106,  94,  69], device='cuda:0')\n"
          ],
          "name": "stdout"
        }
      ]
    },
    {
      "cell_type": "markdown",
      "metadata": {
        "id": "_ILKZPOdla5R"
      },
      "source": [
        "## 📔 **PubMed**\n"
      ]
    },
    {
      "cell_type": "code",
      "metadata": {
        "id": "hBG13C9algZt"
      },
      "source": [
        "%%capture\n",
        "path = osp.join(os.getcwd(), 'data')\n",
        "pubmed = load_dataset(path, 'PubMed')\n",
        "G = pubmed[0].to(device) # only graph of the dataset"
      ],
      "execution_count": 15,
      "outputs": []
    },
    {
      "cell_type": "markdown",
      "metadata": {
        "id": "x3nUIywRB1nc"
      },
      "source": [
        "## **🔍Fine tuning**"
      ]
    },
    {
      "cell_type": "code",
      "metadata": {
        "id": "EiSOwICEB5Be"
      },
      "source": [
        "grid = dict(\n",
        "    num_layers=[1,2],\n",
        "    hidden_dim=[16, 24],\n",
        "    propagation_steps=[2,4,6],\n",
        "    learning_rate=np.logspace(-4, -1, 4),\n",
        "    weight_decay=np.logspace(-5, 0, 4),\n",
        "    dropout=[0.4,0.5,0.6]\n",
        ")"
      ],
      "execution_count": 16,
      "outputs": []
    },
    {
      "cell_type": "code",
      "metadata": {
        "id": "FD7tO02LB65q"
      },
      "source": [
        "id = 0\n",
        "all_logs=None\n",
        "best_acc = 0\n",
        "hyperparameters = list(product(*grid.values()))\n",
        "\n",
        "for num_layers, hidden_dim, propagation_steps, learning_rate, weight_decay, dropout in tqdm(hyperparameters):\n",
        "    model, logs, hyperparameters = model_pipeline({\n",
        "        'id':id,\n",
        "        'num_layers':num_layers,\n",
        "        'hidden_dim':hidden_dim,\n",
        "        'propagation_steps':propagation_steps,\n",
        "        'learning_rate':learning_rate,\n",
        "        'weight_decay':weight_decay,\n",
        "        'dropout':dropout,\n",
        "        'num_features':pubmed.num_features,\n",
        "        'num_classes':pubmed.num_classes,\n",
        "        'epochs':400,\n",
        "        'runs':2\n",
        "    })\n",
        "    res = logs.query('epoch==399').iloc[0]\n",
        "    test_acc = res.test_acc\n",
        "    if test_acc >= best_acc:\n",
        "        best_acc = test_acc\n",
        "        print(f\"num_layers: {num_layers} \\\n",
        "            | smoothing: {propagation_steps} \\\n",
        "            | dim: {hidden_dim} \\\n",
        "            | train_acc: {round(res.train_acc,2)}\\\n",
        "            | test_acc: {test_acc}\\\n",
        "            | val_acc: {res.val_acc} \\n\")\n",
        "    \n",
        "    if id == 0:\n",
        "        all_logs = logs\n",
        "    else:\n",
        "        all_logs = pd.concat([all_logs, logs], ignore_index=True)\n",
        "    id += 1\n",
        "    all_logs.query('epoch > 100 & train_acc > 0.98 & test_acc > 0.6 & val_acc > 0.6').to_csv('./tuning_pubmed.csv', index=False)"
      ],
      "execution_count": null,
      "outputs": []
    },
    {
      "cell_type": "code",
      "metadata": {
        "id": "M8tzW05XB9Yq",
        "colab": {
          "base_uri": "https://localhost:8080/",
          "height": 419
        },
        "outputId": "727becd9-3297-43d8-96b3-26dfb5c8a55b"
      },
      "source": [
        "all_logs.query('test_acc > 0.792 & val_acc > 0.7').sort_values(by=[\"test_acc\", \"val_acc\"], ascending=False)"
      ],
      "execution_count": 20,
      "outputs": [
        {
          "output_type": "execute_result",
          "data": {
            "text/html": [
              "<div>\n",
              "<style scoped>\n",
              "    .dataframe tbody tr th:only-of-type {\n",
              "        vertical-align: middle;\n",
              "    }\n",
              "\n",
              "    .dataframe tbody tr th {\n",
              "        vertical-align: top;\n",
              "    }\n",
              "\n",
              "    .dataframe thead th {\n",
              "        text-align: right;\n",
              "    }\n",
              "</style>\n",
              "<table border=\"1\" class=\"dataframe\">\n",
              "  <thead>\n",
              "    <tr style=\"text-align: right;\">\n",
              "      <th></th>\n",
              "      <th>train_loss</th>\n",
              "      <th>train_acc</th>\n",
              "      <th>val_loss</th>\n",
              "      <th>val_acc</th>\n",
              "      <th>test_loss</th>\n",
              "      <th>test_acc</th>\n",
              "      <th>epoch</th>\n",
              "      <th>id</th>\n",
              "      <th>hidden_dim</th>\n",
              "      <th>weight_decay</th>\n",
              "      <th>num_layers</th>\n",
              "      <th>learning_rate</th>\n",
              "      <th>dropout</th>\n",
              "      <th>propagation_steps</th>\n",
              "      <th>total_parameters</th>\n",
              "    </tr>\n",
              "  </thead>\n",
              "  <tbody>\n",
              "    <tr>\n",
              "      <th>207589</th>\n",
              "      <td>0.146442</td>\n",
              "      <td>1.0</td>\n",
              "      <td>0.564183</td>\n",
              "      <td>0.804</td>\n",
              "      <td>0.606612</td>\n",
              "      <td>0.799</td>\n",
              "      <td>389</td>\n",
              "      <td>259</td>\n",
              "      <td>24</td>\n",
              "      <td>0.021544</td>\n",
              "      <td>1</td>\n",
              "      <td>0.001</td>\n",
              "      <td>0.5</td>\n",
              "      <td>6</td>\n",
              "      <td>13300</td>\n",
              "    </tr>\n",
              "    <tr>\n",
              "      <th>101116</th>\n",
              "      <td>0.101663</td>\n",
              "      <td>1.0</td>\n",
              "      <td>0.547593</td>\n",
              "      <td>0.798</td>\n",
              "      <td>0.597549</td>\n",
              "      <td>0.799</td>\n",
              "      <td>316</td>\n",
              "      <td>126</td>\n",
              "      <td>16</td>\n",
              "      <td>0.021544</td>\n",
              "      <td>1</td>\n",
              "      <td>0.010</td>\n",
              "      <td>0.4</td>\n",
              "      <td>6</td>\n",
              "      <td>8612</td>\n",
              "    </tr>\n",
              "    <tr>\n",
              "      <th>103017</th>\n",
              "      <td>0.106234</td>\n",
              "      <td>1.0</td>\n",
              "      <td>0.560475</td>\n",
              "      <td>0.808</td>\n",
              "      <td>0.606938</td>\n",
              "      <td>0.798</td>\n",
              "      <td>217</td>\n",
              "      <td>128</td>\n",
              "      <td>16</td>\n",
              "      <td>0.021544</td>\n",
              "      <td>1</td>\n",
              "      <td>0.010</td>\n",
              "      <td>0.6</td>\n",
              "      <td>6</td>\n",
              "      <td>8612</td>\n",
              "    </tr>\n",
              "    <tr>\n",
              "      <th>217584</th>\n",
              "      <td>0.099701</td>\n",
              "      <td>1.0</td>\n",
              "      <td>0.555431</td>\n",
              "      <td>0.814</td>\n",
              "      <td>0.594757</td>\n",
              "      <td>0.797</td>\n",
              "      <td>384</td>\n",
              "      <td>271</td>\n",
              "      <td>24</td>\n",
              "      <td>0.021544</td>\n",
              "      <td>1</td>\n",
              "      <td>0.010</td>\n",
              "      <td>0.5</td>\n",
              "      <td>6</td>\n",
              "      <td>13300</td>\n",
              "    </tr>\n",
              "    <tr>\n",
              "      <th>207548</th>\n",
              "      <td>0.156945</td>\n",
              "      <td>1.0</td>\n",
              "      <td>0.569255</td>\n",
              "      <td>0.806</td>\n",
              "      <td>0.611078</td>\n",
              "      <td>0.797</td>\n",
              "      <td>348</td>\n",
              "      <td>259</td>\n",
              "      <td>24</td>\n",
              "      <td>0.021544</td>\n",
              "      <td>1</td>\n",
              "      <td>0.001</td>\n",
              "      <td>0.5</td>\n",
              "      <td>6</td>\n",
              "      <td>13300</td>\n",
              "    </tr>\n",
              "    <tr>\n",
              "      <th>...</th>\n",
              "      <td>...</td>\n",
              "      <td>...</td>\n",
              "      <td>...</td>\n",
              "      <td>...</td>\n",
              "      <td>...</td>\n",
              "      <td>...</td>\n",
              "      <td>...</td>\n",
              "      <td>...</td>\n",
              "      <td>...</td>\n",
              "      <td>...</td>\n",
              "      <td>...</td>\n",
              "      <td>...</td>\n",
              "      <td>...</td>\n",
              "      <td>...</td>\n",
              "      <td>...</td>\n",
              "    </tr>\n",
              "    <tr>\n",
              "      <th>53309</th>\n",
              "      <td>0.133570</td>\n",
              "      <td>1.0</td>\n",
              "      <td>0.551889</td>\n",
              "      <td>0.788</td>\n",
              "      <td>0.593164</td>\n",
              "      <td>0.793</td>\n",
              "      <td>109</td>\n",
              "      <td>66</td>\n",
              "      <td>16</td>\n",
              "      <td>0.021544</td>\n",
              "      <td>1</td>\n",
              "      <td>0.001</td>\n",
              "      <td>0.4</td>\n",
              "      <td>4</td>\n",
              "      <td>8612</td>\n",
              "    </tr>\n",
              "    <tr>\n",
              "      <th>62933</th>\n",
              "      <td>0.101793</td>\n",
              "      <td>1.0</td>\n",
              "      <td>0.553038</td>\n",
              "      <td>0.786</td>\n",
              "      <td>0.595725</td>\n",
              "      <td>0.793</td>\n",
              "      <td>133</td>\n",
              "      <td>78</td>\n",
              "      <td>16</td>\n",
              "      <td>0.021544</td>\n",
              "      <td>1</td>\n",
              "      <td>0.010</td>\n",
              "      <td>0.4</td>\n",
              "      <td>4</td>\n",
              "      <td>8612</td>\n",
              "    </tr>\n",
              "    <tr>\n",
              "      <th>60173</th>\n",
              "      <td>0.001270</td>\n",
              "      <td>1.0</td>\n",
              "      <td>0.860350</td>\n",
              "      <td>0.782</td>\n",
              "      <td>1.020950</td>\n",
              "      <td>0.793</td>\n",
              "      <td>173</td>\n",
              "      <td>75</td>\n",
              "      <td>16</td>\n",
              "      <td>0.000464</td>\n",
              "      <td>1</td>\n",
              "      <td>0.010</td>\n",
              "      <td>0.4</td>\n",
              "      <td>4</td>\n",
              "      <td>8612</td>\n",
              "    </tr>\n",
              "    <tr>\n",
              "      <th>60178</th>\n",
              "      <td>0.001187</td>\n",
              "      <td>1.0</td>\n",
              "      <td>0.859863</td>\n",
              "      <td>0.782</td>\n",
              "      <td>1.027238</td>\n",
              "      <td>0.793</td>\n",
              "      <td>178</td>\n",
              "      <td>75</td>\n",
              "      <td>16</td>\n",
              "      <td>0.000464</td>\n",
              "      <td>1</td>\n",
              "      <td>0.010</td>\n",
              "      <td>0.4</td>\n",
              "      <td>4</td>\n",
              "      <td>8612</td>\n",
              "    </tr>\n",
              "    <tr>\n",
              "      <th>64508</th>\n",
              "      <td>0.106967</td>\n",
              "      <td>1.0</td>\n",
              "      <td>0.552841</td>\n",
              "      <td>0.782</td>\n",
              "      <td>0.580803</td>\n",
              "      <td>0.793</td>\n",
              "      <td>108</td>\n",
              "      <td>80</td>\n",
              "      <td>16</td>\n",
              "      <td>0.021544</td>\n",
              "      <td>1</td>\n",
              "      <td>0.010</td>\n",
              "      <td>0.6</td>\n",
              "      <td>4</td>\n",
              "      <td>8612</td>\n",
              "    </tr>\n",
              "  </tbody>\n",
              "</table>\n",
              "<p>182 rows × 15 columns</p>\n",
              "</div>"
            ],
            "text/plain": [
              "        train_loss  train_acc  ...  propagation_steps  total_parameters\n",
              "207589    0.146442        1.0  ...                  6             13300\n",
              "101116    0.101663        1.0  ...                  6              8612\n",
              "103017    0.106234        1.0  ...                  6              8612\n",
              "217584    0.099701        1.0  ...                  6             13300\n",
              "207548    0.156945        1.0  ...                  6             13300\n",
              "...            ...        ...  ...                ...               ...\n",
              "53309     0.133570        1.0  ...                  4              8612\n",
              "62933     0.101793        1.0  ...                  4              8612\n",
              "60173     0.001270        1.0  ...                  4              8612\n",
              "60178     0.001187        1.0  ...                  4              8612\n",
              "64508     0.106967        1.0  ...                  4              8612\n",
              "\n",
              "[182 rows x 15 columns]"
            ]
          },
          "metadata": {},
          "execution_count": 20
        }
      ]
    },
    {
      "cell_type": "code",
      "metadata": {
        "id": "6fXCitNv-mny",
        "colab": {
          "base_uri": "https://localhost:8080/",
          "height": 17
        },
        "outputId": "19e2fa20-caaa-4ea3-dfe3-b67dd01c2af7"
      },
      "source": [
        "all_logs.query('epoch > 100 & train_acc > 0.9 & test_acc > 0.7 & val_acc > 0.7').to_csv('./tuning_citeseer.csv', index=False)\n",
        "files.download('tuning_citeseer.csv')"
      ],
      "execution_count": null,
      "outputs": [
        {
          "output_type": "display_data",
          "data": {
            "application/javascript": [
              "\n",
              "    async function download(id, filename, size) {\n",
              "      if (!google.colab.kernel.accessAllowed) {\n",
              "        return;\n",
              "      }\n",
              "      const div = document.createElement('div');\n",
              "      const label = document.createElement('label');\n",
              "      label.textContent = `Downloading \"${filename}\": `;\n",
              "      div.appendChild(label);\n",
              "      const progress = document.createElement('progress');\n",
              "      progress.max = size;\n",
              "      div.appendChild(progress);\n",
              "      document.body.appendChild(div);\n",
              "\n",
              "      const buffers = [];\n",
              "      let downloaded = 0;\n",
              "\n",
              "      const channel = await google.colab.kernel.comms.open(id);\n",
              "      // Send a message to notify the kernel that we're ready.\n",
              "      channel.send({})\n",
              "\n",
              "      for await (const message of channel.messages) {\n",
              "        // Send a message to notify the kernel that we're ready.\n",
              "        channel.send({})\n",
              "        if (message.buffers) {\n",
              "          for (const buffer of message.buffers) {\n",
              "            buffers.push(buffer);\n",
              "            downloaded += buffer.byteLength;\n",
              "            progress.value = downloaded;\n",
              "          }\n",
              "        }\n",
              "      }\n",
              "      const blob = new Blob(buffers, {type: 'application/binary'});\n",
              "      const a = document.createElement('a');\n",
              "      a.href = window.URL.createObjectURL(blob);\n",
              "      a.download = filename;\n",
              "      div.appendChild(a);\n",
              "      a.click();\n",
              "      div.remove();\n",
              "    }\n",
              "  "
            ],
            "text/plain": [
              "<IPython.core.display.Javascript object>"
            ]
          },
          "metadata": {
            "tags": []
          }
        },
        {
          "output_type": "display_data",
          "data": {
            "application/javascript": [
              "download(\"download_ea878fc0-092e-4909-b3e4-f06a708aa51f\", \"tuning_citeseer.csv\", 8838)"
            ],
            "text/plain": [
              "<IPython.core.display.Javascript object>"
            ]
          },
          "metadata": {
            "tags": []
          }
        }
      ]
    },
    {
      "cell_type": "code",
      "metadata": {
        "id": "PPfs38YAWvXA"
      },
      "source": [
        "sns.set(\"paper\", font_scale=1)"
      ],
      "execution_count": 40,
      "outputs": []
    },
    {
      "cell_type": "code",
      "metadata": {
        "id": "dUQ59r5INWLf",
        "colab": {
          "base_uri": "https://localhost:8080/",
          "height": 298
        },
        "outputId": "5c4eac1a-a2a7-4916-d010-0d9a29c27901"
      },
      "source": [
        "_, ax = plt.subplots(nrows=1, ncols=4, figsize=(24,4))\n",
        "\n",
        "sns.boxplot(ax=ax[0], x=\"weight_decay\", y=\"test_acc\", data=all_logs.query('epoch > 200 & train_acc > 0.9 & test_acc > 0.79 & val_acc > 0.7'))\n",
        "sns.boxplot(ax=ax[1], x=\"learning_rate\", y=\"test_acc\", data=all_logs.query('epoch > 200 & train_acc > 0.9 & test_acc > 0.79 & val_acc > 0.7'))\n",
        "sns.boxplot(ax=ax[2], x=\"dropout\", y=\"test_acc\", data=all_logs.query('epoch > 200 & train_acc > 0.9 & test_acc > 0.79 & val_acc > 0.7'))\n",
        "sns.boxplot(ax=ax[3], x=\"hidden_dim\", y=\"test_acc\", data=all_logs.query('epoch > 200 & train_acc > 0.9 & test_acc > 0.79 & val_acc > 0.7'))"
      ],
      "execution_count": 44,
      "outputs": [
        {
          "output_type": "execute_result",
          "data": {
            "text/plain": [
              "<matplotlib.axes._subplots.AxesSubplot at 0x7f6930d05a10>"
            ]
          },
          "metadata": {},
          "execution_count": 44
        },
        {
          "output_type": "display_data",
          "data": {
            "image/png": "[encoded data removed]",
            "text/plain": [
              "<Figure size 1728x288 with 4 Axes>"
            ]
          },
          "metadata": {}
        }
      ]
    },
    {
      "cell_type": "markdown",
      "metadata": {
        "id": "TlydjZBjfJxq"
      },
      "source": [
        "## **📷 Amazon Photos**"
      ]
    },
    {
      "cell_type": "code",
      "metadata": {
        "id": "wzhwQ_SEfJxq"
      },
      "source": [
        "%%capture\n",
        "path = osp.join(os.getcwd(), 'data')\n",
        "amazon = load_dataset(path, 'Amazon', params=dict(goods=\"Photo\"))\n",
        "G = amazon[0].to(device)"
      ],
      "execution_count": null,
      "outputs": []
    },
    {
      "cell_type": "code",
      "metadata": {
        "id": "CG5rX4xGRyHx"
      },
      "source": [
        "TRAIN_SIZE = 200 * 8 # 1600\n",
        "TEST_SIZE = 4000\n",
        "VAL_SIZE = 2050"
      ],
      "execution_count": null,
      "outputs": []
    },
    {
      "cell_type": "code",
      "metadata": {
        "id": "ImnaGPCuRKLS",
        "colab": {
          "base_uri": "https://localhost:8080/",
          "height": 311
        },
        "outputId": "5a193f72-cb0b-4c8b-cddc-165d2d4a3021"
      },
      "source": [
        "print('nodes: ', G.num_nodes)\n",
        "plt.plot((torch.bincount(G.y)*100/ G.num_nodes).cpu())"
      ],
      "execution_count": null,
      "outputs": [
        {
          "output_type": "stream",
          "text": [
            "nodes:  7650\n"
          ],
          "name": "stdout"
        },
        {
          "output_type": "execute_result",
          "data": {
            "text/plain": [
              "[<matplotlib.lines.Line2D at 0x7f7210800110>]"
            ]
          },
          "metadata": {
            "tags": []
          },
          "execution_count": 40
        },
        {
          "output_type": "display_data",
          "data": {
            "image/png": "[encoded data removed]",
            "text/plain": [
              "<Figure size 432x288 with 1 Axes>"
            ]
          },
          "metadata": {
            "tags": []
          }
        }
      ]
    },
    {
      "cell_type": "code",
      "metadata": {
        "id": "9wcu5iJ-V0X0",
        "colab": {
          "base_uri": "https://localhost:8080/"
        },
        "outputId": "f7ca31ac-c357-417c-aab3-5daf3d46798b"
      },
      "source": [
        "torch.bincount(G.y)"
      ],
      "execution_count": null,
      "outputs": [
        {
          "output_type": "execute_result",
          "data": {
            "text/plain": [
              "tensor([ 369, 1686,  703,  915,  882,  823, 1941,  331], device='cuda:0')"
            ]
          },
          "metadata": {
            "tags": []
          },
          "execution_count": 66
        }
      ]
    },
    {
      "cell_type": "code",
      "metadata": {
        "id": "juWAqfhzN9xX"
      },
      "source": [
        "# Create the train/test/valid split\n",
        "G.train_mask = torch.tensor([]).int()\n",
        "G.test_mask = torch.tensor([]).int()\n",
        "G.val_mask = torch.tensor([]).int()\n",
        "indices = torch.arange(G.num_nodes)\n",
        "\n",
        "for label in range(amazon.num_classes):\n",
        "    label_indices = list(indices[G.y == label].numpy())\n",
        "    shuffled_indices = torch.randperm(len(label_indices))\n",
        "    G.train_mask = torch.cat((G.train_mask, shuffled_indices[:200]))\n",
        "    test_len = (len(label_indices) - 200) * TEST_SIZE // (TEST_SIZE+VAL_SIZE)\n",
        "    G.test_mask = torch.cat((G.test_mask, shuffled_indices[200:200+test_len]))\n",
        "    G.val_mask = torch.cat((G.val_mask, shuffled_indices[200+test_len:]))"
      ],
      "execution_count": null,
      "outputs": []
    },
    {
      "cell_type": "markdown",
      "metadata": {
        "id": "92gNxxXtfJxr"
      },
      "source": [
        "## **🔍Fine tuning**"
      ]
    },
    {
      "cell_type": "code",
      "metadata": {
        "id": "k7BYNyPOfJxs"
      },
      "source": [
        "grid = dict(\n",
        "    num_layers=[2,3],\n",
        "    hidden_dim=[16,24],\n",
        "    propagation_steps=[5,7,9],\n",
        "    learning_rate=np.logspace(-4, -1, 5),\n",
        "    weight_decay=np.logspace(-5, 0, 5),\n",
        "    dropout=np.linspace(0.4,0.6, 5)\n",
        ")"
      ],
      "execution_count": null,
      "outputs": []
    },
    {
      "cell_type": "code",
      "metadata": {
        "colab": {
          "base_uri": "https://localhost:8080/",
          "height": 280,
          "referenced_widgets": [
            "c62c394f6eba4fdeac4e622aca84a846",
            "14bc1b092188485099b71e5e9072a0d2",
            "3cbe3b6eb4c848fe92f332844f46b2f9",
            "ea7c6c791d1a411590ce88cc32cf7283",
            "7b29b74d883948cd92ed85d8356eeb30",
            "0a06fb42640c4f879a73f640e7881048",
            "aa1249e205af44088ed13ba200d38652",
            "1547dd2a7aaf4736b19a08e1370282db",
            "ee126373c9c447cf87baee2cbba0a748",
            "fe8437db654e492a8aab7303e4677b91",
            "ac80ab4656b34957b9306d11b6b8fb5f"
          ]
        },
        "id": "QUHyTX02fJxs",
        "outputId": "126599b0-5536-479f-b244-ccbd027c0539"
      },
      "source": [
        "id = 0\n",
        "all_logs=None\n",
        "best_acc = 0\n",
        "hyperparameters = list(product(*grid.values()))\n",
        "\n",
        "for num_layers, hidden_dim, propagation_steps, learning_rate, weight_decay, dropout in tqdm(hyperparameters):\n",
        "    model, logs, hyperparameters = model_pipeline({\n",
        "        'id':id,\n",
        "        'num_layers':num_layers,\n",
        "        'hidden_dim':hidden_dim,\n",
        "        'propagation_steps':propagation_steps,\n",
        "        'learning_rate':learning_rate,\n",
        "        'weight_decay':weight_decay,\n",
        "        'num_classes': amazon.num_classes,\n",
        "        'num_features':amazon.num_features,\n",
        "        'dropout':dropout,\n",
        "        'epochs':400,\n",
        "        'runs':1\n",
        "    })\n",
        "    test_acc = logs.query('epoch==399')['test_acc'].iloc[0]\n",
        "    if test_acc >= best_acc:\n",
        "        best_acc = test_acc\n",
        "        print(f\"num_layers: {num_layers} \\\n",
        "            | smoothing: {propagation_steps} \\\n",
        "            | dim: {hidden_dim} \\\n",
        "            | train_acc: {train_acc}\\\n",
        "            | test_acc: {test_acc}\\\n",
        "            | val_acc: {val_acc} \\n\")\n",
        "    \n",
        "    if id == 0:\n",
        "        all_logs = logs\n",
        "    else:\n",
        "        all_logs = pd.concat([all_logs, logs], ignore_index=True)\n",
        "    id += 1"
      ],
      "execution_count": null,
      "outputs": [
        {
          "output_type": "display_data",
          "data": {
            "application/vnd.jupyter.widget-view+json": {
              "model_id": "c62c394f6eba4fdeac4e622aca84a846",
              "version_minor": 0,
              "version_major": 2
            },
            "text/plain": [
              "  0%|          | 0/1500 [00:00<?, ?it/s]"
            ]
          },
          "metadata": {
            "tags": []
          }
        },
        {
          "output_type": "error",
          "ename": "NameError",
          "evalue": "ignored",
          "traceback": [
            "\u001b[0;31m---------------------------------------------------------------------------\u001b[0m",
            "\u001b[0;31mNameError\u001b[0m                                 Traceback (most recent call last)",
            "\u001b[0;32m<ipython-input-85-62da66aad17c>\u001b[0m in \u001b[0;36m<module>\u001b[0;34m()\u001b[0m\n\u001b[1;32m     21\u001b[0m     \u001b[0;32mif\u001b[0m \u001b[0mtest_acc\u001b[0m \u001b[0;34m>=\u001b[0m \u001b[0mbest_acc\u001b[0m\u001b[0;34m:\u001b[0m\u001b[0;34m\u001b[0m\u001b[0;34m\u001b[0m\u001b[0m\n\u001b[1;32m     22\u001b[0m         \u001b[0mbest_acc\u001b[0m \u001b[0;34m=\u001b[0m \u001b[0mtest_acc\u001b[0m\u001b[0;34m\u001b[0m\u001b[0;34m\u001b[0m\u001b[0m\n\u001b[0;32m---> 23\u001b[0;31m         \u001b[0mprint\u001b[0m\u001b[0;34m(\u001b[0m\u001b[0;34mf\"num_layers: {num_layers}             | smoothing: {propagation_steps}             | dim: {hidden_dim}             | train_acc: {train_acc}            | test_acc: {test_acc}            | val_acc: {val_acc} \\n\"\u001b[0m\u001b[0;34m)\u001b[0m\u001b[0;34m\u001b[0m\u001b[0;34m\u001b[0m\u001b[0m\n\u001b[0m\u001b[1;32m     24\u001b[0m \u001b[0;34m\u001b[0m\u001b[0m\n\u001b[1;32m     25\u001b[0m     \u001b[0;32mif\u001b[0m \u001b[0mid\u001b[0m \u001b[0;34m==\u001b[0m \u001b[0;36m0\u001b[0m\u001b[0;34m:\u001b[0m\u001b[0;34m\u001b[0m\u001b[0;34m\u001b[0m\u001b[0m\n",
            "\u001b[0;31mNameError\u001b[0m: name 'train_acc' is not defined"
          ]
        }
      ]
    },
    {
      "cell_type": "code",
      "metadata": {
        "id": "7yvcCtMNgm3_",
        "colab": {
          "base_uri": "https://localhost:8080/"
        },
        "outputId": "7c86b4a7-03f6-4660-dd22-adf2a14e423c"
      },
      "source": [
        "logs.query('epoch==399').iloc[0].train_acc"
      ],
      "execution_count": null,
      "outputs": [
        {
          "output_type": "execute_result",
          "data": {
            "text/plain": [
              "0.0006880120274695172"
            ]
          },
          "metadata": {
            "tags": []
          },
          "execution_count": 95
        }
      ]
    },
    {
      "cell_type": "code",
      "metadata": {
        "id": "DyB7foWRfJxt"
      },
      "source": [
        "all_logs.query('epoch == 199 & train_acc == 1.0 & test_acc > 0.7 & val_acc > 0.7').sort_values(by=[\"test_acc\", \"val_acc\"], ascending=False)"
      ],
      "execution_count": null,
      "outputs": []
    }
  ]
}