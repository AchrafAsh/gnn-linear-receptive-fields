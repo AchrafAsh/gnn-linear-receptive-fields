{
  "nbformat": 4,
  "nbformat_minor": 0,
  "metadata": {
    "colab": {
      "name": "02_benchmark.ipynb",
      "provenance": [],
      "toc_visible": true,
      "authorship_tag": "ABX9TyO9nqdjZ3FW6BODssHeVOJq",
      "include_colab_link": true
    },
    "kernelspec": {
      "name": "python3",
      "display_name": "Python 3"
    },
    "language_info": {
      "name": "python"
    }
  },
  "cells": [
    {
      "cell_type": "markdown",
      "metadata": {
        "id": "view-in-github",
        "colab_type": "text"
      },
      "source": [
        "<a href=\"https://colab.research.google.com/github/AchrafAsh/gnn-receptive-fields/blob/main/02_benchmark.ipynb\" target=\"_parent\"><img src=\"https://colab.research.google.com/assets/colab-badge.svg\" alt=\"Open In Colab\"/></a>"
      ]
    },
    {
      "cell_type": "markdown",
      "metadata": {
        "id": "E9KKzN4fK8Sl"
      },
      "source": [
        "## Setup environment"
      ]
    },
    {
      "cell_type": "code",
      "metadata": {
        "id": "5_kMherfKzzv",
        "outputId": "f0e70c48-542e-40c9-82f4-5ce8a65a4f25",
        "colab": {
          "base_uri": "https://localhost:8080/"
        }
      },
      "source": [
        "# setup colab environment\n",
        "import os, sys\n",
        "import os.path as osp\n",
        "from google.colab import drive\n",
        "drive.mount('/content/mnt')\n",
        "nb_path = '/content/notebooks'\n",
        "os.symlink('/content/mnt/My Drive/Colab Notebooks', nb_path)\n",
        "sys.path.insert(0, nb_path)  # or append(nb_path)"
      ],
      "execution_count": 1,
      "outputs": [
        {
          "output_type": "stream",
          "text": [
            "Mounted at /content/mnt\n"
          ],
          "name": "stdout"
        }
      ]
    },
    {
      "cell_type": "markdown",
      "metadata": {
        "id": "Nc7dnMGxLIce"
      },
      "source": [
        "### Load Cora dataset"
      ]
    },
    {
      "cell_type": "code",
      "metadata": {
        "id": "nwJxpJ9SK55W"
      },
      "source": [
        "%%capture\n",
        "!wget https://raw.githubusercontent.com/AchrafAsh/gnn-receptive-fields/main/data.py"
      ],
      "execution_count": 2,
      "outputs": []
    },
    {
      "cell_type": "code",
      "metadata": {
        "id": "vraHU_v3K6PK",
        "outputId": "7d39c6df-1def-4126-86a7-15d5121f77a6",
        "colab": {
          "base_uri": "https://localhost:8080/"
        }
      },
      "source": [
        "from data import load_dataset\n",
        "\n",
        "path = osp.join(os.getcwd(), 'data')\n",
        "cora_dataset = load_dataset(path, 'Cora')\n",
        "G = cora_dataset[0] # only graph of the dataset"
      ],
      "execution_count": 3,
      "outputs": [
        {
          "output_type": "stream",
          "text": [
            "Downloading https://github.com/kimiyoung/planetoid/raw/master/data/ind.cora.x\n",
            "Downloading https://github.com/kimiyoung/planetoid/raw/master/data/ind.cora.tx\n",
            "Downloading https://github.com/kimiyoung/planetoid/raw/master/data/ind.cora.allx\n",
            "Downloading https://github.com/kimiyoung/planetoid/raw/master/data/ind.cora.y\n",
            "Downloading https://github.com/kimiyoung/planetoid/raw/master/data/ind.cora.ty\n",
            "Downloading https://github.com/kimiyoung/planetoid/raw/master/data/ind.cora.ally\n",
            "Downloading https://github.com/kimiyoung/planetoid/raw/master/data/ind.cora.graph\n",
            "Downloading https://github.com/kimiyoung/planetoid/raw/master/data/ind.cora.test.index\n",
            "Processing...\n",
            "Done!\n"
          ],
          "name": "stdout"
        }
      ]
    },
    {
      "cell_type": "markdown",
      "metadata": {
        "id": "277H5oxRMpFZ"
      },
      "source": [
        "## Utils"
      ]
    },
    {
      "cell_type": "code",
      "metadata": {
        "id": "CN6FructNBoI"
      },
      "source": [
        "import torch\n",
        "import torch.nn.functional as F\n",
        "\n",
        "from typing import Tuple, Dict, List\n",
        "from tqdm import tqdm"
      ],
      "execution_count": 4,
      "outputs": []
    },
    {
      "cell_type": "code",
      "metadata": {
        "id": "KqiMdGxlMriB"
      },
      "source": [
        "def mean_average_distance(x, mask=None) -> float:\n",
        "    D = 1 - torch.div(torch.matmul(x, torch.transpose(x, 0, 1)),\n",
        "                      torch.matmul(torch.transpose(torch.norm(x, dim=1, keepdim=True), 0, 1), torch.norm(x, dim=1, keepdim=True)))\n",
        "    if mask is not None:\n",
        "        D = D * mask\n",
        "    D_hat = torch.div( torch.sum(D, dim=1), torch.sum(D > 0, dim=1) )\n",
        "    return torch.sum(D_hat) / torch.sum(D_hat > 0)"
      ],
      "execution_count": 22,
      "outputs": []
    },
    {
      "cell_type": "code",
      "metadata": {
        "id": "d0Nj_YF1M1B7"
      },
      "source": [
        "def count_parameters(model: torch.nn.Module):\n",
        "    print(f\"The model has {sum(p.numel() for p in model.parameters() if p.requires_grad):,} parameters\")"
      ],
      "execution_count": 6,
      "outputs": []
    },
    {
      "cell_type": "code",
      "metadata": {
        "id": "SOIbdDObM1Ph"
      },
      "source": [
        "def train(model: torch.nn.Module, optimizer: torch.optim.Optimizer,\n",
        "          data: type(G), edge_index) -> Tuple[torch.tensor, float]:\n",
        "    \n",
        "    model.train()\n",
        "    optimizer.zero_grad()\n",
        "\n",
        "    hidden_state, out = model(data.x, edge_index)\n",
        "    \n",
        "    loss = F.nll_loss(out[data.train_mask], data.y[data.train_mask])\n",
        "    loss.backward()\n",
        "    optimizer.step()\n",
        "    return hidden_state, loss"
      ],
      "execution_count": 7,
      "outputs": []
    },
    {
      "cell_type": "code",
      "metadata": {
        "id": "MaRHXNiNM1al"
      },
      "source": [
        "def evaluate(model: torch.nn.Module, data: type(G), edge_index) -> Dict[str, float]:\n",
        "    \n",
        "    model.eval()\n",
        "\n",
        "    with torch.no_grad():\n",
        "        _, logits = model(data.x, edge_index)\n",
        "    \n",
        "    outs = {}\n",
        "    for key in ['train', 'val', 'test']:\n",
        "        mask = data[f'{key}_mask']\n",
        "        loss = F.nll_loss(logits[mask], data.y[mask]).item()\n",
        "        pred = logits[mask].max(1)[1]\n",
        "        acc = pred.eq(data.y[mask]).sum().item() / mask.sum().item()\n",
        "\n",
        "        outs[f'{key}_loss'] = loss\n",
        "        outs[f'{key}_acc'] = acc\n",
        "    return outs"
      ],
      "execution_count": 8,
      "outputs": []
    },
    {
      "cell_type": "code",
      "metadata": {
        "id": "GtoWV2JdM17W"
      },
      "source": [
        "def run(data: type(G), model: torch.nn.Module,\n",
        "        edge_index,\n",
        "        runs: int, epochs: int, lr: float,\n",
        "        weight_decay: float,\n",
        "        early_stopping: int = 0,\n",
        "        initialize:bool=True) -> Tuple[List[float], List[float], List[float]]:\n",
        "\n",
        "    val_losses, accs, durations = [], [], []\n",
        "    for _ in range(runs):\n",
        "        data = data.to(device)\n",
        "        model.to(device)\n",
        "        if initialize:\n",
        "            model.reset_parameters()\n",
        "        \n",
        "        optimizer = torch.optim.Adam(model.parameters(), lr=lr, \n",
        "                                     weight_decay=weight_decay)\n",
        "\n",
        "        if torch.cuda.is_available():\n",
        "            torch.cuda.synchronize()\n",
        "        \n",
        "        t_start = time.perf_counter()\n",
        "\n",
        "        best_val_loss = float('inf')\n",
        "        val_loss_history, train_losses, test_accs, MADs = [], [], [], []\n",
        "\n",
        "        for epoch in range(1, epochs+1):\n",
        "            hidden_state, train_loss = train(model, optimizer, data, edge_index)\n",
        "\n",
        "            MAD = mean_average_distance(x=hidden_state).item()\n",
        "            eval_info = evaluate(model, data, edge_index)\n",
        "            \n",
        "            test_acc = eval_info['test_acc']\n",
        "            val_loss_history.append(eval_info['val_loss'])\n",
        "            train_losses.append(train_loss.item())\n",
        "            test_accs.append(test_acc)\n",
        "            MADs.append(MAD)\n",
        "        \n",
        "            # I don't understand what this is for...\n",
        "            if eval_info['val_loss'] < best_val_loss:\n",
        "                best_val_loss = eval_info['val_loss']\n",
        "            \n",
        "            if early_stopping > 0 and epoch > epochs // 2:\n",
        "                tmp = torch.tensor(val_loss_history[-(early_stopping + 1):-1])\n",
        "                if eval_info['val_loss'] > tmp.mean().item():\n",
        "                    break\n",
        "            \n",
        "            if epoch % 10 == 0:\n",
        "                print(f\"Epoch: [{epoch} / {epochs}] | Loss: {train_loss} | Test accuracy: {test_acc} | MAD: {MAD}\")\n",
        "\n",
        "        if torch.cuda.is_available():\n",
        "            torch.cuda.synchronize()\n",
        "\n",
        "        t_end = time.perf_counter()\n",
        "\n",
        "        val_losses.append(best_val_loss)\n",
        "        accs.append(test_acc)\n",
        "        durations.append(t_end - t_start)\n",
        "\n",
        "    loss, acc, duration = torch.tensor(val_losses), torch.tensor(accs), torch.tensor(durations)\n",
        "\n",
        "    print(f\"Val Loss: {loss.mean().item():.4f}, Test Accuracy: {acc.mean().item():.3f} ± {acc.std().item():.3f}, Duration: {duration.mean().item():.3f}\")\n",
        "    return train_losses, test_accs, MADs"
      ],
      "execution_count": 9,
      "outputs": []
    },
    {
      "cell_type": "markdown",
      "metadata": {
        "id": "SSb9r7TSLQFK"
      },
      "source": [
        "## Benchmark Models"
      ]
    },
    {
      "cell_type": "markdown",
      "metadata": {
        "id": "EOnbKf2eLSeu"
      },
      "source": [
        "### Simple GCN"
      ]
    },
    {
      "cell_type": "code",
      "metadata": {
        "id": "g6FA6FjHLUtF"
      },
      "source": [
        "import torch\n",
        "from torch_geometric.nn import Sequential, GCNConv, GATConv\n",
        "\n",
        "device = torch.device('cuda' if torch.cuda.is_available() else 'cpu')"
      ],
      "execution_count": 26,
      "outputs": []
    },
    {
      "cell_type": "code",
      "metadata": {
        "id": "gV5K_H9nLY44"
      },
      "source": [
        "class GCN(torch.nn.Module):\n",
        "    def __init__(self, num_layers:int, hidden_dim:int, num_features:int, num_classes:int, dropout:float=0.5):\n",
        "        super().__init__()\n",
        "        self.conv_layers = self.create_layers(num_layers=num_layers, \n",
        "                                              num_features=num_features,\n",
        "                                              num_classes=num_classes,\n",
        "                                              hidden_dim=hidden_dim,\n",
        "                                              dropout=dropout)\n",
        "        \n",
        "        self.log_softmax = torch.nn.LogSoftmax(dim=1)\n",
        "\n",
        "\n",
        "    def create_layers(self, num_layers:int, num_features:int, num_classes:int, \n",
        "                      hidden_dim:int, dropout:float):\n",
        "        layers = []\n",
        "\n",
        "        # first layer\n",
        "        layers += [\n",
        "                (GCNConv(in_channels=num_features, out_channels=hidden_dim), \"x, edge_index -> x\"),\n",
        "                (torch.nn.ReLU(), \"x -> x\"),\n",
        "                (torch.nn.Dropout(p=dropout), \"x -> x\")\n",
        "        ]\n",
        "\n",
        "        for k in range(1, num_layers-1):\n",
        "            layers += [\n",
        "                (GCNConv(in_channels=hidden_dim, out_channels=hidden_dim), \"x, edge_index -> x\"),\n",
        "                (torch.nn.ReLU(), \"x -> x\"),\n",
        "                (torch.nn.Dropout(p=dropout), \"x -> x\")\n",
        "            ]\n",
        "        \n",
        "        # last layer\n",
        "        layers += [\n",
        "            (GCNConv(in_channels=hidden_dim, out_channels=num_classes), \"x, edge_index -> x\"),\n",
        "        ]\n",
        "        return Sequential(\"x, edge_index\", layers)\n",
        "\n",
        "\n",
        "    def reset_parameters(self):\n",
        "        self.conv_layers.reset_parameters()\n",
        "\n",
        "\n",
        "    def forward(self, x, edge_index):\n",
        "        h = self.conv_layers(x, edge_index)\n",
        "        return h, self.log_softmax(h)"
      ],
      "execution_count": 15,
      "outputs": []
    },
    {
      "cell_type": "markdown",
      "metadata": {
        "id": "T_YFJ5-qYPHR"
      },
      "source": [
        "### Simple GAT"
      ]
    },
    {
      "cell_type": "code",
      "metadata": {
        "id": "5m7A8t0MYRCJ"
      },
      "source": [
        "class GAT(torch.nn.Module):\n",
        "    def __init__(self, num_layers:int, hidden_dim:int, num_features:int, num_classes:int, dropout:float=0.5):\n",
        "        super().__init__()\n",
        "        self.conv_layers = self.create_layers(num_layers=num_layers, \n",
        "                                              num_features=num_features,\n",
        "                                              num_classes=num_classes,\n",
        "                                              hidden_dim=hidden_dim,\n",
        "                                              dropout=dropout)\n",
        "        \n",
        "        self.log_softmax = torch.nn.LogSoftmax(dim=1)\n",
        "\n",
        "\n",
        "    def create_layers(self, num_layers:int, num_features:int, num_classes:int, \n",
        "                      hidden_dim:int, dropout:float):\n",
        "        layers = []\n",
        "\n",
        "        # first layer\n",
        "        layers += [\n",
        "                (GATConv(in_channels=num_features, out_channels=hidden_dim, add_self_loops=True), \"x, edge_index -> x\"),\n",
        "                (torch.nn.ReLU(), \"x -> x\"),\n",
        "                (torch.nn.Dropout(p=dropout), \"x -> x\")\n",
        "        ]\n",
        "\n",
        "        for k in range(1, num_layers-1):\n",
        "            layers += [\n",
        "                (GATConv(in_channels=hidden_dim, out_channels=hidden_dim, add_self_loops=True), \"x, edge_index -> x\"),\n",
        "                (torch.nn.ReLU(), \"x -> x\"),\n",
        "                (torch.nn.Dropout(p=dropout), \"x -> x\")\n",
        "            ]\n",
        "        \n",
        "        # last layer\n",
        "        layers += [\n",
        "            (GATConv(in_channels=hidden_dim, out_channels=num_classes, add_self_loops=True), \"x, edge_index -> x\"),\n",
        "        ]\n",
        "        return Sequential(\"x, edge_index\", layers)\n",
        "\n",
        "\n",
        "    def reset_parameters(self):\n",
        "        self.conv_layers.reset_parameters()\n",
        "\n",
        "\n",
        "    def forward(self, x, edge_index):\n",
        "        h = self.conv_layers(x, edge_index)\n",
        "        return h, self.log_softmax(h)"
      ],
      "execution_count": 33,
      "outputs": []
    },
    {
      "cell_type": "markdown",
      "metadata": {
        "id": "wRy8xfIvNPar"
      },
      "source": [
        "## Experiments"
      ]
    },
    {
      "cell_type": "code",
      "metadata": {
        "id": "4YsznixAX1Il"
      },
      "source": [
        "import time"
      ],
      "execution_count": 20,
      "outputs": []
    },
    {
      "cell_type": "markdown",
      "metadata": {
        "id": "hLyJe6LPNQ4k"
      },
      "source": [
        "### GCN"
      ]
    },
    {
      "cell_type": "code",
      "metadata": {
        "id": "YE-q3SjDNSdJ"
      },
      "source": [
        "NUM_LAYERS=2\n",
        "HIDDEN_DIM=16\n",
        "NUM_FEATURES=cora_dataset.num_features\n",
        "NUM_CLASSES=cora_dataset.num_classes\n",
        "EPOCHS=200\n",
        "LR=0.01\n",
        "WEIGHT_DECAY=5e-4\n",
        "EARLY_STOPPING=0\n",
        "RUNS=1"
      ],
      "execution_count": 13,
      "outputs": []
    },
    {
      "cell_type": "code",
      "metadata": {
        "id": "_5h4BRFLNwoK",
        "outputId": "5f5ddc9b-ce21-4405-fdba-93a136ac6dd6",
        "colab": {
          "base_uri": "https://localhost:8080/"
        }
      },
      "source": [
        "model = GCN(num_layers=NUM_LAYERS, hidden_dim=HIDDEN_DIM, num_features=NUM_FEATURES, num_classes=NUM_CLASSES)\n",
        "count_parameters(model)"
      ],
      "execution_count": 16,
      "outputs": [
        {
          "output_type": "stream",
          "text": [
            "The model has 23,063 parameters\n"
          ],
          "name": "stdout"
        }
      ]
    },
    {
      "cell_type": "code",
      "metadata": {
        "id": "56IiWJ_tPWZb",
        "outputId": "cda01b4f-d6c3-40fa-86ab-1851028ff981",
        "colab": {
          "base_uri": "https://localhost:8080/"
        }
      },
      "source": [
        "train_loss, test_acc, mads = run(data=G, model=model,\n",
        "    edge_index=G.edge_index,\n",
        "    runs=RUNS, epochs=EPOCHS,\n",
        "    lr=LR,\n",
        "    weight_decay=WEIGHT_DECAY,\n",
        "    early_stopping=EARLY_STOPPING)"
      ],
      "execution_count": 24,
      "outputs": [
        {
          "output_type": "stream",
          "text": [
            "Epoch: [10 / 200] | Loss: 0.7720257639884949 | Test accuracy: 0.791 | MAD: 0.9999647736549377\n",
            "Epoch: [20 / 200] | Loss: 0.2279360294342041 | Test accuracy: 0.79 | MAD: 0.999981701374054\n",
            "Epoch: [30 / 200] | Loss: 0.10261908173561096 | Test accuracy: 0.783 | MAD: 0.9999882578849792\n",
            "Epoch: [40 / 200] | Loss: 0.046314895153045654 | Test accuracy: 0.78 | MAD: 0.999990701675415\n",
            "Epoch: [50 / 200] | Loss: 0.037777215242385864 | Test accuracy: 0.779 | MAD: 0.9999918937683105\n",
            "Epoch: [60 / 200] | Loss: 0.03894028812646866 | Test accuracy: 0.8 | MAD: 0.9999887943267822\n",
            "Epoch: [70 / 200] | Loss: 0.050412822514772415 | Test accuracy: 0.781 | MAD: 0.999991238117218\n",
            "Epoch: [80 / 200] | Loss: 0.046052269637584686 | Test accuracy: 0.793 | MAD: 0.9999871850013733\n",
            "Epoch: [90 / 200] | Loss: 0.0427393838763237 | Test accuracy: 0.79 | MAD: 0.9999887943267822\n",
            "Epoch: [100 / 200] | Loss: 0.045612137764692307 | Test accuracy: 0.807 | MAD: 0.9999887943267822\n",
            "Epoch: [110 / 200] | Loss: 0.033620432019233704 | Test accuracy: 0.785 | MAD: 0.9999886155128479\n",
            "Epoch: [120 / 200] | Loss: 0.041707366704940796 | Test accuracy: 0.802 | MAD: 0.9999905228614807\n",
            "Epoch: [130 / 200] | Loss: 0.028270835056900978 | Test accuracy: 0.794 | MAD: 0.9999873638153076\n",
            "Epoch: [140 / 200] | Loss: 0.0320640429854393 | Test accuracy: 0.804 | MAD: 0.9999885559082031\n",
            "Epoch: [150 / 200] | Loss: 0.029685579240322113 | Test accuracy: 0.805 | MAD: 0.9999899864196777\n",
            "Epoch: [160 / 200] | Loss: 0.018240023404359818 | Test accuracy: 0.804 | MAD: 0.9999889731407166\n",
            "Epoch: [170 / 200] | Loss: 0.02719334326684475 | Test accuracy: 0.811 | MAD: 0.9999833106994629\n",
            "Epoch: [180 / 200] | Loss: 0.029104335233569145 | Test accuracy: 0.805 | MAD: 0.9999884366989136\n",
            "Epoch: [190 / 200] | Loss: 0.027240263298153877 | Test accuracy: 0.809 | MAD: 0.9999821782112122\n",
            "Epoch: [200 / 200] | Loss: 0.02268649823963642 | Test accuracy: 0.812 | MAD: 0.9999880790710449\n",
            "Val Loss: 0.7246, Test Accuracy: 0.812 ± nan, Duration: 16.416\n"
          ],
          "name": "stdout"
        }
      ]
    },
    {
      "cell_type": "code",
      "metadata": {
        "id": "hWdcjrfYYkG5",
        "outputId": "afbfda96-7d35-4ca3-b516-f3e2986b4ea9",
        "colab": {
          "base_uri": "https://localhost:8080/"
        }
      },
      "source": [
        "evaluate(model=model, data=G, edge_index=G.edge_index)"
      ],
      "execution_count": 25,
      "outputs": [
        {
          "output_type": "execute_result",
          "data": {
            "text/plain": [
              "{'test_acc': 0.812,\n",
              " 'test_loss': 0.6475297212600708,\n",
              " 'train_acc': 1.0,\n",
              " 'train_loss': 0.005584354512393475,\n",
              " 'val_acc': 0.77,\n",
              " 'val_loss': 0.7723254561424255}"
            ]
          },
          "metadata": {
            "tags": []
          },
          "execution_count": 25
        }
      ]
    },
    {
      "cell_type": "markdown",
      "metadata": {
        "id": "QjMXq-m7ajdx"
      },
      "source": [
        "### GAT"
      ]
    },
    {
      "cell_type": "code",
      "metadata": {
        "id": "PErcDmmSak7U",
        "outputId": "433a1afa-66d8-4850-e5e9-95d8e073c8a7",
        "colab": {
          "base_uri": "https://localhost:8080/"
        }
      },
      "source": [
        "model = GAT(num_layers=NUM_LAYERS, hidden_dim=HIDDEN_DIM, num_features=NUM_FEATURES, num_classes=NUM_CLASSES)\n",
        "count_parameters(model)"
      ],
      "execution_count": 35,
      "outputs": [
        {
          "output_type": "stream",
          "text": [
            "The model has 23,109 parameters\n"
          ],
          "name": "stdout"
        }
      ]
    },
    {
      "cell_type": "code",
      "metadata": {
        "id": "3vBmRgaqalLj",
        "outputId": "ce6f6ebf-b2f8-4e43-cba2-e41dcbbbf6e6",
        "colab": {
          "base_uri": "https://localhost:8080/"
        }
      },
      "source": [
        "train_loss, test_acc, mads = run(data=G, model=model,\n",
        "    edge_index=G.edge_index,\n",
        "    runs=RUNS, epochs=EPOCHS,\n",
        "    lr=LR,\n",
        "    weight_decay=WEIGHT_DECAY,\n",
        "    early_stopping=EARLY_STOPPING)"
      ],
      "execution_count": 36,
      "outputs": [
        {
          "output_type": "stream",
          "text": [
            "Epoch: [10 / 200] | Loss: 0.7547716498374939 | Test accuracy: 0.698 | MAD: 0.9999293088912964\n",
            "Epoch: [20 / 200] | Loss: 0.25597402453422546 | Test accuracy: 0.739 | MAD: 0.9999663829803467\n",
            "Epoch: [30 / 200] | Loss: 0.1451188027858734 | Test accuracy: 0.745 | MAD: 0.9999790191650391\n",
            "Epoch: [40 / 200] | Loss: 0.042686790227890015 | Test accuracy: 0.737 | MAD: 0.9999762773513794\n",
            "Epoch: [50 / 200] | Loss: 0.0530322901904583 | Test accuracy: 0.732 | MAD: 0.999971866607666\n",
            "Epoch: [60 / 200] | Loss: 0.035886067897081375 | Test accuracy: 0.707 | MAD: 0.9999650120735168\n",
            "Epoch: [70 / 200] | Loss: 0.020516367629170418 | Test accuracy: 0.728 | MAD: 0.9999730587005615\n",
            "Epoch: [80 / 200] | Loss: 0.12050115317106247 | Test accuracy: 0.712 | MAD: 0.9999657273292542\n",
            "Epoch: [90 / 200] | Loss: 0.027525370940566063 | Test accuracy: 0.705 | MAD: 0.9999648332595825\n",
            "Epoch: [100 / 200] | Loss: 0.04233483597636223 | Test accuracy: 0.721 | MAD: 0.9999732971191406\n",
            "Epoch: [110 / 200] | Loss: 0.02293691597878933 | Test accuracy: 0.723 | MAD: 0.9999677538871765\n",
            "Epoch: [120 / 200] | Loss: 0.018766241148114204 | Test accuracy: 0.717 | MAD: 0.9999634027481079\n",
            "Epoch: [130 / 200] | Loss: 0.023534195497632027 | Test accuracy: 0.726 | MAD: 0.9999660849571228\n",
            "Epoch: [140 / 200] | Loss: 0.014259439893066883 | Test accuracy: 0.738 | MAD: 0.9999725222587585\n",
            "Epoch: [150 / 200] | Loss: 0.052242178469896317 | Test accuracy: 0.714 | MAD: 0.999962568283081\n",
            "Epoch: [160 / 200] | Loss: 0.01436260249465704 | Test accuracy: 0.735 | MAD: 0.9999597668647766\n",
            "Epoch: [170 / 200] | Loss: 0.022727498784661293 | Test accuracy: 0.73 | MAD: 0.9999614357948303\n",
            "Epoch: [180 / 200] | Loss: 0.019300231710076332 | Test accuracy: 0.736 | MAD: 0.9999716281890869\n",
            "Epoch: [190 / 200] | Loss: 0.011939093470573425 | Test accuracy: 0.743 | MAD: 0.9999677538871765\n",
            "Epoch: [200 / 200] | Loss: 0.030914627015590668 | Test accuracy: 0.749 | MAD: 0.9999757409095764\n",
            "Val Loss: 0.9679, Test Accuracy: 0.749 ± nan, Duration: 21.487\n"
          ],
          "name": "stdout"
        }
      ]
    },
    {
      "cell_type": "code",
      "metadata": {
        "id": "ZCCZBZBMawrJ",
        "outputId": "5981f00f-f9f0-4feb-e550-ac37254dd393",
        "colab": {
          "base_uri": "https://localhost:8080/"
        }
      },
      "source": [
        "evaluate(model=model, data=G, edge_index=G.edge_index)"
      ],
      "execution_count": 37,
      "outputs": [
        {
          "output_type": "execute_result",
          "data": {
            "text/plain": [
              "{'test_acc': 0.749,\n",
              " 'test_loss': 1.0232517719268799,\n",
              " 'train_acc': 1.0,\n",
              " 'train_loss': 0.002923202933743596,\n",
              " 'val_acc': 0.708,\n",
              " 'val_loss': 1.2085360288619995}"
            ]
          },
          "metadata": {
            "tags": []
          },
          "execution_count": 37
        }
      ]
    }
  ]
}