{
  "nbformat": 4,
  "nbformat_minor": 0,
  "metadata": {
    "colab": {
      "name": "02_benchmark.ipynb",
      "provenance": [],
      "toc_visible": true,
      "authorship_tag": "ABX9TyPc2h9Kq8aOLaf9EG1vyI3l",
      "include_colab_link": true
    },
    "kernelspec": {
      "name": "python3",
      "display_name": "Python 3"
    },
    "language_info": {
      "name": "python"
    }
  },
  "cells": [
    {
      "cell_type": "markdown",
      "metadata": {
        "id": "view-in-github",
        "colab_type": "text"
      },
      "source": [
        "<a href=\"https://colab.research.google.com/github/AchrafAsh/gnn-receptive-fields/blob/main/02_benchmark.ipynb\" target=\"_parent\"><img src=\"https://colab.research.google.com/assets/colab-badge.svg\" alt=\"Open In Colab\"/></a>"
      ]
    },
    {
      "cell_type": "markdown",
      "metadata": {
        "id": "d8tPCYYq1451"
      },
      "source": [
        "# **Measuring over-smoothing on benchmark GNNs**\n",
        "In this notebook I try to replicate the result from https://arxiv.org/pdf/1909.03211.pdf where they quantify over-smoothing thanks to the MAD metric.\n",
        "\n",
        "In figure 2, they present how MAD evolves on several GNN with several layers.\n",
        "The values are obtained by considering all node pairs (i.e all coefficients of the mask are set to 1, and all node indices are considered).\n",
        "> we use the hidden representation of\n",
        "the final layer of GNN. Term h is the hidden size\n",
        "\n",
        "![](https://d3i71xaburhd42.cloudfront.net/a58995a12aca72e134e5271a412d178c576d56fd/3-Figure2-1.png)"
      ]
    },
    {
      "cell_type": "markdown",
      "metadata": {
        "id": "E9KKzN4fK8Sl"
      },
      "source": [
        "## **Setup environment**"
      ]
    },
    {
      "cell_type": "code",
      "metadata": {
        "id": "5_kMherfKzzv",
        "colab": {
          "base_uri": "https://localhost:8080/"
        },
        "outputId": "9ba48da2-8a54-48f4-de75-ec0be6298af9"
      },
      "source": [
        "# setup colab environment\n",
        "import os, sys\n",
        "import os.path as osp\n",
        "from google.colab import drive\n",
        "drive.mount('/content/mnt')\n",
        "nb_path = '/content/notebooks'\n",
        "try:\n",
        "    os.symlink('/content/mnt/My Drive/Colab Notebooks', nb_path)\n",
        "except:\n",
        "    pass\n",
        "sys.path.insert(0, nb_path)  # or append(nb_path)"
      ],
      "execution_count": null,
      "outputs": [
        {
          "output_type": "stream",
          "text": [
            "Mounted at /content/mnt\n"
          ],
          "name": "stdout"
        }
      ]
    },
    {
      "cell_type": "markdown",
      "metadata": {
        "id": "Nc7dnMGxLIce"
      },
      "source": [
        "### Load Cora dataset"
      ]
    },
    {
      "cell_type": "code",
      "metadata": {
        "id": "nwJxpJ9SK55W"
      },
      "source": [
        "%%capture\n",
        "!wget https://raw.githubusercontent.com/AchrafAsh/gnn-receptive-fields/main/data.py"
      ],
      "execution_count": null,
      "outputs": []
    },
    {
      "cell_type": "code",
      "metadata": {
        "id": "vraHU_v3K6PK"
      },
      "source": [
        "%%capture\n",
        "from data import load_dataset\n",
        "\n",
        "path = osp.join(os.getcwd(), 'data')\n",
        "cora_dataset = load_dataset(path, 'Cora')\n",
        "G = cora_dataset[0] # only graph of the dataset"
      ],
      "execution_count": null,
      "outputs": []
    },
    {
      "cell_type": "markdown",
      "metadata": {
        "id": "277H5oxRMpFZ"
      },
      "source": [
        "## **Utility functions**"
      ]
    },
    {
      "cell_type": "code",
      "metadata": {
        "id": "CN6FructNBoI"
      },
      "source": [
        "import numpy as np\n",
        "\n",
        "import torch\n",
        "import torch.nn.functional as F\n",
        "\n",
        "import seaborn as sns\n",
        "import matplotlib.pyplot as plt\n",
        "\n",
        "from typing import Tuple, Dict, List\n",
        "from torch_geometric.utils import to_dense_adj\n",
        "from tqdm import tqdm\n",
        "\n",
        "%matplotlib inline"
      ],
      "execution_count": null,
      "outputs": []
    },
    {
      "cell_type": "code",
      "metadata": {
        "id": "bvoSfE5Nzm6H"
      },
      "source": [
        "# Official implementation\n",
        "# https://github.com/victorchen96/MadGap/blob/master/madgap.py\n",
        "\n",
        "import torch\n",
        "import torch.nn.functional as F\n",
        "import numpy as np\n",
        "from sklearn.metrics import pairwise_distances\n",
        "\n",
        "#releated paper:(AAAI2020) Measuring and Relieving the Over-smoothing Problem for Graph Neural Networks from the Topological View.\n",
        "#https://aaai.org/ojs/index.php/AAAI/article/view/5747\n",
        "\n",
        "def mad_value(in_arr, mask_arr, distance_metric='cosine', digt_num=4, target_idx=None):\n",
        "    \"\"\"The numpy version for mad (able to compute quickly)\n",
        "\n",
        "    Args:\n",
        "        - in_arr [node_num, hidden_dim]: the node feature matrix\n",
        "        - mask_arr [node_num, node_num]: the mask matrix of the target relations (is it the adjacency matrix?)\n",
        "        - target_idx [1, 2, 3, ...n]: the nodes indices for which we calculate the mad value\n",
        "    \"\"\"\n",
        "    dist_arr = pairwise_distances(in_arr, in_arr, metric=distance_metric)\n",
        "\n",
        "    mask_dist = np.multiply(dist_arr,mask_arr)\n",
        "\n",
        "    divide_arr = (mask_dist != 0).sum(1) + 1e-8\n",
        "\n",
        "    node_dist = mask_dist.sum(1) / divide_arr\n",
        "\n",
        "    if target_idx==None:\n",
        "        mad = np.mean(node_dist)\n",
        "    else:\n",
        "        node_dist = np.multiply(node_dist,target_idx)\n",
        "        mad = node_dist.sum()/((node_dist!=0).sum()+1e-8)\n",
        "\n",
        "    mad = round(mad, digt_num)\n",
        "\n",
        "    return mad\n",
        "\n",
        "def mad_gap_regularizer(intensor,neb_mask,rmt_mask,target_idx):\n",
        "    \"\"\"The tensor version for mad_gap (Be able to transfer gradients)\n",
        "\n",
        "    Args:\n",
        "        - intensor [node_num, hidden_dim]: the node feature matrix\n",
        "        - neb_mask, rmt_mask [node_num, node_num]: the mask matrices of the neighbor and remote relation\n",
        "        - target_idx [1, 2, 3, ..., n]: the nodes indices for which we calculate the mad_gap value\n",
        "    \"\"\"\n",
        "\n",
        "    node_num,feat_num = intensor.size()\n",
        "\n",
        "    input1 = intensor.expand(node_num,node_num,feat_num)\n",
        "    input2 = input1.transpose(0,1)\n",
        "\n",
        "    input1 = input1.contiguous().view(-1,feat_num)\n",
        "    input2 = input2.contiguous().view(-1,feat_num)\n",
        "\n",
        "    simi_tensor = F.cosine_similarity(input1,input2, dim=1, eps=1e-8).view(node_num,node_num)\n",
        "    dist_tensor = 1 - simi_tensor\n",
        "\n",
        "    neb_dist = torch.mul(dist_tensor,neb_mask)\n",
        "    rmt_dist = torch.mul(dist_tensor,rmt_mask)\n",
        "\n",
        "    divide_neb = (neb_dist!=0).sum(1).type(torch.FloatTensor).cuda() + 1e-8\n",
        "    divide_rmt = (rmt_dist!=0).sum(1).type(torch.FloatTensor).cuda() + 1e-8\n",
        "\n",
        "    neb_mean_list = neb_dist.sum(1) / divide_neb\n",
        "    rmt_mean_list = rmt_dist.sum(1) / divide_rmt\n",
        "\n",
        "    neb_mad = torch.mean(neb_mean_list[target_idx])\n",
        "    rmt_mad = torch.mean(rmt_mean_list[target_idx])\n",
        "\n",
        "    mad_gap = rmt_mad - neb_mad\n",
        "\n",
        "    return mad_gap"
      ],
      "execution_count": null,
      "outputs": []
    },
    {
      "cell_type": "code",
      "metadata": {
        "id": "UvvSCOB61jkr",
        "colab": {
          "base_uri": "https://localhost:8080/"
        },
        "outputId": "703d235c-80d9-4193-dca0-4d310d9d4d95"
      },
      "source": [
        "mad_value(in_arr=G.x, mask_arr=np.ones((G.num_nodes, G.num_nodes)))"
      ],
      "execution_count": null,
      "outputs": [
        {
          "output_type": "execute_result",
          "data": {
            "text/plain": [
              "0.9441"
            ]
          },
          "metadata": {
            "tags": []
          },
          "execution_count": 10
        }
      ]
    },
    {
      "cell_type": "code",
      "metadata": {
        "id": "KqiMdGxlMriB"
      },
      "source": [
        "def mean_average_distance(x, target_idx=None, mask=None) -> float:\n",
        "    # cosine similarity\n",
        "    prod = torch.matmul(x, torch.transpose(x, 0, 1))\n",
        "    x_norm = torch.norm(x, dim=0, keepdim=True)\n",
        "    norm = torch.matmul(\n",
        "        x_norm,\n",
        "        torch.transpose(x_norm, 0, 1)\n",
        "    )\n",
        "    dist = 1 - torch.div(prod, norm)\n",
        "\n",
        "    # filter with mask\n",
        "    if mask is not None:\n",
        "        dist = dist * mask\n",
        "    \n",
        "    # average distance along rows\n",
        "    mean_dist = torch.div(\n",
        "        torch.sum(dist, dim=1, keepdim=True),\n",
        "        torch.sum(dist != 0, dim=1, keepdim=True) + 1e-8\n",
        "    )\n",
        "\n",
        "    if target_idx is not None:\n",
        "        return torch.mean(mean_dist.view(-1)[target_idx])\n",
        "\n",
        "    # final average\n",
        "    return torch.sum(mean_dist) / (torch.sum(mean_dist != 0) + 1e-8)"
      ],
      "execution_count": null,
      "outputs": []
    },
    {
      "cell_type": "code",
      "metadata": {
        "id": "1VFb5R1Z3mTg",
        "colab": {
          "base_uri": "https://localhost:8080/"
        },
        "outputId": "c4a39283-f6fc-44c7-b18f-9cd5f58201c9"
      },
      "source": [
        "mean_average_distance(G.x)"
      ],
      "execution_count": null,
      "outputs": [
        {
          "output_type": "execute_result",
          "data": {
            "text/plain": [
              "tensor(1.0000)"
            ]
          },
          "metadata": {
            "tags": []
          },
          "execution_count": 12
        }
      ]
    },
    {
      "cell_type": "code",
      "metadata": {
        "id": "d0Nj_YF1M1B7"
      },
      "source": [
        "def count_parameters(model: torch.nn.Module):\n",
        "    print(f\"The model has {sum(p.numel() for p in model.parameters() if p.requires_grad):,} parameters\")"
      ],
      "execution_count": null,
      "outputs": []
    },
    {
      "cell_type": "code",
      "metadata": {
        "id": "SOIbdDObM1Ph"
      },
      "source": [
        "def train(model: torch.nn.Module, optimizer: torch.optim.Optimizer,\n",
        "          data: type(G), edge_index) -> Tuple[torch.tensor, float]:\n",
        "    \n",
        "    model.train()\n",
        "    optimizer.zero_grad()\n",
        "\n",
        "    hidden_state, out = model(data.x, edge_index)\n",
        "    \n",
        "    loss = F.nll_loss(out[data.train_mask], data.y[data.train_mask])\n",
        "    loss.backward()\n",
        "    optimizer.step()\n",
        "    return hidden_state, loss"
      ],
      "execution_count": null,
      "outputs": []
    },
    {
      "cell_type": "code",
      "metadata": {
        "id": "MaRHXNiNM1al"
      },
      "source": [
        "def evaluate(model: torch.nn.Module, data: type(G), edge_index) -> Dict[str, float]:\n",
        "    model.eval()\n",
        "\n",
        "    with torch.no_grad():\n",
        "        h, logits = model(data.x, edge_index)\n",
        "    \n",
        "    outs = {}\n",
        "    mad = mad_value(in_arr=h.detach().numpy(), \n",
        "                    mask_arr=np.ones((data.num_nodes, data.num_nodes)))\n",
        "    outs[\"mad\"] = mad\n",
        "    for key in ['train', 'val', 'test']:\n",
        "        mask = data[f'{key}_mask']\n",
        "        loss = F.nll_loss(logits[mask], data.y[mask]).item()\n",
        "        pred = logits[mask].max(1)[1]\n",
        "        acc = pred.eq(data.y[mask]).sum().item() / mask.sum().item()\n",
        "\n",
        "        outs[f'{key}_loss'] = loss\n",
        "        outs[f'{key}_acc'] = acc\n",
        "    return outs"
      ],
      "execution_count": null,
      "outputs": []
    },
    {
      "cell_type": "code",
      "metadata": {
        "id": "GtoWV2JdM17W"
      },
      "source": [
        "def run(data: type(G), model: torch.nn.Module,\n",
        "        edge_index,\n",
        "        runs: int, epochs: int, lr: float,\n",
        "        weight_decay: float,\n",
        "        early_stopping: int = 0,\n",
        "        initialize:bool=True) -> Tuple[List[float], List[float], List[float]]:\n",
        "\n",
        "    dense_adj = to_dense_adj(G.edge_index)\n",
        "    val_losses, accs, durations = [], [], []\n",
        "    for _ in range(runs):\n",
        "        data = data.to(device)\n",
        "        model.to(device)\n",
        "        if initialize:\n",
        "            model.reset_parameters()\n",
        "        \n",
        "        optimizer = torch.optim.Adam(model.parameters(), lr=lr, \n",
        "                                     weight_decay=weight_decay)\n",
        "\n",
        "        if torch.cuda.is_available():\n",
        "            torch.cuda.synchronize()\n",
        "        \n",
        "        t_start = time.perf_counter()\n",
        "\n",
        "        best_val_loss = float('inf')\n",
        "        val_loss_history, train_losses, test_accs, MADs = [], [], [], []\n",
        "\n",
        "        for epoch in range(1, epochs+1):\n",
        "            hidden_state, train_loss = train(model, optimizer, data, edge_index)\n",
        "\n",
        "            eval_info = evaluate(model, data, edge_index)\n",
        "            \n",
        "            test_acc = eval_info['test_acc']\n",
        "            val_loss_history.append(eval_info['val_loss'])\n",
        "            train_losses.append(train_loss.item())\n",
        "            test_accs.append(test_acc)\n",
        "            MADs.append(eval_info[\"mad\"])\n",
        "        \n",
        "            # I don't understand what this is for...\n",
        "            if eval_info['val_loss'] < best_val_loss:\n",
        "                best_val_loss = eval_info['val_loss']\n",
        "            \n",
        "            if early_stopping > 0 and epoch > epochs // 2:\n",
        "                tmp = torch.tensor(val_loss_history[-(early_stopping + 1):-1])\n",
        "                if eval_info['val_loss'] > tmp.mean().item():\n",
        "                    break\n",
        "            \n",
        "            if epoch % 10 == 0:\n",
        "                print(f\"Epoch: [{epoch} / {epochs}] | Loss: {train_loss} | Test accuracy: {test_acc} | MAD: {eval_info['mad']}\")\n",
        "\n",
        "        if torch.cuda.is_available():\n",
        "            torch.cuda.synchronize()\n",
        "\n",
        "        t_end = time.perf_counter()\n",
        "\n",
        "        val_losses.append(best_val_loss)\n",
        "        accs.append(test_acc)\n",
        "        durations.append(t_end - t_start)\n",
        "\n",
        "    loss, acc, duration = torch.tensor(val_losses), torch.tensor(accs), torch.tensor(durations)\n",
        "\n",
        "    print(f\"Val Loss: {loss.mean().item():.4f}, Test Accuracy: {acc.mean().item():.3f} ± {acc.std().item():.3f}, Duration: {duration.mean().item():.3f}\")\n",
        "    return train_losses, test_accs, MADs"
      ],
      "execution_count": null,
      "outputs": []
    },
    {
      "cell_type": "code",
      "metadata": {
        "id": "4YsznixAX1Il"
      },
      "source": [
        "import time"
      ],
      "execution_count": null,
      "outputs": []
    },
    {
      "cell_type": "markdown",
      "metadata": {
        "id": "EOnbKf2eLSeu"
      },
      "source": [
        "## **Vanilla GCN**"
      ]
    },
    {
      "cell_type": "code",
      "metadata": {
        "id": "g6FA6FjHLUtF"
      },
      "source": [
        "from torch_geometric.nn import Sequential, GCNConv, GATConv\n",
        "\n",
        "device = torch.device('cuda' if torch.cuda.is_available() else 'cpu')"
      ],
      "execution_count": null,
      "outputs": []
    },
    {
      "cell_type": "code",
      "metadata": {
        "id": "gV5K_H9nLY44"
      },
      "source": [
        "class VanillaGCN(torch.nn.Module):\n",
        "    def __init__(self, num_layers:int, hidden_dim:int, num_features:int, num_classes:int, dropout:float=0.5):\n",
        "        super().__init__()\n",
        "        self.conv_layers = self.create_layers(num_layers=num_layers, \n",
        "                                              num_features=num_features,\n",
        "                                              num_classes=num_classes,\n",
        "                                              hidden_dim=hidden_dim,\n",
        "                                              dropout=dropout)\n",
        "        self.out_gcn = GCNConv(in_channels=hidden_dim, out_channels=num_classes)\n",
        "        self.relu = torch.nn.ReLU()\n",
        "        self.dropout = torch.nn.Dropout(p=dropout)\n",
        "        self.log_softmax = torch.nn.LogSoftmax(dim=1)\n",
        "\n",
        "\n",
        "    def create_layers(self, num_layers:int, num_features:int, num_classes:int, \n",
        "                      hidden_dim:int, dropout:float):\n",
        "        if num_layers == 2:\n",
        "            return Sequential(\"x, edge_index\", [(GCNConv(in_channels=num_features, out_channels=hidden_dim), \"x, edge_index -> x\")])\n",
        "\n",
        "        layers = []\n",
        "\n",
        "        # first layer\n",
        "        layers += [\n",
        "                (GCNConv(in_channels=num_features, out_channels=hidden_dim), \"x, edge_index -> x\"),\n",
        "                (torch.nn.ReLU(), \"x -> x\"),\n",
        "                (torch.nn.Dropout(p=dropout), \"x -> x\")\n",
        "        ]\n",
        "\n",
        "        for k in range(1, num_layers-2):\n",
        "            layers += [\n",
        "                (GCNConv(in_channels=hidden_dim, out_channels=hidden_dim), \"x, edge_index -> x\"),\n",
        "                (torch.nn.ReLU(), \"x -> x\"),\n",
        "                (torch.nn.Dropout(p=dropout), \"x -> x\")\n",
        "            ]\n",
        "        \n",
        "        # last layer\n",
        "        layers += [\n",
        "            (GCNConv(in_channels=hidden_dim, out_channels=hidden_dim), \"x, edge_index -> x\")\n",
        "        ]\n",
        "        return Sequential(\"x, edge_index\", layers)\n",
        "\n",
        "\n",
        "    def reset_parameters(self):\n",
        "        self.conv_layers.reset_parameters()\n",
        "        # self.out_gcn.reset_parameters()\n",
        "\n",
        "\n",
        "    def forward(self, x, edge_index):\n",
        "        h = self.conv_layers(x, edge_index)\n",
        "        out = self.relu(h)\n",
        "        out = self.dropout(out)\n",
        "        out = self.out_gcn(out, edge_index)\n",
        "        \n",
        "        return h, self.log_softmax(out)"
      ],
      "execution_count": null,
      "outputs": []
    },
    {
      "cell_type": "markdown",
      "metadata": {
        "id": "wwu77Af-UPqa"
      },
      "source": [
        "### Experiments"
      ]
    },
    {
      "cell_type": "code",
      "metadata": {
        "id": "YE-q3SjDNSdJ"
      },
      "source": [
        "NUM_LAYERS=15\n",
        "HIDDEN_DIM=16\n",
        "NUM_FEATURES=cora_dataset.num_features\n",
        "NUM_CLASSES=cora_dataset.num_classes\n",
        "EPOCHS=1000\n",
        "LR=0.01\n",
        "WEIGHT_DECAY=5e-4\n",
        "EARLY_STOPPING=0\n",
        "RUNS=1"
      ],
      "execution_count": null,
      "outputs": []
    },
    {
      "cell_type": "code",
      "metadata": {
        "id": "_5h4BRFLNwoK",
        "colab": {
          "base_uri": "https://localhost:8080/"
        },
        "outputId": "24383f57-c79d-41aa-d38f-8c750e05ac54"
      },
      "source": [
        "model = VanillaGCN(num_layers=NUM_LAYERS, hidden_dim=HIDDEN_DIM, num_features=NUM_FEATURES, num_classes=NUM_CLASSES)\n",
        "count_parameters(model)"
      ],
      "execution_count": null,
      "outputs": [
        {
          "output_type": "stream",
          "text": [
            "The model has 26,599 parameters\n"
          ],
          "name": "stdout"
        }
      ]
    },
    {
      "cell_type": "code",
      "metadata": {
        "id": "PuP2uyQqEobN",
        "colab": {
          "base_uri": "https://localhost:8080/"
        },
        "outputId": "2919b699-b166-4a4f-fa80-5c459520cd08"
      },
      "source": [
        "train_loss, test_acc, mads = run(data=G, model=model,\n",
        "    edge_index=G.edge_index,\n",
        "    runs=RUNS, epochs=EPOCHS,\n",
        "    lr=LR,\n",
        "    weight_decay=WEIGHT_DECAY,\n",
        "    early_stopping=EARLY_STOPPING)"
      ],
      "execution_count": null,
      "outputs": [
        {
          "output_type": "stream",
          "text": [
            "Epoch: [10 / 1000] | Loss: 1.9382555484771729 | Test accuracy: 0.14 | MAD: 0.0132\n",
            "Epoch: [20 / 1000] | Loss: 1.7435634136199951 | Test accuracy: 0.228 | MAD: 0.3517\n",
            "Epoch: [30 / 1000] | Loss: 1.625108242034912 | Test accuracy: 0.259 | MAD: 0.3359\n",
            "Epoch: [40 / 1000] | Loss: 1.559754490852356 | Test accuracy: 0.287 | MAD: 0.3988\n",
            "Epoch: [50 / 1000] | Loss: 1.524748682975769 | Test accuracy: 0.356 | MAD: 0.4534\n",
            "Epoch: [60 / 1000] | Loss: 1.4615392684936523 | Test accuracy: 0.389 | MAD: 0.4738\n",
            "Epoch: [70 / 1000] | Loss: 1.4334112405776978 | Test accuracy: 0.311 | MAD: 0.5069\n",
            "Epoch: [80 / 1000] | Loss: 1.3535611629486084 | Test accuracy: 0.307 | MAD: 0.4977\n",
            "Epoch: [90 / 1000] | Loss: 1.4817428588867188 | Test accuracy: 0.273 | MAD: 0.533\n",
            "Epoch: [100 / 1000] | Loss: 1.3473551273345947 | Test accuracy: 0.381 | MAD: 0.5013\n",
            "Epoch: [110 / 1000] | Loss: 1.3065476417541504 | Test accuracy: 0.354 | MAD: 0.4985\n",
            "Epoch: [120 / 1000] | Loss: 1.3797165155410767 | Test accuracy: 0.316 | MAD: 0.5207\n",
            "Epoch: [130 / 1000] | Loss: 1.2508920431137085 | Test accuracy: 0.339 | MAD: 0.527\n",
            "Epoch: [140 / 1000] | Loss: 1.4534204006195068 | Test accuracy: 0.377 | MAD: 0.5382\n",
            "Epoch: [150 / 1000] | Loss: 1.262243390083313 | Test accuracy: 0.409 | MAD: 0.5409\n",
            "Epoch: [160 / 1000] | Loss: 1.3237571716308594 | Test accuracy: 0.3 | MAD: 0.5636\n",
            "Epoch: [170 / 1000] | Loss: 1.2868705987930298 | Test accuracy: 0.342 | MAD: 0.5692\n",
            "Epoch: [180 / 1000] | Loss: 1.2748875617980957 | Test accuracy: 0.352 | MAD: 0.5775\n",
            "Epoch: [190 / 1000] | Loss: 1.2951065301895142 | Test accuracy: 0.326 | MAD: 0.5626\n",
            "Epoch: [200 / 1000] | Loss: 1.2662222385406494 | Test accuracy: 0.342 | MAD: 0.5732\n",
            "Epoch: [210 / 1000] | Loss: 1.2469289302825928 | Test accuracy: 0.398 | MAD: 0.5897\n",
            "Epoch: [220 / 1000] | Loss: 1.3205219507217407 | Test accuracy: 0.36 | MAD: 0.5927\n",
            "Epoch: [230 / 1000] | Loss: 1.3245295286178589 | Test accuracy: 0.385 | MAD: 0.6029\n",
            "Epoch: [240 / 1000] | Loss: 1.2862151861190796 | Test accuracy: 0.36 | MAD: 0.5904\n",
            "Epoch: [250 / 1000] | Loss: 1.2632590532302856 | Test accuracy: 0.406 | MAD: 0.5895\n",
            "Epoch: [260 / 1000] | Loss: 1.3216813802719116 | Test accuracy: 0.399 | MAD: 0.5868\n",
            "Epoch: [270 / 1000] | Loss: 1.322005033493042 | Test accuracy: 0.411 | MAD: 0.5869\n",
            "Epoch: [280 / 1000] | Loss: 1.2744877338409424 | Test accuracy: 0.296 | MAD: 0.5763\n",
            "Epoch: [290 / 1000] | Loss: 1.257871150970459 | Test accuracy: 0.317 | MAD: 0.5815\n",
            "Epoch: [300 / 1000] | Loss: 1.2524343729019165 | Test accuracy: 0.389 | MAD: 0.601\n",
            "Epoch: [310 / 1000] | Loss: 1.224367618560791 | Test accuracy: 0.37 | MAD: 0.5876\n",
            "Epoch: [320 / 1000] | Loss: 1.245273232460022 | Test accuracy: 0.353 | MAD: 0.5855\n",
            "Epoch: [330 / 1000] | Loss: 1.1860891580581665 | Test accuracy: 0.409 | MAD: 0.5826\n",
            "Epoch: [340 / 1000] | Loss: 1.2461903095245361 | Test accuracy: 0.351 | MAD: 0.5902\n",
            "Epoch: [350 / 1000] | Loss: 1.2547513246536255 | Test accuracy: 0.396 | MAD: 0.5917\n",
            "Epoch: [360 / 1000] | Loss: 1.2777906656265259 | Test accuracy: 0.385 | MAD: 0.6187\n",
            "Epoch: [370 / 1000] | Loss: 1.214340090751648 | Test accuracy: 0.383 | MAD: 0.5932\n",
            "Epoch: [380 / 1000] | Loss: 1.1580206155776978 | Test accuracy: 0.351 | MAD: 0.6058\n",
            "Epoch: [390 / 1000] | Loss: 1.2831236124038696 | Test accuracy: 0.27 | MAD: 0.5933\n",
            "Epoch: [400 / 1000] | Loss: 1.1909573078155518 | Test accuracy: 0.379 | MAD: 0.6169\n",
            "Epoch: [410 / 1000] | Loss: 1.1722655296325684 | Test accuracy: 0.289 | MAD: 0.5927\n",
            "Epoch: [420 / 1000] | Loss: 1.1781831979751587 | Test accuracy: 0.374 | MAD: 0.6102\n",
            "Epoch: [430 / 1000] | Loss: 1.252484917640686 | Test accuracy: 0.412 | MAD: 0.6219\n",
            "Epoch: [440 / 1000] | Loss: 1.2018579244613647 | Test accuracy: 0.387 | MAD: 0.6044\n",
            "Epoch: [450 / 1000] | Loss: 1.1255549192428589 | Test accuracy: 0.312 | MAD: 0.579\n",
            "Epoch: [460 / 1000] | Loss: 1.163800835609436 | Test accuracy: 0.402 | MAD: 0.6008\n",
            "Epoch: [470 / 1000] | Loss: 1.209128975868225 | Test accuracy: 0.385 | MAD: 0.6211\n",
            "Epoch: [480 / 1000] | Loss: 1.377593994140625 | Test accuracy: 0.396 | MAD: 0.623\n",
            "Epoch: [490 / 1000] | Loss: 1.3143441677093506 | Test accuracy: 0.295 | MAD: 0.6132\n",
            "Epoch: [500 / 1000] | Loss: 1.1327502727508545 | Test accuracy: 0.376 | MAD: 0.6123\n",
            "Epoch: [510 / 1000] | Loss: 1.1086523532867432 | Test accuracy: 0.383 | MAD: 0.6232\n",
            "Epoch: [520 / 1000] | Loss: 1.1750413179397583 | Test accuracy: 0.385 | MAD: 0.6086\n",
            "Epoch: [530 / 1000] | Loss: 1.1508755683898926 | Test accuracy: 0.363 | MAD: 0.6389\n",
            "Epoch: [540 / 1000] | Loss: 1.2147554159164429 | Test accuracy: 0.282 | MAD: 0.6173\n",
            "Epoch: [550 / 1000] | Loss: 1.3792141675949097 | Test accuracy: 0.411 | MAD: 0.5977\n",
            "Epoch: [560 / 1000] | Loss: 1.162453293800354 | Test accuracy: 0.229 | MAD: 0.5942\n",
            "Epoch: [570 / 1000] | Loss: 1.2174354791641235 | Test accuracy: 0.341 | MAD: 0.6556\n",
            "Epoch: [580 / 1000] | Loss: 1.1367741823196411 | Test accuracy: 0.412 | MAD: 0.6312\n",
            "Epoch: [590 / 1000] | Loss: 1.180315375328064 | Test accuracy: 0.373 | MAD: 0.6205\n",
            "Epoch: [600 / 1000] | Loss: 1.0871456861495972 | Test accuracy: 0.335 | MAD: 0.6473\n",
            "Epoch: [610 / 1000] | Loss: 1.0934110879898071 | Test accuracy: 0.357 | MAD: 0.6525\n",
            "Epoch: [620 / 1000] | Loss: 1.1389204263687134 | Test accuracy: 0.307 | MAD: 0.6406\n",
            "Epoch: [630 / 1000] | Loss: 1.1257680654525757 | Test accuracy: 0.401 | MAD: 0.652\n",
            "Epoch: [640 / 1000] | Loss: 1.1146949529647827 | Test accuracy: 0.304 | MAD: 0.5939\n",
            "Epoch: [650 / 1000] | Loss: 1.0749861001968384 | Test accuracy: 0.411 | MAD: 0.6348\n",
            "Epoch: [660 / 1000] | Loss: 1.194018840789795 | Test accuracy: 0.331 | MAD: 0.6624\n",
            "Epoch: [670 / 1000] | Loss: 1.2485989332199097 | Test accuracy: 0.4 | MAD: 0.6795\n",
            "Epoch: [680 / 1000] | Loss: 1.0786148309707642 | Test accuracy: 0.344 | MAD: 0.6579\n",
            "Epoch: [690 / 1000] | Loss: 1.1221098899841309 | Test accuracy: 0.373 | MAD: 0.6832\n",
            "Epoch: [700 / 1000] | Loss: 1.1881718635559082 | Test accuracy: 0.353 | MAD: 0.6944\n",
            "Epoch: [710 / 1000] | Loss: 1.0876051187515259 | Test accuracy: 0.422 | MAD: 0.7435\n",
            "Epoch: [720 / 1000] | Loss: 1.0682049989700317 | Test accuracy: 0.378 | MAD: 0.7299\n",
            "Epoch: [730 / 1000] | Loss: 1.1255666017532349 | Test accuracy: 0.396 | MAD: 0.7112\n",
            "Epoch: [740 / 1000] | Loss: 1.1243797540664673 | Test accuracy: 0.395 | MAD: 0.7277\n",
            "Epoch: [750 / 1000] | Loss: 1.1211165189743042 | Test accuracy: 0.383 | MAD: 0.7394\n",
            "Epoch: [760 / 1000] | Loss: 1.0809993743896484 | Test accuracy: 0.423 | MAD: 0.7161\n",
            "Epoch: [770 / 1000] | Loss: 1.0234668254852295 | Test accuracy: 0.366 | MAD: 0.6949\n",
            "Epoch: [780 / 1000] | Loss: 1.1733217239379883 | Test accuracy: 0.397 | MAD: 0.7455\n",
            "Epoch: [790 / 1000] | Loss: 1.0433837175369263 | Test accuracy: 0.39 | MAD: 0.7376\n",
            "Epoch: [800 / 1000] | Loss: 1.1092497110366821 | Test accuracy: 0.4 | MAD: 0.7235\n",
            "Epoch: [810 / 1000] | Loss: 1.0974148511886597 | Test accuracy: 0.397 | MAD: 0.7105\n",
            "Epoch: [820 / 1000] | Loss: 1.074808955192566 | Test accuracy: 0.332 | MAD: 0.7166\n",
            "Epoch: [830 / 1000] | Loss: 1.0532585382461548 | Test accuracy: 0.287 | MAD: 0.6525\n",
            "Epoch: [840 / 1000] | Loss: 1.0992120504379272 | Test accuracy: 0.41 | MAD: 0.7469\n",
            "Epoch: [850 / 1000] | Loss: 1.0118297338485718 | Test accuracy: 0.414 | MAD: 0.7287\n",
            "Epoch: [860 / 1000] | Loss: 1.2070327997207642 | Test accuracy: 0.406 | MAD: 0.7171\n",
            "Epoch: [870 / 1000] | Loss: 1.2383527755737305 | Test accuracy: 0.326 | MAD: 0.6636\n",
            "Epoch: [880 / 1000] | Loss: 1.0875647068023682 | Test accuracy: 0.35 | MAD: 0.7103\n",
            "Epoch: [890 / 1000] | Loss: 1.1066707372665405 | Test accuracy: 0.44 | MAD: 0.7394\n",
            "Epoch: [900 / 1000] | Loss: 1.027977705001831 | Test accuracy: 0.417 | MAD: 0.7201\n",
            "Epoch: [910 / 1000] | Loss: 1.0081233978271484 | Test accuracy: 0.378 | MAD: 0.7004\n",
            "Epoch: [920 / 1000] | Loss: 1.1149868965148926 | Test accuracy: 0.39 | MAD: 0.6857\n",
            "Epoch: [930 / 1000] | Loss: 1.1384027004241943 | Test accuracy: 0.396 | MAD: 0.7152\n",
            "Epoch: [940 / 1000] | Loss: 0.9855571389198303 | Test accuracy: 0.373 | MAD: 0.711\n",
            "Epoch: [950 / 1000] | Loss: 1.2993154525756836 | Test accuracy: 0.453 | MAD: 0.7462\n",
            "Epoch: [960 / 1000] | Loss: 1.0272012948989868 | Test accuracy: 0.375 | MAD: 0.7393\n",
            "Epoch: [970 / 1000] | Loss: 1.0678297281265259 | Test accuracy: 0.416 | MAD: 0.7691\n",
            "Epoch: [980 / 1000] | Loss: 1.0624170303344727 | Test accuracy: 0.436 | MAD: 0.7368\n",
            "Epoch: [990 / 1000] | Loss: 0.9882098436355591 | Test accuracy: 0.423 | MAD: 0.7668\n",
            "Epoch: [1000 / 1000] | Loss: 1.007824182510376 | Test accuracy: 0.396 | MAD: 0.7849\n",
            "Val Loss: 1.4368, Test Accuracy: 0.396 ± nan, Duration: 239.710\n"
          ],
          "name": "stdout"
        }
      ]
    },
    {
      "cell_type": "code",
      "metadata": {
        "id": "KaZ2gzxjUWAU",
        "colab": {
          "base_uri": "https://localhost:8080/",
          "height": 367
        },
        "outputId": "310f9ef7-cc1e-4d89-a3f3-bea445db3382"
      },
      "source": [
        "fig, ax = plt.subplots(1,3, figsize=(16, 5))\n",
        "\n",
        "sns.lineplot(x=range(EPOCHS), y=train_loss, ax=ax[0]).set(title=\"Train loss\", xlabel=\"epochs\")\n",
        "sns.lineplot(x=range(EPOCHS), y=test_acc, ax=ax[1]).set(title=\"Test accuracy\", xlabel=\"epochs\")\n",
        "sns.lineplot(x=range(EPOCHS), y=mads, ax=ax[2]).set(title=\"MAD values\", xlabel=\"epochs\")\n",
        "\n",
        "fig.show()\n",
        "print(f\"Number of layers: {NUM_LAYERS}\")"
      ],
      "execution_count": null,
      "outputs": [
        {
          "output_type": "stream",
          "text": [
            "Number of layers: 15\n"
          ],
          "name": "stdout"
        },
        {
          "output_type": "display_data",
          "data": {
            "image/png": "[encoded data removed]",
            "text/plain": [
              "<Figure size 1152x360 with 3 Axes>"
            ]
          },
          "metadata": {
            "tags": [],
            "needs_background": "light"
          }
        }
      ]
    },
    {
      "cell_type": "code",
      "metadata": {
        "id": "fQHmFj-0b8I8"
      },
      "source": [
        "model??"
      ],
      "execution_count": null,
      "outputs": []
    },
    {
      "cell_type": "markdown",
      "metadata": {
        "id": "P0y3RfGlULam"
      },
      "source": [
        "### Evolution over layers"
      ]
    },
    {
      "cell_type": "code",
      "metadata": {
        "id": "PWR2sEmBLimR",
        "colab": {
          "base_uri": "https://localhost:8080/"
        },
        "outputId": "04d86e6c-6ffa-4191-a362-566cc2d74ac2"
      },
      "source": [
        "# all_acc, mads = [], []\n",
        "\n",
        "for K in range(16, 19):\n",
        "    model = VanillaGCN(num_layers=K, hidden_dim=HIDDEN_DIM, num_features=NUM_FEATURES, num_classes=NUM_CLASSES)\n",
        "\n",
        "    _, _, _ = run(data=G, model=model,\n",
        "               edge_index=G.edge_index,\n",
        "               runs=RUNS, epochs=EPOCHS,\n",
        "               lr=LR,\n",
        "               weight_decay=WEIGHT_DECAY,\n",
        "               early_stopping=EARLY_STOPPING)\n",
        "    \n",
        "    eval_info = evaluate(model=model, data=G, edge_index=G.edge_index)\n",
        "\n",
        "    all_acc.append(eval_info[\"test_acc\"])\n",
        "    mads.append(eval_info[\"mad\"])"
      ],
      "execution_count": null,
      "outputs": [
        {
          "output_type": "stream",
          "text": [
            "Epoch: [360 / 400] | Loss: 1.9138259887695312 | Test accuracy: 0.142 | MAD: 0.0474\n",
            "Epoch: [370 / 400] | Loss: 1.8645703792572021 | Test accuracy: 0.139 | MAD: 0.0464\n",
            "Epoch: [380 / 400] | Loss: 1.8871638774871826 | Test accuracy: 0.144 | MAD: 0.0332\n",
            "Epoch: [390 / 400] | Loss: 1.8711332082748413 | Test accuracy: 0.146 | MAD: 0.0373\n",
            "Epoch: [400 / 400] | Loss: 1.863556146621704 | Test accuracy: 0.141 | MAD: 0.0437\n",
            "Val Loss: 1.8948, Test Accuracy: 0.141 ± nan, Duration: 109.197\n"
          ],
          "name": "stdout"
        }
      ]
    },
    {
      "cell_type": "code",
      "metadata": {
        "id": "2mC1WSqRNt0E",
        "colab": {
          "base_uri": "https://localhost:8080/",
          "height": 438
        },
        "outputId": "0bc5c568-2ae3-4f53-da8c-8153302ce56a"
      },
      "source": [
        "fig, ax = plt.subplots(1,2, figsize=(16, 5))\n",
        "\n",
        "sns.lineplot(range(2, 19), all_acc, ax=ax[0]).set(title=\"Test accuracy\", xlabel=\"layers\")\n",
        "sns.lineplot(range(2, 19), mads, ax=ax[1]).set(title=\"MAD values\", xlabel=\"layers\")\n",
        "\n",
        "fig.show()"
      ],
      "execution_count": null,
      "outputs": [
        {
          "output_type": "stream",
          "text": [
            "/usr/local/lib/python3.7/dist-packages/seaborn/_decorators.py:43: FutureWarning: Pass the following variables as keyword args: x, y. From version 0.12, the only valid positional argument will be `data`, and passing other arguments without an explicit keyword will result in an error or misinterpretation.\n",
            "  FutureWarning\n",
            "/usr/local/lib/python3.7/dist-packages/seaborn/_decorators.py:43: FutureWarning: Pass the following variables as keyword args: x, y. From version 0.12, the only valid positional argument will be `data`, and passing other arguments without an explicit keyword will result in an error or misinterpretation.\n",
            "  FutureWarning\n"
          ],
          "name": "stderr"
        },
        {
          "output_type": "display_data",
          "data": {
            "image/png": "[encoded data removed]",
            "text/plain": [
              "<Figure size 1152x360 with 2 Axes>"
            ]
          },
          "metadata": {
            "tags": [],
            "needs_background": "light"
          }
        }
      ]
    }
  ]
}