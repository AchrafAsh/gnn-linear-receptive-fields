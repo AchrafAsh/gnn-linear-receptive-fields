{
  "nbformat": 4,
  "nbformat_minor": 0,
  "metadata": {
    "colab": {
      "name": "02_benchmark.ipynb",
      "provenance": [],
      "authorship_tag": "ABX9TyOTqUiUIaZ/3g3e6dN0+94T",
      "include_colab_link": true
    },
    "kernelspec": {
      "name": "python3",
      "display_name": "Python 3"
    },
    "language_info": {
      "name": "python"
    }
  },
  "cells": [
    {
      "cell_type": "markdown",
      "metadata": {
        "id": "view-in-github",
        "colab_type": "text"
      },
      "source": [
        "<a href=\"https://colab.research.google.com/github/AchrafAsh/gnn-receptive-fields/blob/main/02_benchmark.ipynb\" target=\"_parent\"><img src=\"https://colab.research.google.com/assets/colab-badge.svg\" alt=\"Open In Colab\"/></a>"
      ]
    },
    {
      "cell_type": "markdown",
      "metadata": {
        "id": "E9KKzN4fK8Sl"
      },
      "source": [
        "## Setup environment"
      ]
    },
    {
      "cell_type": "code",
      "metadata": {
        "id": "5_kMherfKzzv"
      },
      "source": [
        "# setup colab environment\n",
        "import os, sys\n",
        "import os.path as osp\n",
        "from google.colab import drive\n",
        "drive.mount('/content/mnt')\n",
        "nb_path = '/content/notebooks'\n",
        "os.symlink('/content/mnt/My Drive/Colab Notebooks', nb_path)\n",
        "sys.path.insert(0, nb_path)  # or append(nb_path)"
      ],
      "execution_count": null,
      "outputs": []
    },
    {
      "cell_type": "markdown",
      "metadata": {
        "id": "Nc7dnMGxLIce"
      },
      "source": [
        "### Load Cora dataset"
      ]
    },
    {
      "cell_type": "code",
      "metadata": {
        "id": "nwJxpJ9SK55W"
      },
      "source": [
        "%%capture\n",
        "!wget https://raw.githubusercontent.com/AchrafAsh/gnn-receptive-fields/main/data.py"
      ],
      "execution_count": null,
      "outputs": []
    },
    {
      "cell_type": "code",
      "metadata": {
        "id": "vraHU_v3K6PK"
      },
      "source": [
        "from data import load_dataset\n",
        "\n",
        "path = osp.join(os.getcwd(), 'data')\n",
        "cora_dataset = load_dataset(path, 'Cora')\n",
        "G = cora_dataset[0] # only graph of the dataset"
      ],
      "execution_count": null,
      "outputs": []
    },
    {
      "cell_type": "markdown",
      "metadata": {
        "id": "277H5oxRMpFZ"
      },
      "source": [
        "## Utils"
      ]
    },
    {
      "cell_type": "code",
      "metadata": {
        "id": "CN6FructNBoI"
      },
      "source": [
        "import torch\n",
        "import torch.nn.functional as F\n",
        "\n",
        "from typing import Tuple, Dict, List\n",
        "from tqdm import tqdm"
      ],
      "execution_count": null,
      "outputs": []
    },
    {
      "cell_type": "code",
      "metadata": {
        "id": "KqiMdGxlMriB"
      },
      "source": [
        "def mean_average_distance(x, mask=None) -> float:\n",
        "    D = 1 - torch.div(torch.matmul(h, torch.transpose(x, 0, 1)),\n",
        "                      torch.matmul(torch.transpose(torch.norm(x, dim=1, keepdim=True), 0, 1), torch.norm(x, dim=1, keepdim=True)))\n",
        "    if mask is not None:\n",
        "        D = D * mask\n",
        "    D_hat = torch.div( torch.sum(D, dim=1), torch.sum(D > 0, dim=1) )\n",
        "    return torch.sum(D_hat) / torch.sum(D_hat > 0)"
      ],
      "execution_count": null,
      "outputs": []
    },
    {
      "cell_type": "code",
      "metadata": {
        "id": "d0Nj_YF1M1B7"
      },
      "source": [
        "def count_parameters(model: torch.nn.Module):\n",
        "    print(f\"The model has {sum(p.numel() for p in model.parameters() if p.requires_grad):,} parameters\")"
      ],
      "execution_count": null,
      "outputs": []
    },
    {
      "cell_type": "code",
      "metadata": {
        "id": "SOIbdDObM1Ph"
      },
      "source": [
        "def train(model: torch.nn.Module, optimizer: torch.optim.Optimizer,\n",
        "          data: type(G), edge_index) -> Tuple[torch.tensor, float]:\n",
        "    \n",
        "    model.train()\n",
        "    optimizer.zero_grad()\n",
        "\n",
        "    hidden_state, out = model(data.x, edge_index)\n",
        "    \n",
        "    loss = F.nll_loss(out[data.train_mask], data.y[data.train_mask])\n",
        "    loss.backward()\n",
        "    optimizer.step()\n",
        "    return hidden_state, loss"
      ],
      "execution_count": null,
      "outputs": []
    },
    {
      "cell_type": "code",
      "metadata": {
        "id": "MaRHXNiNM1al"
      },
      "source": [
        "def evaluate(model: torch.nn.Module, data: type(G), edge_index) -> Dict[str, float]:\n",
        "    \n",
        "    model.eval()\n",
        "\n",
        "    with torch.no_grad():\n",
        "        _, logits = model(data.x, edge_index)\n",
        "    \n",
        "    outs = {}\n",
        "    for key in ['train', 'val', 'test']:\n",
        "        mask = data[f'{key}_mask']\n",
        "        loss = F.nll_loss(logits[mask], data.y[mask]).item()\n",
        "        pred = logits[mask].max(1)[1]\n",
        "        acc = pred.eq(data.y[mask]).sum().item() / mask.sum().item()\n",
        "\n",
        "        outs[f'{key}_loss'] = loss\n",
        "        outs[f'{key}_acc'] = acc\n",
        "    return outs"
      ],
      "execution_count": null,
      "outputs": []
    },
    {
      "cell_type": "code",
      "metadata": {
        "id": "GtoWV2JdM17W"
      },
      "source": [
        "def run(data: type(G), model: torch.nn.Module,\n",
        "        edge_index,\n",
        "        runs: int, epochs: int, lr: float,\n",
        "        weight_decay: float,\n",
        "        early_stopping: int = 0,\n",
        "        initialize:bool=True) -> Tuple[List[float], List[float], List[float]]:\n",
        "\n",
        "    val_losses, accs, durations = [], [], []\n",
        "    for _ in range(runs):\n",
        "        data = data.to(device)\n",
        "        model.to(device)\n",
        "        if initialize:\n",
        "            model.reset_parameters()\n",
        "        \n",
        "        optimizer = torch.optim.Adam(model.parameters(), lr=lr, \n",
        "                                     weight_decay=weight_decay)\n",
        "\n",
        "        if torch.cuda.is_available():\n",
        "            torch.cuda.synchronize()\n",
        "        \n",
        "        t_start = time.perf_counter()\n",
        "\n",
        "        best_val_loss = float('inf')\n",
        "        val_loss_history, train_losses, test_accs, MADs = [], [], [], []\n",
        "\n",
        "        for epoch in range(1, epochs+1):\n",
        "            hidden_state, train_loss = train(model, optimizer, data, edge_index)\n",
        "\n",
        "            MAD = mean_average_distance(x=hidden_state).item()\n",
        "            eval_info = evaluate(model, data, edge_index)\n",
        "            \n",
        "            test_acc = eval_info['test_acc']\n",
        "            val_loss_history.append(eval_info['val_loss'])\n",
        "            train_losses.append(train_loss.item())\n",
        "            test_accs.append(test_acc)\n",
        "            MADs.append(MAD)\n",
        "        \n",
        "            # I don't understand what this is for...\n",
        "            if eval_info['val_loss'] < best_val_loss:\n",
        "                best_val_loss = eval_info['val_loss']\n",
        "            \n",
        "            if early_stopping > 0 and epoch > epochs // 2:\n",
        "                tmp = torch.tensor(val_loss_history[-(early_stopping + 1):-1])\n",
        "                if eval_info['val_loss'] > tmp.mean().item():\n",
        "                    break\n",
        "            \n",
        "            if epoch % 10 == 0:\n",
        "                print(f\"Epoch: [{epoch} / {epochs}] | Loss: {train_loss} | Test accuracy: {test_acc} | MAD: {MAD}\")\n",
        "\n",
        "        if torch.cuda.is_available():\n",
        "            torch.cuda.synchronize()\n",
        "\n",
        "        t_end = time.perf_counter()\n",
        "\n",
        "        val_losses.append(best_val_loss)\n",
        "        accs.append(test_acc)\n",
        "        durations.append(t_end - t_start)\n",
        "\n",
        "    loss, acc, duration = torch.tensor(val_losses), torch.tensor(accs), torch.tensor(durations)\n",
        "\n",
        "    print(f\"Val Loss: {loss.mean().item():.4f}, Test Accuracy: {acc.mean().item():.3f} ± {acc.std().item():.3f}, Duration: {duration.mean().item():.3f}\")\n",
        "    return train_losses, test_accs, MADs"
      ],
      "execution_count": null,
      "outputs": []
    },
    {
      "cell_type": "markdown",
      "metadata": {
        "id": "SSb9r7TSLQFK"
      },
      "source": [
        "## Benchmark Models"
      ]
    },
    {
      "cell_type": "markdown",
      "metadata": {
        "id": "EOnbKf2eLSeu"
      },
      "source": [
        "### Simple GCN"
      ]
    },
    {
      "cell_type": "code",
      "metadata": {
        "id": "g6FA6FjHLUtF"
      },
      "source": [
        "from torch_geometric.nn import Sequential, GCNConv"
      ],
      "execution_count": null,
      "outputs": []
    },
    {
      "cell_type": "code",
      "metadata": {
        "id": "gV5K_H9nLY44"
      },
      "source": [
        "class GCN(torch.nn.Module):\n",
        "    def __init__(self, num_layers:int, hidden_dim:int, num_features:int, num_classes:int, dropout:float=0.5):\n",
        "        super().__init__()\n",
        "        self.conv_layers = self.create_layers(num_layers=num_layers, \n",
        "                                              num_features=num_features,\n",
        "                                              num_classes=num_classes,\n",
        "                                              hidden_dim=hidden_dim,\n",
        "                                              dropout=dropout)\n",
        "        \n",
        "        self.log_softmax = torch.nn.LogSoftmax(dim=1)\n",
        "\n",
        "\n",
        "    def create_layers(self, num_layers:int, num_features:int, num_classes:int, \n",
        "                      hidden_dim:int, dropout:float):\n",
        "        layers = []\n",
        "\n",
        "        # first layer\n",
        "        layers += [\n",
        "                (GCNConv(in_channels=num_features, out_channels=hidden_dim, k=0), \"x, edge_index -> x\"),\n",
        "                (torch.nn.ReLU(), \"x -> x\"),\n",
        "                (torch.nn.Dropout(p=dropout), \"x -> x\")\n",
        "        ]\n",
        "\n",
        "        for k in range(1, num_layers-1):\n",
        "            layers += [\n",
        "                (GCNConv(in_channels=hidden_dim, out_channels=hidden_dim, k=k), \"x, edge_index -> x\"),\n",
        "                (torch.nn.ReLU(), \"x -> x\"),\n",
        "                (torch.nn.Dropout(p=dropout), \"x -> x\")\n",
        "            ]\n",
        "        \n",
        "        # last layer\n",
        "        layers += [\n",
        "            (GCNConv(in_channels=hidden_dim, out_channels=num_classes, k=num_layers-1), \"x, edge_index -> x\"),\n",
        "        ]\n",
        "        return Sequential(\"x, edge_index\", layers)\n",
        "\n",
        "\n",
        "    def reset_parameters(self):\n",
        "        self.conv_layers.reset_parameters()\n",
        "\n",
        "\n",
        "    def forward(self, x, edge_index):\n",
        "        h = self.conv_layers(x, edge_index)\n",
        "        return h, self.log_softmax(h)"
      ],
      "execution_count": null,
      "outputs": []
    },
    {
      "cell_type": "markdown",
      "metadata": {
        "id": "wRy8xfIvNPar"
      },
      "source": [
        "## Experiments"
      ]
    },
    {
      "cell_type": "markdown",
      "metadata": {
        "id": "hLyJe6LPNQ4k"
      },
      "source": [
        "### GCN"
      ]
    },
    {
      "cell_type": "code",
      "metadata": {
        "id": "YE-q3SjDNSdJ"
      },
      "source": [
        "NUM_LAYERS=8\n",
        "HIDDEN_DIM=16\n",
        "NUM_FEATURES=cora_dataset.num_features\n",
        "NUM_CLASSES=cora_dataset.num_classes\n",
        "EPOCHS=200\n",
        "LR=0.01\n",
        "WEIGHT_DECAY=5e-4\n",
        "EARLY_STOPPING=0\n",
        "RUNS=1"
      ],
      "execution_count": null,
      "outputs": []
    },
    {
      "cell_type": "code",
      "metadata": {
        "id": "_5h4BRFLNwoK"
      },
      "source": [
        "model = GCN(num_layers=NUM_LAYERS, hidden_dim=HIDDEN_DIM, num_features=NUM_FEATURES, num_classes=NUM_CLASSES)\n",
        "count_parameters(model)"
      ],
      "execution_count": null,
      "outputs": []
    },
    {
      "cell_type": "code",
      "metadata": {
        "id": "56IiWJ_tPWZb"
      },
      "source": [
        "run(data=G, model=model,\n",
        "    edge_index=G.edge_index,\n",
        "    runs=RUNS, epochs=EPOCHS,\n",
        "    lr=LR,\n",
        "    weight_decay=WEIGHT_DECAY,\n",
        "    early_stopping=EARLY_STOPPING)"
      ],
      "execution_count": null,
      "outputs": []
    }
  ]
}