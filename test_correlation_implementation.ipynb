{
  "nbformat": 4,
  "nbformat_minor": 0,
  "metadata": {
    "colab": {
      "name": "test_correlation_implementation.ipynb",
      "provenance": [],
      "authorship_tag": "ABX9TyNcpOTfWacFwmsQG3t9HgVG",
      "include_colab_link": true
    },
    "kernelspec": {
      "name": "python3",
      "display_name": "Python 3"
    },
    "language_info": {
      "name": "python"
    },
    "widgets": {
      "application/vnd.jupyter.widget-state+json": {
        "0970e6b6621f4fcc8536f956d2cd6f87": {
          "model_module": "@jupyter-widgets/controls",
          "model_name": "HBoxModel",
          "state": {
            "_view_name": "HBoxView",
            "_dom_classes": [],
            "_model_name": "HBoxModel",
            "_view_module": "@jupyter-widgets/controls",
            "_model_module_version": "1.5.0",
            "_view_count": null,
            "_view_module_version": "1.5.0",
            "box_style": "",
            "layout": "IPY_MODEL_49bd9489ece14496905482905dc62e85",
            "_model_module": "@jupyter-widgets/controls",
            "children": [
              "IPY_MODEL_16c9d10394c64b33818b1d1511c3daba",
              "IPY_MODEL_e40e7c1649d241a091b7e477c714d1f4",
              "IPY_MODEL_b4a68043e4bc4107853b5d435c07d326"
            ]
          }
        },
        "49bd9489ece14496905482905dc62e85": {
          "model_module": "@jupyter-widgets/base",
          "model_name": "LayoutModel",
          "state": {
            "_view_name": "LayoutView",
            "grid_template_rows": null,
            "right": null,
            "justify_content": null,
            "_view_module": "@jupyter-widgets/base",
            "overflow": null,
            "_model_module_version": "1.2.0",
            "_view_count": null,
            "flex_flow": null,
            "width": null,
            "min_width": null,
            "border": null,
            "align_items": null,
            "bottom": null,
            "_model_module": "@jupyter-widgets/base",
            "top": null,
            "grid_column": null,
            "overflow_y": null,
            "overflow_x": null,
            "grid_auto_flow": null,
            "grid_area": null,
            "grid_template_columns": null,
            "flex": null,
            "_model_name": "LayoutModel",
            "justify_items": null,
            "grid_row": null,
            "max_height": null,
            "align_content": null,
            "visibility": null,
            "align_self": null,
            "height": null,
            "min_height": null,
            "padding": null,
            "grid_auto_rows": null,
            "grid_gap": null,
            "max_width": null,
            "order": null,
            "_view_module_version": "1.2.0",
            "grid_template_areas": null,
            "object_position": null,
            "object_fit": null,
            "grid_auto_columns": null,
            "margin": null,
            "display": null,
            "left": null
          }
        },
        "16c9d10394c64b33818b1d1511c3daba": {
          "model_module": "@jupyter-widgets/controls",
          "model_name": "HTMLModel",
          "state": {
            "_view_name": "HTMLView",
            "style": "IPY_MODEL_4baafc51a7694ed4a37071488ee8504a",
            "_dom_classes": [],
            "description": "",
            "_model_name": "HTMLModel",
            "placeholder": "​",
            "_view_module": "@jupyter-widgets/controls",
            "_model_module_version": "1.5.0",
            "value": "100%",
            "_view_count": null,
            "_view_module_version": "1.5.0",
            "description_tooltip": null,
            "_model_module": "@jupyter-widgets/controls",
            "layout": "IPY_MODEL_5a725ed1f52447c6a1cd57e4fd309dde"
          }
        },
        "e40e7c1649d241a091b7e477c714d1f4": {
          "model_module": "@jupyter-widgets/controls",
          "model_name": "FloatProgressModel",
          "state": {
            "_view_name": "ProgressView",
            "style": "IPY_MODEL_63f84b5fcb8f474aa74db2c35526ec3a",
            "_dom_classes": [],
            "description": "",
            "_model_name": "FloatProgressModel",
            "bar_style": "success",
            "max": 10,
            "_view_module": "@jupyter-widgets/controls",
            "_model_module_version": "1.5.0",
            "value": 10,
            "_view_count": null,
            "_view_module_version": "1.5.0",
            "orientation": "horizontal",
            "min": 0,
            "description_tooltip": null,
            "_model_module": "@jupyter-widgets/controls",
            "layout": "IPY_MODEL_0708f1161b1f4643951428b0bc0e0f6b"
          }
        },
        "b4a68043e4bc4107853b5d435c07d326": {
          "model_module": "@jupyter-widgets/controls",
          "model_name": "HTMLModel",
          "state": {
            "_view_name": "HTMLView",
            "style": "IPY_MODEL_eb099727723f4c7594fdc0c2a3eefaf0",
            "_dom_classes": [],
            "description": "",
            "_model_name": "HTMLModel",
            "placeholder": "​",
            "_view_module": "@jupyter-widgets/controls",
            "_model_module_version": "1.5.0",
            "value": " 10/10 [03:28&lt;00:00, 32.05s/it]",
            "_view_count": null,
            "_view_module_version": "1.5.0",
            "description_tooltip": null,
            "_model_module": "@jupyter-widgets/controls",
            "layout": "IPY_MODEL_485f056aa9c84c1ebdb81e99d05fe0fd"
          }
        },
        "4baafc51a7694ed4a37071488ee8504a": {
          "model_module": "@jupyter-widgets/controls",
          "model_name": "DescriptionStyleModel",
          "state": {
            "_view_name": "StyleView",
            "_model_name": "DescriptionStyleModel",
            "description_width": "",
            "_view_module": "@jupyter-widgets/base",
            "_model_module_version": "1.5.0",
            "_view_count": null,
            "_view_module_version": "1.2.0",
            "_model_module": "@jupyter-widgets/controls"
          }
        },
        "5a725ed1f52447c6a1cd57e4fd309dde": {
          "model_module": "@jupyter-widgets/base",
          "model_name": "LayoutModel",
          "state": {
            "_view_name": "LayoutView",
            "grid_template_rows": null,
            "right": null,
            "justify_content": null,
            "_view_module": "@jupyter-widgets/base",
            "overflow": null,
            "_model_module_version": "1.2.0",
            "_view_count": null,
            "flex_flow": null,
            "width": null,
            "min_width": null,
            "border": null,
            "align_items": null,
            "bottom": null,
            "_model_module": "@jupyter-widgets/base",
            "top": null,
            "grid_column": null,
            "overflow_y": null,
            "overflow_x": null,
            "grid_auto_flow": null,
            "grid_area": null,
            "grid_template_columns": null,
            "flex": null,
            "_model_name": "LayoutModel",
            "justify_items": null,
            "grid_row": null,
            "max_height": null,
            "align_content": null,
            "visibility": null,
            "align_self": null,
            "height": null,
            "min_height": null,
            "padding": null,
            "grid_auto_rows": null,
            "grid_gap": null,
            "max_width": null,
            "order": null,
            "_view_module_version": "1.2.0",
            "grid_template_areas": null,
            "object_position": null,
            "object_fit": null,
            "grid_auto_columns": null,
            "margin": null,
            "display": null,
            "left": null
          }
        },
        "63f84b5fcb8f474aa74db2c35526ec3a": {
          "model_module": "@jupyter-widgets/controls",
          "model_name": "ProgressStyleModel",
          "state": {
            "_view_name": "StyleView",
            "_model_name": "ProgressStyleModel",
            "description_width": "",
            "_view_module": "@jupyter-widgets/base",
            "_model_module_version": "1.5.0",
            "_view_count": null,
            "_view_module_version": "1.2.0",
            "bar_color": null,
            "_model_module": "@jupyter-widgets/controls"
          }
        },
        "0708f1161b1f4643951428b0bc0e0f6b": {
          "model_module": "@jupyter-widgets/base",
          "model_name": "LayoutModel",
          "state": {
            "_view_name": "LayoutView",
            "grid_template_rows": null,
            "right": null,
            "justify_content": null,
            "_view_module": "@jupyter-widgets/base",
            "overflow": null,
            "_model_module_version": "1.2.0",
            "_view_count": null,
            "flex_flow": null,
            "width": null,
            "min_width": null,
            "border": null,
            "align_items": null,
            "bottom": null,
            "_model_module": "@jupyter-widgets/base",
            "top": null,
            "grid_column": null,
            "overflow_y": null,
            "overflow_x": null,
            "grid_auto_flow": null,
            "grid_area": null,
            "grid_template_columns": null,
            "flex": null,
            "_model_name": "LayoutModel",
            "justify_items": null,
            "grid_row": null,
            "max_height": null,
            "align_content": null,
            "visibility": null,
            "align_self": null,
            "height": null,
            "min_height": null,
            "padding": null,
            "grid_auto_rows": null,
            "grid_gap": null,
            "max_width": null,
            "order": null,
            "_view_module_version": "1.2.0",
            "grid_template_areas": null,
            "object_position": null,
            "object_fit": null,
            "grid_auto_columns": null,
            "margin": null,
            "display": null,
            "left": null
          }
        },
        "eb099727723f4c7594fdc0c2a3eefaf0": {
          "model_module": "@jupyter-widgets/controls",
          "model_name": "DescriptionStyleModel",
          "state": {
            "_view_name": "StyleView",
            "_model_name": "DescriptionStyleModel",
            "description_width": "",
            "_view_module": "@jupyter-widgets/base",
            "_model_module_version": "1.5.0",
            "_view_count": null,
            "_view_module_version": "1.2.0",
            "_model_module": "@jupyter-widgets/controls"
          }
        },
        "485f056aa9c84c1ebdb81e99d05fe0fd": {
          "model_module": "@jupyter-widgets/base",
          "model_name": "LayoutModel",
          "state": {
            "_view_name": "LayoutView",
            "grid_template_rows": null,
            "right": null,
            "justify_content": null,
            "_view_module": "@jupyter-widgets/base",
            "overflow": null,
            "_model_module_version": "1.2.0",
            "_view_count": null,
            "flex_flow": null,
            "width": null,
            "min_width": null,
            "border": null,
            "align_items": null,
            "bottom": null,
            "_model_module": "@jupyter-widgets/base",
            "top": null,
            "grid_column": null,
            "overflow_y": null,
            "overflow_x": null,
            "grid_auto_flow": null,
            "grid_area": null,
            "grid_template_columns": null,
            "flex": null,
            "_model_name": "LayoutModel",
            "justify_items": null,
            "grid_row": null,
            "max_height": null,
            "align_content": null,
            "visibility": null,
            "align_self": null,
            "height": null,
            "min_height": null,
            "padding": null,
            "grid_auto_rows": null,
            "grid_gap": null,
            "max_width": null,
            "order": null,
            "_view_module_version": "1.2.0",
            "grid_template_areas": null,
            "object_position": null,
            "object_fit": null,
            "grid_auto_columns": null,
            "margin": null,
            "display": null,
            "left": null
          }
        }
      }
    }
  },
  "cells": [
    {
      "cell_type": "markdown",
      "metadata": {
        "id": "view-in-github",
        "colab_type": "text"
      },
      "source": [
        "<a href=\"https://colab.research.google.com/github/AchrafAsh/gnn-receptive-fields/blob/main/test_correlation_implementation.ipynb\" target=\"_parent\"><img src=\"https://colab.research.google.com/assets/colab-badge.svg\" alt=\"Open In Colab\"/></a>"
      ]
    },
    {
      "cell_type": "markdown",
      "metadata": {
        "id": "7meMninGayXc"
      },
      "source": [
        "## **Setting up the environment**"
      ]
    },
    {
      "cell_type": "code",
      "metadata": {
        "id": "Iasi912YcaHc",
        "outputId": "7be81619-9c71-4b95-aa74-7e13aec92afd",
        "colab": {
          "base_uri": "https://localhost:8080/"
        }
      },
      "source": [
        "import os, sys\n",
        "import os.path as osp\n",
        "from google.colab import drive, files\n",
        "drive.mount('/content/mnt')\n",
        "nb_path = '/content/notebooks'\n",
        "try:\n",
        "    os.symlink('/content/mnt/My Drive/Colab Notebooks', nb_path)\n",
        "except:\n",
        "    pass\n",
        "sys.path.insert(0, nb_path)  # or append(nb_path)"
      ],
      "execution_count": 7,
      "outputs": [
        {
          "output_type": "stream",
          "text": [
            "Drive already mounted at /content/mnt; to attempt to forcibly remount, call drive.mount(\"/content/mnt\", force_remount=True).\n"
          ],
          "name": "stdout"
        }
      ]
    },
    {
      "cell_type": "code",
      "metadata": {
        "id": "G0pQvkKwcjfa"
      },
      "source": [
        "import time\n",
        "import seaborn as sns\n",
        "import pandas as pd\n",
        "import numpy as np\n",
        "import matplotlib.pyplot as plt\n",
        "\n",
        "import torch\n",
        "\n",
        "from collections import Counter\n",
        "from torch_geometric.utils import to_dense_adj\n",
        "from tqdm.notebook import tqdm\n",
        "\n",
        "%matplotlib inline\n",
        "sns.set_theme(font_scale=1.8)\n",
        "sns.set_style(\"white\")\n",
        "\n",
        "device = torch.device(\"cuda\" if torch.cuda.is_available() else 'cpu')"
      ],
      "execution_count": 8,
      "outputs": []
    },
    {
      "cell_type": "code",
      "metadata": {
        "id": "jDyHEkoXbhPJ"
      },
      "source": [
        "%%capture\n",
        "!wget https://raw.githubusercontent.com/AchrafAsh/gnn-receptive-fields/main/data.py\n",
        "\n",
        "from data import load_dataset\n",
        "path = osp.join(os.getcwd(), 'data')"
      ],
      "execution_count": null,
      "outputs": []
    },
    {
      "cell_type": "markdown",
      "metadata": {
        "id": "xwMl8uP_a1hl"
      },
      "source": [
        "## **Utility functions**"
      ]
    },
    {
      "cell_type": "code",
      "metadata": {
        "id": "vbfkBup27an0"
      },
      "source": [
        "def hop_neighbors(k:int, dense_adj: torch.Tensor):\n",
        "    cum_neighbors = pow_A = dense_adj.clone()\n",
        "\n",
        "    yield dense_adj, dense_adj\n",
        "\n",
        "    for _ in range(k-1):\n",
        "        pow_A = torch.mm(dense_adj, pow_A)\n",
        "        neighbors = torch.where(\n",
        "            (torch.clamp(pow_A, max=1, min=0) - cum_neighbors) > 0,\n",
        "            1, 0)\n",
        "        cum_neighbors += neighbors\n",
        "        \n",
        "        yield neighbors, cum_neighbors"
      ],
      "execution_count": 9,
      "outputs": []
    },
    {
      "cell_type": "code",
      "metadata": {
        "id": "7aPfF0fycrgB"
      },
      "source": [
        "def scale(X:torch.Tensor):   \n",
        "    m = X.mean(0)\n",
        "    s = X.std(0)\n",
        "    ones = torch.ones(s.shape, device=device)\n",
        "    s = torch.where(s == 0, ones, s)\n",
        "    return (X - m)/ s"
      ],
      "execution_count": 10,
      "outputs": []
    },
    {
      "cell_type": "code",
      "metadata": {
        "id": "fZ5_Ut4qctsk"
      },
      "source": [
        "def centroids(X:torch.Tensor, y:torch.Tensor):\n",
        "    num_classes = y.max().item() + 1\n",
        "    \n",
        "    # group nodes by label\n",
        "    obs = {}\n",
        "    for i in range(X.size(0)):\n",
        "        if obs.get(y[i].item()):\n",
        "            obs[y[i].item()] += [X[i]]\n",
        "        else:\n",
        "            obs[y[i].item()] = [X[i]]\n",
        "\n",
        "    return torch.stack([sum(obs[c]) / len(obs[c]) for c in range(num_classes)], 0)"
      ],
      "execution_count": 11,
      "outputs": []
    },
    {
      "cell_type": "code",
      "metadata": {
        "id": "mYt7kWgN7qaf"
      },
      "source": [
        "def corrcoef(x: torch.Tensor, y: torch.Tensor):\n",
        "    \"\"\"Mimics `np.corrcoef`\n",
        "    Args\n",
        "        - x: 2D torch.Tensor\n",
        "        - y: 1D torch.Tensor\n",
        "    Returns\n",
        "        c : torch.Tensor\n",
        "    \"\"\"\n",
        "    if x == [] or x.size(0) == 0:\n",
        "        return torch.tensor(0., device=device)\n",
        "\n",
        "    # calculate covariance matrix of rows\n",
        "    # mean_x = x.mean(1).unsqueeze(1).expand(x.shape)  # [num_nodes]\n",
        "    # mean_y = y.mean()  # (1)\n",
        "    cov = torch.matmul(x.sub(x.mean(1, keepdim=True)), y.sub(y.mean()).t()) / y.size(0)\n",
        "\n",
        "    # normalize covariance by standard deviation\n",
        "    cov /= x.std(1) * y.std()\n",
        "\n",
        "    # clamp between -1 and 1\n",
        "    # probably not necessary but numpy does it\n",
        "    return torch.clamp(cov, -1.0, 1.0)\n",
        "\n",
        "\n",
        "def graph_correlation_1(neb: torch.Tensor, x: torch.Tensor, y: torch.Tensor):\n",
        "    \"\"\"Returns the list of correlations between the barycenter representation of\n",
        "    labels and the neighbor features.\n",
        "    Args:\n",
        "        - neb [num_nodes, num_nodes]: dense adjacency matrix\n",
        "        - x [num_nodes, num_features]: node features\n",
        "        - y [num_nodes, num_features]: label representation associated with the target node\n",
        "    :rtype: list [num_nodes]: correlation (scalar) for every node\n",
        "    \"\"\"\n",
        "    num_nodes = x.size(0)\n",
        "    return torch.stack([corrcoef(x=x[neb[i] == 1], y=y[i]).abs().mean().to(device) for i in range(num_nodes)], 0)"
      ],
      "execution_count": 41,
      "outputs": []
    },
    {
      "cell_type": "code",
      "metadata": {
        "id": "eVJk7WXDczNu"
      },
      "source": [
        "def corr(x, y, i):\n",
        "    if x.size(0) == 0: return torch.tensor(0., device=device)\n",
        "    cov = torch.einsum('ij, j -> i', x, y)\n",
        "    norm = torch.mm(x, x.t()).diag().sqrt() * torch.matmul(y, y).sqrt()\n",
        "    return cov / norm\n",
        "\n",
        "def graph_correlation_2(neb:torch.Tensor, x:torch.Tensor, y:torch.Tensor, y_mean:torch.Tensor):\n",
        "    \"\"\"Returns the list of correlations between the barycenter representation of\n",
        "    labels and the neighbor features.\n",
        "\n",
        "    Args:\n",
        "        - neb [num_nodes, num_nodes]: dense adjacency matrix\n",
        "        - x [num_nodes, num_features]: node features\n",
        "        - y [num_nodes, num_features]: label representation associated with the target node\n",
        "        :rtype: list [num_nodes]: correlation (scalar) for every node\n",
        "    \"\"\"\n",
        "\n",
        "    num_nodes = x.size(0)\n",
        "    y_scaled = y.sub(y_mean)\n",
        "\n",
        "    return torch.stack([corr(x=x[neb[i] == 1], y=y_scaled[i], i=i).abs().mean() for i in range(num_nodes)], 0)"
      ],
      "execution_count": 13,
      "outputs": []
    },
    {
      "cell_type": "code",
      "metadata": {
        "id": "ooUnm8yGeCdL"
      },
      "source": [
        "def pre_processing(graph, scaled=True): \n",
        "    if scaled:\n",
        "        x = scale(graph.x)\n",
        "    else:\n",
        "        x = graph.x\n",
        "    \n",
        "    scaled_centroids = centroids(x, graph.y) # $Y_l \\forall l \\in [0, 6]$\n",
        "    y = torch.stack([scaled_centroids[graph.y[i]] for i in range(graph.num_nodes)]) # $Y_v \\forall v \\in \\mathcal V$\n",
        "    y_mean = scaled_centroids.mean(0) # $\\bar Y$\n",
        "\n",
        "    return x, y, y_mean, scaled_centroids"
      ],
      "execution_count": 176,
      "outputs": []
    },
    {
      "cell_type": "code",
      "metadata": {
        "id": "jwSE0Go6c6_y"
      },
      "source": [
        "def plot_summary(data, title=\"Correlation\"):\n",
        "    plt.figure(figsize=(10,10))\n",
        "    \n",
        "    lineplot = sns.lineplot(x='k', y='value',\n",
        "                             hue='variable',\n",
        "                             style='variable',\n",
        "                             markers=True,\n",
        "                             data=pd.melt(data[['k', 'corr_1', 'corr_2']], ['k']))\n",
        "    lineplot.set(xlabel=\"depth\", ylabel=\"count\", title=title)\n",
        "    lineplot.legend(('rho_1', 'rho_2'), loc=\"best\", frameon=False).set_title(None)"
      ],
      "execution_count": 187,
      "outputs": []
    },
    {
      "cell_type": "code",
      "metadata": {
        "id": "fI9bLnL1RwQz"
      },
      "source": [
        "def run(graph, scaled=True, depth=10):\n",
        "    x, y, y_mean, _ = pre_processing(graph, scaled=scaled)\n",
        "    dense_adj = to_dense_adj(graph.edge_index).squeeze(0)\n",
        "\n",
        "    data = pd.DataFrame({\n",
        "        'k':[],\n",
        "        'corr_1':[],\n",
        "        'corr_2':[]\n",
        "    })\n",
        "    k = idx = 0\n",
        "    for neighbors, _ in tqdm(hop_neighbors(depth, dense_adj), total=depth):\n",
        "        k+=1\n",
        "        corr_1 = graph_correlation_1(neighbors, x, y)\n",
        "        corr_2 = graph_correlation_2(neighbors, x, y, y_mean)\n",
        "        data.loc[idx] = {'k':k, 'corr_1':corr_1.mean().item(), 'corr_2':corr_2.mean().item()}\n",
        "        idx+=1\n",
        "    \n",
        "    return data"
      ],
      "execution_count": 174,
      "outputs": []
    },
    {
      "cell_type": "markdown",
      "metadata": {
        "id": "HZZZ4JaVbdgU"
      },
      "source": [
        "## **Experiments**"
      ]
    },
    {
      "cell_type": "markdown",
      "metadata": {
        "id": "UOkV7OUrbkUu"
      },
      "source": [
        "\\begin{equation}\n",
        "    \\rho_1 = \\frac{ \\tilde X_u - \\bar{\\tilde X_u} }{ \\lVert \\tilde X_u - \\bar{\\tilde X_u} \\rVert  } \\cdot \\frac{ (Y_v - \\bar Y_v)^T }{ \\lVert Y_v - \\bar Y_v \\rVert }\n",
        "    \\tag{1}\n",
        "\\end{equation}\n",
        "\n",
        "\\begin{equation}\n",
        "    \\rho_2 = \\frac{ \\tilde X_u - \\bar X }{ \\lVert \\tilde X_u - \\bar X \\rVert  } \\cdot \\frac{ (Y_v - \\bar Y)^T }{ \\lVert Y_v - \\bar Y \\rVert }\n",
        "    \\tag{2}\n",
        "\\end{equation}\n",
        "\n",
        "\n",
        "\n",
        "1. $\\bar X = 0$ because $X$ is scaled at the very beginning.\n",
        "2. $\\bar Y_v \\approx 0$\n",
        "2. $\\bar {\\tilde X_u} \\approx 0$\n",
        "3. If we don't scale $X$ we end up with significantly different values.\n",
        "\n",
        "\\begin{equation}\n",
        "    \\rho_1 = \\frac{ \\tilde X_u }{ \\lVert \\tilde X_u \\rVert  } \\cdot \\frac{ Y_v^T }{ \\lVert Y_v \\rVert }\n",
        "\\end{equation}\n",
        "\n",
        "\\begin{equation}\n",
        "    \\rho_2 = \\frac{ \\tilde X_u }{ \\lVert \\tilde X_u \\rVert  } \\cdot \\frac{ (Y_v - \\bar Y)^T }{ \\lVert Y_v - \\bar Y \\rVert }\n",
        "\\end{equation}"
      ]
    },
    {
      "cell_type": "code",
      "metadata": {
        "id": "UxqDhGwoVsV1"
      },
      "source": [
        "cora = load_dataset(path, 'Cora')\n",
        "graph = cora[0]"
      ],
      "execution_count": 69,
      "outputs": []
    },
    {
      "cell_type": "code",
      "metadata": {
        "id": "8qZojoLw9r-2",
        "outputId": "325f7c2d-7ca1-406f-a4f9-19478001a5b5",
        "colab": {
          "base_uri": "https://localhost:8080/",
          "height": 649
        }
      },
      "source": [
        "unscaled_corr = run(graph, scaled=False, depth=6)\n",
        "plot_summary(unscaled_corr, title=\"Unscaled Correlation\")"
      ],
      "execution_count": 188,
      "outputs": [
        {
          "output_type": "display_data",
          "data": {
            "image/png": "[encoded data removed]",
            "text/plain": [
              "<Figure size 720x720 with 1 Axes>"
            ]
          },
          "metadata": {
            "tags": []
          }
        }
      ]
    },
    {
      "cell_type": "markdown",
      "metadata": {
        "id": "LhGZqth1k5do"
      },
      "source": [
        "The unscaled correlation is not as expressive as before (with regards to problem radius)."
      ]
    },
    {
      "cell_type": "code",
      "metadata": {
        "id": "ZToyrafreaMr",
        "outputId": "8a03c8f5-61e3-449f-a5c9-ef46689334a0",
        "colab": {
          "base_uri": "https://localhost:8080/",
          "height": 649
        }
      },
      "source": [
        "scaled_corr = run(graph, scaled=True, depth=6)\n",
        "plot_summary(scaled_corr, title=\"Scaled Correlation\")"
      ],
      "execution_count": 189,
      "outputs": [
        {
          "output_type": "display_data",
          "data": {
            "image/png": "[encoded data removed]",
            "text/plain": [
              "<Figure size 720x720 with 1 Axes>"
            ]
          },
          "metadata": {
            "tags": []
          }
        }
      ]
    },
    {
      "cell_type": "code",
      "metadata": {
        "id": "x5aSBBvEVk2O",
        "outputId": "f6a3ed52-05b9-4574-91f6-66df2e939e12",
        "colab": {
          "base_uri": "https://localhost:8080/"
        }
      },
      "source": [
        "y.mean(1)"
      ],
      "execution_count": 84,
      "outputs": [
        {
          "output_type": "execute_result",
          "data": {
            "text/plain": [
              "tensor([-0.0004,  0.0026,  0.0026,  ..., -0.0004, -0.0004, -0.0004])"
            ]
          },
          "metadata": {
            "tags": []
          },
          "execution_count": 84
        }
      ]
    },
    {
      "cell_type": "code",
      "metadata": {
        "id": "P0VNCvHiUsFD"
      },
      "source": [
        "x_scaled = scale(graph.x)"
      ],
      "execution_count": 83,
      "outputs": []
    },
    {
      "cell_type": "code",
      "metadata": {
        "id": "KxECacRVYZwT",
        "outputId": "b8794da6-feca-4133-c08a-063ca8dc8b90",
        "colab": {
          "base_uri": "https://localhost:8080/"
        }
      },
      "source": [
        "x_scaled.mean(1, keepdim=True)"
      ],
      "execution_count": 86,
      "outputs": [
        {
          "output_type": "execute_result",
          "data": {
            "text/plain": [
              "tensor([[-0.0522],\n",
              "        [ 0.0139],\n",
              "        [-0.0205],\n",
              "        ...,\n",
              "        [-0.0046],\n",
              "        [-0.0069],\n",
              "        [-0.0233]])"
            ]
          },
          "metadata": {
            "tags": []
          },
          "execution_count": 86
        }
      ]
    },
    {
      "cell_type": "code",
      "metadata": {
        "id": "xX9QSimlYlkA",
        "outputId": "d51ab337-c9f4-4114-baf6-b2511b919703",
        "colab": {
          "base_uri": "https://localhost:8080/"
        }
      },
      "source": [
        "x.mean(1) * np.sqrt(graph.num_nodes)"
      ],
      "execution_count": 141,
      "outputs": [
        {
          "output_type": "execute_result",
          "data": {
            "text/plain": [
              "tensor([-2.7172,  0.7213, -1.0644,  ..., -0.2380, -0.3595, -1.2137])"
            ]
          },
          "metadata": {
            "tags": []
          },
          "execution_count": 141
        }
      ]
    },
    {
      "cell_type": "code",
      "metadata": {
        "id": "MymjnElXfGGk",
        "outputId": "935a1a42-5061-4629-a67f-802de74f039d",
        "colab": {
          "base_uri": "https://localhost:8080/"
        }
      },
      "source": [
        "torch.norm(x.mean(1, keepdim=True).expand(-1, graph.num_nodes), dim=1) == ((x.mean(1) * np.sqrt(graph.num_nodes)).abs()"
      ],
      "execution_count": 154,
      "outputs": [
        {
          "output_type": "execute_result",
          "data": {
            "text/plain": [
              "tensor([2.7172, 0.7213, 1.0644,  ..., 0.2380, 0.3595, 1.2137])"
            ]
          },
          "metadata": {
            "tags": []
          },
          "execution_count": 154
        }
      ]
    },
    {
      "cell_type": "code",
      "metadata": {
        "id": "CeRA7o7cf1Em",
        "outputId": "e7a1c082-148c-47e8-f84a-65e141d584ca",
        "colab": {
          "base_uri": "https://localhost:8080/"
        }
      },
      "source": [
        "((x.mean(1) * np.sqrt(graph.num_nodes)).abs() / torch.norm(x, dim=1)).mean()"
      ],
      "execution_count": 161,
      "outputs": [
        {
          "output_type": "execute_result",
          "data": {
            "text/plain": [
              "tensor(0.0517)"
            ]
          },
          "metadata": {
            "tags": []
          },
          "execution_count": 161
        }
      ]
    },
    {
      "cell_type": "markdown",
      "metadata": {
        "id": "nARQDX8lf6XO"
      },
      "source": [
        "$$\n",
        "\\mathbb E \\left[ \\frac{\\lVert \\bar{\\tilde X_u} \\rVert}{ \\lVert \\tilde X_u \\rVert } \\right] = 0.0517\n",
        "$$"
      ]
    },
    {
      "cell_type": "code",
      "metadata": {
        "id": "hWvJj0wjgofv",
        "outputId": "46a6be57-2eff-4180-9393-450e86706ec3",
        "colab": {
          "base_uri": "https://localhost:8080/"
        }
      },
      "source": [
        "(y_mean.norm() / y.norm(dim=1)).mean()"
      ],
      "execution_count": 170,
      "outputs": [
        {
          "output_type": "execute_result",
          "data": {
            "text/plain": [
              "tensor(0.2273)"
            ]
          },
          "metadata": {
            "tags": []
          },
          "execution_count": 170
        }
      ]
    },
    {
      "cell_type": "markdown",
      "metadata": {
        "id": "5fLld_WCgWIB"
      },
      "source": [
        "$$\n",
        "\\mathbb E \\left[ \\frac{\\lVert \\bar{\\bar Y} \\rVert}{ \\lVert Y_v \\rVert } \\right] = 0.2273\n",
        "$$"
      ]
    },
    {
      "cell_type": "markdown",
      "metadata": {
        "id": "Qntynu-6eRZk"
      },
      "source": [
        "$$\n",
        "\\bar Y_v \\approx 0\n",
        "$$"
      ]
    },
    {
      "cell_type": "code",
      "metadata": {
        "id": "_rUIuTStZ_0o",
        "outputId": "4cac7111-b15a-4030-d0c6-d062557e8fa6",
        "colab": {
          "base_uri": "https://localhost:8080/"
        }
      },
      "source": [
        "y.mean(1)"
      ],
      "execution_count": 126,
      "outputs": [
        {
          "output_type": "execute_result",
          "data": {
            "text/plain": [
              "tensor([-0.0004,  0.0026,  0.0026,  ..., -0.0004, -0.0004, -0.0004])"
            ]
          },
          "metadata": {
            "tags": []
          },
          "execution_count": 126
        }
      ]
    },
    {
      "cell_type": "markdown",
      "metadata": {
        "id": "0d2DMGzyeKDb"
      },
      "source": [
        "$$\\bar X = 0$$"
      ]
    },
    {
      "cell_type": "code",
      "metadata": {
        "id": "HiO50TX3cSV-",
        "outputId": "659b03c3-61c3-4da1-a513-25ffe251f776",
        "colab": {
          "base_uri": "https://localhost:8080/"
        }
      },
      "source": [
        "x.mean(0)"
      ],
      "execution_count": 131,
      "outputs": [
        {
          "output_type": "execute_result",
          "data": {
            "text/plain": [
              "tensor([-7.0434e-09, -3.1695e-09, -2.3243e-08,  ...,  3.5217e-09,\n",
              "        -3.3808e-08, -6.8673e-09])"
            ]
          },
          "metadata": {
            "tags": []
          },
          "execution_count": 131
        }
      ]
    },
    {
      "cell_type": "markdown",
      "metadata": {
        "id": "fkb8JbuyUpkb"
      },
      "source": [
        "### **CiteSeer**"
      ]
    },
    {
      "cell_type": "code",
      "metadata": {
        "id": "nn4wDmAZRjCp",
        "outputId": "1170bf93-7a80-40dd-fbd4-2c748d593b69",
        "colab": {
          "base_uri": "https://localhost:8080/",
          "height": 219,
          "referenced_widgets": [
            "0970e6b6621f4fcc8536f956d2cd6f87",
            "49bd9489ece14496905482905dc62e85",
            "16c9d10394c64b33818b1d1511c3daba",
            "e40e7c1649d241a091b7e477c714d1f4",
            "b4a68043e4bc4107853b5d435c07d326",
            "4baafc51a7694ed4a37071488ee8504a",
            "5a725ed1f52447c6a1cd57e4fd309dde",
            "63f84b5fcb8f474aa74db2c35526ec3a",
            "0708f1161b1f4643951428b0bc0e0f6b",
            "eb099727723f4c7594fdc0c2a3eefaf0",
            "485f056aa9c84c1ebdb81e99d05fe0fd"
          ]
        }
      },
      "source": [
        "citeseer = load_dataset(path, 'CiteSeer')\n",
        "graph = citeseer[0]\n",
        "\n",
        "data = run(graph)"
      ],
      "execution_count": 46,
      "outputs": [
        {
          "output_type": "stream",
          "text": [
            "Downloading https://github.com/kimiyoung/planetoid/raw/master/data/ind.citeseer.x\n",
            "Downloading https://github.com/kimiyoung/planetoid/raw/master/data/ind.citeseer.tx\n",
            "Downloading https://github.com/kimiyoung/planetoid/raw/master/data/ind.citeseer.allx\n",
            "Downloading https://github.com/kimiyoung/planetoid/raw/master/data/ind.citeseer.y\n",
            "Downloading https://github.com/kimiyoung/planetoid/raw/master/data/ind.citeseer.ty\n",
            "Downloading https://github.com/kimiyoung/planetoid/raw/master/data/ind.citeseer.ally\n",
            "Downloading https://github.com/kimiyoung/planetoid/raw/master/data/ind.citeseer.graph\n",
            "Downloading https://github.com/kimiyoung/planetoid/raw/master/data/ind.citeseer.test.index\n",
            "Processing...\n",
            "Done!\n"
          ],
          "name": "stdout"
        },
        {
          "output_type": "display_data",
          "data": {
            "application/vnd.jupyter.widget-view+json": {
              "model_id": "0970e6b6621f4fcc8536f956d2cd6f87",
              "version_minor": 0,
              "version_major": 2
            },
            "text/plain": [
              "  0%|          | 0/10 [00:00<?, ?it/s]"
            ]
          },
          "metadata": {
            "tags": []
          }
        }
      ]
    },
    {
      "cell_type": "code",
      "metadata": {
        "id": "myZ0xyW4SA8C",
        "outputId": "a6aecd6c-5d28-4ed2-c909-7828ee327b1e",
        "colab": {
          "base_uri": "https://localhost:8080/",
          "height": 649
        }
      },
      "source": [
        "plot_summary(data)"
      ],
      "execution_count": 48,
      "outputs": [
        {
          "output_type": "display_data",
          "data": {
            "image/png": "[encoded data removed]",
            "text/plain": [
              "<Figure size 720x720 with 1 Axes>"
            ]
          },
          "metadata": {
            "tags": []
          }
        }
      ]
    }
  ]
}