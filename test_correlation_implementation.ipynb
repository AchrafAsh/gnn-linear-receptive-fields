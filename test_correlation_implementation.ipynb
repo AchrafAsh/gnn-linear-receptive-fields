{
  "nbformat": 4,
  "nbformat_minor": 0,
  "metadata": {
    "colab": {
      "name": "test_correlation_implementation.ipynb",
      "provenance": [],
      "authorship_tag": "ABX9TyObvTR/dTDrLxu3rS+eabFV",
      "include_colab_link": true
    },
    "kernelspec": {
      "name": "python3",
      "display_name": "Python 3"
    },
    "language_info": {
      "name": "python"
    }
  },
  "cells": [
    {
      "cell_type": "markdown",
      "metadata": {
        "id": "view-in-github",
        "colab_type": "text"
      },
      "source": [
        "<a href=\"https://colab.research.google.com/github/AchrafAsh/gnn-receptive-fields/blob/main/test_correlation_implementation.ipynb\" target=\"_parent\"><img src=\"https://colab.research.google.com/assets/colab-badge.svg\" alt=\"Open In Colab\"/></a>"
      ]
    },
    {
      "cell_type": "code",
      "metadata": {
        "id": "Iasi912YcaHc"
      },
      "source": [
        "import os, sys\n",
        "import os.path as osp\n",
        "from google.colab import drive, files\n",
        "drive.mount('/content/mnt')\n",
        "nb_path = '/content/notebooks'\n",
        "try:\n",
        "    os.symlink('/content/mnt/My Drive/Colab Notebooks', nb_path)\n",
        "except:\n",
        "    pass\n",
        "sys.path.insert(0, nb_path)  # or append(nb_path)"
      ],
      "execution_count": null,
      "outputs": []
    },
    {
      "cell_type": "code",
      "metadata": {
        "id": "G0pQvkKwcjfa"
      },
      "source": [
        "import time\n",
        "import concurrent.futures\n",
        "import seaborn as sns\n",
        "import pandas as pd\n",
        "import numpy as np\n",
        "import matplotlib.pyplot as plt\n",
        "\n",
        "import torch\n",
        "\n",
        "from collections import Counter\n",
        "from torch_geometric.utils import to_dense_adj\n",
        "from tqdm.notebook import tqdm\n",
        "\n",
        "%matplotlib inline\n",
        "sns.set_theme(font_scale=1.8)\n",
        "sns.set_style(\"white\")\n",
        "\n",
        "device = torch.device(\"cuda\" if torch.cuda.is_available() else 'cpu')"
      ],
      "execution_count": null,
      "outputs": []
    },
    {
      "cell_type": "code",
      "metadata": {
        "id": "OJJdNJq7ck2C"
      },
      "source": [
        "def clamp(x: torch.Tensor):\n",
        "    if not x.is_coalesced(): x = x.coalesce()\n",
        "\n",
        "    mask = (x._values() > 0).nonzero().view(-1)\n",
        "    values = x._values().index_select(0, mask).clamp(0, 1)\n",
        "    indices = x._indices().index_select(1, mask)\n",
        "\n",
        "    return torch.sparse_coo_tensor(indices, values, x.shape).coalesce()"
      ],
      "execution_count": null,
      "outputs": []
    },
    {
      "cell_type": "code",
      "metadata": {
        "id": "yG3YKQkqclvA"
      },
      "source": [
        "def sparse_hop_neighbors(k:int, edge_index: torch.Tensor, num_nodes:int):\n",
        "    # transform edge_index into a sparse tensor\n",
        "    yield edge_index, edge_index\n",
        "\n",
        "    if k > 1:\n",
        "        sparse_edge_index = torch.sparse_coo_tensor(edge_index, torch.ones(edge_index.size(1)), (num_nodes, num_nodes))\n",
        "        cum_neighbors = neighbors = pow_A = sparse_edge_index.clone()\n",
        "\n",
        "    for _ in range(1, k):\n",
        "        pow_A = clamp(torch.sparse.mm(sparse_edge_index, pow_A))\n",
        "        neighbors = clamp(pow_A - cum_neighbors)\n",
        "        cum_neighbors = (cum_neighbors + neighbors).coalesce()\n",
        "        \n",
        "        yield neighbors.indices(), cum_neighbors.indices()"
      ],
      "execution_count": null,
      "outputs": []
    },
    {
      "cell_type": "code",
      "metadata": {
        "id": "Q6GVtq0nco0-"
      },
      "source": [
        "def get_neighbors(edge_index:torch.Tensor, i:int):\n",
        "    first_indices = (edge_index[0] == i).nonzero().view(-1)\n",
        "    second_indices = (edge_index[1] == i).nonzero().view(-1)\n",
        "\n",
        "    first_neb_indices = edge_index[1][first_indices]\n",
        "    second_neb_indices = edge_index[1][second_indices]\n",
        "    \n",
        "    neb_indices = torch.cat((\n",
        "        first_neb_indices,\n",
        "        second_neb_indices),\n",
        "        0\n",
        "    )\n",
        "\n",
        "    indices = torch.unique(neb_indices, sorted=True)\n",
        "    return indices"
      ],
      "execution_count": null,
      "outputs": []
    },
    {
      "cell_type": "code",
      "metadata": {
        "id": "7aPfF0fycrgB"
      },
      "source": [
        "def scale(X:torch.Tensor):   \n",
        "    m = X.mean(0)\n",
        "    s = X.std(0)\n",
        "    ones = torch.ones(s.shape).to(device)\n",
        "    s = torch.where(s == 0, ones, s)\n",
        "    return (X - m)/ s"
      ],
      "execution_count": null,
      "outputs": []
    },
    {
      "cell_type": "code",
      "metadata": {
        "id": "fZ5_Ut4qctsk"
      },
      "source": [
        "def centroids(X:torch.Tensor, y:torch.Tensor):\n",
        "    num_classes = y.max().item() + 1\n",
        "    \n",
        "    # group nodes by label\n",
        "    obs = {}\n",
        "    for i in range(X.size(0)):\n",
        "        if obs.get(y[i].item()):\n",
        "            obs[y[i].item()] += [X[i]]\n",
        "        else:\n",
        "            obs[y[i].item()] = [X[i]]\n",
        "\n",
        "    return torch.stack([sum(obs[c]) / len(obs[c]) for c in range(num_classes)], 0)"
      ],
      "execution_count": null,
      "outputs": []
    },
    {
      "cell_type": "code",
      "metadata": {
        "id": "eVJk7WXDczNu"
      },
      "source": [
        "def corr(x, y, i):\n",
        "    if x.size(0) == 0: return torch.tensor(0., device=device)\n",
        "    cov = torch.einsum('ij, j -> i', x, y)\n",
        "    norm = torch.mm(x, x.t()).diag().sqrt() * torch.matmul(y, y).sqrt()\n",
        "    return cov / norm\n",
        "\n",
        "def graph_correlation(edge_index:torch.Tensor, x:torch.Tensor, y:torch.Tensor, y_mean:torch.Tensor):\n",
        "    \"\"\"Returns the list of correlations between the barycenter representation of\n",
        "    labels and the neighbor features.\n",
        "\n",
        "    Args:\n",
        "        - edge_index - sparse adjacency matrix\n",
        "        - x [num_nodes, num_features]: node features\n",
        "        - y [num_nodes, num_features]: label representation associated with the target node\n",
        "        :rtype: list [num_nodes]: correlation (scalar) for every node\n",
        "    \"\"\"\n",
        "\n",
        "    num_nodes = x.size(0)\n",
        "    y_scaled = y.sub(y_mean)\n",
        "\n",
        "    return torch.stack(\n",
        "        [corr(x=x[get_neighbors(edge_index, i)], y=y_scaled[i], i=i).abs().mean()\n",
        "        for i in range(num_nodes)]\n",
        "        , 0)"
      ],
      "execution_count": null,
      "outputs": []
    },
    {
      "cell_type": "code",
      "metadata": {
        "id": "ooUnm8yGeCdL"
      },
      "source": [
        "def pre_processing(graph):\n",
        "    graph = graph.to(device)\n",
        "    \n",
        "    x_scaled = scale(graph.x)\n",
        "    scaled_centroids = centroids(x, graph.y)\n",
        "    y = torch.stack([scaled_centroids[graph.y[i]] for i in range(graph.num_nodes)]).to(device)\n",
        "    y_mean = scaled_centroids.mean(0)\n",
        "\n",
        "    return x_scaled, y, y_mean"
      ],
      "execution_count": null,
      "outputs": []
    },
    {
      "cell_type": "code",
      "metadata": {
        "id": "LZkc9TKUc63W"
      },
      "source": [
        "def confidence(values: torch.Tensor):\n",
        "    \"\"\"Returns the 95% confidence interval of the array of values\n",
        "    \"\"\"\n",
        "    q = 1.96\n",
        "    m = values.mean()\n",
        "    s = values.std()\n",
        "    \n",
        "    return m - q * s/np.sqrt(len(values)), m + q * s/np.sqrt(len(values))\n",
        "\n",
        "\n",
        "def graph_summary(graph, K=10):\n",
        "    graph = graph.to(device)\n",
        "    x, y, y_mean = pre_processing(graph)\n",
        "    data = pd.DataFrame({'k': [],\n",
        "                         'homophily_neighbors':[],\n",
        "                         'homophily_neighborhood':[],\n",
        "                         'correlation_neighbors':[],\n",
        "                         'correlation_neighborhood':[],\n",
        "                         'neighbors_count':[],\n",
        "                         'neighborhood_count':[]})\n",
        "\n",
        "    idx, k = 0, 0\n",
        "    for neighbors, cum_neighbors in tqdm(\n",
        "        sparse_hop_neighbors(K, graph.edge_index, graph.num_nodes),\n",
        "        total=K):\n",
        "\n",
        "        k += 1\n",
        "        # measure graph properties\n",
        "        corr_neighbors_conf = confidence(graph_correlation(neighbors, x=x, y=y, y_mean=y_mean))\n",
        "        corr_neighborhood_conf = confidence(graph_correlation(cum_neighbors, x=x, y=y, y_mean=y_mean))\n",
        "\n",
        "        data.loc[idx] = {'k':k,\n",
        "                         'correlation_neighbors':corr_neighbors_conf[0].item(),\n",
        "                         'correlation_neighborhood':corr_neighborhood_conf[0].item()}\n",
        "        idx += 1\n",
        "        data.loc[idx] = {'k':k,\n",
        "                         'correlation_neighbors':corr_neighbors_conf[1].item(),\n",
        "                         'correlation_neighborhood':corr_neighborhood_conf[1].item()}\n",
        "        idx += 1\n",
        "\n",
        "    return data"
      ],
      "execution_count": null,
      "outputs": []
    },
    {
      "cell_type": "code",
      "metadata": {
        "id": "jwSE0Go6c6_y"
      },
      "source": [
        "def plot_summary(data):\n",
        "    _, ax = plt.subplots(1, 3, figsize=(32,8))\n",
        "    lineplot1 = sns.lineplot(ax=ax[0], x='k', y='value', \n",
        "                             hue='variable',\n",
        "                             style='variable',\n",
        "                             markers=True,\n",
        "                             data=pd.melt(data[['k', 'homophily_neighbors', 'homophily_neighborhood']], ['k']))\n",
        "    lineplot1.set(xlabel=\"depth\", ylabel=\"index\", title=\"Homophily\")\n",
        "    lineplot1.legend(('neighbors', 'neighborhood'), frameon=False).set_title(None)\n",
        "\n",
        "    lineplot2 = sns.lineplot(ax=ax[1], x='k', y='value',\n",
        "                             hue='variable',\n",
        "                             style='variable',\n",
        "                             markers=True,\n",
        "                             data=pd.melt(data[['k', 'correlation_neighbors', 'correlation_neighborhood']], ['k']))\n",
        "    lineplot2.set(xlabel=\"depth\", ylabel=\"correlation\", title=\"Correlation\")\n",
        "    lineplot2.legend(('neighbors', 'neighborhood'), frameon=False).set_title(None)\n",
        "\n",
        "    lineplot3 = sns.lineplot(ax=ax[2], x='k', y='value',\n",
        "                             hue='variable',\n",
        "                             style='variable',\n",
        "                             markers=True,\n",
        "                             data=pd.melt(data[['k', 'neighbors_count', 'neighborhood_count']], ['k']))\n",
        "    lineplot3.set(xlabel=\"depth\", ylabel=\"count\", title=\"Neighbors count\")\n",
        "    lineplot3.legend(('neighbors', 'neighborhood'), loc=\"upper left\", frameon=False).set_title(None)"
      ],
      "execution_count": null,
      "outputs": []
    },
    {
      "cell_type": "code",
      "metadata": {
        "id": "t5MYUIS0c7JI"
      },
      "source": [
        "%%capture\n",
        "!wget https://raw.githubusercontent.com/AchrafAsh/gnn-receptive-fields/main/data.py\n",
        "\n",
        "from data import load_dataset\n",
        "path = osp.join(os.getcwd(), 'data')\n",
        "cora = load_dataset(path, 'Cora')"
      ],
      "execution_count": null,
      "outputs": []
    },
    {
      "cell_type": "code",
      "metadata": {
        "id": "lU8lx_DQdML0"
      },
      "source": [
        "x, y, y_mean = pre_processing(cora[0])"
      ],
      "execution_count": null,
      "outputs": []
    },
    {
      "cell_type": "code",
      "metadata": {
        "id": "ZToyrafreaMr"
      },
      "source": [
        "graph_correlation(graph.edge_index, x, y, y_mean)"
      ],
      "execution_count": null,
      "outputs": []
    }
  ]
}